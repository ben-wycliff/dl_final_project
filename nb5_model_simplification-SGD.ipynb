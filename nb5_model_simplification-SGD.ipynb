{
  "nbformat": 4,
  "nbformat_minor": 0,
  "metadata": {
    "colab": {
      "provenance": [],
      "authorship_tag": "ABX9TyO7FN4nuXdoxishQ2Z8jZvB",
      "include_colab_link": true
    },
    "kernelspec": {
      "name": "python3",
      "display_name": "Python 3"
    },
    "language_info": {
      "name": "python"
    },
    "accelerator": "GPU",
    "gpuClass": "standard"
  },
  "cells": [
    {
      "cell_type": "markdown",
      "metadata": {
        "id": "view-in-github",
        "colab_type": "text"
      },
      "source": [
        "<a href=\"https://colab.research.google.com/github/ben-wycliff/dl_final_project/blob/main/nb5_model_simplification-SGD.ipynb\" target=\"_parent\"><img src=\"https://colab.research.google.com/assets/colab-badge.svg\" alt=\"Open In Colab\"/></a>"
      ]
    },
    {
      "cell_type": "markdown",
      "source": [
        "# Setting Up"
      ],
      "metadata": {
        "id": "F4IbnM7DfY49"
      }
    },
    {
      "cell_type": "code",
      "source": [
        "from google.colab import drive\n",
        "drive.mount('/content/drive')"
      ],
      "metadata": {
        "colab": {
          "base_uri": "https://localhost:8080/"
        },
        "id": "z8JFXTkifjWP",
        "outputId": "b833e26e-b93c-4b93-9e32-3e85e8059f95"
      },
      "execution_count": 1,
      "outputs": [
        {
          "output_type": "stream",
          "name": "stdout",
          "text": [
            "Mounted at /content/drive\n"
          ]
        }
      ]
    },
    {
      "cell_type": "code",
      "source": [
        "# unzip dataset from google drive\n",
        "!unzip /content/drive/MyDrive/Personal/Computer\\ Vision/dl_final_project/known_images.zip"
      ],
      "metadata": {
        "id": "tdKP40xpfk7x"
      },
      "execution_count": null,
      "outputs": []
    },
    {
      "cell_type": "markdown",
      "source": [
        "# Imports"
      ],
      "metadata": {
        "id": "jC1eLWwySN6b"
      }
    },
    {
      "cell_type": "code",
      "source": [
        "import os\n",
        "import pandas as pd\n",
        "import matplotlib.pyplot as plt\n",
        "import numpy as np\n",
        "\n",
        "from sklearn.model_selection import train_test_split\n",
        "from sklearn.metrics import (ConfusionMatrixDisplay,\n",
        "                             classification_report)\n",
        "\n",
        "import keras\n",
        "from keras import layers\n",
        "from keras.preprocessing.image import ImageDataGenerator\n",
        "from keras.utils import (img_to_array, load_img)"
      ],
      "metadata": {
        "id": "lrCBBY2SSNQb"
      },
      "execution_count": 3,
      "outputs": []
    },
    {
      "cell_type": "markdown",
      "source": [
        "# Constants"
      ],
      "metadata": {
        "id": "k358bhNjS5zx"
      }
    },
    {
      "cell_type": "code",
      "source": [
        "BATCH_SIZE = 32\n",
        "IMG_HEIGHT, IMG_WIDTH = (488, 395)"
      ],
      "metadata": {
        "id": "6fKSNlYMS7oj"
      },
      "execution_count": 4,
      "outputs": []
    },
    {
      "cell_type": "markdown",
      "source": [
        "# Prepare Dataset"
      ],
      "metadata": {
        "id": "Ecno52Zqf2Tc"
      }
    },
    {
      "cell_type": "code",
      "source": [
        "# create dataframe\n",
        "df = pd.read_csv(\"/content/drive/MyDrive/Personal/Computer Vision/dl_final_project/dataset.csv\")\n",
        "df[\"labels\"] = df[\"labels\"].astype(str)\n",
        "df.head(10) # all sick images are labelled 1 while normal images are labelled 2"
      ],
      "metadata": {
        "colab": {
          "base_uri": "https://localhost:8080/",
          "height": 363
        },
        "id": "wefc-XCLf_NS",
        "outputId": "9e3a2e12-ab20-4d77-b966-b1fbd56b0bd2"
      },
      "execution_count": 5,
      "outputs": [
        {
          "output_type": "execute_result",
          "data": {
            "text/plain": [
              "   Unnamed: 0          images labels\n",
              "0           0    sick_272.png      1\n",
              "1           1    sick_292.png      1\n",
              "2           2    sick_144.png      1\n",
              "3           3     sick_50.png      1\n",
              "4           4   normal_95.png      0\n",
              "5           5     sick_92.png      1\n",
              "6           6  normal_210.png      0\n",
              "7           7  normal_253.png      0\n",
              "8           8     sick_12.png      1\n",
              "9           9   normal_71.png      0"
            ],
            "text/html": [
              "\n",
              "  <div id=\"df-ee8624c1-3f7a-49a9-9c71-57cb8692f9be\">\n",
              "    <div class=\"colab-df-container\">\n",
              "      <div>\n",
              "<style scoped>\n",
              "    .dataframe tbody tr th:only-of-type {\n",
              "        vertical-align: middle;\n",
              "    }\n",
              "\n",
              "    .dataframe tbody tr th {\n",
              "        vertical-align: top;\n",
              "    }\n",
              "\n",
              "    .dataframe thead th {\n",
              "        text-align: right;\n",
              "    }\n",
              "</style>\n",
              "<table border=\"1\" class=\"dataframe\">\n",
              "  <thead>\n",
              "    <tr style=\"text-align: right;\">\n",
              "      <th></th>\n",
              "      <th>Unnamed: 0</th>\n",
              "      <th>images</th>\n",
              "      <th>labels</th>\n",
              "    </tr>\n",
              "  </thead>\n",
              "  <tbody>\n",
              "    <tr>\n",
              "      <th>0</th>\n",
              "      <td>0</td>\n",
              "      <td>sick_272.png</td>\n",
              "      <td>1</td>\n",
              "    </tr>\n",
              "    <tr>\n",
              "      <th>1</th>\n",
              "      <td>1</td>\n",
              "      <td>sick_292.png</td>\n",
              "      <td>1</td>\n",
              "    </tr>\n",
              "    <tr>\n",
              "      <th>2</th>\n",
              "      <td>2</td>\n",
              "      <td>sick_144.png</td>\n",
              "      <td>1</td>\n",
              "    </tr>\n",
              "    <tr>\n",
              "      <th>3</th>\n",
              "      <td>3</td>\n",
              "      <td>sick_50.png</td>\n",
              "      <td>1</td>\n",
              "    </tr>\n",
              "    <tr>\n",
              "      <th>4</th>\n",
              "      <td>4</td>\n",
              "      <td>normal_95.png</td>\n",
              "      <td>0</td>\n",
              "    </tr>\n",
              "    <tr>\n",
              "      <th>5</th>\n",
              "      <td>5</td>\n",
              "      <td>sick_92.png</td>\n",
              "      <td>1</td>\n",
              "    </tr>\n",
              "    <tr>\n",
              "      <th>6</th>\n",
              "      <td>6</td>\n",
              "      <td>normal_210.png</td>\n",
              "      <td>0</td>\n",
              "    </tr>\n",
              "    <tr>\n",
              "      <th>7</th>\n",
              "      <td>7</td>\n",
              "      <td>normal_253.png</td>\n",
              "      <td>0</td>\n",
              "    </tr>\n",
              "    <tr>\n",
              "      <th>8</th>\n",
              "      <td>8</td>\n",
              "      <td>sick_12.png</td>\n",
              "      <td>1</td>\n",
              "    </tr>\n",
              "    <tr>\n",
              "      <th>9</th>\n",
              "      <td>9</td>\n",
              "      <td>normal_71.png</td>\n",
              "      <td>0</td>\n",
              "    </tr>\n",
              "  </tbody>\n",
              "</table>\n",
              "</div>\n",
              "      <button class=\"colab-df-convert\" onclick=\"convertToInteractive('df-ee8624c1-3f7a-49a9-9c71-57cb8692f9be')\"\n",
              "              title=\"Convert this dataframe to an interactive table.\"\n",
              "              style=\"display:none;\">\n",
              "        \n",
              "  <svg xmlns=\"http://www.w3.org/2000/svg\" height=\"24px\"viewBox=\"0 0 24 24\"\n",
              "       width=\"24px\">\n",
              "    <path d=\"M0 0h24v24H0V0z\" fill=\"none\"/>\n",
              "    <path d=\"M18.56 5.44l.94 2.06.94-2.06 2.06-.94-2.06-.94-.94-2.06-.94 2.06-2.06.94zm-11 1L8.5 8.5l.94-2.06 2.06-.94-2.06-.94L8.5 2.5l-.94 2.06-2.06.94zm10 10l.94 2.06.94-2.06 2.06-.94-2.06-.94-.94-2.06-.94 2.06-2.06.94z\"/><path d=\"M17.41 7.96l-1.37-1.37c-.4-.4-.92-.59-1.43-.59-.52 0-1.04.2-1.43.59L10.3 9.45l-7.72 7.72c-.78.78-.78 2.05 0 2.83L4 21.41c.39.39.9.59 1.41.59.51 0 1.02-.2 1.41-.59l7.78-7.78 2.81-2.81c.8-.78.8-2.07 0-2.86zM5.41 20L4 18.59l7.72-7.72 1.47 1.35L5.41 20z\"/>\n",
              "  </svg>\n",
              "      </button>\n",
              "      \n",
              "  <style>\n",
              "    .colab-df-container {\n",
              "      display:flex;\n",
              "      flex-wrap:wrap;\n",
              "      gap: 12px;\n",
              "    }\n",
              "\n",
              "    .colab-df-convert {\n",
              "      background-color: #E8F0FE;\n",
              "      border: none;\n",
              "      border-radius: 50%;\n",
              "      cursor: pointer;\n",
              "      display: none;\n",
              "      fill: #1967D2;\n",
              "      height: 32px;\n",
              "      padding: 0 0 0 0;\n",
              "      width: 32px;\n",
              "    }\n",
              "\n",
              "    .colab-df-convert:hover {\n",
              "      background-color: #E2EBFA;\n",
              "      box-shadow: 0px 1px 2px rgba(60, 64, 67, 0.3), 0px 1px 3px 1px rgba(60, 64, 67, 0.15);\n",
              "      fill: #174EA6;\n",
              "    }\n",
              "\n",
              "    [theme=dark] .colab-df-convert {\n",
              "      background-color: #3B4455;\n",
              "      fill: #D2E3FC;\n",
              "    }\n",
              "\n",
              "    [theme=dark] .colab-df-convert:hover {\n",
              "      background-color: #434B5C;\n",
              "      box-shadow: 0px 1px 3px 1px rgba(0, 0, 0, 0.15);\n",
              "      filter: drop-shadow(0px 1px 2px rgba(0, 0, 0, 0.3));\n",
              "      fill: #FFFFFF;\n",
              "    }\n",
              "  </style>\n",
              "\n",
              "      <script>\n",
              "        const buttonEl =\n",
              "          document.querySelector('#df-ee8624c1-3f7a-49a9-9c71-57cb8692f9be button.colab-df-convert');\n",
              "        buttonEl.style.display =\n",
              "          google.colab.kernel.accessAllowed ? 'block' : 'none';\n",
              "\n",
              "        async function convertToInteractive(key) {\n",
              "          const element = document.querySelector('#df-ee8624c1-3f7a-49a9-9c71-57cb8692f9be');\n",
              "          const dataTable =\n",
              "            await google.colab.kernel.invokeFunction('convertToInteractive',\n",
              "                                                     [key], {});\n",
              "          if (!dataTable) return;\n",
              "\n",
              "          const docLinkHtml = 'Like what you see? Visit the ' +\n",
              "            '<a target=\"_blank\" href=https://colab.research.google.com/notebooks/data_table.ipynb>data table notebook</a>'\n",
              "            + ' to learn more about interactive tables.';\n",
              "          element.innerHTML = '';\n",
              "          dataTable['output_type'] = 'display_data';\n",
              "          await google.colab.output.renderOutput(dataTable, element);\n",
              "          const docLink = document.createElement('div');\n",
              "          docLink.innerHTML = docLinkHtml;\n",
              "          element.appendChild(docLink);\n",
              "        }\n",
              "      </script>\n",
              "    </div>\n",
              "  </div>\n",
              "  "
            ]
          },
          "metadata": {},
          "execution_count": 5
        }
      ]
    },
    {
      "cell_type": "code",
      "source": [
        "# From this plot we see the number of images is fairly\n",
        "# distributed between the two classes\n",
        "df.labels.value_counts().plot(kind=\"bar\"); \n",
        "plt.title(\"Number of images per class\")\n",
        "plt.xticks(ticks=[0,1],labels=[\"normal\", \"sick\"], rotation=0)\n",
        "plt.ylabel(\"Number of images\")\n",
        "plt.xlabel(\"Class\")\n",
        "plt.show()"
      ],
      "metadata": {
        "colab": {
          "base_uri": "https://localhost:8080/",
          "height": 472
        },
        "id": "eEpUGYWNjzK6",
        "outputId": "ccf63945-4314-4f0a-9a51-d5a8ee57bdf9"
      },
      "execution_count": 6,
      "outputs": [
        {
          "output_type": "display_data",
          "data": {
            "text/plain": [
              "<Figure size 640x480 with 1 Axes>"
            ],
            "image/png": "[encoded data removed]"
          },
          "metadata": {}
        }
      ]
    },
    {
      "cell_type": "code",
      "source": [
        "# create dataset splits\n",
        "df_train, df_eval = train_test_split(df, test_size=0.3, random_state=42)\n",
        "df_test, df_val = train_test_split(df_eval, test_size=0.33, random_state=42)"
      ],
      "metadata": {
        "id": "R-HvHmaLip4I"
      },
      "execution_count": 7,
      "outputs": []
    },
    {
      "cell_type": "code",
      "source": [
        "# subplot the partitioning results\n",
        "print(\"\\nTrain partition:\\n\", df_train.labels.value_counts())\n",
        "print(\"\\nTest partition:\\n\", df_test.labels.value_counts())\n",
        "print(\"\\nValidation partition:\\n\", df_val.labels.value_counts())"
      ],
      "metadata": {
        "colab": {
          "base_uri": "https://localhost:8080/"
        },
        "id": "xwb6Nbbum67H",
        "outputId": "5eb8b23f-6149-44b4-f7e9-df25bf0d256b"
      },
      "execution_count": 8,
      "outputs": [
        {
          "output_type": "stream",
          "name": "stdout",
          "text": [
            "\n",
            "Train partition:\n",
            " 0    253\n",
            "1    247\n",
            "Name: labels, dtype: int64\n",
            "\n",
            "Test partition:\n",
            " 0    75\n",
            "1    69\n",
            "Name: labels, dtype: int64\n",
            "\n",
            "Validation partition:\n",
            " 0    36\n",
            "1    35\n",
            "Name: labels, dtype: int64\n"
          ]
        }
      ]
    },
    {
      "cell_type": "code",
      "source": [
        "# create data generators\n",
        "train_datagen = ImageDataGenerator(\n",
        "    zoom_range=0.2,\n",
        "    horizontal_flip=True,\n",
        "    vertical_flip=True,\n",
        "    rescale=1.0/255.0,\n",
        ")\n",
        "test_datagen = ImageDataGenerator(rescale=1.0/255)\n",
        "\n",
        "train_generator = train_datagen.flow_from_dataframe(dataframe=df_train,\n",
        "                                                    directory=\"./known_images\",\n",
        "                                                    x_col=\"images\",\n",
        "                                                    y_col=\"labels\",\n",
        "                                                    target_size=(IMG_HEIGHT, IMG_WIDTH),\n",
        "                                                    class_mode=\"binary\",\n",
        "                                                    batch_size=BATCH_SIZE)\n",
        "\n",
        "test_generator = test_datagen.flow_from_dataframe(dataframe=df_test,\n",
        "                                                  directory=\"./known_images\",\n",
        "                                                  x_col=\"images\",\n",
        "                                                  y_col=\"labels\",\n",
        "                                                  target_size=(IMG_HEIGHT, IMG_WIDTH),\n",
        "                                                  class_mode=\"binary\",\n",
        "                                                  shuffle=False,\n",
        "                                                  batch_size=BATCH_SIZE)\n",
        "\n",
        "val_generator = test_datagen.flow_from_dataframe(dataframe=df_val,\n",
        "                                                  directory=\"./known_images\",\n",
        "                                                  x_col=\"images\",\n",
        "                                                  y_col=\"labels\",\n",
        "                                                 target_size=(IMG_HEIGHT, IMG_WIDTH),\n",
        "                                                  class_mode=\"binary\",\n",
        "                                                 shuffle=False,\n",
        "                                                  batch_size=BATCH_SIZE)"
      ],
      "metadata": {
        "colab": {
          "base_uri": "https://localhost:8080/"
        },
        "id": "IzSCtZoAmxKZ",
        "outputId": "e11f1b72-165a-464c-9d79-c1c08b94689e"
      },
      "execution_count": 14,
      "outputs": [
        {
          "output_type": "stream",
          "name": "stdout",
          "text": [
            "Found 500 validated image filenames belonging to 2 classes.\n",
            "Found 144 validated image filenames belonging to 2 classes.\n",
            "Found 71 validated image filenames belonging to 2 classes.\n"
          ]
        }
      ]
    },
    {
      "cell_type": "markdown",
      "source": [
        "# Train the model"
      ],
      "metadata": {
        "id": "OH-EXboxm0Mj"
      }
    },
    {
      "cell_type": "markdown",
      "source": [
        "## Model Architecture"
      ],
      "metadata": {
        "id": "eiKhmlr8Stwr"
      }
    },
    {
      "cell_type": "code",
      "source": [
        "model = keras.Sequential(\n",
        "    [\n",
        "      layers.Conv2D(32, (3,3), activation=\"relu\", input_shape=(IMG_HEIGHT, IMG_WIDTH, 3)),\n",
        "      layers.MaxPooling2D((2,2)),\n",
        "      layers.Conv2D(64, (3,3), activation=\"relu\"),\n",
        "      layers.MaxPooling2D((2,2)),\n",
        "      layers.Conv2D(64, (3,3), activation=\"relu\"),\n",
        "      layers.MaxPooling2D((2,2)),\n",
        "      layers.Conv2D(128, (3,3), activation=\"relu\"),\n",
        "      layers.MaxPooling2D((2,2)),\n",
        "      layers.Flatten(),\n",
        "      layers.Dense(32, activation=\"relu\"),\n",
        "      layers.Dense(1, activation=\"sigmoid\")\n",
        "    ]\n",
        ")\n",
        "model.summary()"
      ],
      "metadata": {
        "colab": {
          "base_uri": "https://localhost:8080/"
        },
        "id": "c5oyj8QQr8e5",
        "outputId": "6197282f-b9a8-4c0a-b886-bc4c0db384f4"
      },
      "execution_count": 15,
      "outputs": [
        {
          "output_type": "stream",
          "name": "stdout",
          "text": [
            "Model: \"sequential_1\"\n",
            "_________________________________________________________________\n",
            " Layer (type)                Output Shape              Param #   \n",
            "=================================================================\n",
            " conv2d_4 (Conv2D)           (None, 486, 393, 32)      896       \n",
            "                                                                 \n",
            " max_pooling2d_4 (MaxPooling  (None, 243, 196, 32)     0         \n",
            " 2D)                                                             \n",
            "                                                                 \n",
            " conv2d_5 (Conv2D)           (None, 241, 194, 64)      18496     \n",
            "                                                                 \n",
            " max_pooling2d_5 (MaxPooling  (None, 120, 97, 64)      0         \n",
            " 2D)                                                             \n",
            "                                                                 \n",
            " conv2d_6 (Conv2D)           (None, 118, 95, 64)       36928     \n",
            "                                                                 \n",
            " max_pooling2d_6 (MaxPooling  (None, 59, 47, 64)       0         \n",
            " 2D)                                                             \n",
            "                                                                 \n",
            " conv2d_7 (Conv2D)           (None, 57, 45, 128)       73856     \n",
            "                                                                 \n",
            " max_pooling2d_7 (MaxPooling  (None, 28, 22, 128)      0         \n",
            " 2D)                                                             \n",
            "                                                                 \n",
            " flatten_1 (Flatten)         (None, 78848)             0         \n",
            "                                                                 \n",
            " dense_2 (Dense)             (None, 32)                2523168   \n",
            "                                                                 \n",
            " dense_3 (Dense)             (None, 1)                 33        \n",
            "                                                                 \n",
            "=================================================================\n",
            "Total params: 2,653,377\n",
            "Trainable params: 2,653,377\n",
            "Non-trainable params: 0\n",
            "_________________________________________________________________\n"
          ]
        }
      ]
    },
    {
      "cell_type": "markdown",
      "source": [
        "## Optimizer"
      ],
      "metadata": {
        "id": "IXb7JX1xSxts"
      }
    },
    {
      "cell_type": "code",
      "source": [
        "# optimizer\n",
        "opt = keras.optimizers.SGD(learning_rate=1e-3, momentum=0.9)\n",
        "model.compile(loss='binary_crossentropy', optimizer=opt, metrics=['accuracy'])\n",
        "\n",
        "checkpoint_filepath = './models/my_best_model.epoch{epoch:02d}-loss{val_loss:.2f}.hdf5'\n",
        "checkpoint = keras.callbacks.ModelCheckpoint(\n",
        "  filepath=checkpoint_filepath,\n",
        "  monitor='val_loss',\n",
        "  save_best_only=True, \n",
        "  mode='min'\n",
        ")\n",
        "\n",
        "callback_list = [checkpoint]"
      ],
      "metadata": {
        "id": "5EjZtrmFtTpj"
      },
      "execution_count": 16,
      "outputs": []
    },
    {
      "cell_type": "markdown",
      "source": [
        "## Training"
      ],
      "metadata": {
        "id": "tQ7K9wv3S0qk"
      }
    },
    {
      "cell_type": "code",
      "source": [
        "history = model.fit(train_generator,\n",
        "                    epochs=50,\n",
        "                    batch_size=BATCH_SIZE,\n",
        "                    validation_data=val_generator,\n",
        "                    callbacks=callback_list)"
      ],
      "metadata": {
        "colab": {
          "base_uri": "https://localhost:8080/"
        },
        "id": "LXlDhhfctqTU",
        "outputId": "6cb1fe91-9a4c-40d0-dc17-6c655231fca6"
      },
      "execution_count": 17,
      "outputs": [
        {
          "output_type": "stream",
          "name": "stdout",
          "text": [
            "Epoch 1/50\n",
            "16/16 [==============================] - 27s 2s/step - loss: 0.6696 - accuracy: 0.5860 - val_loss: 0.6721 - val_accuracy: 0.5070\n",
            "Epoch 2/50\n",
            "16/16 [==============================] - 26s 2s/step - loss: 0.6305 - accuracy: 0.6040 - val_loss: 0.6116 - val_accuracy: 0.7606\n",
            "Epoch 3/50\n",
            "16/16 [==============================] - 26s 2s/step - loss: 0.5517 - accuracy: 0.7840 - val_loss: 0.5320 - val_accuracy: 0.6901\n",
            "Epoch 4/50\n",
            "16/16 [==============================] - 25s 2s/step - loss: 0.4680 - accuracy: 0.8100 - val_loss: 0.4583 - val_accuracy: 0.7606\n",
            "Epoch 5/50\n",
            "16/16 [==============================] - 25s 2s/step - loss: 0.3803 - accuracy: 0.8320 - val_loss: 0.4176 - val_accuracy: 0.7606\n",
            "Epoch 6/50\n",
            "16/16 [==============================] - 26s 2s/step - loss: 0.3866 - accuracy: 0.8400 - val_loss: 0.4379 - val_accuracy: 0.7465\n",
            "Epoch 7/50\n",
            "16/16 [==============================] - 26s 2s/step - loss: 0.4070 - accuracy: 0.8080 - val_loss: 0.4096 - val_accuracy: 0.7465\n",
            "Epoch 8/50\n",
            "16/16 [==============================] - 26s 2s/step - loss: 0.3271 - accuracy: 0.8560 - val_loss: 0.3802 - val_accuracy: 0.8169\n",
            "Epoch 9/50\n",
            "16/16 [==============================] - 26s 2s/step - loss: 0.3273 - accuracy: 0.8440 - val_loss: 0.3699 - val_accuracy: 0.8169\n",
            "Epoch 10/50\n",
            "16/16 [==============================] - 26s 2s/step - loss: 0.3876 - accuracy: 0.8160 - val_loss: 0.4797 - val_accuracy: 0.7183\n",
            "Epoch 11/50\n",
            "16/16 [==============================] - 26s 2s/step - loss: 0.3416 - accuracy: 0.8580 - val_loss: 0.3734 - val_accuracy: 0.8310\n",
            "Epoch 12/50\n",
            "16/16 [==============================] - 25s 2s/step - loss: 0.3056 - accuracy: 0.8620 - val_loss: 0.4270 - val_accuracy: 0.7606\n",
            "Epoch 13/50\n",
            "16/16 [==============================] - 25s 2s/step - loss: 0.2943 - accuracy: 0.8700 - val_loss: 0.3766 - val_accuracy: 0.8169\n",
            "Epoch 14/50\n",
            "16/16 [==============================] - 26s 2s/step - loss: 0.2918 - accuracy: 0.8680 - val_loss: 0.4161 - val_accuracy: 0.7746\n",
            "Epoch 15/50\n",
            "16/16 [==============================] - 26s 2s/step - loss: 0.3034 - accuracy: 0.8800 - val_loss: 0.3428 - val_accuracy: 0.8451\n",
            "Epoch 16/50\n",
            "16/16 [==============================] - 26s 2s/step - loss: 0.2997 - accuracy: 0.8600 - val_loss: 0.4953 - val_accuracy: 0.7183\n",
            "Epoch 17/50\n",
            "16/16 [==============================] - 26s 2s/step - loss: 0.2968 - accuracy: 0.8600 - val_loss: 0.3539 - val_accuracy: 0.8451\n",
            "Epoch 18/50\n",
            "16/16 [==============================] - 25s 2s/step - loss: 0.3089 - accuracy: 0.8700 - val_loss: 0.3449 - val_accuracy: 0.8451\n",
            "Epoch 19/50\n",
            "16/16 [==============================] - 26s 2s/step - loss: 0.2806 - accuracy: 0.8720 - val_loss: 0.3650 - val_accuracy: 0.7887\n",
            "Epoch 20/50\n",
            "16/16 [==============================] - 25s 2s/step - loss: 0.2977 - accuracy: 0.8780 - val_loss: 0.3752 - val_accuracy: 0.8451\n",
            "Epoch 21/50\n",
            "16/16 [==============================] - 26s 2s/step - loss: 0.2912 - accuracy: 0.8820 - val_loss: 0.5028 - val_accuracy: 0.7183\n",
            "Epoch 22/50\n",
            "16/16 [==============================] - 26s 2s/step - loss: 0.2877 - accuracy: 0.8700 - val_loss: 0.3554 - val_accuracy: 0.8451\n",
            "Epoch 23/50\n",
            "16/16 [==============================] - 25s 2s/step - loss: 0.2700 - accuracy: 0.8840 - val_loss: 0.3358 - val_accuracy: 0.8169\n",
            "Epoch 24/50\n",
            "16/16 [==============================] - 26s 2s/step - loss: 0.2821 - accuracy: 0.8600 - val_loss: 0.3389 - val_accuracy: 0.8592\n",
            "Epoch 25/50\n",
            "16/16 [==============================] - 26s 2s/step - loss: 0.3090 - accuracy: 0.8620 - val_loss: 0.3635 - val_accuracy: 0.7887\n",
            "Epoch 26/50\n",
            "16/16 [==============================] - 26s 2s/step - loss: 0.2578 - accuracy: 0.8780 - val_loss: 0.3466 - val_accuracy: 0.8310\n",
            "Epoch 27/50\n",
            "16/16 [==============================] - 26s 2s/step - loss: 0.2647 - accuracy: 0.8680 - val_loss: 0.3640 - val_accuracy: 0.8169\n",
            "Epoch 28/50\n",
            "16/16 [==============================] - 26s 2s/step - loss: 0.2358 - accuracy: 0.9000 - val_loss: 0.3551 - val_accuracy: 0.8169\n",
            "Epoch 29/50\n",
            "16/16 [==============================] - 26s 2s/step - loss: 0.2486 - accuracy: 0.8900 - val_loss: 0.3532 - val_accuracy: 0.8169\n",
            "Epoch 30/50\n",
            "16/16 [==============================] - 26s 2s/step - loss: 0.2235 - accuracy: 0.9060 - val_loss: 0.3418 - val_accuracy: 0.8310\n",
            "Epoch 31/50\n",
            "16/16 [==============================] - 25s 2s/step - loss: 0.2260 - accuracy: 0.8880 - val_loss: 0.3471 - val_accuracy: 0.8310\n",
            "Epoch 32/50\n",
            "16/16 [==============================] - 26s 2s/step - loss: 0.2113 - accuracy: 0.9120 - val_loss: 0.3413 - val_accuracy: 0.8310\n",
            "Epoch 33/50\n",
            "16/16 [==============================] - 26s 2s/step - loss: 0.2573 - accuracy: 0.8900 - val_loss: 0.6134 - val_accuracy: 0.7606\n",
            "Epoch 34/50\n",
            "16/16 [==============================] - 26s 2s/step - loss: 0.2246 - accuracy: 0.9080 - val_loss: 0.3855 - val_accuracy: 0.7887\n",
            "Epoch 35/50\n",
            "16/16 [==============================] - 26s 2s/step - loss: 0.2207 - accuracy: 0.9020 - val_loss: 0.3173 - val_accuracy: 0.8592\n",
            "Epoch 36/50\n",
            "16/16 [==============================] - 26s 2s/step - loss: 0.2129 - accuracy: 0.9020 - val_loss: 0.3197 - val_accuracy: 0.8873\n",
            "Epoch 37/50\n",
            "16/16 [==============================] - 26s 2s/step - loss: 0.2134 - accuracy: 0.9100 - val_loss: 0.3162 - val_accuracy: 0.8592\n",
            "Epoch 38/50\n",
            "16/16 [==============================] - 25s 2s/step - loss: 0.2174 - accuracy: 0.8960 - val_loss: 0.3190 - val_accuracy: 0.8873\n",
            "Epoch 39/50\n",
            "16/16 [==============================] - 26s 2s/step - loss: 0.1859 - accuracy: 0.9160 - val_loss: 0.3050 - val_accuracy: 0.8873\n",
            "Epoch 40/50\n",
            "16/16 [==============================] - 25s 2s/step - loss: 0.1986 - accuracy: 0.9120 - val_loss: 0.3479 - val_accuracy: 0.8451\n",
            "Epoch 41/50\n",
            "16/16 [==============================] - 26s 2s/step - loss: 0.1923 - accuracy: 0.9120 - val_loss: 0.3085 - val_accuracy: 0.8592\n",
            "Epoch 42/50\n",
            "16/16 [==============================] - 26s 2s/step - loss: 0.1737 - accuracy: 0.9180 - val_loss: 0.2942 - val_accuracy: 0.8873\n",
            "Epoch 43/50\n",
            "16/16 [==============================] - 25s 2s/step - loss: 0.1807 - accuracy: 0.9180 - val_loss: 0.2844 - val_accuracy: 0.8873\n",
            "Epoch 44/50\n",
            "16/16 [==============================] - 26s 2s/step - loss: 0.1669 - accuracy: 0.9340 - val_loss: 0.3653 - val_accuracy: 0.8028\n",
            "Epoch 45/50\n",
            "16/16 [==============================] - 26s 2s/step - loss: 0.2108 - accuracy: 0.9100 - val_loss: 0.2787 - val_accuracy: 0.9014\n",
            "Epoch 46/50\n",
            "16/16 [==============================] - 26s 2s/step - loss: 0.1721 - accuracy: 0.9300 - val_loss: 0.4264 - val_accuracy: 0.8310\n",
            "Epoch 47/50\n",
            "16/16 [==============================] - 26s 2s/step - loss: 0.1709 - accuracy: 0.9220 - val_loss: 0.2585 - val_accuracy: 0.9155\n",
            "Epoch 48/50\n",
            "16/16 [==============================] - 26s 2s/step - loss: 0.1695 - accuracy: 0.9240 - val_loss: 0.2528 - val_accuracy: 0.8873\n",
            "Epoch 49/50\n",
            "16/16 [==============================] - 26s 2s/step - loss: 0.1578 - accuracy: 0.9320 - val_loss: 0.2787 - val_accuracy: 0.8873\n",
            "Epoch 50/50\n",
            "16/16 [==============================] - 26s 2s/step - loss: 0.1806 - accuracy: 0.9120 - val_loss: 0.3656 - val_accuracy: 0.8169\n"
          ]
        }
      ]
    },
    {
      "cell_type": "code",
      "source": [
        "print(history.history.keys())\n",
        "# summarize history for accuracy\n",
        "plt.plot(history.history['accuracy'])\n",
        "plt.plot(history.history['val_accuracy'])\n",
        "plt.title('model accuracy')\n",
        "plt.ylabel('accuracy')\n",
        "plt.xlabel('epoch')\n",
        "plt.legend(['train', 'val'], loc='upper left')\n",
        "plt.show()\n",
        "# summarize history for loss\n",
        "plt.plot(history.history['loss'])\n",
        "plt.plot(history.history['val_loss'])\n",
        "plt.title('model loss')\n",
        "plt.ylabel('loss')\n",
        "plt.xlabel('epoch')\n",
        "plt.legend(['train', 'val'], loc='upper left')\n",
        "plt.show()"
      ],
      "metadata": {
        "colab": {
          "base_uri": "https://localhost:8080/",
          "height": 944
        },
        "id": "9cgKF5sbuXQY",
        "outputId": "0999c723-3e8c-4dfd-f22b-e1b207cbafed"
      },
      "execution_count": 18,
      "outputs": [
        {
          "output_type": "stream",
          "name": "stdout",
          "text": [
            "dict_keys(['loss', 'accuracy', 'val_loss', 'val_accuracy'])\n"
          ]
        },
        {
          "output_type": "display_data",
          "data": {
            "text/plain": [
              "<Figure size 640x480 with 1 Axes>"
            ],
            "image/png": "[encoded data removed]"
          },
          "metadata": {}
        },
        {
          "output_type": "display_data",
          "data": {
            "text/plain": [
              "<Figure size 640x480 with 1 Axes>"
            ],
            "image/png": "[encoded data removed]"
          },
          "metadata": {}
        }
      ]
    },
    {
      "cell_type": "code",
      "source": [
        "from keras.models import load_model\n",
        "best_model = load_model(\"/content/models/my_best_model.epoch48-loss0.25.hdf5\")"
      ],
      "metadata": {
        "id": "KK8gqKKi66k2"
      },
      "execution_count": 19,
      "outputs": []
    },
    {
      "cell_type": "code",
      "source": [
        "best_model.evaluate(test_generator)"
      ],
      "metadata": {
        "colab": {
          "base_uri": "https://localhost:8080/"
        },
        "id": "jxXJxwXFyrBf",
        "outputId": "4beb8dea-a363-4ae3-94e8-d67f78074dae"
      },
      "execution_count": 20,
      "outputs": [
        {
          "output_type": "stream",
          "name": "stdout",
          "text": [
            "5/5 [==============================] - 2s 398ms/step - loss: 0.1275 - accuracy: 0.9444\n"
          ]
        },
        {
          "output_type": "execute_result",
          "data": {
            "text/plain": [
              "[0.12751905620098114, 0.9444444179534912]"
            ]
          },
          "metadata": {},
          "execution_count": 20
        }
      ]
    },
    {
      "cell_type": "code",
      "source": [
        "y_true = test_generator.classes"
      ],
      "metadata": {
        "id": "sOcNynUyy6sD"
      },
      "execution_count": 21,
      "outputs": []
    },
    {
      "cell_type": "code",
      "source": [
        "y_pred = best_model.predict(test_generator)"
      ],
      "metadata": {
        "colab": {
          "base_uri": "https://localhost:8080/"
        },
        "id": "Y38INNb9ywZm",
        "outputId": "211b51aa-de77-465e-f149-7a0eb2db066c"
      },
      "execution_count": 22,
      "outputs": [
        {
          "output_type": "stream",
          "name": "stdout",
          "text": [
            "5/5 [==============================] - 1s 216ms/step\n"
          ]
        }
      ]
    },
    {
      "cell_type": "code",
      "source": [
        "def threshold_predictions(predictions, threshold=0.5):\n",
        "  return [1 if i >= threshold else 0 for i in predictions]"
      ],
      "metadata": {
        "id": "HE7qeZ_pXOcq"
      },
      "execution_count": 23,
      "outputs": []
    },
    {
      "cell_type": "code",
      "source": [
        "y_pred = threshold_predictions(y_pred)"
      ],
      "metadata": {
        "id": "IHVYtQYVzApj"
      },
      "execution_count": 24,
      "outputs": []
    },
    {
      "cell_type": "code",
      "source": [
        "y_pred.count(0)"
      ],
      "metadata": {
        "colab": {
          "base_uri": "https://localhost:8080/"
        },
        "id": "qAcysBEG1i8o",
        "outputId": "fac3d92e-f2dc-46bd-ceba-0c66fd8a3339"
      },
      "execution_count": 25,
      "outputs": [
        {
          "output_type": "execute_result",
          "data": {
            "text/plain": [
              "75"
            ]
          },
          "metadata": {},
          "execution_count": 25
        }
      ]
    },
    {
      "cell_type": "code",
      "source": [
        "def plot_confusion_matrix(y_test, y_pred, labels):\n",
        "  \"\"\"\n",
        "    y_test: true y labels\n",
        "    y_pred: predicted y labels\n",
        "    labels: class labels\n",
        "  \"\"\"\n",
        "  disp = ConfusionMatrixDisplay.from_predictions(y_test,\n",
        "                                                 y_pred,\n",
        "                                                 display_labels=labels,\n",
        "                                                 cmap=\"Blues\")\n",
        "\n",
        "plot_confusion_matrix( y_true, y_pred, [\"Normal\", \"Sick\"])"
      ],
      "metadata": {
        "colab": {
          "base_uri": "https://localhost:8080/",
          "height": 449
        },
        "id": "yB54ZfryzGIj",
        "outputId": "32aeb34e-b800-4b16-e81b-83c892037b86"
      },
      "execution_count": 26,
      "outputs": [
        {
          "output_type": "display_data",
          "data": {
            "text/plain": [
              "<Figure size 640x480 with 2 Axes>"
            ],
            "image/png": "[encoded data removed]"
          },
          "metadata": {}
        }
      ]
    },
    {
      "cell_type": "code",
      "source": [
        "# classification report\n",
        "print(classification_report(y_true, y_pred))"
      ],
      "metadata": {
        "colab": {
          "base_uri": "https://localhost:8080/"
        },
        "id": "ielVOOv7Y0oI",
        "outputId": "fca08e2f-830b-4048-fec4-e9da57a713a1"
      },
      "execution_count": 27,
      "outputs": [
        {
          "output_type": "stream",
          "name": "stdout",
          "text": [
            "              precision    recall  f1-score   support\n",
            "\n",
            "           0       0.95      0.95      0.95        75\n",
            "           1       0.94      0.94      0.94        69\n",
            "\n",
            "    accuracy                           0.94       144\n",
            "   macro avg       0.94      0.94      0.94       144\n",
            "weighted avg       0.94      0.94      0.94       144\n",
            "\n"
          ]
        }
      ]
    },
    {
      "cell_type": "markdown",
      "source": [
        "# Test on unknown dataset"
      ],
      "metadata": {
        "id": "XgZ_4OWQ4vqi"
      }
    },
    {
      "cell_type": "code",
      "source": [
        "# unzip dataset from google drive\n",
        "!unzip /content/drive/MyDrive/Personal/Computer\\ Vision/dl_final_project/dataset2.zip"
      ],
      "metadata": {
        "id": "ZE65orHT0leb",
        "colab": {
          "base_uri": "https://localhost:8080/"
        },
        "outputId": "36cb6d33-4909-493e-93fc-c0b721236cad"
      },
      "execution_count": 28,
      "outputs": [
        {
          "output_type": "stream",
          "name": "stdout",
          "text": [
            "Archive:  /content/drive/MyDrive/Personal/Computer Vision/dl_final_project/dataset2.zip\n",
            "   creating: images/\n",
            "  inflating: images/sick_eff0.png    \n",
            "  inflating: images/sick_eff1.png    \n",
            "  inflating: images/sick_eff10.png   \n",
            "  inflating: images/sick_eff100.png  \n",
            "  inflating: images/sick_eff101.png  \n",
            "  inflating: images/sick_eff102.png  \n",
            "  inflating: images/sick_eff103.png  \n",
            "  inflating: images/sick_eff104.png  \n",
            "  inflating: images/sick_eff105.png  \n",
            "  inflating: images/sick_eff106.png  \n",
            "  inflating: images/sick_eff107.png  \n",
            "  inflating: images/sick_eff108.png  \n",
            "  inflating: images/sick_eff109.png  \n",
            "  inflating: images/sick_eff11.png   \n",
            "  inflating: images/sick_eff110.png  \n",
            "  inflating: images/sick_eff111.png  \n",
            "  inflating: images/sick_eff12.png   \n",
            "  inflating: images/sick_eff13.png   \n",
            "  inflating: images/sick_eff14.png   \n",
            "  inflating: images/sick_eff15.png   \n",
            "  inflating: images/sick_eff16.png   \n",
            "  inflating: images/sick_eff17.png   \n",
            "  inflating: images/sick_eff18.png   \n",
            "  inflating: images/sick_eff19.png   \n",
            "  inflating: images/sick_eff2.png    \n",
            "  inflating: images/sick_eff20.png   \n",
            "  inflating: images/sick_eff21.png   \n",
            "  inflating: images/sick_eff22.png   \n",
            "  inflating: images/sick_eff23.png   \n",
            "  inflating: images/sick_eff24.png   \n",
            "  inflating: images/sick_eff25.png   \n",
            "  inflating: images/sick_eff26.png   \n",
            "  inflating: images/sick_eff27.png   \n",
            "  inflating: images/sick_eff28.png   \n",
            "  inflating: images/sick_eff29.png   \n",
            "  inflating: images/sick_eff3.png    \n",
            "  inflating: images/sick_eff30.png   \n",
            "  inflating: images/sick_eff31.png   \n",
            "  inflating: images/sick_eff32.png   \n",
            "  inflating: images/sick_eff33.png   \n",
            "  inflating: images/sick_eff34.png   \n",
            "  inflating: images/sick_eff35.png   \n",
            "  inflating: images/sick_eff36.png   \n",
            "  inflating: images/sick_eff37.png   \n",
            "  inflating: images/sick_eff38.png   \n",
            "  inflating: images/sick_eff39.png   \n",
            "  inflating: images/sick_eff4.png    \n",
            "  inflating: images/sick_eff40.png   \n",
            "  inflating: images/sick_eff41.png   \n",
            "  inflating: images/sick_eff42.png   \n",
            "  inflating: images/sick_eff43.png   \n",
            "  inflating: images/sick_eff44.png   \n",
            "  inflating: images/sick_eff45.png   \n",
            "  inflating: images/sick_eff46.png   \n",
            "  inflating: images/sick_eff47.png   \n",
            "  inflating: images/sick_eff48.png   \n",
            "  inflating: images/sick_eff49.png   \n",
            "  inflating: images/sick_eff5.png    \n",
            "  inflating: images/sick_eff50.png   \n",
            "  inflating: images/sick_eff51.png   \n",
            "  inflating: images/sick_eff52.png   \n",
            "  inflating: images/sick_eff53.png   \n",
            "  inflating: images/sick_eff54.png   \n",
            "  inflating: images/sick_eff55.png   \n",
            "  inflating: images/sick_eff56.png   \n",
            "  inflating: images/sick_eff57.png   \n",
            "  inflating: images/sick_eff58.png   \n",
            "  inflating: images/sick_eff59.png   \n",
            "  inflating: images/sick_eff6.png    \n",
            "  inflating: images/sick_eff60.png   \n",
            "  inflating: images/sick_eff61.png   \n",
            "  inflating: images/sick_eff62.png   \n",
            "  inflating: images/sick_eff63.png   \n",
            "  inflating: images/sick_eff64.png   \n",
            "  inflating: images/sick_eff65.png   \n",
            "  inflating: images/sick_eff66.png   \n",
            "  inflating: images/sick_eff67.png   \n",
            "  inflating: images/sick_eff68.png   \n",
            "  inflating: images/sick_eff69.png   \n",
            "  inflating: images/sick_eff7.png    \n",
            "  inflating: images/sick_eff70.png   \n",
            "  inflating: images/sick_eff71.png   \n",
            "  inflating: images/sick_eff72.png   \n",
            "  inflating: images/sick_eff73.png   \n",
            "  inflating: images/sick_eff74.png   \n",
            "  inflating: images/sick_eff75.png   \n",
            "  inflating: images/sick_eff76.png   \n",
            "  inflating: images/sick_eff77.png   \n",
            "  inflating: images/sick_eff78.png   \n",
            "  inflating: images/sick_eff79.png   \n",
            "  inflating: images/sick_eff8.png    \n",
            "  inflating: images/sick_eff80.png   \n",
            "  inflating: images/sick_eff81.png   \n",
            "  inflating: images/sick_eff82.png   \n",
            "  inflating: images/sick_eff83.png   \n",
            "  inflating: images/sick_eff84.png   \n",
            "  inflating: images/sick_eff85.png   \n",
            "  inflating: images/sick_eff86.png   \n",
            "  inflating: images/sick_eff87.png   \n",
            "  inflating: images/sick_eff88.png   \n",
            "  inflating: images/sick_eff89.png   \n",
            "  inflating: images/sick_eff9.png    \n",
            "  inflating: images/sick_eff90.png   \n",
            "  inflating: images/sick_eff91.png   \n",
            "  inflating: images/sick_eff92.png   \n",
            "  inflating: images/sick_eff93.png   \n",
            "  inflating: images/sick_eff94.png   \n",
            "  inflating: images/sick_eff95.png   \n",
            "  inflating: images/sick_eff96.png   \n",
            "  inflating: images/sick_eff97.png   \n",
            "  inflating: images/sick_eff98.png   \n",
            "  inflating: images/sick_eff99.png   \n",
            "  inflating: images/sick_eif0.png    \n",
            "  inflating: images/sick_eif1.png    \n",
            "  inflating: images/sick_eif10.png   \n",
            "  inflating: images/sick_eif100.png  \n",
            "  inflating: images/sick_eif101.png  \n",
            "  inflating: images/sick_eif102.png  \n",
            "  inflating: images/sick_eif103.png  \n",
            "  inflating: images/sick_eif104.png  \n",
            "  inflating: images/sick_eif105.png  \n",
            "  inflating: images/sick_eif106.png  \n",
            "  inflating: images/sick_eif107.png  \n",
            "  inflating: images/sick_eif108.png  \n",
            "  inflating: images/sick_eif109.png  \n",
            "  inflating: images/sick_eif11.png   \n",
            "  inflating: images/sick_eif110.png  \n",
            "  inflating: images/sick_eif111.png  \n",
            "  inflating: images/sick_eif12.png   \n",
            "  inflating: images/sick_eif13.png   \n",
            "  inflating: images/sick_eif14.png   \n",
            "  inflating: images/sick_eif15.png   \n",
            "  inflating: images/sick_eif16.png   \n",
            "  inflating: images/sick_eif17.png   \n",
            "  inflating: images/sick_eif18.png   \n",
            "  inflating: images/sick_eif19.png   \n",
            "  inflating: images/sick_eif2.png    \n",
            "  inflating: images/sick_eif20.png   \n",
            "  inflating: images/sick_eif21.png   \n",
            "  inflating: images/sick_eif22.png   \n",
            "  inflating: images/sick_eif23.png   \n",
            "  inflating: images/sick_eif24.png   \n",
            "  inflating: images/sick_eif25.png   \n",
            "  inflating: images/sick_eif26.png   \n",
            "  inflating: images/sick_eif27.png   \n",
            "  inflating: images/sick_eif28.png   \n",
            "  inflating: images/sick_eif29.png   \n",
            "  inflating: images/sick_eif3.png    \n",
            "  inflating: images/sick_eif30.png   \n",
            "  inflating: images/sick_eif31.png   \n",
            "  inflating: images/sick_eif32.png   \n",
            "  inflating: images/sick_eif33.png   \n",
            "  inflating: images/sick_eif34.png   \n",
            "  inflating: images/sick_eif35.png   \n",
            "  inflating: images/sick_eif36.png   \n",
            "  inflating: images/sick_eif37.png   \n",
            "  inflating: images/sick_eif38.png   \n",
            "  inflating: images/sick_eif39.png   \n",
            "  inflating: images/sick_eif4.png    \n",
            "  inflating: images/sick_eif40.png   \n",
            "  inflating: images/sick_eif41.png   \n",
            "  inflating: images/sick_eif42.png   \n",
            "  inflating: images/sick_eif43.png   \n",
            "  inflating: images/sick_eif44.png   \n",
            "  inflating: images/sick_eif45.png   \n",
            "  inflating: images/sick_eif46.png   \n",
            "  inflating: images/sick_eif47.png   \n",
            "  inflating: images/sick_eif48.png   \n",
            "  inflating: images/sick_eif49.png   \n",
            "  inflating: images/sick_eif5.png    \n",
            "  inflating: images/sick_eif50.png   \n",
            "  inflating: images/sick_eif51.png   \n",
            "  inflating: images/sick_eif52.png   \n",
            "  inflating: images/sick_eif53.png   \n",
            "  inflating: images/sick_eif54.png   \n",
            "  inflating: images/sick_eif55.png   \n",
            "  inflating: images/sick_eif56.png   \n",
            "  inflating: images/sick_eif57.png   \n",
            "  inflating: images/sick_eif58.png   \n",
            "  inflating: images/sick_eif59.png   \n",
            "  inflating: images/sick_eif6.png    \n",
            "  inflating: images/sick_eif60.png   \n",
            "  inflating: images/sick_eif61.png   \n",
            "  inflating: images/sick_eif62.png   \n",
            "  inflating: images/sick_eif63.png   \n",
            "  inflating: images/sick_eif64.png   \n",
            "  inflating: images/sick_eif65.png   \n",
            "  inflating: images/sick_eif66.png   \n",
            "  inflating: images/sick_eif67.png   \n",
            "  inflating: images/sick_eif68.png   \n",
            "  inflating: images/sick_eif69.png   \n",
            "  inflating: images/sick_eif7.png    \n",
            "  inflating: images/sick_eif70.png   \n",
            "  inflating: images/sick_eif71.png   \n",
            "  inflating: images/sick_eif72.png   \n",
            "  inflating: images/sick_eif73.png   \n",
            "  inflating: images/sick_eif74.png   \n",
            "  inflating: images/sick_eif75.png   \n",
            "  inflating: images/sick_eif76.png   \n",
            "  inflating: images/sick_eif77.png   \n",
            "  inflating: images/sick_eif78.png   \n",
            "  inflating: images/sick_eif79.png   \n",
            "  inflating: images/sick_eif8.png    \n",
            "  inflating: images/sick_eif80.png   \n",
            "  inflating: images/sick_eif81.png   \n",
            "  inflating: images/sick_eif82.png   \n",
            "  inflating: images/sick_eif83.png   \n",
            "  inflating: images/sick_eif84.png   \n",
            "  inflating: images/sick_eif85.png   \n",
            "  inflating: images/sick_eif86.png   \n",
            "  inflating: images/sick_eif87.png   \n",
            "  inflating: images/sick_eif88.png   \n",
            "  inflating: images/sick_eif89.png   \n",
            "  inflating: images/sick_eif9.png    \n",
            "  inflating: images/sick_eif90.png   \n",
            "  inflating: images/sick_eif91.png   \n",
            "  inflating: images/sick_eif92.png   \n",
            "  inflating: images/sick_eif93.png   \n",
            "  inflating: images/sick_eif94.png   \n",
            "  inflating: images/sick_eif95.png   \n",
            "  inflating: images/sick_eif96.png   \n",
            "  inflating: images/sick_eif97.png   \n",
            "  inflating: images/sick_eif98.png   \n",
            "  inflating: images/sick_eif99.png   \n"
          ]
        }
      ]
    },
    {
      "cell_type": "code",
      "source": [
        "df2 = pd.read_csv(\"/content/drive/MyDrive/Personal/Computer Vision/dl_final_project/dataset2_image_classes.csv\")"
      ],
      "metadata": {
        "id": "Pi05bzfr40_t"
      },
      "execution_count": 29,
      "outputs": []
    },
    {
      "cell_type": "code",
      "source": [
        "df2.head()"
      ],
      "metadata": {
        "colab": {
          "base_uri": "https://localhost:8080/",
          "height": 206
        },
        "id": "-eREbRh85ul5",
        "outputId": "63ffe810-74d8-4654-d09d-6aae8ad97388"
      },
      "execution_count": 30,
      "outputs": [
        {
          "output_type": "execute_result",
          "data": {
            "text/plain": [
              "    patient   diagnosis (0-Normal, 1-Sick)\n",
              "0  sick_eff0                             0\n",
              "1  sick_eff1                             0\n",
              "2  sick_eff2                             0\n",
              "3  sick_eff3                             0\n",
              "4  sick_eff4                             0"
            ],
            "text/html": [
              "\n",
              "  <div id=\"df-381b84f1-37f5-438a-b8ba-e41329db5ddf\">\n",
              "    <div class=\"colab-df-container\">\n",
              "      <div>\n",
              "<style scoped>\n",
              "    .dataframe tbody tr th:only-of-type {\n",
              "        vertical-align: middle;\n",
              "    }\n",
              "\n",
              "    .dataframe tbody tr th {\n",
              "        vertical-align: top;\n",
              "    }\n",
              "\n",
              "    .dataframe thead th {\n",
              "        text-align: right;\n",
              "    }\n",
              "</style>\n",
              "<table border=\"1\" class=\"dataframe\">\n",
              "  <thead>\n",
              "    <tr style=\"text-align: right;\">\n",
              "      <th></th>\n",
              "      <th>patient</th>\n",
              "      <th>diagnosis (0-Normal, 1-Sick)</th>\n",
              "    </tr>\n",
              "  </thead>\n",
              "  <tbody>\n",
              "    <tr>\n",
              "      <th>0</th>\n",
              "      <td>sick_eff0</td>\n",
              "      <td>0</td>\n",
              "    </tr>\n",
              "    <tr>\n",
              "      <th>1</th>\n",
              "      <td>sick_eff1</td>\n",
              "      <td>0</td>\n",
              "    </tr>\n",
              "    <tr>\n",
              "      <th>2</th>\n",
              "      <td>sick_eff2</td>\n",
              "      <td>0</td>\n",
              "    </tr>\n",
              "    <tr>\n",
              "      <th>3</th>\n",
              "      <td>sick_eff3</td>\n",
              "      <td>0</td>\n",
              "    </tr>\n",
              "    <tr>\n",
              "      <th>4</th>\n",
              "      <td>sick_eff4</td>\n",
              "      <td>0</td>\n",
              "    </tr>\n",
              "  </tbody>\n",
              "</table>\n",
              "</div>\n",
              "      <button class=\"colab-df-convert\" onclick=\"convertToInteractive('df-381b84f1-37f5-438a-b8ba-e41329db5ddf')\"\n",
              "              title=\"Convert this dataframe to an interactive table.\"\n",
              "              style=\"display:none;\">\n",
              "        \n",
              "  <svg xmlns=\"http://www.w3.org/2000/svg\" height=\"24px\"viewBox=\"0 0 24 24\"\n",
              "       width=\"24px\">\n",
              "    <path d=\"M0 0h24v24H0V0z\" fill=\"none\"/>\n",
              "    <path d=\"M18.56 5.44l.94 2.06.94-2.06 2.06-.94-2.06-.94-.94-2.06-.94 2.06-2.06.94zm-11 1L8.5 8.5l.94-2.06 2.06-.94-2.06-.94L8.5 2.5l-.94 2.06-2.06.94zm10 10l.94 2.06.94-2.06 2.06-.94-2.06-.94-.94-2.06-.94 2.06-2.06.94z\"/><path d=\"M17.41 7.96l-1.37-1.37c-.4-.4-.92-.59-1.43-.59-.52 0-1.04.2-1.43.59L10.3 9.45l-7.72 7.72c-.78.78-.78 2.05 0 2.83L4 21.41c.39.39.9.59 1.41.59.51 0 1.02-.2 1.41-.59l7.78-7.78 2.81-2.81c.8-.78.8-2.07 0-2.86zM5.41 20L4 18.59l7.72-7.72 1.47 1.35L5.41 20z\"/>\n",
              "  </svg>\n",
              "      </button>\n",
              "      \n",
              "  <style>\n",
              "    .colab-df-container {\n",
              "      display:flex;\n",
              "      flex-wrap:wrap;\n",
              "      gap: 12px;\n",
              "    }\n",
              "\n",
              "    .colab-df-convert {\n",
              "      background-color: #E8F0FE;\n",
              "      border: none;\n",
              "      border-radius: 50%;\n",
              "      cursor: pointer;\n",
              "      display: none;\n",
              "      fill: #1967D2;\n",
              "      height: 32px;\n",
              "      padding: 0 0 0 0;\n",
              "      width: 32px;\n",
              "    }\n",
              "\n",
              "    .colab-df-convert:hover {\n",
              "      background-color: #E2EBFA;\n",
              "      box-shadow: 0px 1px 2px rgba(60, 64, 67, 0.3), 0px 1px 3px 1px rgba(60, 64, 67, 0.15);\n",
              "      fill: #174EA6;\n",
              "    }\n",
              "\n",
              "    [theme=dark] .colab-df-convert {\n",
              "      background-color: #3B4455;\n",
              "      fill: #D2E3FC;\n",
              "    }\n",
              "\n",
              "    [theme=dark] .colab-df-convert:hover {\n",
              "      background-color: #434B5C;\n",
              "      box-shadow: 0px 1px 3px 1px rgba(0, 0, 0, 0.15);\n",
              "      filter: drop-shadow(0px 1px 2px rgba(0, 0, 0, 0.3));\n",
              "      fill: #FFFFFF;\n",
              "    }\n",
              "  </style>\n",
              "\n",
              "      <script>\n",
              "        const buttonEl =\n",
              "          document.querySelector('#df-381b84f1-37f5-438a-b8ba-e41329db5ddf button.colab-df-convert');\n",
              "        buttonEl.style.display =\n",
              "          google.colab.kernel.accessAllowed ? 'block' : 'none';\n",
              "\n",
              "        async function convertToInteractive(key) {\n",
              "          const element = document.querySelector('#df-381b84f1-37f5-438a-b8ba-e41329db5ddf');\n",
              "          const dataTable =\n",
              "            await google.colab.kernel.invokeFunction('convertToInteractive',\n",
              "                                                     [key], {});\n",
              "          if (!dataTable) return;\n",
              "\n",
              "          const docLinkHtml = 'Like what you see? Visit the ' +\n",
              "            '<a target=\"_blank\" href=https://colab.research.google.com/notebooks/data_table.ipynb>data table notebook</a>'\n",
              "            + ' to learn more about interactive tables.';\n",
              "          element.innerHTML = '';\n",
              "          dataTable['output_type'] = 'display_data';\n",
              "          await google.colab.output.renderOutput(dataTable, element);\n",
              "          const docLink = document.createElement('div');\n",
              "          docLink.innerHTML = docLinkHtml;\n",
              "          element.appendChild(docLink);\n",
              "        }\n",
              "      </script>\n",
              "    </div>\n",
              "  </div>\n",
              "  "
            ]
          },
          "metadata": {},
          "execution_count": 30
        }
      ]
    },
    {
      "cell_type": "code",
      "source": [
        "df2.keys()"
      ],
      "metadata": {
        "colab": {
          "base_uri": "https://localhost:8080/"
        },
        "id": "4f8O2Nnk6CBA",
        "outputId": "19019918-e5af-489f-f928-79e4873a561f"
      },
      "execution_count": 31,
      "outputs": [
        {
          "output_type": "execute_result",
          "data": {
            "text/plain": [
              "Index(['patient ', 'diagnosis (0-Normal, 1-Sick)'], dtype='object')"
            ]
          },
          "metadata": {},
          "execution_count": 31
        }
      ]
    },
    {
      "cell_type": "code",
      "source": [
        "df2[\"patient \"] = df2[\"patient \"]+\".png\"\n",
        "df2[\"diagnosis (0-Normal, 1-Sick)\"] = df2[\"diagnosis (0-Normal, 1-Sick)\"].astype(str)\n",
        "df2.head()"
      ],
      "metadata": {
        "colab": {
          "base_uri": "https://localhost:8080/",
          "height": 206
        },
        "id": "kriGQqCa5ych",
        "outputId": "874358f2-3778-4715-8717-a8f221d12239"
      },
      "execution_count": 32,
      "outputs": [
        {
          "output_type": "execute_result",
          "data": {
            "text/plain": [
              "        patient  diagnosis (0-Normal, 1-Sick)\n",
              "0  sick_eff0.png                            0\n",
              "1  sick_eff1.png                            0\n",
              "2  sick_eff2.png                            0\n",
              "3  sick_eff3.png                            0\n",
              "4  sick_eff4.png                            0"
            ],
            "text/html": [
              "\n",
              "  <div id=\"df-40a6e8bf-ff26-4867-b10c-4c32718af447\">\n",
              "    <div class=\"colab-df-container\">\n",
              "      <div>\n",
              "<style scoped>\n",
              "    .dataframe tbody tr th:only-of-type {\n",
              "        vertical-align: middle;\n",
              "    }\n",
              "\n",
              "    .dataframe tbody tr th {\n",
              "        vertical-align: top;\n",
              "    }\n",
              "\n",
              "    .dataframe thead th {\n",
              "        text-align: right;\n",
              "    }\n",
              "</style>\n",
              "<table border=\"1\" class=\"dataframe\">\n",
              "  <thead>\n",
              "    <tr style=\"text-align: right;\">\n",
              "      <th></th>\n",
              "      <th>patient</th>\n",
              "      <th>diagnosis (0-Normal, 1-Sick)</th>\n",
              "    </tr>\n",
              "  </thead>\n",
              "  <tbody>\n",
              "    <tr>\n",
              "      <th>0</th>\n",
              "      <td>sick_eff0.png</td>\n",
              "      <td>0</td>\n",
              "    </tr>\n",
              "    <tr>\n",
              "      <th>1</th>\n",
              "      <td>sick_eff1.png</td>\n",
              "      <td>0</td>\n",
              "    </tr>\n",
              "    <tr>\n",
              "      <th>2</th>\n",
              "      <td>sick_eff2.png</td>\n",
              "      <td>0</td>\n",
              "    </tr>\n",
              "    <tr>\n",
              "      <th>3</th>\n",
              "      <td>sick_eff3.png</td>\n",
              "      <td>0</td>\n",
              "    </tr>\n",
              "    <tr>\n",
              "      <th>4</th>\n",
              "      <td>sick_eff4.png</td>\n",
              "      <td>0</td>\n",
              "    </tr>\n",
              "  </tbody>\n",
              "</table>\n",
              "</div>\n",
              "      <button class=\"colab-df-convert\" onclick=\"convertToInteractive('df-40a6e8bf-ff26-4867-b10c-4c32718af447')\"\n",
              "              title=\"Convert this dataframe to an interactive table.\"\n",
              "              style=\"display:none;\">\n",
              "        \n",
              "  <svg xmlns=\"http://www.w3.org/2000/svg\" height=\"24px\"viewBox=\"0 0 24 24\"\n",
              "       width=\"24px\">\n",
              "    <path d=\"M0 0h24v24H0V0z\" fill=\"none\"/>\n",
              "    <path d=\"M18.56 5.44l.94 2.06.94-2.06 2.06-.94-2.06-.94-.94-2.06-.94 2.06-2.06.94zm-11 1L8.5 8.5l.94-2.06 2.06-.94-2.06-.94L8.5 2.5l-.94 2.06-2.06.94zm10 10l.94 2.06.94-2.06 2.06-.94-2.06-.94-.94-2.06-.94 2.06-2.06.94z\"/><path d=\"M17.41 7.96l-1.37-1.37c-.4-.4-.92-.59-1.43-.59-.52 0-1.04.2-1.43.59L10.3 9.45l-7.72 7.72c-.78.78-.78 2.05 0 2.83L4 21.41c.39.39.9.59 1.41.59.51 0 1.02-.2 1.41-.59l7.78-7.78 2.81-2.81c.8-.78.8-2.07 0-2.86zM5.41 20L4 18.59l7.72-7.72 1.47 1.35L5.41 20z\"/>\n",
              "  </svg>\n",
              "      </button>\n",
              "      \n",
              "  <style>\n",
              "    .colab-df-container {\n",
              "      display:flex;\n",
              "      flex-wrap:wrap;\n",
              "      gap: 12px;\n",
              "    }\n",
              "\n",
              "    .colab-df-convert {\n",
              "      background-color: #E8F0FE;\n",
              "      border: none;\n",
              "      border-radius: 50%;\n",
              "      cursor: pointer;\n",
              "      display: none;\n",
              "      fill: #1967D2;\n",
              "      height: 32px;\n",
              "      padding: 0 0 0 0;\n",
              "      width: 32px;\n",
              "    }\n",
              "\n",
              "    .colab-df-convert:hover {\n",
              "      background-color: #E2EBFA;\n",
              "      box-shadow: 0px 1px 2px rgba(60, 64, 67, 0.3), 0px 1px 3px 1px rgba(60, 64, 67, 0.15);\n",
              "      fill: #174EA6;\n",
              "    }\n",
              "\n",
              "    [theme=dark] .colab-df-convert {\n",
              "      background-color: #3B4455;\n",
              "      fill: #D2E3FC;\n",
              "    }\n",
              "\n",
              "    [theme=dark] .colab-df-convert:hover {\n",
              "      background-color: #434B5C;\n",
              "      box-shadow: 0px 1px 3px 1px rgba(0, 0, 0, 0.15);\n",
              "      filter: drop-shadow(0px 1px 2px rgba(0, 0, 0, 0.3));\n",
              "      fill: #FFFFFF;\n",
              "    }\n",
              "  </style>\n",
              "\n",
              "      <script>\n",
              "        const buttonEl =\n",
              "          document.querySelector('#df-40a6e8bf-ff26-4867-b10c-4c32718af447 button.colab-df-convert');\n",
              "        buttonEl.style.display =\n",
              "          google.colab.kernel.accessAllowed ? 'block' : 'none';\n",
              "\n",
              "        async function convertToInteractive(key) {\n",
              "          const element = document.querySelector('#df-40a6e8bf-ff26-4867-b10c-4c32718af447');\n",
              "          const dataTable =\n",
              "            await google.colab.kernel.invokeFunction('convertToInteractive',\n",
              "                                                     [key], {});\n",
              "          if (!dataTable) return;\n",
              "\n",
              "          const docLinkHtml = 'Like what you see? Visit the ' +\n",
              "            '<a target=\"_blank\" href=https://colab.research.google.com/notebooks/data_table.ipynb>data table notebook</a>'\n",
              "            + ' to learn more about interactive tables.';\n",
              "          element.innerHTML = '';\n",
              "          dataTable['output_type'] = 'display_data';\n",
              "          await google.colab.output.renderOutput(dataTable, element);\n",
              "          const docLink = document.createElement('div');\n",
              "          docLink.innerHTML = docLinkHtml;\n",
              "          element.appendChild(docLink);\n",
              "        }\n",
              "      </script>\n",
              "    </div>\n",
              "  </div>\n",
              "  "
            ]
          },
          "metadata": {},
          "execution_count": 32
        }
      ]
    },
    {
      "cell_type": "code",
      "source": [
        "dataset2_generator = test_datagen.flow_from_dataframe(dataframe=df2,\n",
        "                                                      directory=\"./images\",\n",
        "                                                      x_col=\"patient \",\n",
        "                                                      y_col=\"diagnosis (0-Normal, 1-Sick)\",\n",
        "                                                      target_size=(IMG_HEIGHT, IMG_WIDTH),\n",
        "                                                      class_mode=\"binary\",\n",
        "                                                      shuffle=False,\n",
        "                                                      batch_size=32)"
      ],
      "metadata": {
        "colab": {
          "base_uri": "https://localhost:8080/"
        },
        "id": "gLR9xPTs5995",
        "outputId": "4782a73a-50fa-4644-e19d-e68e019a7b7b"
      },
      "execution_count": 33,
      "outputs": [
        {
          "output_type": "stream",
          "name": "stdout",
          "text": [
            "Found 224 validated image filenames belonging to 2 classes.\n"
          ]
        }
      ]
    },
    {
      "cell_type": "code",
      "source": [
        "best_model.evaluate(dataset2_generator)"
      ],
      "metadata": {
        "colab": {
          "base_uri": "https://localhost:8080/"
        },
        "id": "67zUFxhd6m1z",
        "outputId": "5da33eda-252a-4f32-b07a-5937d06e4497"
      },
      "execution_count": 34,
      "outputs": [
        {
          "output_type": "stream",
          "name": "stdout",
          "text": [
            "7/7 [==============================] - 2s 248ms/step - loss: 1.9216 - accuracy: 0.4866\n"
          ]
        },
        {
          "output_type": "execute_result",
          "data": {
            "text/plain": [
              "[1.9216066598892212, 0.4866071343421936]"
            ]
          },
          "metadata": {},
          "execution_count": 34
        }
      ]
    },
    {
      "cell_type": "code",
      "source": [
        "y_true2 = dataset2_generator.classes\n",
        "y_pred2 = threshold_predictions(best_model.predict(dataset2_generator))"
      ],
      "metadata": {
        "colab": {
          "base_uri": "https://localhost:8080/"
        },
        "id": "qDpeHVryZ13F",
        "outputId": "73adcd5c-00f6-4394-d0a5-3ac629b61764"
      },
      "execution_count": 35,
      "outputs": [
        {
          "output_type": "stream",
          "name": "stdout",
          "text": [
            "7/7 [==============================] - 2s 270ms/step\n"
          ]
        }
      ]
    },
    {
      "cell_type": "code",
      "source": [
        "plot_confusion_matrix( y_true2, y_pred2, [\"Normal\", \"Sick\"])\n",
        "print(classification_report(y_true2, y_pred2))"
      ],
      "metadata": {
        "colab": {
          "base_uri": "https://localhost:8080/",
          "height": 607
        },
        "id": "MDwFzB6DaBae",
        "outputId": "e0b0846b-1c72-4af6-b739-402812330ee4"
      },
      "execution_count": 36,
      "outputs": [
        {
          "output_type": "stream",
          "name": "stdout",
          "text": [
            "              precision    recall  f1-score   support\n",
            "\n",
            "           0       0.44      0.10      0.16       112\n",
            "           1       0.49      0.88      0.63       112\n",
            "\n",
            "    accuracy                           0.49       224\n",
            "   macro avg       0.47      0.49      0.40       224\n",
            "weighted avg       0.47      0.49      0.40       224\n",
            "\n"
          ]
        },
        {
          "output_type": "display_data",
          "data": {
            "text/plain": [
              "<Figure size 640x480 with 2 Axes>"
            ],
            "image/png": "[encoded data removed]"
          },
          "metadata": {}
        }
      ]
    },
    {
      "cell_type": "markdown",
      "source": [
        "# Evaluate on unknown images"
      ],
      "metadata": {
        "id": "_jIGpazd99v0"
      }
    },
    {
      "cell_type": "code",
      "source": [
        "!unzip /content/drive/MyDrive/Personal/Computer\\ Vision/dl_final_project/unknown_images.zip"
      ],
      "metadata": {
        "id": "EQCJU22064vE",
        "colab": {
          "base_uri": "https://localhost:8080/"
        },
        "outputId": "61e5df0f-ca0c-48e4-9c80-b389bf7b69ba"
      },
      "execution_count": 37,
      "outputs": [
        {
          "output_type": "stream",
          "name": "stdout",
          "text": [
            "Archive:  /content/drive/MyDrive/Personal/Computer Vision/dl_final_project/unknown_images.zip\n",
            "   creating: unknown_images/\n",
            "  inflating: unknown_images/1.png    \n",
            "  inflating: unknown_images/10.png   \n",
            "  inflating: unknown_images/11.png   \n",
            "  inflating: unknown_images/12.png   \n",
            "  inflating: unknown_images/13.png   \n",
            "  inflating: unknown_images/14.png   \n",
            "  inflating: unknown_images/15.png   \n",
            "  inflating: unknown_images/16.png   \n",
            "  inflating: unknown_images/17.png   \n",
            "  inflating: unknown_images/18.png   \n",
            "  inflating: unknown_images/19.png   \n",
            "  inflating: unknown_images/2.png    \n",
            "  inflating: unknown_images/20.png   \n",
            "  inflating: unknown_images/21.png   \n",
            "  inflating: unknown_images/22.png   \n",
            "  inflating: unknown_images/23.png   \n",
            "  inflating: unknown_images/24.png   \n",
            "  inflating: unknown_images/25.png   \n",
            "  inflating: unknown_images/26.png   \n",
            "  inflating: unknown_images/27.png   \n",
            "  inflating: unknown_images/28.png   \n",
            "  inflating: unknown_images/29.png   \n",
            "  inflating: unknown_images/3.png    \n",
            "  inflating: unknown_images/30.png   \n",
            "  inflating: unknown_images/31.png   \n",
            "  inflating: unknown_images/32.png   \n",
            "  inflating: unknown_images/33.png   \n",
            "  inflating: unknown_images/34.png   \n",
            "  inflating: unknown_images/35.png   \n",
            "  inflating: unknown_images/36.png   \n",
            "  inflating: unknown_images/37.png   \n",
            "  inflating: unknown_images/38.png   \n",
            "  inflating: unknown_images/39.png   \n",
            "  inflating: unknown_images/4.png    \n",
            "  inflating: unknown_images/40.png   \n",
            "  inflating: unknown_images/41.png   \n",
            "  inflating: unknown_images/42.png   \n",
            "  inflating: unknown_images/43.png   \n",
            "  inflating: unknown_images/44.png   \n",
            "  inflating: unknown_images/45.png   \n",
            "  inflating: unknown_images/46.png   \n",
            "  inflating: unknown_images/47.png   \n",
            "  inflating: unknown_images/48.png   \n",
            "  inflating: unknown_images/49.png   \n",
            "  inflating: unknown_images/5.png    \n",
            "  inflating: unknown_images/50.png   \n",
            "  inflating: unknown_images/6.png    \n",
            "  inflating: unknown_images/7.png    \n",
            "  inflating: unknown_images/8.png    \n",
            "  inflating: unknown_images/9.png    \n"
          ]
        }
      ]
    },
    {
      "cell_type": "code",
      "source": [
        "# image reader\n",
        "def read_image(path):\n",
        "  img = load_img(path, target_size=(IMG_HEIGHT, IMG_WIDTH))\n",
        "  img_reshaped = np.expand_dims(img, axis=0)\n",
        "  return test_datagen.flow(img_reshaped, batch_size=1)[0]"
      ],
      "metadata": {
        "id": "IrCFpwPuQ6EH"
      },
      "execution_count": 38,
      "outputs": []
    },
    {
      "cell_type": "code",
      "source": [
        "unknown_images = os.listdir(\"./unknown_images\")"
      ],
      "metadata": {
        "id": "gMf_a95X-MQX"
      },
      "execution_count": 39,
      "outputs": []
    },
    {
      "cell_type": "code",
      "source": [
        "read_image(os.path.join(\"./unknown_images\", unknown_images[0]))\n",
        "# predict classes for unknown images\n",
        "image_names = []\n",
        "image_predictions = []\n",
        "for img_name in unknown_images:\n",
        "  img = read_image(os.path.join(\"./unknown_images\", img_name))\n",
        "  prediction = threshold_predictions(best_model.predict(img)[0])[0]\n",
        "  image_names.append(img_name) \n",
        "  image_predictions.append(prediction) \n",
        "  print(f\"{img_name} - {prediction}\")"
      ],
      "metadata": {
        "colab": {
          "base_uri": "https://localhost:8080/"
        },
        "id": "w3vw2TPPVInN",
        "outputId": "3cf2f0f8-77df-4f81-fff4-35be90b9c47a"
      },
      "execution_count": 40,
      "outputs": [
        {
          "output_type": "stream",
          "name": "stdout",
          "text": [
            "1/1 [==============================] - 0s 315ms/step\n",
            "20.png - 1\n",
            "1/1 [==============================] - 0s 28ms/step\n",
            "9.png - 0\n",
            "1/1 [==============================] - 0s 23ms/step\n",
            "35.png - 0\n",
            "1/1 [==============================] - 0s 25ms/step\n",
            "22.png - 1\n",
            "1/1 [==============================] - 0s 25ms/step\n",
            "10.png - 1\n",
            "1/1 [==============================] - 0s 25ms/step\n",
            "7.png - 0\n",
            "1/1 [==============================] - 0s 22ms/step\n",
            "29.png - 0\n",
            "1/1 [==============================] - 0s 22ms/step\n",
            "27.png - 1\n",
            "1/1 [==============================] - 0s 24ms/step\n",
            "4.png - 1\n",
            "1/1 [==============================] - 0s 29ms/step\n",
            "12.png - 1\n",
            "1/1 [==============================] - 0s 27ms/step\n",
            "46.png - 1\n",
            "1/1 [==============================] - 0s 24ms/step\n",
            "24.png - 0\n",
            "1/1 [==============================] - 0s 27ms/step\n",
            "47.png - 0\n",
            "1/1 [==============================] - 0s 25ms/step\n",
            "40.png - 1\n",
            "1/1 [==============================] - 0s 23ms/step\n",
            "39.png - 0\n",
            "1/1 [==============================] - 0s 22ms/step\n",
            "17.png - 0\n",
            "1/1 [==============================] - 0s 24ms/step\n",
            "19.png - 0\n",
            "1/1 [==============================] - 0s 26ms/step\n",
            "28.png - 1\n",
            "1/1 [==============================] - 0s 24ms/step\n",
            "5.png - 0\n",
            "1/1 [==============================] - 0s 22ms/step\n",
            "18.png - 1\n",
            "1/1 [==============================] - 0s 25ms/step\n",
            "41.png - 0\n",
            "1/1 [==============================] - 0s 24ms/step\n",
            "1.png - 1\n",
            "1/1 [==============================] - 0s 27ms/step\n",
            "2.png - 1\n",
            "1/1 [==============================] - 0s 27ms/step\n",
            "3.png - 0\n",
            "1/1 [==============================] - 0s 26ms/step\n",
            "16.png - 1\n",
            "1/1 [==============================] - 0s 23ms/step\n",
            "33.png - 0\n",
            "1/1 [==============================] - 0s 23ms/step\n",
            "6.png - 1\n",
            "1/1 [==============================] - 0s 23ms/step\n",
            "45.png - 0\n",
            "1/1 [==============================] - 0s 25ms/step\n",
            "50.png - 1\n",
            "1/1 [==============================] - 0s 25ms/step\n",
            "42.png - 1\n",
            "1/1 [==============================] - 0s 25ms/step\n",
            "11.png - 0\n",
            "1/1 [==============================] - 0s 25ms/step\n",
            "26.png - 1\n",
            "1/1 [==============================] - 0s 28ms/step\n",
            "49.png - 0\n",
            "1/1 [==============================] - 0s 29ms/step\n",
            "25.png - 0\n",
            "1/1 [==============================] - 0s 24ms/step\n",
            "30.png - 1\n",
            "1/1 [==============================] - 0s 25ms/step\n",
            "13.png - 0\n",
            "1/1 [==============================] - 0s 24ms/step\n",
            "31.png - 0\n",
            "1/1 [==============================] - 0s 24ms/step\n",
            "32.png - 1\n",
            "1/1 [==============================] - 0s 25ms/step\n",
            "15.png - 0\n",
            "1/1 [==============================] - 0s 25ms/step\n",
            "37.png - 0\n",
            "1/1 [==============================] - 0s 22ms/step\n",
            "44.png - 1\n",
            "1/1 [==============================] - 0s 24ms/step\n",
            "34.png - 0\n",
            "1/1 [==============================] - 0s 24ms/step\n",
            "14.png - 1\n",
            "1/1 [==============================] - 0s 22ms/step\n",
            "48.png - 1\n",
            "1/1 [==============================] - 0s 30ms/step\n",
            "23.png - 0\n",
            "1/1 [==============================] - 0s 37ms/step\n",
            "43.png - 0\n",
            "1/1 [==============================] - 0s 26ms/step\n",
            "36.png - 0\n",
            "1/1 [==============================] - 0s 26ms/step\n",
            "21.png - 0\n",
            "1/1 [==============================] - 0s 40ms/step\n",
            "38.png - 0\n",
            "1/1 [==============================] - 0s 37ms/step\n",
            "8.png - 1\n"
          ]
        }
      ]
    },
    {
      "cell_type": "code",
      "source": [
        "image_predictions.count(0)"
      ],
      "metadata": {
        "colab": {
          "base_uri": "https://localhost:8080/"
        },
        "id": "WW2tKNhhEYZI",
        "outputId": "c6df1006-2117-4439-f349-b2ea89fb527e"
      },
      "execution_count": 41,
      "outputs": [
        {
          "output_type": "execute_result",
          "data": {
            "text/plain": [
              "27"
            ]
          },
          "metadata": {},
          "execution_count": 41
        }
      ]
    },
    {
      "cell_type": "code",
      "source": [
        "image_predictions.count(1)"
      ],
      "metadata": {
        "id": "5TC4ef12Eh_T",
        "outputId": "4f7b80a2-ba82-4b6c-e2b0-c53861db5196",
        "colab": {
          "base_uri": "https://localhost:8080/"
        }
      },
      "execution_count": 42,
      "outputs": [
        {
          "output_type": "execute_result",
          "data": {
            "text/plain": [
              "23"
            ]
          },
          "metadata": {},
          "execution_count": 42
        }
      ]
    },
    {
      "cell_type": "code",
      "source": [
        "image_prediction_classes=[\"normal\" if i == 0 else \"sick\" for i in image_predictions]"
      ],
      "metadata": {
        "id": "PsNu5cYuYI1F"
      },
      "execution_count": 43,
      "outputs": []
    },
    {
      "cell_type": "code",
      "source": [
        "unknown_preds_df = pd.DataFrame({\"image\":image_names,\n",
        "                                 \"diagnosis\": image_prediction_classes })"
      ],
      "metadata": {
        "id": "-x9UvlVi7qId"
      },
      "execution_count": 44,
      "outputs": []
    },
    {
      "cell_type": "code",
      "source": [
        "unknown_preds_df.head()"
      ],
      "metadata": {
        "colab": {
          "base_uri": "https://localhost:8080/",
          "height": 206
        },
        "id": "OLx0891rYY25",
        "outputId": "b9219172-ef28-4a04-84f4-e15f72a6ecf7"
      },
      "execution_count": 45,
      "outputs": [
        {
          "output_type": "execute_result",
          "data": {
            "text/plain": [
              "    image diagnosis\n",
              "0  20.png      sick\n",
              "1   9.png    normal\n",
              "2  35.png    normal\n",
              "3  22.png      sick\n",
              "4  10.png      sick"
            ],
            "text/html": [
              "\n",
              "  <div id=\"df-e52ae587-9a8f-4ee9-a4d8-ece5f283a2b1\">\n",
              "    <div class=\"colab-df-container\">\n",
              "      <div>\n",
              "<style scoped>\n",
              "    .dataframe tbody tr th:only-of-type {\n",
              "        vertical-align: middle;\n",
              "    }\n",
              "\n",
              "    .dataframe tbody tr th {\n",
              "        vertical-align: top;\n",
              "    }\n",
              "\n",
              "    .dataframe thead th {\n",
              "        text-align: right;\n",
              "    }\n",
              "</style>\n",
              "<table border=\"1\" class=\"dataframe\">\n",
              "  <thead>\n",
              "    <tr style=\"text-align: right;\">\n",
              "      <th></th>\n",
              "      <th>image</th>\n",
              "      <th>diagnosis</th>\n",
              "    </tr>\n",
              "  </thead>\n",
              "  <tbody>\n",
              "    <tr>\n",
              "      <th>0</th>\n",
              "      <td>20.png</td>\n",
              "      <td>sick</td>\n",
              "    </tr>\n",
              "    <tr>\n",
              "      <th>1</th>\n",
              "      <td>9.png</td>\n",
              "      <td>normal</td>\n",
              "    </tr>\n",
              "    <tr>\n",
              "      <th>2</th>\n",
              "      <td>35.png</td>\n",
              "      <td>normal</td>\n",
              "    </tr>\n",
              "    <tr>\n",
              "      <th>3</th>\n",
              "      <td>22.png</td>\n",
              "      <td>sick</td>\n",
              "    </tr>\n",
              "    <tr>\n",
              "      <th>4</th>\n",
              "      <td>10.png</td>\n",
              "      <td>sick</td>\n",
              "    </tr>\n",
              "  </tbody>\n",
              "</table>\n",
              "</div>\n",
              "      <button class=\"colab-df-convert\" onclick=\"convertToInteractive('df-e52ae587-9a8f-4ee9-a4d8-ece5f283a2b1')\"\n",
              "              title=\"Convert this dataframe to an interactive table.\"\n",
              "              style=\"display:none;\">\n",
              "        \n",
              "  <svg xmlns=\"http://www.w3.org/2000/svg\" height=\"24px\"viewBox=\"0 0 24 24\"\n",
              "       width=\"24px\">\n",
              "    <path d=\"M0 0h24v24H0V0z\" fill=\"none\"/>\n",
              "    <path d=\"M18.56 5.44l.94 2.06.94-2.06 2.06-.94-2.06-.94-.94-2.06-.94 2.06-2.06.94zm-11 1L8.5 8.5l.94-2.06 2.06-.94-2.06-.94L8.5 2.5l-.94 2.06-2.06.94zm10 10l.94 2.06.94-2.06 2.06-.94-2.06-.94-.94-2.06-.94 2.06-2.06.94z\"/><path d=\"M17.41 7.96l-1.37-1.37c-.4-.4-.92-.59-1.43-.59-.52 0-1.04.2-1.43.59L10.3 9.45l-7.72 7.72c-.78.78-.78 2.05 0 2.83L4 21.41c.39.39.9.59 1.41.59.51 0 1.02-.2 1.41-.59l7.78-7.78 2.81-2.81c.8-.78.8-2.07 0-2.86zM5.41 20L4 18.59l7.72-7.72 1.47 1.35L5.41 20z\"/>\n",
              "  </svg>\n",
              "      </button>\n",
              "      \n",
              "  <style>\n",
              "    .colab-df-container {\n",
              "      display:flex;\n",
              "      flex-wrap:wrap;\n",
              "      gap: 12px;\n",
              "    }\n",
              "\n",
              "    .colab-df-convert {\n",
              "      background-color: #E8F0FE;\n",
              "      border: none;\n",
              "      border-radius: 50%;\n",
              "      cursor: pointer;\n",
              "      display: none;\n",
              "      fill: #1967D2;\n",
              "      height: 32px;\n",
              "      padding: 0 0 0 0;\n",
              "      width: 32px;\n",
              "    }\n",
              "\n",
              "    .colab-df-convert:hover {\n",
              "      background-color: #E2EBFA;\n",
              "      box-shadow: 0px 1px 2px rgba(60, 64, 67, 0.3), 0px 1px 3px 1px rgba(60, 64, 67, 0.15);\n",
              "      fill: #174EA6;\n",
              "    }\n",
              "\n",
              "    [theme=dark] .colab-df-convert {\n",
              "      background-color: #3B4455;\n",
              "      fill: #D2E3FC;\n",
              "    }\n",
              "\n",
              "    [theme=dark] .colab-df-convert:hover {\n",
              "      background-color: #434B5C;\n",
              "      box-shadow: 0px 1px 3px 1px rgba(0, 0, 0, 0.15);\n",
              "      filter: drop-shadow(0px 1px 2px rgba(0, 0, 0, 0.3));\n",
              "      fill: #FFFFFF;\n",
              "    }\n",
              "  </style>\n",
              "\n",
              "      <script>\n",
              "        const buttonEl =\n",
              "          document.querySelector('#df-e52ae587-9a8f-4ee9-a4d8-ece5f283a2b1 button.colab-df-convert');\n",
              "        buttonEl.style.display =\n",
              "          google.colab.kernel.accessAllowed ? 'block' : 'none';\n",
              "\n",
              "        async function convertToInteractive(key) {\n",
              "          const element = document.querySelector('#df-e52ae587-9a8f-4ee9-a4d8-ece5f283a2b1');\n",
              "          const dataTable =\n",
              "            await google.colab.kernel.invokeFunction('convertToInteractive',\n",
              "                                                     [key], {});\n",
              "          if (!dataTable) return;\n",
              "\n",
              "          const docLinkHtml = 'Like what you see? Visit the ' +\n",
              "            '<a target=\"_blank\" href=https://colab.research.google.com/notebooks/data_table.ipynb>data table notebook</a>'\n",
              "            + ' to learn more about interactive tables.';\n",
              "          element.innerHTML = '';\n",
              "          dataTable['output_type'] = 'display_data';\n",
              "          await google.colab.output.renderOutput(dataTable, element);\n",
              "          const docLink = document.createElement('div');\n",
              "          docLink.innerHTML = docLinkHtml;\n",
              "          element.appendChild(docLink);\n",
              "        }\n",
              "      </script>\n",
              "    </div>\n",
              "  </div>\n",
              "  "
            ]
          },
          "metadata": {},
          "execution_count": 45
        }
      ]
    },
    {
      "cell_type": "code",
      "source": [
        "# export predictions\n",
        "unknown_preds_df.to_csv(\"nb5-unknown-preds.csv\")"
      ],
      "metadata": {
        "id": "hfaVUS85YcdG"
      },
      "execution_count": 49,
      "outputs": []
    },
    {
      "cell_type": "code",
      "source": [
        "!cp -r /content/nb5-experiments /content/drive/MyDrive/Personal/Computer\\ Vision/dl_final_project/models\n",
        "!cp -r /content/nb5-unknown-preds.csv /content/drive/MyDrive/Personal/Computer\\ Vision/dl_final_project/models"
      ],
      "metadata": {
        "id": "w9FIACgD80Xc"
      },
      "execution_count": 50,
      "outputs": []
    },
    {
      "cell_type": "code",
      "source": [],
      "metadata": {
        "id": "0GM2KxAf9IWo"
      },
      "execution_count": null,
      "outputs": []
    }
  ]
}