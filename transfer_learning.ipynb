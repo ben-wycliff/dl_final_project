{
  "nbformat": 4,
  "nbformat_minor": 0,
  "metadata": {
    "colab": {
      "provenance": [],
      "authorship_tag": "ABX9TyNpedC5YY5yMrqed2rmsLup",
      "include_colab_link": true
    },
    "kernelspec": {
      "name": "python3",
      "display_name": "Python 3"
    },
    "language_info": {
      "name": "python"
    },
    "accelerator": "GPU",
    "gpuClass": "standard"
  },
  "cells": [
    {
      "cell_type": "markdown",
      "metadata": {
        "id": "view-in-github",
        "colab_type": "text"
      },
      "source": [
        "<a href=\"https://colab.research.google.com/github/ben-wycliff/dl_final_project/blob/main/transfer_learning.ipynb\" target=\"_parent\"><img src=\"https://colab.research.google.com/assets/colab-badge.svg\" alt=\"Open In Colab\"/></a>"
      ]
    },
    {
      "cell_type": "markdown",
      "source": [
        "# Setting Up"
      ],
      "metadata": {
        "id": "F4IbnM7DfY49"
      }
    },
    {
      "cell_type": "code",
      "source": [
        "from google.colab import drive\n",
        "drive.mount('/content/drive')"
      ],
      "metadata": {
        "colab": {
          "base_uri": "https://localhost:8080/"
        },
        "id": "z8JFXTkifjWP",
        "outputId": "e175bc9f-f3b6-4b45-d4c0-4a2265f7be66"
      },
      "execution_count": 2,
      "outputs": [
        {
          "output_type": "stream",
          "name": "stdout",
          "text": [
            "Mounted at /content/drive\n"
          ]
        }
      ]
    },
    {
      "cell_type": "code",
      "source": [
        "# unzip dataset from google drive\n",
        "!unzip /content/drive/MyDrive/Personal/Computer\\ Vision/dl_final_project/known_images.zip"
      ],
      "metadata": {
        "id": "tdKP40xpfk7x"
      },
      "execution_count": null,
      "outputs": []
    },
    {
      "cell_type": "markdown",
      "source": [
        "# Imports"
      ],
      "metadata": {
        "id": "jC1eLWwySN6b"
      }
    },
    {
      "cell_type": "code",
      "source": [
        "import os\n",
        "import pandas as pd\n",
        "import matplotlib.pyplot as plt\n",
        "import numpy as np\n",
        "\n",
        "from sklearn.model_selection import train_test_split\n",
        "from sklearn.metrics import (ConfusionMatrixDisplay,\n",
        "                             classification_report)\n",
        "\n",
        "import keras\n",
        "from keras import layers\n",
        "from keras.preprocessing.image import ImageDataGenerator\n",
        "from keras.utils import (img_to_array, load_img)\n",
        "from keras.applications import vgg16"
      ],
      "metadata": {
        "id": "lrCBBY2SSNQb"
      },
      "execution_count": 4,
      "outputs": []
    },
    {
      "cell_type": "markdown",
      "source": [
        "# Constants"
      ],
      "metadata": {
        "id": "k358bhNjS5zx"
      }
    },
    {
      "cell_type": "code",
      "source": [
        "BATCH_SIZE = 32\n",
        "IMG_HEIGHT, IMG_WIDTH = (488, 395)"
      ],
      "metadata": {
        "id": "6fKSNlYMS7oj"
      },
      "execution_count": 5,
      "outputs": []
    },
    {
      "cell_type": "markdown",
      "source": [
        "# Prepare Dataset"
      ],
      "metadata": {
        "id": "Ecno52Zqf2Tc"
      }
    },
    {
      "cell_type": "code",
      "source": [
        "# create dataframe\n",
        "df = pd.read_csv(\"/content/drive/MyDrive/Personal/Computer Vision/dl_final_project/dataset.csv\")\n",
        "df[\"labels\"] = df[\"labels\"].astype(str)\n",
        "df.head(10) # all sick images are labelled 1 while normal images are labelled 2"
      ],
      "metadata": {
        "colab": {
          "base_uri": "https://localhost:8080/",
          "height": 363
        },
        "id": "wefc-XCLf_NS",
        "outputId": "db3fd3f1-0cad-4bad-fb66-7b4c51c0ba14"
      },
      "execution_count": 6,
      "outputs": [
        {
          "output_type": "execute_result",
          "data": {
            "text/plain": [
              "   Unnamed: 0          images labels\n",
              "0           0    sick_272.png      1\n",
              "1           1    sick_292.png      1\n",
              "2           2    sick_144.png      1\n",
              "3           3     sick_50.png      1\n",
              "4           4   normal_95.png      0\n",
              "5           5     sick_92.png      1\n",
              "6           6  normal_210.png      0\n",
              "7           7  normal_253.png      0\n",
              "8           8     sick_12.png      1\n",
              "9           9   normal_71.png      0"
            ],
            "text/html": [
              "\n",
              "  <div id=\"df-73c7e4df-49f0-47bc-9f29-38a38e8d3ed0\">\n",
              "    <div class=\"colab-df-container\">\n",
              "      <div>\n",
              "<style scoped>\n",
              "    .dataframe tbody tr th:only-of-type {\n",
              "        vertical-align: middle;\n",
              "    }\n",
              "\n",
              "    .dataframe tbody tr th {\n",
              "        vertical-align: top;\n",
              "    }\n",
              "\n",
              "    .dataframe thead th {\n",
              "        text-align: right;\n",
              "    }\n",
              "</style>\n",
              "<table border=\"1\" class=\"dataframe\">\n",
              "  <thead>\n",
              "    <tr style=\"text-align: right;\">\n",
              "      <th></th>\n",
              "      <th>Unnamed: 0</th>\n",
              "      <th>images</th>\n",
              "      <th>labels</th>\n",
              "    </tr>\n",
              "  </thead>\n",
              "  <tbody>\n",
              "    <tr>\n",
              "      <th>0</th>\n",
              "      <td>0</td>\n",
              "      <td>sick_272.png</td>\n",
              "      <td>1</td>\n",
              "    </tr>\n",
              "    <tr>\n",
              "      <th>1</th>\n",
              "      <td>1</td>\n",
              "      <td>sick_292.png</td>\n",
              "      <td>1</td>\n",
              "    </tr>\n",
              "    <tr>\n",
              "      <th>2</th>\n",
              "      <td>2</td>\n",
              "      <td>sick_144.png</td>\n",
              "      <td>1</td>\n",
              "    </tr>\n",
              "    <tr>\n",
              "      <th>3</th>\n",
              "      <td>3</td>\n",
              "      <td>sick_50.png</td>\n",
              "      <td>1</td>\n",
              "    </tr>\n",
              "    <tr>\n",
              "      <th>4</th>\n",
              "      <td>4</td>\n",
              "      <td>normal_95.png</td>\n",
              "      <td>0</td>\n",
              "    </tr>\n",
              "    <tr>\n",
              "      <th>5</th>\n",
              "      <td>5</td>\n",
              "      <td>sick_92.png</td>\n",
              "      <td>1</td>\n",
              "    </tr>\n",
              "    <tr>\n",
              "      <th>6</th>\n",
              "      <td>6</td>\n",
              "      <td>normal_210.png</td>\n",
              "      <td>0</td>\n",
              "    </tr>\n",
              "    <tr>\n",
              "      <th>7</th>\n",
              "      <td>7</td>\n",
              "      <td>normal_253.png</td>\n",
              "      <td>0</td>\n",
              "    </tr>\n",
              "    <tr>\n",
              "      <th>8</th>\n",
              "      <td>8</td>\n",
              "      <td>sick_12.png</td>\n",
              "      <td>1</td>\n",
              "    </tr>\n",
              "    <tr>\n",
              "      <th>9</th>\n",
              "      <td>9</td>\n",
              "      <td>normal_71.png</td>\n",
              "      <td>0</td>\n",
              "    </tr>\n",
              "  </tbody>\n",
              "</table>\n",
              "</div>\n",
              "      <button class=\"colab-df-convert\" onclick=\"convertToInteractive('df-73c7e4df-49f0-47bc-9f29-38a38e8d3ed0')\"\n",
              "              title=\"Convert this dataframe to an interactive table.\"\n",
              "              style=\"display:none;\">\n",
              "        \n",
              "  <svg xmlns=\"http://www.w3.org/2000/svg\" height=\"24px\"viewBox=\"0 0 24 24\"\n",
              "       width=\"24px\">\n",
              "    <path d=\"M0 0h24v24H0V0z\" fill=\"none\"/>\n",
              "    <path d=\"M18.56 5.44l.94 2.06.94-2.06 2.06-.94-2.06-.94-.94-2.06-.94 2.06-2.06.94zm-11 1L8.5 8.5l.94-2.06 2.06-.94-2.06-.94L8.5 2.5l-.94 2.06-2.06.94zm10 10l.94 2.06.94-2.06 2.06-.94-2.06-.94-.94-2.06-.94 2.06-2.06.94z\"/><path d=\"M17.41 7.96l-1.37-1.37c-.4-.4-.92-.59-1.43-.59-.52 0-1.04.2-1.43.59L10.3 9.45l-7.72 7.72c-.78.78-.78 2.05 0 2.83L4 21.41c.39.39.9.59 1.41.59.51 0 1.02-.2 1.41-.59l7.78-7.78 2.81-2.81c.8-.78.8-2.07 0-2.86zM5.41 20L4 18.59l7.72-7.72 1.47 1.35L5.41 20z\"/>\n",
              "  </svg>\n",
              "      </button>\n",
              "      \n",
              "  <style>\n",
              "    .colab-df-container {\n",
              "      display:flex;\n",
              "      flex-wrap:wrap;\n",
              "      gap: 12px;\n",
              "    }\n",
              "\n",
              "    .colab-df-convert {\n",
              "      background-color: #E8F0FE;\n",
              "      border: none;\n",
              "      border-radius: 50%;\n",
              "      cursor: pointer;\n",
              "      display: none;\n",
              "      fill: #1967D2;\n",
              "      height: 32px;\n",
              "      padding: 0 0 0 0;\n",
              "      width: 32px;\n",
              "    }\n",
              "\n",
              "    .colab-df-convert:hover {\n",
              "      background-color: #E2EBFA;\n",
              "      box-shadow: 0px 1px 2px rgba(60, 64, 67, 0.3), 0px 1px 3px 1px rgba(60, 64, 67, 0.15);\n",
              "      fill: #174EA6;\n",
              "    }\n",
              "\n",
              "    [theme=dark] .colab-df-convert {\n",
              "      background-color: #3B4455;\n",
              "      fill: #D2E3FC;\n",
              "    }\n",
              "\n",
              "    [theme=dark] .colab-df-convert:hover {\n",
              "      background-color: #434B5C;\n",
              "      box-shadow: 0px 1px 3px 1px rgba(0, 0, 0, 0.15);\n",
              "      filter: drop-shadow(0px 1px 2px rgba(0, 0, 0, 0.3));\n",
              "      fill: #FFFFFF;\n",
              "    }\n",
              "  </style>\n",
              "\n",
              "      <script>\n",
              "        const buttonEl =\n",
              "          document.querySelector('#df-73c7e4df-49f0-47bc-9f29-38a38e8d3ed0 button.colab-df-convert');\n",
              "        buttonEl.style.display =\n",
              "          google.colab.kernel.accessAllowed ? 'block' : 'none';\n",
              "\n",
              "        async function convertToInteractive(key) {\n",
              "          const element = document.querySelector('#df-73c7e4df-49f0-47bc-9f29-38a38e8d3ed0');\n",
              "          const dataTable =\n",
              "            await google.colab.kernel.invokeFunction('convertToInteractive',\n",
              "                                                     [key], {});\n",
              "          if (!dataTable) return;\n",
              "\n",
              "          const docLinkHtml = 'Like what you see? Visit the ' +\n",
              "            '<a target=\"_blank\" href=https://colab.research.google.com/notebooks/data_table.ipynb>data table notebook</a>'\n",
              "            + ' to learn more about interactive tables.';\n",
              "          element.innerHTML = '';\n",
              "          dataTable['output_type'] = 'display_data';\n",
              "          await google.colab.output.renderOutput(dataTable, element);\n",
              "          const docLink = document.createElement('div');\n",
              "          docLink.innerHTML = docLinkHtml;\n",
              "          element.appendChild(docLink);\n",
              "        }\n",
              "      </script>\n",
              "    </div>\n",
              "  </div>\n",
              "  "
            ]
          },
          "metadata": {},
          "execution_count": 6
        }
      ]
    },
    {
      "cell_type": "code",
      "source": [
        "# From this plot we see the number of images is fairly\n",
        "# distributed between the two classes\n",
        "df.labels.value_counts().plot(kind=\"bar\"); \n",
        "plt.title(\"Number of images per class\")\n",
        "plt.xticks(ticks=[0,1],labels=[\"normal\", \"sick\"], rotation=0)\n",
        "plt.ylabel(\"Number of images\")\n",
        "plt.xlabel(\"Class\")\n",
        "plt.show()"
      ],
      "metadata": {
        "colab": {
          "base_uri": "https://localhost:8080/",
          "height": 472
        },
        "id": "eEpUGYWNjzK6",
        "outputId": "f7da701f-7516-498b-890a-ca48d8d300d3"
      },
      "execution_count": 7,
      "outputs": [
        {
          "output_type": "display_data",
          "data": {
            "text/plain": [
              "<Figure size 640x480 with 1 Axes>"
            ],
            "image/png": "[encoded data removed]"
          },
          "metadata": {}
        }
      ]
    },
    {
      "cell_type": "code",
      "source": [
        "# create dataset splits\n",
        "df_train, df_eval = train_test_split(df, test_size=0.3, random_state=42)\n",
        "df_test, df_val = train_test_split(df_eval, test_size=0.33, random_state=42)"
      ],
      "metadata": {
        "id": "R-HvHmaLip4I"
      },
      "execution_count": 8,
      "outputs": []
    },
    {
      "cell_type": "code",
      "source": [
        "# subplot the partitioning results\n",
        "print(\"\\nTrain partition:\\n\", df_train.labels.value_counts())\n",
        "print(\"\\nTest partition:\\n\", df_test.labels.value_counts())\n",
        "print(\"\\nValidation partition:\\n\", df_val.labels.value_counts())"
      ],
      "metadata": {
        "colab": {
          "base_uri": "https://localhost:8080/"
        },
        "id": "xwb6Nbbum67H",
        "outputId": "8895c3c3-aae9-4e70-bbf6-0fd92a3a424a"
      },
      "execution_count": 9,
      "outputs": [
        {
          "output_type": "stream",
          "name": "stdout",
          "text": [
            "\n",
            "Train partition:\n",
            " 0    253\n",
            "1    247\n",
            "Name: labels, dtype: int64\n",
            "\n",
            "Test partition:\n",
            " 0    75\n",
            "1    69\n",
            "Name: labels, dtype: int64\n",
            "\n",
            "Validation partition:\n",
            " 0    36\n",
            "1    35\n",
            "Name: labels, dtype: int64\n"
          ]
        }
      ]
    },
    {
      "cell_type": "code",
      "source": [
        "# create data generators\n",
        "train_datagen = ImageDataGenerator(\n",
        "    zoom_range=0.2,\n",
        "    horizontal_flip=True,\n",
        "    vertical_flip=True,\n",
        "    width_shift_range=0.2,\n",
        "    height_shift_range=0.2,\n",
        "    fill_mode=\"constant\",\n",
        "    rescale=1.0/255.0,\n",
        ")\n",
        "test_datagen = ImageDataGenerator(rescale=1.0/255)\n",
        "\n",
        "train_generator = train_datagen.flow_from_dataframe(dataframe=df_train,\n",
        "                                                    directory=\"./known_images\",\n",
        "                                                    x_col=\"images\",\n",
        "                                                    y_col=\"labels\",\n",
        "                                                    target_size=(IMG_HEIGHT, IMG_WIDTH),\n",
        "                                                    class_mode=\"binary\",\n",
        "                                                    batch_size=BATCH_SIZE)\n",
        "\n",
        "test_generator = test_datagen.flow_from_dataframe(dataframe=df_test,\n",
        "                                                  directory=\"./known_images\",\n",
        "                                                  x_col=\"images\",\n",
        "                                                  y_col=\"labels\",\n",
        "                                                  target_size=(IMG_HEIGHT, IMG_WIDTH),\n",
        "                                                  class_mode=\"binary\",\n",
        "                                                  shuffle=False,\n",
        "                                                  batch_size=BATCH_SIZE)\n",
        "\n",
        "val_generator = test_datagen.flow_from_dataframe(dataframe=df_val,\n",
        "                                                  directory=\"./known_images\",\n",
        "                                                  x_col=\"images\",\n",
        "                                                  y_col=\"labels\",\n",
        "                                                 target_size=(IMG_HEIGHT, IMG_WIDTH),\n",
        "                                                  class_mode=\"binary\",\n",
        "                                                 shuffle=False,\n",
        "                                                  batch_size=BATCH_SIZE)"
      ],
      "metadata": {
        "colab": {
          "base_uri": "https://localhost:8080/"
        },
        "id": "IzSCtZoAmxKZ",
        "outputId": "e5202762-4f8e-49cc-83e3-5ead6c132797"
      },
      "execution_count": 10,
      "outputs": [
        {
          "output_type": "stream",
          "name": "stdout",
          "text": [
            "Found 500 validated image filenames belonging to 2 classes.\n",
            "Found 144 validated image filenames belonging to 2 classes.\n",
            "Found 71 validated image filenames belonging to 2 classes.\n"
          ]
        }
      ]
    },
    {
      "cell_type": "markdown",
      "source": [
        "# Train the model"
      ],
      "metadata": {
        "id": "OH-EXboxm0Mj"
      }
    },
    {
      "cell_type": "markdown",
      "source": [
        "## Model Architecture"
      ],
      "metadata": {
        "id": "eiKhmlr8Stwr"
      }
    },
    {
      "cell_type": "code",
      "source": [
        "model = vgg16.VGG16(weights=\"imagenet\", include_top=False, input_tensor=layers.Input(shape=(IMG_HEIGHT, IMG_WIDTH, 3)))    \n",
        "model.summary()"
      ],
      "metadata": {
        "colab": {
          "base_uri": "https://localhost:8080/"
        },
        "id": "c5oyj8QQr8e5",
        "outputId": "4889790b-c9db-43b3-a799-30f319a940d4"
      },
      "execution_count": 12,
      "outputs": [
        {
          "output_type": "stream",
          "name": "stdout",
          "text": [
            "Downloading data from https://storage.googleapis.com/tensorflow/keras-applications/vgg16/vgg16_weights_tf_dim_ordering_tf_kernels_notop.h5\n",
            "58889256/58889256 [==============================] - 2s 0us/step\n",
            "Model: \"vgg16\"\n",
            "_________________________________________________________________\n",
            " Layer (type)                Output Shape              Param #   \n",
            "=================================================================\n",
            " input_1 (InputLayer)        [(None, 488, 395, 3)]     0         \n",
            "                                                                 \n",
            " block1_conv1 (Conv2D)       (None, 488, 395, 64)      1792      \n",
            "                                                                 \n",
            " block1_conv2 (Conv2D)       (None, 488, 395, 64)      36928     \n",
            "                                                                 \n",
            " block1_pool (MaxPooling2D)  (None, 244, 197, 64)      0         \n",
            "                                                                 \n",
            " block2_conv1 (Conv2D)       (None, 244, 197, 128)     73856     \n",
            "                                                                 \n",
            " block2_conv2 (Conv2D)       (None, 244, 197, 128)     147584    \n",
            "                                                                 \n",
            " block2_pool (MaxPooling2D)  (None, 122, 98, 128)      0         \n",
            "                                                                 \n",
            " block3_conv1 (Conv2D)       (None, 122, 98, 256)      295168    \n",
            "                                                                 \n",
            " block3_conv2 (Conv2D)       (None, 122, 98, 256)      590080    \n",
            "                                                                 \n",
            " block3_conv3 (Conv2D)       (None, 122, 98, 256)      590080    \n",
            "                                                                 \n",
            " block3_pool (MaxPooling2D)  (None, 61, 49, 256)       0         \n",
            "                                                                 \n",
            " block4_conv1 (Conv2D)       (None, 61, 49, 512)       1180160   \n",
            "                                                                 \n",
            " block4_conv2 (Conv2D)       (None, 61, 49, 512)       2359808   \n",
            "                                                                 \n",
            " block4_conv3 (Conv2D)       (None, 61, 49, 512)       2359808   \n",
            "                                                                 \n",
            " block4_pool (MaxPooling2D)  (None, 30, 24, 512)       0         \n",
            "                                                                 \n",
            " block5_conv1 (Conv2D)       (None, 30, 24, 512)       2359808   \n",
            "                                                                 \n",
            " block5_conv2 (Conv2D)       (None, 30, 24, 512)       2359808   \n",
            "                                                                 \n",
            " block5_conv3 (Conv2D)       (None, 30, 24, 512)       2359808   \n",
            "                                                                 \n",
            " block5_pool (MaxPooling2D)  (None, 15, 12, 512)       0         \n",
            "                                                                 \n",
            "=================================================================\n",
            "Total params: 14,714,688\n",
            "Trainable params: 14,714,688\n",
            "Non-trainable params: 0\n",
            "_________________________________________________________________\n"
          ]
        }
      ]
    },
    {
      "cell_type": "code",
      "source": [
        "for layer in model.layers[:13]:\n",
        "    layer.trainable = False\n",
        "\n",
        "flat1 = layers.pooling.GlobalMaxPooling2D()(model.layers[-1].output)\n",
        "class1 = layers.Dense(128, activation=\"relu\")(flat1)\n",
        "dropout = layers.Dropout(0.5)(class1)\n",
        "normalized = layers.BatchNormalization()(dropout)\n",
        "output = layers.Dense(1, activation=\"sigmoid\")(normalized)\n",
        "model = keras.models.Model(inputs=model.inputs, outputs=output)\n",
        "model.summary()\n"
      ],
      "metadata": {
        "colab": {
          "base_uri": "https://localhost:8080/"
        },
        "id": "SFveUrcy-ICZ",
        "outputId": "6c4aeee8-66a0-4c67-903f-95a1ddd7c75f"
      },
      "execution_count": 13,
      "outputs": [
        {
          "output_type": "stream",
          "name": "stdout",
          "text": [
            "Model: \"model\"\n",
            "_________________________________________________________________\n",
            " Layer (type)                Output Shape              Param #   \n",
            "=================================================================\n",
            " input_1 (InputLayer)        [(None, 488, 395, 3)]     0         \n",
            "                                                                 \n",
            " block1_conv1 (Conv2D)       (None, 488, 395, 64)      1792      \n",
            "                                                                 \n",
            " block1_conv2 (Conv2D)       (None, 488, 395, 64)      36928     \n",
            "                                                                 \n",
            " block1_pool (MaxPooling2D)  (None, 244, 197, 64)      0         \n",
            "                                                                 \n",
            " block2_conv1 (Conv2D)       (None, 244, 197, 128)     73856     \n",
            "                                                                 \n",
            " block2_conv2 (Conv2D)       (None, 244, 197, 128)     147584    \n",
            "                                                                 \n",
            " block2_pool (MaxPooling2D)  (None, 122, 98, 128)      0         \n",
            "                                                                 \n",
            " block3_conv1 (Conv2D)       (None, 122, 98, 256)      295168    \n",
            "                                                                 \n",
            " block3_conv2 (Conv2D)       (None, 122, 98, 256)      590080    \n",
            "                                                                 \n",
            " block3_conv3 (Conv2D)       (None, 122, 98, 256)      590080    \n",
            "                                                                 \n",
            " block3_pool (MaxPooling2D)  (None, 61, 49, 256)       0         \n",
            "                                                                 \n",
            " block4_conv1 (Conv2D)       (None, 61, 49, 512)       1180160   \n",
            "                                                                 \n",
            " block4_conv2 (Conv2D)       (None, 61, 49, 512)       2359808   \n",
            "                                                                 \n",
            " block4_conv3 (Conv2D)       (None, 61, 49, 512)       2359808   \n",
            "                                                                 \n",
            " block4_pool (MaxPooling2D)  (None, 30, 24, 512)       0         \n",
            "                                                                 \n",
            " block5_conv1 (Conv2D)       (None, 30, 24, 512)       2359808   \n",
            "                                                                 \n",
            " block5_conv2 (Conv2D)       (None, 30, 24, 512)       2359808   \n",
            "                                                                 \n",
            " block5_conv3 (Conv2D)       (None, 30, 24, 512)       2359808   \n",
            "                                                                 \n",
            " block5_pool (MaxPooling2D)  (None, 15, 12, 512)       0         \n",
            "                                                                 \n",
            " global_max_pooling2d (Globa  (None, 512)              0         \n",
            " lMaxPooling2D)                                                  \n",
            "                                                                 \n",
            " dense (Dense)               (None, 128)               65664     \n",
            "                                                                 \n",
            " dropout (Dropout)           (None, 128)               0         \n",
            "                                                                 \n",
            " batch_normalization (BatchN  (None, 128)              512       \n",
            " ormalization)                                                   \n",
            "                                                                 \n",
            " dense_1 (Dense)             (None, 1)                 129       \n",
            "                                                                 \n",
            "=================================================================\n",
            "Total params: 14,780,993\n",
            "Trainable params: 9,505,281\n",
            "Non-trainable params: 5,275,712\n",
            "_________________________________________________________________\n"
          ]
        }
      ]
    },
    {
      "cell_type": "markdown",
      "source": [
        "## Optimizer"
      ],
      "metadata": {
        "id": "IXb7JX1xSxts"
      }
    },
    {
      "cell_type": "code",
      "source": [
        "# optimizer\n",
        "opt = keras.optimizers.Adam(learning_rate=1e-4)\n",
        "model.compile(loss='binary_crossentropy', optimizer=opt, metrics=['accuracy'])\n",
        "\n",
        "checkpoint_filepath = './models/my_best_model.epoch{epoch:02d}-loss{val_loss:.2f}.hdf5'\n",
        "checkpoint = keras.callbacks.ModelCheckpoint(\n",
        "  filepath=checkpoint_filepath,\n",
        "  monitor='val_loss',\n",
        "  save_best_only=True, \n",
        "  mode='min'\n",
        ")\n",
        "\n",
        "callback_list = [checkpoint]"
      ],
      "metadata": {
        "id": "5EjZtrmFtTpj"
      },
      "execution_count": 14,
      "outputs": []
    },
    {
      "cell_type": "markdown",
      "source": [
        "## Training"
      ],
      "metadata": {
        "id": "tQ7K9wv3S0qk"
      }
    },
    {
      "cell_type": "code",
      "source": [
        "history = model.fit(train_generator,\n",
        "                    epochs=15,\n",
        "                    batch_size=BATCH_SIZE,\n",
        "                    validation_data=val_generator,\n",
        "                    callbacks=callback_list)"
      ],
      "metadata": {
        "colab": {
          "base_uri": "https://localhost:8080/"
        },
        "id": "LXlDhhfctqTU",
        "outputId": "cc15f8e8-646e-463b-f8c8-6247a3070567"
      },
      "execution_count": 16,
      "outputs": [
        {
          "output_type": "stream",
          "name": "stdout",
          "text": [
            "Epoch 1/15\n",
            "16/16 [==============================] - 39s 2s/step - loss: 0.5039 - accuracy: 0.7320 - val_loss: 0.3582 - val_accuracy: 0.8028\n",
            "Epoch 2/15\n",
            "16/16 [==============================] - 26s 2s/step - loss: 0.3017 - accuracy: 0.8700 - val_loss: 0.2626 - val_accuracy: 0.9437\n",
            "Epoch 3/15\n",
            "16/16 [==============================] - 27s 2s/step - loss: 0.1868 - accuracy: 0.9400 - val_loss: 0.3174 - val_accuracy: 0.8732\n",
            "Epoch 4/15\n",
            "16/16 [==============================] - 27s 2s/step - loss: 0.1549 - accuracy: 0.9440 - val_loss: 0.1340 - val_accuracy: 0.9718\n",
            "Epoch 5/15\n",
            "16/16 [==============================] - 26s 2s/step - loss: 0.1117 - accuracy: 0.9640 - val_loss: 0.1391 - val_accuracy: 0.9437\n",
            "Epoch 6/15\n",
            "16/16 [==============================] - 26s 2s/step - loss: 0.1380 - accuracy: 0.9640 - val_loss: 0.1493 - val_accuracy: 0.9437\n",
            "Epoch 7/15\n",
            "16/16 [==============================] - 26s 2s/step - loss: 0.1445 - accuracy: 0.9580 - val_loss: 0.1967 - val_accuracy: 0.9014\n",
            "Epoch 8/15\n",
            "16/16 [==============================] - 27s 2s/step - loss: 0.1360 - accuracy: 0.9420 - val_loss: 0.2361 - val_accuracy: 0.9014\n",
            "Epoch 9/15\n",
            "16/16 [==============================] - 26s 2s/step - loss: 0.0977 - accuracy: 0.9660 - val_loss: 0.1291 - val_accuracy: 0.9437\n",
            "Epoch 10/15\n",
            "16/16 [==============================] - 26s 2s/step - loss: 0.0961 - accuracy: 0.9680 - val_loss: 0.0885 - val_accuracy: 0.9718\n",
            "Epoch 11/15\n",
            "16/16 [==============================] - 26s 2s/step - loss: 0.0815 - accuracy: 0.9780 - val_loss: 0.0781 - val_accuracy: 0.9718\n",
            "Epoch 12/15\n",
            "16/16 [==============================] - 26s 2s/step - loss: 0.0446 - accuracy: 0.9960 - val_loss: 0.0961 - val_accuracy: 0.9718\n",
            "Epoch 13/15\n",
            "16/16 [==============================] - 25s 2s/step - loss: 0.0494 - accuracy: 0.9920 - val_loss: 0.0771 - val_accuracy: 0.9577\n",
            "Epoch 14/15\n",
            "16/16 [==============================] - 26s 2s/step - loss: 0.0646 - accuracy: 0.9820 - val_loss: 0.0726 - val_accuracy: 0.9718\n",
            "Epoch 15/15\n",
            "16/16 [==============================] - 26s 2s/step - loss: 0.0456 - accuracy: 0.9880 - val_loss: 0.2169 - val_accuracy: 0.9014\n"
          ]
        }
      ]
    },
    {
      "cell_type": "code",
      "source": [
        "print(history.history.keys())\n",
        "# summarize history for accuracy\n",
        "plt.plot(history.history['accuracy'])\n",
        "plt.plot(history.history['val_accuracy'])\n",
        "plt.title('model accuracy')\n",
        "plt.ylabel('accuracy')\n",
        "plt.xlabel('epoch')\n",
        "plt.legend(['train', 'val'], loc='upper left')\n",
        "plt.show()\n",
        "# summarize history for loss\n",
        "plt.plot(history.history['loss'])\n",
        "plt.plot(history.history['val_loss'])\n",
        "plt.title('model loss')\n",
        "plt.ylabel('loss')\n",
        "plt.xlabel('epoch')\n",
        "plt.legend(['train', 'val'], loc='upper left')\n",
        "plt.show()"
      ],
      "metadata": {
        "colab": {
          "base_uri": "https://localhost:8080/",
          "height": 944
        },
        "id": "9cgKF5sbuXQY",
        "outputId": "4c8b9a75-4a3b-41ba-a686-6bd7ac75de03"
      },
      "execution_count": 17,
      "outputs": [
        {
          "output_type": "stream",
          "name": "stdout",
          "text": [
            "dict_keys(['loss', 'accuracy', 'val_loss', 'val_accuracy'])\n"
          ]
        },
        {
          "output_type": "display_data",
          "data": {
            "text/plain": [
              "<Figure size 640x480 with 1 Axes>"
            ],
            "image/png": "[encoded data removed]"
          },
          "metadata": {}
        },
        {
          "output_type": "display_data",
          "data": {
            "text/plain": [
              "<Figure size 640x480 with 1 Axes>"
            ],
            "image/png": "[encoded data removed]"
          },
          "metadata": {}
        }
      ]
    },
    {
      "cell_type": "code",
      "source": [
        "from keras.models import load_model\n",
        "best_model = load_model(\"/content/transfer-learning-models/my_best_model.epoch14-loss0.07.hdf5\")"
      ],
      "metadata": {
        "id": "KK8gqKKi66k2"
      },
      "execution_count": 18,
      "outputs": []
    },
    {
      "cell_type": "code",
      "source": [
        "best_model.evaluate(test_generator)"
      ],
      "metadata": {
        "colab": {
          "base_uri": "https://localhost:8080/"
        },
        "id": "jxXJxwXFyrBf",
        "outputId": "65a21171-d42a-4f18-fe4c-af66af74c477"
      },
      "execution_count": 19,
      "outputs": [
        {
          "output_type": "stream",
          "name": "stdout",
          "text": [
            "5/5 [==============================] - 10s 2s/step - loss: 0.1477 - accuracy: 0.9583\n"
          ]
        },
        {
          "output_type": "execute_result",
          "data": {
            "text/plain": [
              "[0.14768701791763306, 0.9583333134651184]"
            ]
          },
          "metadata": {},
          "execution_count": 19
        }
      ]
    },
    {
      "cell_type": "code",
      "source": [
        "y_true = test_generator.classes"
      ],
      "metadata": {
        "id": "sOcNynUyy6sD"
      },
      "execution_count": 20,
      "outputs": []
    },
    {
      "cell_type": "code",
      "source": [
        "y_pred = best_model.predict(test_generator)"
      ],
      "metadata": {
        "colab": {
          "base_uri": "https://localhost:8080/"
        },
        "id": "Y38INNb9ywZm",
        "outputId": "f5487994-c357-4605-fb06-f360be042e4d"
      },
      "execution_count": 21,
      "outputs": [
        {
          "output_type": "stream",
          "name": "stdout",
          "text": [
            "5/5 [==============================] - 2s 498ms/step\n"
          ]
        }
      ]
    },
    {
      "cell_type": "code",
      "source": [
        "def threshold_predictions(predictions, threshold=0.5):\n",
        "  return [1 if i >= threshold else 0 for i in predictions]"
      ],
      "metadata": {
        "id": "HE7qeZ_pXOcq"
      },
      "execution_count": 22,
      "outputs": []
    },
    {
      "cell_type": "code",
      "source": [
        "y_pred = threshold_predictions(y_pred)"
      ],
      "metadata": {
        "id": "IHVYtQYVzApj"
      },
      "execution_count": 23,
      "outputs": []
    },
    {
      "cell_type": "code",
      "source": [
        "y_pred.count(0)"
      ],
      "metadata": {
        "colab": {
          "base_uri": "https://localhost:8080/"
        },
        "id": "qAcysBEG1i8o",
        "outputId": "dd28dc89-e4e4-4768-acb0-f5a074bbb054"
      },
      "execution_count": 24,
      "outputs": [
        {
          "output_type": "execute_result",
          "data": {
            "text/plain": [
              "79"
            ]
          },
          "metadata": {},
          "execution_count": 24
        }
      ]
    },
    {
      "cell_type": "code",
      "source": [
        "def plot_confusion_matrix(y_test, y_pred, labels):\n",
        "  \"\"\"\n",
        "    y_test: true y labels\n",
        "    y_pred: predicted y labels\n",
        "    labels: class labels\n",
        "  \"\"\"\n",
        "  disp = ConfusionMatrixDisplay.from_predictions(y_test,\n",
        "                                                 y_pred,\n",
        "                                                 display_labels=labels,\n",
        "                                                 cmap=\"Blues\")\n",
        "\n",
        "plot_confusion_matrix( y_true, y_pred, [\"Normal\", \"Sick\"])"
      ],
      "metadata": {
        "colab": {
          "base_uri": "https://localhost:8080/",
          "height": 449
        },
        "id": "yB54ZfryzGIj",
        "outputId": "c1e73fe4-5a18-42c9-be80-56f8e416e80d"
      },
      "execution_count": 25,
      "outputs": [
        {
          "output_type": "display_data",
          "data": {
            "text/plain": [
              "<Figure size 640x480 with 2 Axes>"
            ],
            "image/png": "[encoded data removed]"
          },
          "metadata": {}
        }
      ]
    },
    {
      "cell_type": "code",
      "source": [
        "# classification report\n",
        "print(classification_report(y_true, y_pred))"
      ],
      "metadata": {
        "colab": {
          "base_uri": "https://localhost:8080/"
        },
        "id": "ielVOOv7Y0oI",
        "outputId": "ef2c7cc6-da56-4882-8387-eb931a28ba26"
      },
      "execution_count": 26,
      "outputs": [
        {
          "output_type": "stream",
          "name": "stdout",
          "text": [
            "              precision    recall  f1-score   support\n",
            "\n",
            "           0       0.94      0.99      0.96        75\n",
            "           1       0.98      0.93      0.96        69\n",
            "\n",
            "    accuracy                           0.96       144\n",
            "   macro avg       0.96      0.96      0.96       144\n",
            "weighted avg       0.96      0.96      0.96       144\n",
            "\n"
          ]
        }
      ]
    },
    {
      "cell_type": "markdown",
      "source": [
        "# Test on unknown dataset"
      ],
      "metadata": {
        "id": "XgZ_4OWQ4vqi"
      }
    },
    {
      "cell_type": "code",
      "source": [
        "# unzip dataset from google drive\n",
        "!unzip /content/drive/MyDrive/Personal/Computer\\ Vision/dl_final_project/dataset2.zip"
      ],
      "metadata": {
        "id": "ZE65orHT0leb"
      },
      "execution_count": null,
      "outputs": []
    },
    {
      "cell_type": "code",
      "source": [
        "df2 = pd.read_csv(\"/content/drive/MyDrive/Personal/Computer Vision/dl_final_project/dataset2_image_classes.csv\")"
      ],
      "metadata": {
        "id": "Pi05bzfr40_t"
      },
      "execution_count": 28,
      "outputs": []
    },
    {
      "cell_type": "code",
      "source": [
        "df2.head()"
      ],
      "metadata": {
        "colab": {
          "base_uri": "https://localhost:8080/",
          "height": 206
        },
        "id": "-eREbRh85ul5",
        "outputId": "aff4e68f-9882-4094-d8b9-f05633319df6"
      },
      "execution_count": 29,
      "outputs": [
        {
          "output_type": "execute_result",
          "data": {
            "text/plain": [
              "    patient   diagnosis (0-Normal, 1-Sick)\n",
              "0  sick_eff0                             0\n",
              "1  sick_eff1                             0\n",
              "2  sick_eff2                             0\n",
              "3  sick_eff3                             0\n",
              "4  sick_eff4                             0"
            ],
            "text/html": [
              "\n",
              "  <div id=\"df-ddffad20-7744-40c4-b7e7-6a105016223c\">\n",
              "    <div class=\"colab-df-container\">\n",
              "      <div>\n",
              "<style scoped>\n",
              "    .dataframe tbody tr th:only-of-type {\n",
              "        vertical-align: middle;\n",
              "    }\n",
              "\n",
              "    .dataframe tbody tr th {\n",
              "        vertical-align: top;\n",
              "    }\n",
              "\n",
              "    .dataframe thead th {\n",
              "        text-align: right;\n",
              "    }\n",
              "</style>\n",
              "<table border=\"1\" class=\"dataframe\">\n",
              "  <thead>\n",
              "    <tr style=\"text-align: right;\">\n",
              "      <th></th>\n",
              "      <th>patient</th>\n",
              "      <th>diagnosis (0-Normal, 1-Sick)</th>\n",
              "    </tr>\n",
              "  </thead>\n",
              "  <tbody>\n",
              "    <tr>\n",
              "      <th>0</th>\n",
              "      <td>sick_eff0</td>\n",
              "      <td>0</td>\n",
              "    </tr>\n",
              "    <tr>\n",
              "      <th>1</th>\n",
              "      <td>sick_eff1</td>\n",
              "      <td>0</td>\n",
              "    </tr>\n",
              "    <tr>\n",
              "      <th>2</th>\n",
              "      <td>sick_eff2</td>\n",
              "      <td>0</td>\n",
              "    </tr>\n",
              "    <tr>\n",
              "      <th>3</th>\n",
              "      <td>sick_eff3</td>\n",
              "      <td>0</td>\n",
              "    </tr>\n",
              "    <tr>\n",
              "      <th>4</th>\n",
              "      <td>sick_eff4</td>\n",
              "      <td>0</td>\n",
              "    </tr>\n",
              "  </tbody>\n",
              "</table>\n",
              "</div>\n",
              "      <button class=\"colab-df-convert\" onclick=\"convertToInteractive('df-ddffad20-7744-40c4-b7e7-6a105016223c')\"\n",
              "              title=\"Convert this dataframe to an interactive table.\"\n",
              "              style=\"display:none;\">\n",
              "        \n",
              "  <svg xmlns=\"http://www.w3.org/2000/svg\" height=\"24px\"viewBox=\"0 0 24 24\"\n",
              "       width=\"24px\">\n",
              "    <path d=\"M0 0h24v24H0V0z\" fill=\"none\"/>\n",
              "    <path d=\"M18.56 5.44l.94 2.06.94-2.06 2.06-.94-2.06-.94-.94-2.06-.94 2.06-2.06.94zm-11 1L8.5 8.5l.94-2.06 2.06-.94-2.06-.94L8.5 2.5l-.94 2.06-2.06.94zm10 10l.94 2.06.94-2.06 2.06-.94-2.06-.94-.94-2.06-.94 2.06-2.06.94z\"/><path d=\"M17.41 7.96l-1.37-1.37c-.4-.4-.92-.59-1.43-.59-.52 0-1.04.2-1.43.59L10.3 9.45l-7.72 7.72c-.78.78-.78 2.05 0 2.83L4 21.41c.39.39.9.59 1.41.59.51 0 1.02-.2 1.41-.59l7.78-7.78 2.81-2.81c.8-.78.8-2.07 0-2.86zM5.41 20L4 18.59l7.72-7.72 1.47 1.35L5.41 20z\"/>\n",
              "  </svg>\n",
              "      </button>\n",
              "      \n",
              "  <style>\n",
              "    .colab-df-container {\n",
              "      display:flex;\n",
              "      flex-wrap:wrap;\n",
              "      gap: 12px;\n",
              "    }\n",
              "\n",
              "    .colab-df-convert {\n",
              "      background-color: #E8F0FE;\n",
              "      border: none;\n",
              "      border-radius: 50%;\n",
              "      cursor: pointer;\n",
              "      display: none;\n",
              "      fill: #1967D2;\n",
              "      height: 32px;\n",
              "      padding: 0 0 0 0;\n",
              "      width: 32px;\n",
              "    }\n",
              "\n",
              "    .colab-df-convert:hover {\n",
              "      background-color: #E2EBFA;\n",
              "      box-shadow: 0px 1px 2px rgba(60, 64, 67, 0.3), 0px 1px 3px 1px rgba(60, 64, 67, 0.15);\n",
              "      fill: #174EA6;\n",
              "    }\n",
              "\n",
              "    [theme=dark] .colab-df-convert {\n",
              "      background-color: #3B4455;\n",
              "      fill: #D2E3FC;\n",
              "    }\n",
              "\n",
              "    [theme=dark] .colab-df-convert:hover {\n",
              "      background-color: #434B5C;\n",
              "      box-shadow: 0px 1px 3px 1px rgba(0, 0, 0, 0.15);\n",
              "      filter: drop-shadow(0px 1px 2px rgba(0, 0, 0, 0.3));\n",
              "      fill: #FFFFFF;\n",
              "    }\n",
              "  </style>\n",
              "\n",
              "      <script>\n",
              "        const buttonEl =\n",
              "          document.querySelector('#df-ddffad20-7744-40c4-b7e7-6a105016223c button.colab-df-convert');\n",
              "        buttonEl.style.display =\n",
              "          google.colab.kernel.accessAllowed ? 'block' : 'none';\n",
              "\n",
              "        async function convertToInteractive(key) {\n",
              "          const element = document.querySelector('#df-ddffad20-7744-40c4-b7e7-6a105016223c');\n",
              "          const dataTable =\n",
              "            await google.colab.kernel.invokeFunction('convertToInteractive',\n",
              "                                                     [key], {});\n",
              "          if (!dataTable) return;\n",
              "\n",
              "          const docLinkHtml = 'Like what you see? Visit the ' +\n",
              "            '<a target=\"_blank\" href=https://colab.research.google.com/notebooks/data_table.ipynb>data table notebook</a>'\n",
              "            + ' to learn more about interactive tables.';\n",
              "          element.innerHTML = '';\n",
              "          dataTable['output_type'] = 'display_data';\n",
              "          await google.colab.output.renderOutput(dataTable, element);\n",
              "          const docLink = document.createElement('div');\n",
              "          docLink.innerHTML = docLinkHtml;\n",
              "          element.appendChild(docLink);\n",
              "        }\n",
              "      </script>\n",
              "    </div>\n",
              "  </div>\n",
              "  "
            ]
          },
          "metadata": {},
          "execution_count": 29
        }
      ]
    },
    {
      "cell_type": "code",
      "source": [
        "df2.keys()"
      ],
      "metadata": {
        "colab": {
          "base_uri": "https://localhost:8080/"
        },
        "id": "4f8O2Nnk6CBA",
        "outputId": "f0bfba3c-44f3-4a81-9854-7f560d3e22e4"
      },
      "execution_count": 30,
      "outputs": [
        {
          "output_type": "execute_result",
          "data": {
            "text/plain": [
              "Index(['patient ', 'diagnosis (0-Normal, 1-Sick)'], dtype='object')"
            ]
          },
          "metadata": {},
          "execution_count": 30
        }
      ]
    },
    {
      "cell_type": "code",
      "source": [
        "df2[\"patient \"] = df2[\"patient \"]+\".png\"\n",
        "df2[\"diagnosis (0-Normal, 1-Sick)\"] = df2[\"diagnosis (0-Normal, 1-Sick)\"].astype(str)\n",
        "df2.head()"
      ],
      "metadata": {
        "colab": {
          "base_uri": "https://localhost:8080/",
          "height": 206
        },
        "id": "kriGQqCa5ych",
        "outputId": "9f856384-60d3-4c84-dee8-e1bf83896015"
      },
      "execution_count": 31,
      "outputs": [
        {
          "output_type": "execute_result",
          "data": {
            "text/plain": [
              "        patient  diagnosis (0-Normal, 1-Sick)\n",
              "0  sick_eff0.png                            0\n",
              "1  sick_eff1.png                            0\n",
              "2  sick_eff2.png                            0\n",
              "3  sick_eff3.png                            0\n",
              "4  sick_eff4.png                            0"
            ],
            "text/html": [
              "\n",
              "  <div id=\"df-f99769f2-3fb5-44e6-bbec-cc8d7265d2cd\">\n",
              "    <div class=\"colab-df-container\">\n",
              "      <div>\n",
              "<style scoped>\n",
              "    .dataframe tbody tr th:only-of-type {\n",
              "        vertical-align: middle;\n",
              "    }\n",
              "\n",
              "    .dataframe tbody tr th {\n",
              "        vertical-align: top;\n",
              "    }\n",
              "\n",
              "    .dataframe thead th {\n",
              "        text-align: right;\n",
              "    }\n",
              "</style>\n",
              "<table border=\"1\" class=\"dataframe\">\n",
              "  <thead>\n",
              "    <tr style=\"text-align: right;\">\n",
              "      <th></th>\n",
              "      <th>patient</th>\n",
              "      <th>diagnosis (0-Normal, 1-Sick)</th>\n",
              "    </tr>\n",
              "  </thead>\n",
              "  <tbody>\n",
              "    <tr>\n",
              "      <th>0</th>\n",
              "      <td>sick_eff0.png</td>\n",
              "      <td>0</td>\n",
              "    </tr>\n",
              "    <tr>\n",
              "      <th>1</th>\n",
              "      <td>sick_eff1.png</td>\n",
              "      <td>0</td>\n",
              "    </tr>\n",
              "    <tr>\n",
              "      <th>2</th>\n",
              "      <td>sick_eff2.png</td>\n",
              "      <td>0</td>\n",
              "    </tr>\n",
              "    <tr>\n",
              "      <th>3</th>\n",
              "      <td>sick_eff3.png</td>\n",
              "      <td>0</td>\n",
              "    </tr>\n",
              "    <tr>\n",
              "      <th>4</th>\n",
              "      <td>sick_eff4.png</td>\n",
              "      <td>0</td>\n",
              "    </tr>\n",
              "  </tbody>\n",
              "</table>\n",
              "</div>\n",
              "      <button class=\"colab-df-convert\" onclick=\"convertToInteractive('df-f99769f2-3fb5-44e6-bbec-cc8d7265d2cd')\"\n",
              "              title=\"Convert this dataframe to an interactive table.\"\n",
              "              style=\"display:none;\">\n",
              "        \n",
              "  <svg xmlns=\"http://www.w3.org/2000/svg\" height=\"24px\"viewBox=\"0 0 24 24\"\n",
              "       width=\"24px\">\n",
              "    <path d=\"M0 0h24v24H0V0z\" fill=\"none\"/>\n",
              "    <path d=\"M18.56 5.44l.94 2.06.94-2.06 2.06-.94-2.06-.94-.94-2.06-.94 2.06-2.06.94zm-11 1L8.5 8.5l.94-2.06 2.06-.94-2.06-.94L8.5 2.5l-.94 2.06-2.06.94zm10 10l.94 2.06.94-2.06 2.06-.94-2.06-.94-.94-2.06-.94 2.06-2.06.94z\"/><path d=\"M17.41 7.96l-1.37-1.37c-.4-.4-.92-.59-1.43-.59-.52 0-1.04.2-1.43.59L10.3 9.45l-7.72 7.72c-.78.78-.78 2.05 0 2.83L4 21.41c.39.39.9.59 1.41.59.51 0 1.02-.2 1.41-.59l7.78-7.78 2.81-2.81c.8-.78.8-2.07 0-2.86zM5.41 20L4 18.59l7.72-7.72 1.47 1.35L5.41 20z\"/>\n",
              "  </svg>\n",
              "      </button>\n",
              "      \n",
              "  <style>\n",
              "    .colab-df-container {\n",
              "      display:flex;\n",
              "      flex-wrap:wrap;\n",
              "      gap: 12px;\n",
              "    }\n",
              "\n",
              "    .colab-df-convert {\n",
              "      background-color: #E8F0FE;\n",
              "      border: none;\n",
              "      border-radius: 50%;\n",
              "      cursor: pointer;\n",
              "      display: none;\n",
              "      fill: #1967D2;\n",
              "      height: 32px;\n",
              "      padding: 0 0 0 0;\n",
              "      width: 32px;\n",
              "    }\n",
              "\n",
              "    .colab-df-convert:hover {\n",
              "      background-color: #E2EBFA;\n",
              "      box-shadow: 0px 1px 2px rgba(60, 64, 67, 0.3), 0px 1px 3px 1px rgba(60, 64, 67, 0.15);\n",
              "      fill: #174EA6;\n",
              "    }\n",
              "\n",
              "    [theme=dark] .colab-df-convert {\n",
              "      background-color: #3B4455;\n",
              "      fill: #D2E3FC;\n",
              "    }\n",
              "\n",
              "    [theme=dark] .colab-df-convert:hover {\n",
              "      background-color: #434B5C;\n",
              "      box-shadow: 0px 1px 3px 1px rgba(0, 0, 0, 0.15);\n",
              "      filter: drop-shadow(0px 1px 2px rgba(0, 0, 0, 0.3));\n",
              "      fill: #FFFFFF;\n",
              "    }\n",
              "  </style>\n",
              "\n",
              "      <script>\n",
              "        const buttonEl =\n",
              "          document.querySelector('#df-f99769f2-3fb5-44e6-bbec-cc8d7265d2cd button.colab-df-convert');\n",
              "        buttonEl.style.display =\n",
              "          google.colab.kernel.accessAllowed ? 'block' : 'none';\n",
              "\n",
              "        async function convertToInteractive(key) {\n",
              "          const element = document.querySelector('#df-f99769f2-3fb5-44e6-bbec-cc8d7265d2cd');\n",
              "          const dataTable =\n",
              "            await google.colab.kernel.invokeFunction('convertToInteractive',\n",
              "                                                     [key], {});\n",
              "          if (!dataTable) return;\n",
              "\n",
              "          const docLinkHtml = 'Like what you see? Visit the ' +\n",
              "            '<a target=\"_blank\" href=https://colab.research.google.com/notebooks/data_table.ipynb>data table notebook</a>'\n",
              "            + ' to learn more about interactive tables.';\n",
              "          element.innerHTML = '';\n",
              "          dataTable['output_type'] = 'display_data';\n",
              "          await google.colab.output.renderOutput(dataTable, element);\n",
              "          const docLink = document.createElement('div');\n",
              "          docLink.innerHTML = docLinkHtml;\n",
              "          element.appendChild(docLink);\n",
              "        }\n",
              "      </script>\n",
              "    </div>\n",
              "  </div>\n",
              "  "
            ]
          },
          "metadata": {},
          "execution_count": 31
        }
      ]
    },
    {
      "cell_type": "code",
      "source": [
        "dataset2_generator = test_datagen.flow_from_dataframe(dataframe=df2,\n",
        "                                                      directory=\"./images\",\n",
        "                                                      x_col=\"patient \",\n",
        "                                                      y_col=\"diagnosis (0-Normal, 1-Sick)\",\n",
        "                                                      target_size=(IMG_HEIGHT, IMG_WIDTH),\n",
        "                                                      class_mode=\"binary\",\n",
        "                                                      shuffle=False,\n",
        "                                                      batch_size=32)"
      ],
      "metadata": {
        "colab": {
          "base_uri": "https://localhost:8080/"
        },
        "id": "gLR9xPTs5995",
        "outputId": "38d13f58-a224-47e6-f0f1-c56c8fd81650"
      },
      "execution_count": 32,
      "outputs": [
        {
          "output_type": "stream",
          "name": "stdout",
          "text": [
            "Found 224 validated image filenames belonging to 2 classes.\n"
          ]
        }
      ]
    },
    {
      "cell_type": "code",
      "source": [
        "best_model.evaluate(dataset2_generator)"
      ],
      "metadata": {
        "colab": {
          "base_uri": "https://localhost:8080/"
        },
        "id": "67zUFxhd6m1z",
        "outputId": "7f18de9b-5320-4bf6-dfdc-b3e961f50c73"
      },
      "execution_count": 33,
      "outputs": [
        {
          "output_type": "stream",
          "name": "stdout",
          "text": [
            "7/7 [==============================] - 4s 481ms/step - loss: 2.6814 - accuracy: 0.4821\n"
          ]
        },
        {
          "output_type": "execute_result",
          "data": {
            "text/plain": [
              "[2.681408166885376, 0.4821428656578064]"
            ]
          },
          "metadata": {},
          "execution_count": 33
        }
      ]
    },
    {
      "cell_type": "code",
      "source": [
        "y_true2 = dataset2_generator.classes\n",
        "y_pred2 = threshold_predictions(best_model.predict(dataset2_generator))"
      ],
      "metadata": {
        "colab": {
          "base_uri": "https://localhost:8080/"
        },
        "id": "qDpeHVryZ13F",
        "outputId": "ae1954c9-3c89-4f21-859a-8910b6644a79"
      },
      "execution_count": 34,
      "outputs": [
        {
          "output_type": "stream",
          "name": "stdout",
          "text": [
            "7/7 [==============================] - 3s 484ms/step\n"
          ]
        }
      ]
    },
    {
      "cell_type": "code",
      "source": [
        "plot_confusion_matrix( y_true2, y_pred2, [\"Normal\", \"Sick\"])\n",
        "print(classification_report(y_true2, y_pred2))"
      ],
      "metadata": {
        "colab": {
          "base_uri": "https://localhost:8080/",
          "height": 605
        },
        "id": "MDwFzB6DaBae",
        "outputId": "ee934c76-18ea-447e-cecf-ecfd08361849"
      },
      "execution_count": 35,
      "outputs": [
        {
          "output_type": "stream",
          "name": "stdout",
          "text": [
            "              precision    recall  f1-score   support\n",
            "\n",
            "           0       0.40      0.07      0.12       112\n",
            "           1       0.49      0.89      0.63       112\n",
            "\n",
            "    accuracy                           0.48       224\n",
            "   macro avg       0.45      0.48      0.38       224\n",
            "weighted avg       0.45      0.48      0.38       224\n",
            "\n"
          ]
        },
        {
          "output_type": "display_data",
          "data": {
            "text/plain": [
              "<Figure size 640x480 with 2 Axes>"
            ],
            "image/png": "[encoded data removed]"
          },
          "metadata": {}
        }
      ]
    },
    {
      "cell_type": "markdown",
      "source": [
        "# Evaluate on unknown images"
      ],
      "metadata": {
        "id": "_jIGpazd99v0"
      }
    },
    {
      "cell_type": "code",
      "source": [
        "!unzip /content/drive/MyDrive/Personal/Computer\\ Vision/dl_final_project/unknown_images.zip"
      ],
      "metadata": {
        "id": "EQCJU22064vE"
      },
      "execution_count": null,
      "outputs": []
    },
    {
      "cell_type": "code",
      "source": [
        "# image reader\n",
        "def read_image(path):\n",
        "  img = load_img(path, target_size=(IMG_HEIGHT, IMG_WIDTH))\n",
        "  img_reshaped = np.expand_dims(img, axis=0)\n",
        "  return test_datagen.flow(img_reshaped, batch_size=1)[0]"
      ],
      "metadata": {
        "id": "IrCFpwPuQ6EH"
      },
      "execution_count": 37,
      "outputs": []
    },
    {
      "cell_type": "code",
      "source": [
        "unknown_images = os.listdir(\"./unknown_images\")"
      ],
      "metadata": {
        "id": "gMf_a95X-MQX"
      },
      "execution_count": 38,
      "outputs": []
    },
    {
      "cell_type": "code",
      "source": [
        "read_image(os.path.join(\"./unknown_images\", unknown_images[0]))\n",
        "# predict classes for unknown images\n",
        "image_names = []\n",
        "image_predictions = []\n",
        "for img_name in unknown_images:\n",
        "  img = read_image(os.path.join(\"./unknown_images\", img_name))\n",
        "  prediction = threshold_predictions(best_model.predict(img)[0])[0]\n",
        "  image_names.append(img_name) \n",
        "  image_predictions.append(prediction) \n",
        "  print(f\"{img_name} - {prediction}\")"
      ],
      "metadata": {
        "colab": {
          "base_uri": "https://localhost:8080/"
        },
        "id": "w3vw2TPPVInN",
        "outputId": "3c599ac0-c3a5-408e-821f-e1be53fd8c13"
      },
      "execution_count": 39,
      "outputs": [
        {
          "output_type": "stream",
          "name": "stdout",
          "text": [
            "1/1 [==============================] - 1s 1s/step\n",
            "20.png - 1\n",
            "1/1 [==============================] - 0s 20ms/step\n",
            "9.png - 0\n",
            "1/1 [==============================] - 0s 26ms/step\n",
            "35.png - 0\n",
            "1/1 [==============================] - 0s 24ms/step\n",
            "22.png - 1\n",
            "1/1 [==============================] - 0s 22ms/step\n",
            "10.png - 1\n",
            "1/1 [==============================] - 0s 22ms/step\n",
            "7.png - 0\n",
            "1/1 [==============================] - 0s 23ms/step\n",
            "29.png - 0\n",
            "1/1 [==============================] - 0s 24ms/step\n",
            "27.png - 0\n",
            "1/1 [==============================] - 0s 23ms/step\n",
            "4.png - 1\n",
            "1/1 [==============================] - 0s 24ms/step\n",
            "12.png - 1\n",
            "1/1 [==============================] - 0s 26ms/step\n",
            "46.png - 1\n",
            "1/1 [==============================] - 0s 20ms/step\n",
            "24.png - 1\n",
            "1/1 [==============================] - 0s 24ms/step\n",
            "47.png - 0\n",
            "1/1 [==============================] - 0s 38ms/step\n",
            "40.png - 1\n",
            "1/1 [==============================] - 0s 37ms/step\n",
            "39.png - 0\n",
            "1/1 [==============================] - 0s 35ms/step\n",
            "17.png - 0\n",
            "1/1 [==============================] - 0s 30ms/step\n",
            "19.png - 0\n",
            "1/1 [==============================] - 0s 31ms/step\n",
            "28.png - 1\n",
            "1/1 [==============================] - 0s 31ms/step\n",
            "5.png - 0\n",
            "1/1 [==============================] - 0s 29ms/step\n",
            "18.png - 1\n",
            "1/1 [==============================] - 0s 28ms/step\n",
            "41.png - 0\n",
            "1/1 [==============================] - 0s 39ms/step\n",
            "1.png - 0\n",
            "1/1 [==============================] - 0s 31ms/step\n",
            "2.png - 0\n",
            "1/1 [==============================] - 0s 33ms/step\n",
            "3.png - 1\n",
            "1/1 [==============================] - 0s 29ms/step\n",
            "16.png - 1\n",
            "1/1 [==============================] - 0s 29ms/step\n",
            "33.png - 0\n",
            "1/1 [==============================] - 0s 38ms/step\n",
            "6.png - 1\n",
            "1/1 [==============================] - 0s 28ms/step\n",
            "45.png - 0\n",
            "1/1 [==============================] - 0s 36ms/step\n",
            "50.png - 1\n",
            "1/1 [==============================] - 0s 41ms/step\n",
            "42.png - 0\n",
            "1/1 [==============================] - 0s 33ms/step\n",
            "11.png - 0\n",
            "1/1 [==============================] - 0s 29ms/step\n",
            "26.png - 1\n",
            "1/1 [==============================] - 0s 33ms/step\n",
            "49.png - 0\n",
            "1/1 [==============================] - 0s 31ms/step\n",
            "25.png - 0\n",
            "1/1 [==============================] - 0s 36ms/step\n",
            "30.png - 1\n",
            "1/1 [==============================] - 0s 31ms/step\n",
            "13.png - 0\n",
            "1/1 [==============================] - 0s 29ms/step\n",
            "31.png - 0\n",
            "1/1 [==============================] - 0s 45ms/step\n",
            "32.png - 1\n",
            "1/1 [==============================] - 0s 30ms/step\n",
            "15.png - 0\n",
            "1/1 [==============================] - 0s 33ms/step\n",
            "37.png - 0\n",
            "1/1 [==============================] - 0s 28ms/step\n",
            "44.png - 1\n",
            "1/1 [==============================] - 0s 20ms/step\n",
            "34.png - 1\n",
            "1/1 [==============================] - 0s 26ms/step\n",
            "14.png - 0\n",
            "1/1 [==============================] - 0s 20ms/step\n",
            "48.png - 1\n",
            "1/1 [==============================] - 0s 23ms/step\n",
            "23.png - 0\n",
            "1/1 [==============================] - 0s 22ms/step\n",
            "43.png - 0\n",
            "1/1 [==============================] - 0s 30ms/step\n",
            "36.png - 1\n",
            "1/1 [==============================] - 0s 24ms/step\n",
            "21.png - 0\n",
            "1/1 [==============================] - 0s 22ms/step\n",
            "38.png - 1\n",
            "1/1 [==============================] - 0s 28ms/step\n",
            "8.png - 1\n"
          ]
        }
      ]
    },
    {
      "cell_type": "code",
      "source": [
        "image_predictions.count(0)"
      ],
      "metadata": {
        "colab": {
          "base_uri": "https://localhost:8080/"
        },
        "id": "WW2tKNhhEYZI",
        "outputId": "4c5dc422-3fdc-475f-a4e1-57d8ed01a38c"
      },
      "execution_count": 40,
      "outputs": [
        {
          "output_type": "execute_result",
          "data": {
            "text/plain": [
              "27"
            ]
          },
          "metadata": {},
          "execution_count": 40
        }
      ]
    },
    {
      "cell_type": "code",
      "source": [
        "image_predictions.count(1)"
      ],
      "metadata": {
        "id": "5TC4ef12Eh_T",
        "outputId": "da6cd5bb-1b3f-48cd-e631-f2b556ebaee6",
        "colab": {
          "base_uri": "https://localhost:8080/"
        }
      },
      "execution_count": 41,
      "outputs": [
        {
          "output_type": "execute_result",
          "data": {
            "text/plain": [
              "23"
            ]
          },
          "metadata": {},
          "execution_count": 41
        }
      ]
    },
    {
      "cell_type": "code",
      "source": [
        "image_prediction_classes=[\"normal\" if i == 0 else \"sick\" for i in image_predictions]"
      ],
      "metadata": {
        "id": "PsNu5cYuYI1F"
      },
      "execution_count": 42,
      "outputs": []
    },
    {
      "cell_type": "code",
      "source": [
        "unknown_preds_df = pd.DataFrame({\"image\":image_names,\n",
        "                                 \"diagnosis\": image_prediction_classes })"
      ],
      "metadata": {
        "id": "-x9UvlVi7qId"
      },
      "execution_count": 43,
      "outputs": []
    },
    {
      "cell_type": "code",
      "source": [
        "unknown_preds_df.head()"
      ],
      "metadata": {
        "colab": {
          "base_uri": "https://localhost:8080/",
          "height": 206
        },
        "id": "OLx0891rYY25",
        "outputId": "1da84fb9-742b-4cba-cc58-2cb126304ffd"
      },
      "execution_count": 44,
      "outputs": [
        {
          "output_type": "execute_result",
          "data": {
            "text/plain": [
              "    image diagnosis\n",
              "0  20.png      sick\n",
              "1   9.png    normal\n",
              "2  35.png    normal\n",
              "3  22.png      sick\n",
              "4  10.png      sick"
            ],
            "text/html": [
              "\n",
              "  <div id=\"df-20d371ef-0714-4e43-9f96-6be539f3512b\">\n",
              "    <div class=\"colab-df-container\">\n",
              "      <div>\n",
              "<style scoped>\n",
              "    .dataframe tbody tr th:only-of-type {\n",
              "        vertical-align: middle;\n",
              "    }\n",
              "\n",
              "    .dataframe tbody tr th {\n",
              "        vertical-align: top;\n",
              "    }\n",
              "\n",
              "    .dataframe thead th {\n",
              "        text-align: right;\n",
              "    }\n",
              "</style>\n",
              "<table border=\"1\" class=\"dataframe\">\n",
              "  <thead>\n",
              "    <tr style=\"text-align: right;\">\n",
              "      <th></th>\n",
              "      <th>image</th>\n",
              "      <th>diagnosis</th>\n",
              "    </tr>\n",
              "  </thead>\n",
              "  <tbody>\n",
              "    <tr>\n",
              "      <th>0</th>\n",
              "      <td>20.png</td>\n",
              "      <td>sick</td>\n",
              "    </tr>\n",
              "    <tr>\n",
              "      <th>1</th>\n",
              "      <td>9.png</td>\n",
              "      <td>normal</td>\n",
              "    </tr>\n",
              "    <tr>\n",
              "      <th>2</th>\n",
              "      <td>35.png</td>\n",
              "      <td>normal</td>\n",
              "    </tr>\n",
              "    <tr>\n",
              "      <th>3</th>\n",
              "      <td>22.png</td>\n",
              "      <td>sick</td>\n",
              "    </tr>\n",
              "    <tr>\n",
              "      <th>4</th>\n",
              "      <td>10.png</td>\n",
              "      <td>sick</td>\n",
              "    </tr>\n",
              "  </tbody>\n",
              "</table>\n",
              "</div>\n",
              "      <button class=\"colab-df-convert\" onclick=\"convertToInteractive('df-20d371ef-0714-4e43-9f96-6be539f3512b')\"\n",
              "              title=\"Convert this dataframe to an interactive table.\"\n",
              "              style=\"display:none;\">\n",
              "        \n",
              "  <svg xmlns=\"http://www.w3.org/2000/svg\" height=\"24px\"viewBox=\"0 0 24 24\"\n",
              "       width=\"24px\">\n",
              "    <path d=\"M0 0h24v24H0V0z\" fill=\"none\"/>\n",
              "    <path d=\"M18.56 5.44l.94 2.06.94-2.06 2.06-.94-2.06-.94-.94-2.06-.94 2.06-2.06.94zm-11 1L8.5 8.5l.94-2.06 2.06-.94-2.06-.94L8.5 2.5l-.94 2.06-2.06.94zm10 10l.94 2.06.94-2.06 2.06-.94-2.06-.94-.94-2.06-.94 2.06-2.06.94z\"/><path d=\"M17.41 7.96l-1.37-1.37c-.4-.4-.92-.59-1.43-.59-.52 0-1.04.2-1.43.59L10.3 9.45l-7.72 7.72c-.78.78-.78 2.05 0 2.83L4 21.41c.39.39.9.59 1.41.59.51 0 1.02-.2 1.41-.59l7.78-7.78 2.81-2.81c.8-.78.8-2.07 0-2.86zM5.41 20L4 18.59l7.72-7.72 1.47 1.35L5.41 20z\"/>\n",
              "  </svg>\n",
              "      </button>\n",
              "      \n",
              "  <style>\n",
              "    .colab-df-container {\n",
              "      display:flex;\n",
              "      flex-wrap:wrap;\n",
              "      gap: 12px;\n",
              "    }\n",
              "\n",
              "    .colab-df-convert {\n",
              "      background-color: #E8F0FE;\n",
              "      border: none;\n",
              "      border-radius: 50%;\n",
              "      cursor: pointer;\n",
              "      display: none;\n",
              "      fill: #1967D2;\n",
              "      height: 32px;\n",
              "      padding: 0 0 0 0;\n",
              "      width: 32px;\n",
              "    }\n",
              "\n",
              "    .colab-df-convert:hover {\n",
              "      background-color: #E2EBFA;\n",
              "      box-shadow: 0px 1px 2px rgba(60, 64, 67, 0.3), 0px 1px 3px 1px rgba(60, 64, 67, 0.15);\n",
              "      fill: #174EA6;\n",
              "    }\n",
              "\n",
              "    [theme=dark] .colab-df-convert {\n",
              "      background-color: #3B4455;\n",
              "      fill: #D2E3FC;\n",
              "    }\n",
              "\n",
              "    [theme=dark] .colab-df-convert:hover {\n",
              "      background-color: #434B5C;\n",
              "      box-shadow: 0px 1px 3px 1px rgba(0, 0, 0, 0.15);\n",
              "      filter: drop-shadow(0px 1px 2px rgba(0, 0, 0, 0.3));\n",
              "      fill: #FFFFFF;\n",
              "    }\n",
              "  </style>\n",
              "\n",
              "      <script>\n",
              "        const buttonEl =\n",
              "          document.querySelector('#df-20d371ef-0714-4e43-9f96-6be539f3512b button.colab-df-convert');\n",
              "        buttonEl.style.display =\n",
              "          google.colab.kernel.accessAllowed ? 'block' : 'none';\n",
              "\n",
              "        async function convertToInteractive(key) {\n",
              "          const element = document.querySelector('#df-20d371ef-0714-4e43-9f96-6be539f3512b');\n",
              "          const dataTable =\n",
              "            await google.colab.kernel.invokeFunction('convertToInteractive',\n",
              "                                                     [key], {});\n",
              "          if (!dataTable) return;\n",
              "\n",
              "          const docLinkHtml = 'Like what you see? Visit the ' +\n",
              "            '<a target=\"_blank\" href=https://colab.research.google.com/notebooks/data_table.ipynb>data table notebook</a>'\n",
              "            + ' to learn more about interactive tables.';\n",
              "          element.innerHTML = '';\n",
              "          dataTable['output_type'] = 'display_data';\n",
              "          await google.colab.output.renderOutput(dataTable, element);\n",
              "          const docLink = document.createElement('div');\n",
              "          docLink.innerHTML = docLinkHtml;\n",
              "          element.appendChild(docLink);\n",
              "        }\n",
              "      </script>\n",
              "    </div>\n",
              "  </div>\n",
              "  "
            ]
          },
          "metadata": {},
          "execution_count": 44
        }
      ]
    },
    {
      "cell_type": "code",
      "source": [
        "# export predictions\n",
        "unknown_preds_df.to_csv(\"nb2-unknown-preds.csv\")"
      ],
      "metadata": {
        "id": "hfaVUS85YcdG"
      },
      "execution_count": 45,
      "outputs": []
    },
    {
      "cell_type": "code",
      "source": [
        "!cp -r /content/nb3-experiment1 /content/drive/MyDrive/Personal/Computer\\ Vision/dl_final_project/models"
      ],
      "metadata": {
        "id": "w9FIACgD80Xc"
      },
      "execution_count": null,
      "outputs": []
    },
    {
      "cell_type": "code",
      "source": [],
      "metadata": {
        "id": "0GM2KxAf9IWo"
      },
      "execution_count": null,
      "outputs": []
    }
  ]
}