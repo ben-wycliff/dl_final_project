{
  "nbformat": 4,
  "nbformat_minor": 0,
  "metadata": {
    "colab": {
      "provenance": [],
      "collapsed_sections": [
        "F4IbnM7DfY49"
      ],
      "authorship_tag": "ABX9TyPyftU7IldOpa04AkgZe/gg",
      "include_colab_link": true
    },
    "kernelspec": {
      "name": "python3",
      "display_name": "Python 3"
    },
    "language_info": {
      "name": "python"
    },
    "accelerator": "GPU",
    "gpuClass": "standard"
  },
  "cells": [
    {
      "cell_type": "markdown",
      "metadata": {
        "id": "view-in-github",
        "colab_type": "text"
      },
      "source": [
        "<a href=\"https://colab.research.google.com/github/ben-wycliff/dl_final_project/blob/main/nb2_with_dataaugmentation_and_regularization.ipynb\" target=\"_parent\"><img src=\"https://colab.research.google.com/assets/colab-badge.svg\" alt=\"Open In Colab\"/></a>"
      ]
    },
    {
      "cell_type": "markdown",
      "source": [
        "# Setting Up"
      ],
      "metadata": {
        "id": "F4IbnM7DfY49"
      }
    },
    {
      "cell_type": "code",
      "source": [
        "from google.colab import drive\n",
        "drive.mount('/content/drive')"
      ],
      "metadata": {
        "colab": {
          "base_uri": "https://localhost:8080/"
        },
        "id": "z8JFXTkifjWP",
        "outputId": "f8674437-b7ff-4c4e-9f66-ac1c700583f0"
      },
      "execution_count": 2,
      "outputs": [
        {
          "output_type": "stream",
          "name": "stdout",
          "text": [
            "Mounted at /content/drive\n"
          ]
        }
      ]
    },
    {
      "cell_type": "code",
      "source": [
        "# unzip dataset from google drive\n",
        "!unzip /content/drive/MyDrive/Personal/Computer\\ Vision/dl_final_project/known_images.zip"
      ],
      "metadata": {
        "id": "tdKP40xpfk7x"
      },
      "execution_count": null,
      "outputs": []
    },
    {
      "cell_type": "markdown",
      "source": [
        "# Imports"
      ],
      "metadata": {
        "id": "jC1eLWwySN6b"
      }
    },
    {
      "cell_type": "code",
      "source": [
        "import os\n",
        "import pandas as pd\n",
        "import matplotlib.pyplot as plt\n",
        "import numpy as np\n",
        "\n",
        "from sklearn.model_selection import train_test_split\n",
        "from sklearn.metrics import (ConfusionMatrixDisplay,\n",
        "                             classification_report)\n",
        "\n",
        "import keras\n",
        "from keras import layers\n",
        "from keras.preprocessing.image import ImageDataGenerator\n",
        "from keras.utils import (img_to_array, load_img)"
      ],
      "metadata": {
        "id": "lrCBBY2SSNQb"
      },
      "execution_count": 72,
      "outputs": []
    },
    {
      "cell_type": "markdown",
      "source": [
        "# Constants"
      ],
      "metadata": {
        "id": "k358bhNjS5zx"
      }
    },
    {
      "cell_type": "code",
      "source": [
        "BATCH_SIZE = 32,\n",
        "INPUT_SIZE = (391, 488)"
      ],
      "metadata": {
        "id": "6fKSNlYMS7oj"
      },
      "execution_count": 65,
      "outputs": []
    },
    {
      "cell_type": "markdown",
      "source": [
        "# Prepare Dataset"
      ],
      "metadata": {
        "id": "Ecno52Zqf2Tc"
      }
    },
    {
      "cell_type": "code",
      "source": [
        "# create dataframe\n",
        "images = os.listdir(\"./known_images\")\n",
        "labels = [\"0\" if \"normal\" in i  else \"1\" for i in images]\n",
        "df = pd.DataFrame({\n",
        "    \"images\": images,\n",
        "    \"labels\": labels\n",
        "})\n",
        "df.to_csv(\"dataset.csv\")\n",
        "df.head(10) # all sick images are labelled 1 while normal images are labelled 2"
      ],
      "metadata": {
        "colab": {
          "base_uri": "https://localhost:8080/",
          "height": 363
        },
        "id": "wefc-XCLf_NS",
        "outputId": "740c20d7-db2e-4045-9086-c28e5f4419fb"
      },
      "execution_count": 11,
      "outputs": [
        {
          "output_type": "execute_result",
          "data": {
            "text/plain": [
              "           images labels\n",
              "0    sick_272.png      1\n",
              "1    sick_292.png      1\n",
              "2    sick_144.png      1\n",
              "3     sick_50.png      1\n",
              "4   normal_95.png      0\n",
              "5     sick_92.png      1\n",
              "6  normal_210.png      0\n",
              "7  normal_253.png      0\n",
              "8     sick_12.png      1\n",
              "9   normal_71.png      0"
            ],
            "text/html": [
              "\n",
              "  <div id=\"df-a452ea0c-f94e-4ce7-896e-56c322b4798b\">\n",
              "    <div class=\"colab-df-container\">\n",
              "      <div>\n",
              "<style scoped>\n",
              "    .dataframe tbody tr th:only-of-type {\n",
              "        vertical-align: middle;\n",
              "    }\n",
              "\n",
              "    .dataframe tbody tr th {\n",
              "        vertical-align: top;\n",
              "    }\n",
              "\n",
              "    .dataframe thead th {\n",
              "        text-align: right;\n",
              "    }\n",
              "</style>\n",
              "<table border=\"1\" class=\"dataframe\">\n",
              "  <thead>\n",
              "    <tr style=\"text-align: right;\">\n",
              "      <th></th>\n",
              "      <th>images</th>\n",
              "      <th>labels</th>\n",
              "    </tr>\n",
              "  </thead>\n",
              "  <tbody>\n",
              "    <tr>\n",
              "      <th>0</th>\n",
              "      <td>sick_272.png</td>\n",
              "      <td>1</td>\n",
              "    </tr>\n",
              "    <tr>\n",
              "      <th>1</th>\n",
              "      <td>sick_292.png</td>\n",
              "      <td>1</td>\n",
              "    </tr>\n",
              "    <tr>\n",
              "      <th>2</th>\n",
              "      <td>sick_144.png</td>\n",
              "      <td>1</td>\n",
              "    </tr>\n",
              "    <tr>\n",
              "      <th>3</th>\n",
              "      <td>sick_50.png</td>\n",
              "      <td>1</td>\n",
              "    </tr>\n",
              "    <tr>\n",
              "      <th>4</th>\n",
              "      <td>normal_95.png</td>\n",
              "      <td>0</td>\n",
              "    </tr>\n",
              "    <tr>\n",
              "      <th>5</th>\n",
              "      <td>sick_92.png</td>\n",
              "      <td>1</td>\n",
              "    </tr>\n",
              "    <tr>\n",
              "      <th>6</th>\n",
              "      <td>normal_210.png</td>\n",
              "      <td>0</td>\n",
              "    </tr>\n",
              "    <tr>\n",
              "      <th>7</th>\n",
              "      <td>normal_253.png</td>\n",
              "      <td>0</td>\n",
              "    </tr>\n",
              "    <tr>\n",
              "      <th>8</th>\n",
              "      <td>sick_12.png</td>\n",
              "      <td>1</td>\n",
              "    </tr>\n",
              "    <tr>\n",
              "      <th>9</th>\n",
              "      <td>normal_71.png</td>\n",
              "      <td>0</td>\n",
              "    </tr>\n",
              "  </tbody>\n",
              "</table>\n",
              "</div>\n",
              "      <button class=\"colab-df-convert\" onclick=\"convertToInteractive('df-a452ea0c-f94e-4ce7-896e-56c322b4798b')\"\n",
              "              title=\"Convert this dataframe to an interactive table.\"\n",
              "              style=\"display:none;\">\n",
              "        \n",
              "  <svg xmlns=\"http://www.w3.org/2000/svg\" height=\"24px\"viewBox=\"0 0 24 24\"\n",
              "       width=\"24px\">\n",
              "    <path d=\"M0 0h24v24H0V0z\" fill=\"none\"/>\n",
              "    <path d=\"M18.56 5.44l.94 2.06.94-2.06 2.06-.94-2.06-.94-.94-2.06-.94 2.06-2.06.94zm-11 1L8.5 8.5l.94-2.06 2.06-.94-2.06-.94L8.5 2.5l-.94 2.06-2.06.94zm10 10l.94 2.06.94-2.06 2.06-.94-2.06-.94-.94-2.06-.94 2.06-2.06.94z\"/><path d=\"M17.41 7.96l-1.37-1.37c-.4-.4-.92-.59-1.43-.59-.52 0-1.04.2-1.43.59L10.3 9.45l-7.72 7.72c-.78.78-.78 2.05 0 2.83L4 21.41c.39.39.9.59 1.41.59.51 0 1.02-.2 1.41-.59l7.78-7.78 2.81-2.81c.8-.78.8-2.07 0-2.86zM5.41 20L4 18.59l7.72-7.72 1.47 1.35L5.41 20z\"/>\n",
              "  </svg>\n",
              "      </button>\n",
              "      \n",
              "  <style>\n",
              "    .colab-df-container {\n",
              "      display:flex;\n",
              "      flex-wrap:wrap;\n",
              "      gap: 12px;\n",
              "    }\n",
              "\n",
              "    .colab-df-convert {\n",
              "      background-color: #E8F0FE;\n",
              "      border: none;\n",
              "      border-radius: 50%;\n",
              "      cursor: pointer;\n",
              "      display: none;\n",
              "      fill: #1967D2;\n",
              "      height: 32px;\n",
              "      padding: 0 0 0 0;\n",
              "      width: 32px;\n",
              "    }\n",
              "\n",
              "    .colab-df-convert:hover {\n",
              "      background-color: #E2EBFA;\n",
              "      box-shadow: 0px 1px 2px rgba(60, 64, 67, 0.3), 0px 1px 3px 1px rgba(60, 64, 67, 0.15);\n",
              "      fill: #174EA6;\n",
              "    }\n",
              "\n",
              "    [theme=dark] .colab-df-convert {\n",
              "      background-color: #3B4455;\n",
              "      fill: #D2E3FC;\n",
              "    }\n",
              "\n",
              "    [theme=dark] .colab-df-convert:hover {\n",
              "      background-color: #434B5C;\n",
              "      box-shadow: 0px 1px 3px 1px rgba(0, 0, 0, 0.15);\n",
              "      filter: drop-shadow(0px 1px 2px rgba(0, 0, 0, 0.3));\n",
              "      fill: #FFFFFF;\n",
              "    }\n",
              "  </style>\n",
              "\n",
              "      <script>\n",
              "        const buttonEl =\n",
              "          document.querySelector('#df-a452ea0c-f94e-4ce7-896e-56c322b4798b button.colab-df-convert');\n",
              "        buttonEl.style.display =\n",
              "          google.colab.kernel.accessAllowed ? 'block' : 'none';\n",
              "\n",
              "        async function convertToInteractive(key) {\n",
              "          const element = document.querySelector('#df-a452ea0c-f94e-4ce7-896e-56c322b4798b');\n",
              "          const dataTable =\n",
              "            await google.colab.kernel.invokeFunction('convertToInteractive',\n",
              "                                                     [key], {});\n",
              "          if (!dataTable) return;\n",
              "\n",
              "          const docLinkHtml = 'Like what you see? Visit the ' +\n",
              "            '<a target=\"_blank\" href=https://colab.research.google.com/notebooks/data_table.ipynb>data table notebook</a>'\n",
              "            + ' to learn more about interactive tables.';\n",
              "          element.innerHTML = '';\n",
              "          dataTable['output_type'] = 'display_data';\n",
              "          await google.colab.output.renderOutput(dataTable, element);\n",
              "          const docLink = document.createElement('div');\n",
              "          docLink.innerHTML = docLinkHtml;\n",
              "          element.appendChild(docLink);\n",
              "        }\n",
              "      </script>\n",
              "    </div>\n",
              "  </div>\n",
              "  "
            ]
          },
          "metadata": {},
          "execution_count": 11
        }
      ]
    },
    {
      "cell_type": "code",
      "source": [
        "# From this plot we see the number of images is fairly\n",
        "# distributed between the two classes\n",
        "df.labels.value_counts().plot(kind=\"bar\"); \n",
        "plt.title(\"Number of images per class\")\n",
        "plt.xticks(ticks=[0,1],labels=[\"normal\", \"sick\"], rotation=0)\n",
        "plt.ylabel(\"Number of images\")\n",
        "plt.xlabel(\"Class\")\n",
        "plt.show()"
      ],
      "metadata": {
        "colab": {
          "base_uri": "https://localhost:8080/",
          "height": 472
        },
        "id": "eEpUGYWNjzK6",
        "outputId": "c4c2f323-ef99-4a34-a545-22b7fe711ce3"
      },
      "execution_count": 12,
      "outputs": [
        {
          "output_type": "display_data",
          "data": {
            "text/plain": [
              "<Figure size 640x480 with 1 Axes>"
            ],
            "image/png": "[encoded data removed]"
          },
          "metadata": {}
        }
      ]
    },
    {
      "cell_type": "code",
      "source": [
        "df = pd.read_csv(\"/content/drive/MyDrive/Personal/Computer Vision/dl_final_project/dataset.csv\")\n",
        "df[\"labels\"] = df[\"labels\"].astype(str)"
      ],
      "metadata": {
        "id": "TwWgC8PcL9mJ"
      },
      "execution_count": 20,
      "outputs": []
    },
    {
      "cell_type": "code",
      "source": [
        "# create dataset splits\n",
        "df_train, df_eval = train_test_split(df, test_size=0.3, random_state=42)\n",
        "df_test, df_val = train_test_split(df_eval, test_size=0.33, random_state=42)"
      ],
      "metadata": {
        "id": "R-HvHmaLip4I"
      },
      "execution_count": 21,
      "outputs": []
    },
    {
      "cell_type": "code",
      "source": [
        "# subplot the partitioning results\n",
        "print(\"\\nTrain partition:\\n\", df_train.labels.value_counts())\n",
        "print(\"\\nTest partition:\\n\", df_test.labels.value_counts())\n",
        "print(\"\\nValidation partition:\\n\", df_val.labels.value_counts())"
      ],
      "metadata": {
        "colab": {
          "base_uri": "https://localhost:8080/"
        },
        "id": "xwb6Nbbum67H",
        "outputId": "713c92f5-92fa-4c42-adfc-4bd47d047b48"
      },
      "execution_count": 22,
      "outputs": [
        {
          "output_type": "stream",
          "name": "stdout",
          "text": [
            "\n",
            "Train partition:\n",
            " 0    253\n",
            "1    247\n",
            "Name: labels, dtype: int64\n",
            "\n",
            "Test partition:\n",
            " 0    75\n",
            "1    69\n",
            "Name: labels, dtype: int64\n",
            "\n",
            "Validation partition:\n",
            " 0    36\n",
            "1    35\n",
            "Name: labels, dtype: int64\n"
          ]
        }
      ]
    },
    {
      "cell_type": "code",
      "source": [
        "# create data generators\n",
        "train_datagen = ImageDataGenerator(\n",
        "    zoom_range=0.2,\n",
        "    horizontal_flip=True,\n",
        "    vertical_flip=True,\n",
        "    width_shift_range=0.2,\n",
        "    height_shift_range=0.2,\n",
        "    fill_mode=\"constant\",\n",
        "    rescale=1.0/255.0,\n",
        ")\n",
        "test_datagen = ImageDataGenerator(rescale=1.0/255)\n",
        "\n",
        "train_generator = train_datagen.flow_from_dataframe(dataframe=df_train,\n",
        "                                                    directory=\"./known_images\",\n",
        "                                                    x_col=\"images\",\n",
        "                                                    y_col=\"labels\",\n",
        "                                                    target_size=INPUT_SIZE,\n",
        "                                                    class_mode=\"binary\",\n",
        "                                                    batch_size=BATCH_SIZE)\n",
        "\n",
        "test_generator = test_datagen.flow_from_dataframe(dataframe=df_test,\n",
        "                                                  directory=\"./known_images\",\n",
        "                                                  x_col=\"images\",\n",
        "                                                  y_col=\"labels\",\n",
        "                                                  target_size=INPUT_SIZE,\n",
        "                                                  class_mode=\"binary\",\n",
        "                                                  shuffle=False,\n",
        "                                                  batch_size=BATCH_SIZE)\n",
        "\n",
        "val_generator = test_datagen.flow_from_dataframe(dataframe=df_val,\n",
        "                                                  directory=\"./known_images\",\n",
        "                                                  x_col=\"images\",\n",
        "                                                  y_col=\"labels\",\n",
        "                                                 target_size=INPUT_SIZE,\n",
        "                                                  class_mode=\"binary\",\n",
        "                                                 shuffle=False,\n",
        "                                                  batch_size=BATCH_SIZE)"
      ],
      "metadata": {
        "colab": {
          "base_uri": "https://localhost:8080/"
        },
        "id": "IzSCtZoAmxKZ",
        "outputId": "e54aff02-751e-4761-adf1-9bb797497100"
      },
      "execution_count": 26,
      "outputs": [
        {
          "output_type": "stream",
          "name": "stdout",
          "text": [
            "Found 500 validated image filenames belonging to 2 classes.\n",
            "Found 144 validated image filenames belonging to 2 classes.\n",
            "Found 71 validated image filenames belonging to 2 classes.\n"
          ]
        }
      ]
    },
    {
      "cell_type": "markdown",
      "source": [
        "# Train the model"
      ],
      "metadata": {
        "id": "OH-EXboxm0Mj"
      }
    },
    {
      "cell_type": "markdown",
      "source": [
        "## Model Architecture"
      ],
      "metadata": {
        "id": "eiKhmlr8Stwr"
      }
    },
    {
      "cell_type": "code",
      "source": [
        "model = keras.Sequential(\n",
        "    [\n",
        "      layers.Conv2D(32, (3,3), activation=\"relu\", input_shape=(391, 488, 3)),\n",
        "      layers.MaxPooling2D((2,2)),\n",
        "      layers.Conv2D(64, (3,3), activation=\"relu\"),\n",
        "      layers.MaxPooling2D((2,2)),\n",
        "      layers.Conv2D(64, (3,3), activation=\"relu\"),\n",
        "      layers.MaxPooling2D((2,2)),\n",
        "      layers.Conv2D(128, (3,3), activation=\"relu\"),\n",
        "      layers.MaxPooling2D((2,2)),\n",
        "      layers.Conv2D(128, (3,3), activation=\"relu\"),\n",
        "      layers.MaxPooling2D((2,2)),\n",
        "      layers.Conv2D(256, (3,3), activation=\"relu\"),\n",
        "      layers.MaxPooling2D((2,2)),\n",
        "      layers.Flatten(),\n",
        "      layers.Dense(256, activation=\"relu\"),\n",
        "      layers.Dropout(0.6),\n",
        "      layers.Dense(32, activation=\"relu\"),\n",
        "      layers.Dense(1, activation=\"sigmoid\")\n",
        "    ]\n",
        ")\n",
        "model.summary()"
      ],
      "metadata": {
        "colab": {
          "base_uri": "https://localhost:8080/"
        },
        "id": "c5oyj8QQr8e5",
        "outputId": "82bfc3aa-52de-431f-ef78-c653d5698f24"
      },
      "execution_count": 45,
      "outputs": [
        {
          "output_type": "stream",
          "name": "stdout",
          "text": [
            "Model: \"sequential_1\"\n",
            "_________________________________________________________________\n",
            " Layer (type)                Output Shape              Param #   \n",
            "=================================================================\n",
            " conv2d_4 (Conv2D)           (None, 389, 486, 32)      896       \n",
            "                                                                 \n",
            " max_pooling2d_4 (MaxPooling  (None, 194, 243, 32)     0         \n",
            " 2D)                                                             \n",
            "                                                                 \n",
            " conv2d_5 (Conv2D)           (None, 192, 241, 64)      18496     \n",
            "                                                                 \n",
            " max_pooling2d_5 (MaxPooling  (None, 96, 120, 64)      0         \n",
            " 2D)                                                             \n",
            "                                                                 \n",
            " conv2d_6 (Conv2D)           (None, 94, 118, 64)       36928     \n",
            "                                                                 \n",
            " max_pooling2d_6 (MaxPooling  (None, 47, 59, 64)       0         \n",
            " 2D)                                                             \n",
            "                                                                 \n",
            " conv2d_7 (Conv2D)           (None, 45, 57, 128)       73856     \n",
            "                                                                 \n",
            " max_pooling2d_7 (MaxPooling  (None, 22, 28, 128)      0         \n",
            " 2D)                                                             \n",
            "                                                                 \n",
            " conv2d_8 (Conv2D)           (None, 20, 26, 128)       147584    \n",
            "                                                                 \n",
            " max_pooling2d_8 (MaxPooling  (None, 10, 13, 128)      0         \n",
            " 2D)                                                             \n",
            "                                                                 \n",
            " conv2d_9 (Conv2D)           (None, 8, 11, 256)        295168    \n",
            "                                                                 \n",
            " max_pooling2d_9 (MaxPooling  (None, 4, 5, 256)        0         \n",
            " 2D)                                                             \n",
            "                                                                 \n",
            " flatten_1 (Flatten)         (None, 5120)              0         \n",
            "                                                                 \n",
            " dense_3 (Dense)             (None, 256)               1310976   \n",
            "                                                                 \n",
            " dropout_1 (Dropout)         (None, 256)               0         \n",
            "                                                                 \n",
            " dense_4 (Dense)             (None, 32)                8224      \n",
            "                                                                 \n",
            " dense_5 (Dense)             (None, 1)                 33        \n",
            "                                                                 \n",
            "=================================================================\n",
            "Total params: 1,892,161\n",
            "Trainable params: 1,892,161\n",
            "Non-trainable params: 0\n",
            "_________________________________________________________________\n"
          ]
        }
      ]
    },
    {
      "cell_type": "markdown",
      "source": [
        "## Optimizer"
      ],
      "metadata": {
        "id": "IXb7JX1xSxts"
      }
    },
    {
      "cell_type": "code",
      "source": [
        "# optimizer\n",
        "opt = keras.optimizers.Adam(learning_rate=1e-4)\n",
        "model.compile(loss='binary_crossentropy', optimizer=opt, metrics=['accuracy'])"
      ],
      "metadata": {
        "id": "5EjZtrmFtTpj"
      },
      "execution_count": 46,
      "outputs": []
    },
    {
      "cell_type": "markdown",
      "source": [
        "## Training"
      ],
      "metadata": {
        "id": "tQ7K9wv3S0qk"
      }
    },
    {
      "cell_type": "code",
      "source": [
        "history = model.fit(train_generator, epochs=40, batch_size=32, validation_data=val_generator)"
      ],
      "metadata": {
        "colab": {
          "base_uri": "https://localhost:8080/"
        },
        "id": "LXlDhhfctqTU",
        "outputId": "3a744869-6f47-4672-eddb-764226144856"
      },
      "execution_count": 47,
      "outputs": [
        {
          "output_type": "stream",
          "name": "stdout",
          "text": [
            "Epoch 1/40\n",
            "16/16 [==============================] - 21s 1s/step - loss: 0.6883 - accuracy: 0.5140 - val_loss: 0.6835 - val_accuracy: 0.5070\n",
            "Epoch 2/40\n",
            "16/16 [==============================] - 20s 1s/step - loss: 0.6824 - accuracy: 0.5080 - val_loss: 0.6744 - val_accuracy: 0.4789\n",
            "Epoch 3/40\n",
            "16/16 [==============================] - 20s 1s/step - loss: 0.6765 - accuracy: 0.5300 - val_loss: 0.6642 - val_accuracy: 0.4789\n",
            "Epoch 4/40\n",
            "16/16 [==============================] - 19s 1s/step - loss: 0.6555 - accuracy: 0.5920 - val_loss: 0.6409 - val_accuracy: 0.6479\n",
            "Epoch 5/40\n",
            "16/16 [==============================] - 22s 1s/step - loss: 0.6331 - accuracy: 0.6560 - val_loss: 0.6328 - val_accuracy: 0.6056\n",
            "Epoch 6/40\n",
            "16/16 [==============================] - 19s 1s/step - loss: 0.6036 - accuracy: 0.6940 - val_loss: 0.5663 - val_accuracy: 0.6901\n",
            "Epoch 7/40\n",
            "16/16 [==============================] - 20s 1s/step - loss: 0.5884 - accuracy: 0.6640 - val_loss: 0.6136 - val_accuracy: 0.6620\n",
            "Epoch 8/40\n",
            "16/16 [==============================] - 20s 1s/step - loss: 0.5836 - accuracy: 0.6820 - val_loss: 0.5722 - val_accuracy: 0.7183\n",
            "Epoch 9/40\n",
            "16/16 [==============================] - 27s 2s/step - loss: 0.5422 - accuracy: 0.7360 - val_loss: 0.5437 - val_accuracy: 0.7183\n",
            "Epoch 10/40\n",
            "16/16 [==============================] - 27s 2s/step - loss: 0.5112 - accuracy: 0.7560 - val_loss: 0.4936 - val_accuracy: 0.7324\n",
            "Epoch 11/40\n",
            "16/16 [==============================] - 24s 2s/step - loss: 0.4283 - accuracy: 0.7960 - val_loss: 0.4483 - val_accuracy: 0.8169\n",
            "Epoch 12/40\n",
            "16/16 [==============================] - 20s 1s/step - loss: 0.3533 - accuracy: 0.8520 - val_loss: 0.3935 - val_accuracy: 0.8592\n",
            "Epoch 13/40\n",
            "16/16 [==============================] - 21s 1s/step - loss: 0.3629 - accuracy: 0.8280 - val_loss: 0.3839 - val_accuracy: 0.8451\n",
            "Epoch 14/40\n",
            "16/16 [==============================] - 20s 1s/step - loss: 0.3525 - accuracy: 0.8440 - val_loss: 0.5434 - val_accuracy: 0.7324\n",
            "Epoch 15/40\n",
            "16/16 [==============================] - 21s 1s/step - loss: 0.3284 - accuracy: 0.8440 - val_loss: 0.3120 - val_accuracy: 0.8732\n",
            "Epoch 16/40\n",
            "16/16 [==============================] - 19s 1s/step - loss: 0.3021 - accuracy: 0.8840 - val_loss: 0.3734 - val_accuracy: 0.7887\n",
            "Epoch 17/40\n",
            "16/16 [==============================] - 29s 2s/step - loss: 0.3073 - accuracy: 0.8760 - val_loss: 0.4840 - val_accuracy: 0.7606\n",
            "Epoch 18/40\n",
            "16/16 [==============================] - 22s 1s/step - loss: 0.2771 - accuracy: 0.8800 - val_loss: 0.5003 - val_accuracy: 0.7606\n",
            "Epoch 19/40\n",
            "16/16 [==============================] - 19s 1s/step - loss: 0.2908 - accuracy: 0.8720 - val_loss: 0.5233 - val_accuracy: 0.7606\n",
            "Epoch 20/40\n",
            "16/16 [==============================] - 21s 1s/step - loss: 0.2568 - accuracy: 0.8920 - val_loss: 0.3354 - val_accuracy: 0.8028\n",
            "Epoch 21/40\n",
            "16/16 [==============================] - 19s 1s/step - loss: 0.2857 - accuracy: 0.8780 - val_loss: 0.2629 - val_accuracy: 0.8592\n",
            "Epoch 22/40\n",
            "16/16 [==============================] - 25s 2s/step - loss: 0.2404 - accuracy: 0.9060 - val_loss: 0.4819 - val_accuracy: 0.7746\n",
            "Epoch 23/40\n",
            "16/16 [==============================] - 21s 1s/step - loss: 0.2652 - accuracy: 0.8880 - val_loss: 0.2600 - val_accuracy: 0.8732\n",
            "Epoch 24/40\n",
            "16/16 [==============================] - 24s 1s/step - loss: 0.2425 - accuracy: 0.9120 - val_loss: 0.3512 - val_accuracy: 0.8169\n",
            "Epoch 25/40\n",
            "16/16 [==============================] - 24s 1s/step - loss: 0.2279 - accuracy: 0.9180 - val_loss: 0.1824 - val_accuracy: 0.9155\n",
            "Epoch 26/40\n",
            "16/16 [==============================] - 23s 1s/step - loss: 0.2464 - accuracy: 0.8880 - val_loss: 0.2137 - val_accuracy: 0.9014\n",
            "Epoch 27/40\n",
            "16/16 [==============================] - 19s 1s/step - loss: 0.2958 - accuracy: 0.8720 - val_loss: 0.2650 - val_accuracy: 0.8592\n",
            "Epoch 28/40\n",
            "16/16 [==============================] - 23s 1s/step - loss: 0.2407 - accuracy: 0.8920 - val_loss: 0.4400 - val_accuracy: 0.7746\n",
            "Epoch 29/40\n",
            "16/16 [==============================] - 24s 1s/step - loss: 0.2399 - accuracy: 0.9040 - val_loss: 0.1870 - val_accuracy: 0.9155\n",
            "Epoch 30/40\n",
            "16/16 [==============================] - 24s 2s/step - loss: 0.2352 - accuracy: 0.9040 - val_loss: 0.3726 - val_accuracy: 0.8028\n",
            "Epoch 31/40\n",
            "16/16 [==============================] - 22s 1s/step - loss: 0.2135 - accuracy: 0.9020 - val_loss: 0.3300 - val_accuracy: 0.8451\n",
            "Epoch 32/40\n",
            "16/16 [==============================] - 28s 2s/step - loss: 0.2047 - accuracy: 0.9200 - val_loss: 0.1688 - val_accuracy: 0.9155\n",
            "Epoch 33/40\n",
            "16/16 [==============================] - 25s 2s/step - loss: 0.2405 - accuracy: 0.9000 - val_loss: 0.2787 - val_accuracy: 0.8732\n",
            "Epoch 34/40\n",
            "16/16 [==============================] - 24s 2s/step - loss: 0.2159 - accuracy: 0.9100 - val_loss: 0.1734 - val_accuracy: 0.9155\n",
            "Epoch 35/40\n",
            "16/16 [==============================] - 19s 1s/step - loss: 0.2249 - accuracy: 0.9100 - val_loss: 0.1947 - val_accuracy: 0.9437\n",
            "Epoch 36/40\n",
            "16/16 [==============================] - 20s 1s/step - loss: 0.2362 - accuracy: 0.9000 - val_loss: 0.2202 - val_accuracy: 0.8873\n",
            "Epoch 37/40\n",
            "16/16 [==============================] - 20s 1s/step - loss: 0.2351 - accuracy: 0.9060 - val_loss: 0.5062 - val_accuracy: 0.7746\n",
            "Epoch 38/40\n",
            "16/16 [==============================] - 22s 1s/step - loss: 0.2327 - accuracy: 0.9100 - val_loss: 0.1765 - val_accuracy: 0.9155\n",
            "Epoch 39/40\n",
            "16/16 [==============================] - 19s 1s/step - loss: 0.1951 - accuracy: 0.9160 - val_loss: 0.2379 - val_accuracy: 0.8873\n",
            "Epoch 40/40\n",
            "16/16 [==============================] - 21s 1s/step - loss: 0.1675 - accuracy: 0.9440 - val_loss: 0.2211 - val_accuracy: 0.8873\n"
          ]
        }
      ]
    },
    {
      "cell_type": "code",
      "source": [
        "print(history.history.keys())\n",
        "# summarize history for accuracy\n",
        "plt.plot(history.history['accuracy'])\n",
        "plt.plot(history.history['val_accuracy'])\n",
        "plt.title('model accuracy')\n",
        "plt.ylabel('accuracy')\n",
        "plt.xlabel('epoch')\n",
        "plt.legend(['train', 'val'], loc='upper left')\n",
        "plt.show()\n",
        "# summarize history for loss\n",
        "plt.plot(history.history['loss'])\n",
        "plt.plot(history.history['val_loss'])\n",
        "plt.title('model loss')\n",
        "plt.ylabel('loss')\n",
        "plt.xlabel('epoch')\n",
        "plt.legend(['train', 'val'], loc='upper left')\n",
        "plt.show()"
      ],
      "metadata": {
        "colab": {
          "base_uri": "https://localhost:8080/",
          "height": 944
        },
        "id": "9cgKF5sbuXQY",
        "outputId": "797c2283-2abf-4d2a-8471-b8139dd627bd"
      },
      "execution_count": 48,
      "outputs": [
        {
          "output_type": "stream",
          "name": "stdout",
          "text": [
            "dict_keys(['loss', 'accuracy', 'val_loss', 'val_accuracy'])\n"
          ]
        },
        {
          "output_type": "display_data",
          "data": {
            "text/plain": [
              "<Figure size 640x480 with 1 Axes>"
            ],
            "image/png": "[encoded data removed]"
          },
          "metadata": {}
        },
        {
          "output_type": "display_data",
          "data": {
            "text/plain": [
              "<Figure size 640x480 with 1 Axes>"
            ],
            "image/png": "[encoded data removed]"
          },
          "metadata": {}
        }
      ]
    },
    {
      "cell_type": "code",
      "source": [
        "model.evaluate(test_generator)"
      ],
      "metadata": {
        "colab": {
          "base_uri": "https://localhost:8080/"
        },
        "id": "jxXJxwXFyrBf",
        "outputId": "0a8cfd4b-f71a-4267-e470-d8172006f8d1"
      },
      "execution_count": 49,
      "outputs": [
        {
          "output_type": "stream",
          "name": "stdout",
          "text": [
            "5/5 [==============================] - 1s 221ms/step - loss: 0.2743 - accuracy: 0.8889\n"
          ]
        },
        {
          "output_type": "execute_result",
          "data": {
            "text/plain": [
              "[0.27425479888916016, 0.8888888955116272]"
            ]
          },
          "metadata": {},
          "execution_count": 49
        }
      ]
    },
    {
      "cell_type": "code",
      "source": [
        "y_true = test_generator.classes"
      ],
      "metadata": {
        "id": "sOcNynUyy6sD"
      },
      "execution_count": 99,
      "outputs": []
    },
    {
      "cell_type": "code",
      "source": [
        "y_pred = model.predict(test_generator)"
      ],
      "metadata": {
        "colab": {
          "base_uri": "https://localhost:8080/"
        },
        "id": "Y38INNb9ywZm",
        "outputId": "1e3d4e00-e55c-4c8f-c0c1-7cc0d4b9fe9b"
      },
      "execution_count": 100,
      "outputs": [
        {
          "output_type": "stream",
          "name": "stdout",
          "text": [
            "5/5 [==============================] - 1s 197ms/step\n"
          ]
        }
      ]
    },
    {
      "cell_type": "code",
      "source": [
        "def threshold_predictions(predictions, threshold=0.5):\n",
        "  return [1 if i >= threshold else 0 for i in predictions]"
      ],
      "metadata": {
        "id": "HE7qeZ_pXOcq"
      },
      "execution_count": 101,
      "outputs": []
    },
    {
      "cell_type": "code",
      "source": [
        "y_pred = threshold_predictions(y_pred)"
      ],
      "metadata": {
        "id": "IHVYtQYVzApj"
      },
      "execution_count": 102,
      "outputs": []
    },
    {
      "cell_type": "code",
      "source": [
        "y_pred.count(0)"
      ],
      "metadata": {
        "colab": {
          "base_uri": "https://localhost:8080/"
        },
        "id": "qAcysBEG1i8o",
        "outputId": "b3d2cc5f-51ff-450f-fd66-f7dd1734c13b"
      },
      "execution_count": 103,
      "outputs": [
        {
          "output_type": "execute_result",
          "data": {
            "text/plain": [
              "89"
            ]
          },
          "metadata": {},
          "execution_count": 103
        }
      ]
    },
    {
      "cell_type": "code",
      "source": [
        "def plot_confusion_matrix(y_test, y_pred, labels):\n",
        "  \"\"\"\n",
        "    y_test: true y labels\n",
        "    y_pred: predicted y labels\n",
        "    labels: class labels\n",
        "  \"\"\"\n",
        "  disp = ConfusionMatrixDisplay.from_predictions(y_test,\n",
        "                                                 y_pred,\n",
        "                                                 display_labels=labels,\n",
        "                                                 cmap=\"Blues\")\n",
        "\n",
        "plot_confusion_matrix( y_true, y_pred, [\"Normal\", \"Sick\"])"
      ],
      "metadata": {
        "colab": {
          "base_uri": "https://localhost:8080/",
          "height": 449
        },
        "id": "yB54ZfryzGIj",
        "outputId": "efa559eb-ab8e-407d-fbfa-aab26bd7b841"
      },
      "execution_count": 104,
      "outputs": [
        {
          "output_type": "display_data",
          "data": {
            "text/plain": [
              "<Figure size 640x480 with 2 Axes>"
            ],
            "image/png": "[encoded data removed]"
          },
          "metadata": {}
        }
      ]
    },
    {
      "cell_type": "code",
      "source": [
        "# classification report\n",
        "print(classification_report(y_true, y_pred))"
      ],
      "metadata": {
        "colab": {
          "base_uri": "https://localhost:8080/"
        },
        "id": "ielVOOv7Y0oI",
        "outputId": "ce43c12e-7cc0-4d24-aaf3-f2d3400f22cc"
      },
      "execution_count": 105,
      "outputs": [
        {
          "output_type": "stream",
          "name": "stdout",
          "text": [
            "              precision    recall  f1-score   support\n",
            "\n",
            "           0       0.83      0.99      0.90        75\n",
            "           1       0.98      0.78      0.87        69\n",
            "\n",
            "    accuracy                           0.89       144\n",
            "   macro avg       0.91      0.88      0.89       144\n",
            "weighted avg       0.90      0.89      0.89       144\n",
            "\n"
          ]
        }
      ]
    },
    {
      "cell_type": "markdown",
      "source": [
        "# Test on unknown dataset"
      ],
      "metadata": {
        "id": "XgZ_4OWQ4vqi"
      }
    },
    {
      "cell_type": "code",
      "source": [
        "# unzip dataset from google drive\n",
        "!unzip /content/drive/MyDrive/Personal/Computer\\ Vision/dl_final_project/dataset2.zip"
      ],
      "metadata": {
        "id": "ZE65orHT0leb"
      },
      "execution_count": null,
      "outputs": []
    },
    {
      "cell_type": "code",
      "source": [
        "df2 = pd.read_csv(\"/content/drive/MyDrive/Personal/Computer Vision/dl_final_project/dataset2_image_classes.csv\")"
      ],
      "metadata": {
        "id": "Pi05bzfr40_t"
      },
      "execution_count": 56,
      "outputs": []
    },
    {
      "cell_type": "code",
      "source": [
        "df2.head()"
      ],
      "metadata": {
        "colab": {
          "base_uri": "https://localhost:8080/",
          "height": 206
        },
        "id": "-eREbRh85ul5",
        "outputId": "e4d7f77d-adcf-4ac5-f595-89c6d6e1d037"
      },
      "execution_count": 57,
      "outputs": [
        {
          "output_type": "execute_result",
          "data": {
            "text/plain": [
              "    patient   diagnosis (0-Normal, 1-Sick)\n",
              "0  sick_eff0                             0\n",
              "1  sick_eff1                             0\n",
              "2  sick_eff2                             0\n",
              "3  sick_eff3                             0\n",
              "4  sick_eff4                             0"
            ],
            "text/html": [
              "\n",
              "  <div id=\"df-52c866f7-d230-471c-939e-d85a349fbe4c\">\n",
              "    <div class=\"colab-df-container\">\n",
              "      <div>\n",
              "<style scoped>\n",
              "    .dataframe tbody tr th:only-of-type {\n",
              "        vertical-align: middle;\n",
              "    }\n",
              "\n",
              "    .dataframe tbody tr th {\n",
              "        vertical-align: top;\n",
              "    }\n",
              "\n",
              "    .dataframe thead th {\n",
              "        text-align: right;\n",
              "    }\n",
              "</style>\n",
              "<table border=\"1\" class=\"dataframe\">\n",
              "  <thead>\n",
              "    <tr style=\"text-align: right;\">\n",
              "      <th></th>\n",
              "      <th>patient</th>\n",
              "      <th>diagnosis (0-Normal, 1-Sick)</th>\n",
              "    </tr>\n",
              "  </thead>\n",
              "  <tbody>\n",
              "    <tr>\n",
              "      <th>0</th>\n",
              "      <td>sick_eff0</td>\n",
              "      <td>0</td>\n",
              "    </tr>\n",
              "    <tr>\n",
              "      <th>1</th>\n",
              "      <td>sick_eff1</td>\n",
              "      <td>0</td>\n",
              "    </tr>\n",
              "    <tr>\n",
              "      <th>2</th>\n",
              "      <td>sick_eff2</td>\n",
              "      <td>0</td>\n",
              "    </tr>\n",
              "    <tr>\n",
              "      <th>3</th>\n",
              "      <td>sick_eff3</td>\n",
              "      <td>0</td>\n",
              "    </tr>\n",
              "    <tr>\n",
              "      <th>4</th>\n",
              "      <td>sick_eff4</td>\n",
              "      <td>0</td>\n",
              "    </tr>\n",
              "  </tbody>\n",
              "</table>\n",
              "</div>\n",
              "      <button class=\"colab-df-convert\" onclick=\"convertToInteractive('df-52c866f7-d230-471c-939e-d85a349fbe4c')\"\n",
              "              title=\"Convert this dataframe to an interactive table.\"\n",
              "              style=\"display:none;\">\n",
              "        \n",
              "  <svg xmlns=\"http://www.w3.org/2000/svg\" height=\"24px\"viewBox=\"0 0 24 24\"\n",
              "       width=\"24px\">\n",
              "    <path d=\"M0 0h24v24H0V0z\" fill=\"none\"/>\n",
              "    <path d=\"M18.56 5.44l.94 2.06.94-2.06 2.06-.94-2.06-.94-.94-2.06-.94 2.06-2.06.94zm-11 1L8.5 8.5l.94-2.06 2.06-.94-2.06-.94L8.5 2.5l-.94 2.06-2.06.94zm10 10l.94 2.06.94-2.06 2.06-.94-2.06-.94-.94-2.06-.94 2.06-2.06.94z\"/><path d=\"M17.41 7.96l-1.37-1.37c-.4-.4-.92-.59-1.43-.59-.52 0-1.04.2-1.43.59L10.3 9.45l-7.72 7.72c-.78.78-.78 2.05 0 2.83L4 21.41c.39.39.9.59 1.41.59.51 0 1.02-.2 1.41-.59l7.78-7.78 2.81-2.81c.8-.78.8-2.07 0-2.86zM5.41 20L4 18.59l7.72-7.72 1.47 1.35L5.41 20z\"/>\n",
              "  </svg>\n",
              "      </button>\n",
              "      \n",
              "  <style>\n",
              "    .colab-df-container {\n",
              "      display:flex;\n",
              "      flex-wrap:wrap;\n",
              "      gap: 12px;\n",
              "    }\n",
              "\n",
              "    .colab-df-convert {\n",
              "      background-color: #E8F0FE;\n",
              "      border: none;\n",
              "      border-radius: 50%;\n",
              "      cursor: pointer;\n",
              "      display: none;\n",
              "      fill: #1967D2;\n",
              "      height: 32px;\n",
              "      padding: 0 0 0 0;\n",
              "      width: 32px;\n",
              "    }\n",
              "\n",
              "    .colab-df-convert:hover {\n",
              "      background-color: #E2EBFA;\n",
              "      box-shadow: 0px 1px 2px rgba(60, 64, 67, 0.3), 0px 1px 3px 1px rgba(60, 64, 67, 0.15);\n",
              "      fill: #174EA6;\n",
              "    }\n",
              "\n",
              "    [theme=dark] .colab-df-convert {\n",
              "      background-color: #3B4455;\n",
              "      fill: #D2E3FC;\n",
              "    }\n",
              "\n",
              "    [theme=dark] .colab-df-convert:hover {\n",
              "      background-color: #434B5C;\n",
              "      box-shadow: 0px 1px 3px 1px rgba(0, 0, 0, 0.15);\n",
              "      filter: drop-shadow(0px 1px 2px rgba(0, 0, 0, 0.3));\n",
              "      fill: #FFFFFF;\n",
              "    }\n",
              "  </style>\n",
              "\n",
              "      <script>\n",
              "        const buttonEl =\n",
              "          document.querySelector('#df-52c866f7-d230-471c-939e-d85a349fbe4c button.colab-df-convert');\n",
              "        buttonEl.style.display =\n",
              "          google.colab.kernel.accessAllowed ? 'block' : 'none';\n",
              "\n",
              "        async function convertToInteractive(key) {\n",
              "          const element = document.querySelector('#df-52c866f7-d230-471c-939e-d85a349fbe4c');\n",
              "          const dataTable =\n",
              "            await google.colab.kernel.invokeFunction('convertToInteractive',\n",
              "                                                     [key], {});\n",
              "          if (!dataTable) return;\n",
              "\n",
              "          const docLinkHtml = 'Like what you see? Visit the ' +\n",
              "            '<a target=\"_blank\" href=https://colab.research.google.com/notebooks/data_table.ipynb>data table notebook</a>'\n",
              "            + ' to learn more about interactive tables.';\n",
              "          element.innerHTML = '';\n",
              "          dataTable['output_type'] = 'display_data';\n",
              "          await google.colab.output.renderOutput(dataTable, element);\n",
              "          const docLink = document.createElement('div');\n",
              "          docLink.innerHTML = docLinkHtml;\n",
              "          element.appendChild(docLink);\n",
              "        }\n",
              "      </script>\n",
              "    </div>\n",
              "  </div>\n",
              "  "
            ]
          },
          "metadata": {},
          "execution_count": 57
        }
      ]
    },
    {
      "cell_type": "code",
      "source": [
        "df2.keys()"
      ],
      "metadata": {
        "colab": {
          "base_uri": "https://localhost:8080/"
        },
        "id": "4f8O2Nnk6CBA",
        "outputId": "2e89886a-89ed-41f0-dab9-6bc5ef99400a"
      },
      "execution_count": 58,
      "outputs": [
        {
          "output_type": "execute_result",
          "data": {
            "text/plain": [
              "Index(['patient ', 'diagnosis (0-Normal, 1-Sick)'], dtype='object')"
            ]
          },
          "metadata": {},
          "execution_count": 58
        }
      ]
    },
    {
      "cell_type": "code",
      "source": [
        "df2[\"patient \"] = df2[\"patient \"]+\".png\"\n",
        "df2[\"diagnosis (0-Normal, 1-Sick)\"] = df2[\"diagnosis (0-Normal, 1-Sick)\"].astype(str)\n",
        "df2.head()"
      ],
      "metadata": {
        "colab": {
          "base_uri": "https://localhost:8080/",
          "height": 206
        },
        "id": "kriGQqCa5ych",
        "outputId": "35380d21-467b-48f4-fc01-b9c68435f6a3"
      },
      "execution_count": 59,
      "outputs": [
        {
          "output_type": "execute_result",
          "data": {
            "text/plain": [
              "        patient  diagnosis (0-Normal, 1-Sick)\n",
              "0  sick_eff0.png                            0\n",
              "1  sick_eff1.png                            0\n",
              "2  sick_eff2.png                            0\n",
              "3  sick_eff3.png                            0\n",
              "4  sick_eff4.png                            0"
            ],
            "text/html": [
              "\n",
              "  <div id=\"df-0a9c7d38-a005-4b3c-8ec6-7ced3cedcf4f\">\n",
              "    <div class=\"colab-df-container\">\n",
              "      <div>\n",
              "<style scoped>\n",
              "    .dataframe tbody tr th:only-of-type {\n",
              "        vertical-align: middle;\n",
              "    }\n",
              "\n",
              "    .dataframe tbody tr th {\n",
              "        vertical-align: top;\n",
              "    }\n",
              "\n",
              "    .dataframe thead th {\n",
              "        text-align: right;\n",
              "    }\n",
              "</style>\n",
              "<table border=\"1\" class=\"dataframe\">\n",
              "  <thead>\n",
              "    <tr style=\"text-align: right;\">\n",
              "      <th></th>\n",
              "      <th>patient</th>\n",
              "      <th>diagnosis (0-Normal, 1-Sick)</th>\n",
              "    </tr>\n",
              "  </thead>\n",
              "  <tbody>\n",
              "    <tr>\n",
              "      <th>0</th>\n",
              "      <td>sick_eff0.png</td>\n",
              "      <td>0</td>\n",
              "    </tr>\n",
              "    <tr>\n",
              "      <th>1</th>\n",
              "      <td>sick_eff1.png</td>\n",
              "      <td>0</td>\n",
              "    </tr>\n",
              "    <tr>\n",
              "      <th>2</th>\n",
              "      <td>sick_eff2.png</td>\n",
              "      <td>0</td>\n",
              "    </tr>\n",
              "    <tr>\n",
              "      <th>3</th>\n",
              "      <td>sick_eff3.png</td>\n",
              "      <td>0</td>\n",
              "    </tr>\n",
              "    <tr>\n",
              "      <th>4</th>\n",
              "      <td>sick_eff4.png</td>\n",
              "      <td>0</td>\n",
              "    </tr>\n",
              "  </tbody>\n",
              "</table>\n",
              "</div>\n",
              "      <button class=\"colab-df-convert\" onclick=\"convertToInteractive('df-0a9c7d38-a005-4b3c-8ec6-7ced3cedcf4f')\"\n",
              "              title=\"Convert this dataframe to an interactive table.\"\n",
              "              style=\"display:none;\">\n",
              "        \n",
              "  <svg xmlns=\"http://www.w3.org/2000/svg\" height=\"24px\"viewBox=\"0 0 24 24\"\n",
              "       width=\"24px\">\n",
              "    <path d=\"M0 0h24v24H0V0z\" fill=\"none\"/>\n",
              "    <path d=\"M18.56 5.44l.94 2.06.94-2.06 2.06-.94-2.06-.94-.94-2.06-.94 2.06-2.06.94zm-11 1L8.5 8.5l.94-2.06 2.06-.94-2.06-.94L8.5 2.5l-.94 2.06-2.06.94zm10 10l.94 2.06.94-2.06 2.06-.94-2.06-.94-.94-2.06-.94 2.06-2.06.94z\"/><path d=\"M17.41 7.96l-1.37-1.37c-.4-.4-.92-.59-1.43-.59-.52 0-1.04.2-1.43.59L10.3 9.45l-7.72 7.72c-.78.78-.78 2.05 0 2.83L4 21.41c.39.39.9.59 1.41.59.51 0 1.02-.2 1.41-.59l7.78-7.78 2.81-2.81c.8-.78.8-2.07 0-2.86zM5.41 20L4 18.59l7.72-7.72 1.47 1.35L5.41 20z\"/>\n",
              "  </svg>\n",
              "      </button>\n",
              "      \n",
              "  <style>\n",
              "    .colab-df-container {\n",
              "      display:flex;\n",
              "      flex-wrap:wrap;\n",
              "      gap: 12px;\n",
              "    }\n",
              "\n",
              "    .colab-df-convert {\n",
              "      background-color: #E8F0FE;\n",
              "      border: none;\n",
              "      border-radius: 50%;\n",
              "      cursor: pointer;\n",
              "      display: none;\n",
              "      fill: #1967D2;\n",
              "      height: 32px;\n",
              "      padding: 0 0 0 0;\n",
              "      width: 32px;\n",
              "    }\n",
              "\n",
              "    .colab-df-convert:hover {\n",
              "      background-color: #E2EBFA;\n",
              "      box-shadow: 0px 1px 2px rgba(60, 64, 67, 0.3), 0px 1px 3px 1px rgba(60, 64, 67, 0.15);\n",
              "      fill: #174EA6;\n",
              "    }\n",
              "\n",
              "    [theme=dark] .colab-df-convert {\n",
              "      background-color: #3B4455;\n",
              "      fill: #D2E3FC;\n",
              "    }\n",
              "\n",
              "    [theme=dark] .colab-df-convert:hover {\n",
              "      background-color: #434B5C;\n",
              "      box-shadow: 0px 1px 3px 1px rgba(0, 0, 0, 0.15);\n",
              "      filter: drop-shadow(0px 1px 2px rgba(0, 0, 0, 0.3));\n",
              "      fill: #FFFFFF;\n",
              "    }\n",
              "  </style>\n",
              "\n",
              "      <script>\n",
              "        const buttonEl =\n",
              "          document.querySelector('#df-0a9c7d38-a005-4b3c-8ec6-7ced3cedcf4f button.colab-df-convert');\n",
              "        buttonEl.style.display =\n",
              "          google.colab.kernel.accessAllowed ? 'block' : 'none';\n",
              "\n",
              "        async function convertToInteractive(key) {\n",
              "          const element = document.querySelector('#df-0a9c7d38-a005-4b3c-8ec6-7ced3cedcf4f');\n",
              "          const dataTable =\n",
              "            await google.colab.kernel.invokeFunction('convertToInteractive',\n",
              "                                                     [key], {});\n",
              "          if (!dataTable) return;\n",
              "\n",
              "          const docLinkHtml = 'Like what you see? Visit the ' +\n",
              "            '<a target=\"_blank\" href=https://colab.research.google.com/notebooks/data_table.ipynb>data table notebook</a>'\n",
              "            + ' to learn more about interactive tables.';\n",
              "          element.innerHTML = '';\n",
              "          dataTable['output_type'] = 'display_data';\n",
              "          await google.colab.output.renderOutput(dataTable, element);\n",
              "          const docLink = document.createElement('div');\n",
              "          docLink.innerHTML = docLinkHtml;\n",
              "          element.appendChild(docLink);\n",
              "        }\n",
              "      </script>\n",
              "    </div>\n",
              "  </div>\n",
              "  "
            ]
          },
          "metadata": {},
          "execution_count": 59
        }
      ]
    },
    {
      "cell_type": "code",
      "source": [
        "dataset2_generator = test_datagen.flow_from_dataframe(dataframe=df2,\n",
        "                                                      directory=\"./images\",\n",
        "                                                      x_col=\"patient \",\n",
        "                                                      y_col=\"diagnosis (0-Normal, 1-Sick)\",\n",
        "                                                      target_size=(391, 488),\n",
        "                                                      class_mode=\"binary\",\n",
        "                                                      shuffle=False,\n",
        "                                                      batch_size=32)"
      ],
      "metadata": {
        "colab": {
          "base_uri": "https://localhost:8080/"
        },
        "id": "gLR9xPTs5995",
        "outputId": "e0f44036-1a48-4bfc-c14b-776b5b13a5bb"
      },
      "execution_count": 60,
      "outputs": [
        {
          "output_type": "stream",
          "name": "stdout",
          "text": [
            "Found 224 validated image filenames belonging to 2 classes.\n"
          ]
        }
      ]
    },
    {
      "cell_type": "code",
      "source": [
        "model.evaluate(dataset2_generator)"
      ],
      "metadata": {
        "colab": {
          "base_uri": "https://localhost:8080/"
        },
        "id": "67zUFxhd6m1z",
        "outputId": "efaae231-eae1-4bc7-ece0-997cea51c0b0"
      },
      "execution_count": 61,
      "outputs": [
        {
          "output_type": "stream",
          "name": "stdout",
          "text": [
            "7/7 [==============================] - 2s 233ms/step - loss: 2.2117 - accuracy: 0.5134\n"
          ]
        },
        {
          "output_type": "execute_result",
          "data": {
            "text/plain": [
              "[2.2117412090301514, 0.5133928656578064]"
            ]
          },
          "metadata": {},
          "execution_count": 61
        }
      ]
    },
    {
      "cell_type": "code",
      "source": [
        "y_true2 = dataset2_generator.classes\n",
        "y_pred2 = threshold_predictions(model.predict(dataset2_generator))"
      ],
      "metadata": {
        "colab": {
          "base_uri": "https://localhost:8080/"
        },
        "id": "qDpeHVryZ13F",
        "outputId": "a3bf160d-4972-4a82-f6ce-efe06a025975"
      },
      "execution_count": 108,
      "outputs": [
        {
          "output_type": "stream",
          "name": "stdout",
          "text": [
            "7/7 [==============================] - 2s 227ms/step\n"
          ]
        }
      ]
    },
    {
      "cell_type": "code",
      "source": [
        "plot_confusion_matrix( y_true2, y_pred2, [\"Normal\", \"Sick\"])\n",
        "print(classification_report(y_true2, y_pred2))"
      ],
      "metadata": {
        "colab": {
          "base_uri": "https://localhost:8080/",
          "height": 605
        },
        "id": "MDwFzB6DaBae",
        "outputId": "f16b8bcc-7906-4ee3-b526-df241bba5a8f"
      },
      "execution_count": 109,
      "outputs": [
        {
          "output_type": "stream",
          "name": "stdout",
          "text": [
            "              precision    recall  f1-score   support\n",
            "\n",
            "           0       0.54      0.19      0.28       112\n",
            "           1       0.51      0.84      0.63       112\n",
            "\n",
            "    accuracy                           0.51       224\n",
            "   macro avg       0.52      0.51      0.46       224\n",
            "weighted avg       0.52      0.51      0.46       224\n",
            "\n"
          ]
        },
        {
          "output_type": "display_data",
          "data": {
            "text/plain": [
              "<Figure size 640x480 with 2 Axes>"
            ],
            "image/png": "[encoded data removed]"
          },
          "metadata": {}
        }
      ]
    },
    {
      "cell_type": "markdown",
      "source": [
        "# Evaluate on unknown images"
      ],
      "metadata": {
        "id": "_jIGpazd99v0"
      }
    },
    {
      "cell_type": "code",
      "source": [
        "!unzip /content/drive/MyDrive/Personal/Computer\\ Vision/dl_final_project/unknown_images.zip"
      ],
      "metadata": {
        "id": "EQCJU22064vE"
      },
      "execution_count": null,
      "outputs": []
    },
    {
      "cell_type": "code",
      "source": [
        "!ls ./unknow_data/unknown_images"
      ],
      "metadata": {
        "colab": {
          "base_uri": "https://localhost:8080/"
        },
        "id": "jPTrYreGDES5",
        "outputId": "2f16a9a2-c283-4937-bc20-d5c3e1161444"
      },
      "execution_count": null,
      "outputs": [
        {
          "output_type": "stream",
          "name": "stdout",
          "text": [
            "10.png\t15.png\t1.png\t24.png\t29.png\t33.png\t38.png\t42.png\t47.png\t5.png\n",
            "11.png\t16.png\t20.png\t25.png\t2.png\t34.png\t39.png\t43.png\t48.png\t6.png\n",
            "12.png\t17.png\t21.png\t26.png\t30.png\t35.png\t3.png\t44.png\t49.png\t7.png\n",
            "13.png\t18.png\t22.png\t27.png\t31.png\t36.png\t40.png\t45.png\t4.png\t8.png\n",
            "14.png\t19.png\t23.png\t28.png\t32.png\t37.png\t41.png\t46.png\t50.png\t9.png\n"
          ]
        }
      ]
    },
    {
      "cell_type": "code",
      "source": [
        "# image reader\n",
        "def read_image(path):\n",
        "  img = load_img(path, target_size=INPUT_SIZE)\n",
        "  img_reshaped = np.expand_dims(img, axis=0)\n",
        "  return test_datagen.flow(img_reshaped, batch_size=1)[0]"
      ],
      "metadata": {
        "id": "IrCFpwPuQ6EH"
      },
      "execution_count": 81,
      "outputs": []
    },
    {
      "cell_type": "code",
      "source": [
        "unknown_images = os.listdir(\"./unknown_images\")"
      ],
      "metadata": {
        "id": "gMf_a95X-MQX"
      },
      "execution_count": 106,
      "outputs": []
    },
    {
      "cell_type": "code",
      "source": [
        "read_image(os.path.join(\"./unknown_images\", unknown_images[0]))\n",
        "# predict classes for unknown images\n",
        "image_names = []\n",
        "image_predictions = []\n",
        "for img_name in unknown_images:\n",
        "  img = read_image(os.path.join(\"./unknown_images\", img_name))\n",
        "  prediction = threshold_predictions(model.predict(img)[0])[0]\n",
        "  image_names.append(img_name) \n",
        "  image_predictions.append(prediction) \n",
        "  print(f\"{img_name} - {prediction}\")"
      ],
      "metadata": {
        "colab": {
          "base_uri": "https://localhost:8080/"
        },
        "id": "w3vw2TPPVInN",
        "outputId": "eb02690d-f41a-4a08-c27d-f3ec0e1984f1"
      },
      "execution_count": 89,
      "outputs": [
        {
          "output_type": "stream",
          "name": "stdout",
          "text": [
            "1/1 [==============================] - 0s 47ms/step\n",
            "20.png - 1\n",
            "1/1 [==============================] - 0s 51ms/step\n",
            "9.png - 0\n",
            "1/1 [==============================] - 0s 42ms/step\n",
            "35.png - 0\n",
            "1/1 [==============================] - 0s 31ms/step\n",
            "22.png - 1\n",
            "1/1 [==============================] - 0s 31ms/step\n",
            "10.png - 1\n",
            "1/1 [==============================] - 0s 29ms/step\n",
            "7.png - 0\n",
            "1/1 [==============================] - 0s 55ms/step\n",
            "29.png - 0\n",
            "1/1 [==============================] - 0s 63ms/step\n",
            "27.png - 0\n",
            "1/1 [==============================] - 0s 29ms/step\n",
            "4.png - 1\n",
            "1/1 [==============================] - 0s 28ms/step\n",
            "12.png - 1\n",
            "1/1 [==============================] - 0s 29ms/step\n",
            "46.png - 1\n",
            "1/1 [==============================] - 0s 37ms/step\n",
            "24.png - 0\n",
            "1/1 [==============================] - 0s 21ms/step\n",
            "47.png - 0\n",
            "1/1 [==============================] - 0s 18ms/step\n",
            "40.png - 0\n",
            "1/1 [==============================] - 0s 20ms/step\n",
            "39.png - 0\n",
            "1/1 [==============================] - 0s 20ms/step\n",
            "17.png - 0\n",
            "1/1 [==============================] - 0s 20ms/step\n",
            "19.png - 0\n",
            "1/1 [==============================] - 0s 19ms/step\n",
            "28.png - 1\n",
            "1/1 [==============================] - 0s 20ms/step\n",
            "5.png - 0\n",
            "1/1 [==============================] - 0s 18ms/step\n",
            "18.png - 1\n",
            "1/1 [==============================] - 0s 20ms/step\n",
            "41.png - 0\n",
            "1/1 [==============================] - 0s 18ms/step\n",
            "1.png - 0\n",
            "1/1 [==============================] - 0s 19ms/step\n",
            "2.png - 1\n",
            "1/1 [==============================] - 0s 20ms/step\n",
            "3.png - 0\n",
            "1/1 [==============================] - 0s 20ms/step\n",
            "16.png - 1\n",
            "1/1 [==============================] - 0s 22ms/step\n",
            "33.png - 0\n",
            "1/1 [==============================] - 0s 20ms/step\n",
            "6.png - 1\n",
            "1/1 [==============================] - 0s 20ms/step\n",
            "45.png - 0\n",
            "1/1 [==============================] - 0s 18ms/step\n",
            "50.png - 1\n",
            "1/1 [==============================] - 0s 19ms/step\n",
            "42.png - 0\n",
            "1/1 [==============================] - 0s 19ms/step\n",
            "11.png - 0\n",
            "1/1 [==============================] - 0s 20ms/step\n",
            "26.png - 1\n",
            "1/1 [==============================] - 0s 20ms/step\n",
            "49.png - 0\n",
            "1/1 [==============================] - 0s 18ms/step\n",
            "25.png - 0\n",
            "1/1 [==============================] - 0s 20ms/step\n",
            "30.png - 1\n",
            "1/1 [==============================] - 0s 20ms/step\n",
            "13.png - 0\n",
            "1/1 [==============================] - 0s 18ms/step\n",
            "31.png - 0\n",
            "1/1 [==============================] - 0s 18ms/step\n",
            "32.png - 1\n",
            "1/1 [==============================] - 0s 19ms/step\n",
            "15.png - 0\n",
            "1/1 [==============================] - 0s 19ms/step\n",
            "37.png - 0\n",
            "1/1 [==============================] - 0s 22ms/step\n",
            "44.png - 1\n",
            "1/1 [==============================] - 0s 20ms/step\n",
            "34.png - 1\n",
            "1/1 [==============================] - 0s 21ms/step\n",
            "14.png - 1\n",
            "1/1 [==============================] - 0s 19ms/step\n",
            "48.png - 1\n",
            "1/1 [==============================] - 0s 19ms/step\n",
            "23.png - 0\n",
            "1/1 [==============================] - 0s 20ms/step\n",
            "43.png - 0\n",
            "1/1 [==============================] - 0s 21ms/step\n",
            "36.png - 0\n",
            "1/1 [==============================] - 0s 19ms/step\n",
            "21.png - 0\n",
            "1/1 [==============================] - 0s 20ms/step\n",
            "38.png - 0\n",
            "1/1 [==============================] - 0s 20ms/step\n",
            "8.png - 1\n"
          ]
        }
      ]
    },
    {
      "cell_type": "code",
      "source": [
        "image_predictions.count(0)"
      ],
      "metadata": {
        "colab": {
          "base_uri": "https://localhost:8080/"
        },
        "id": "WW2tKNhhEYZI",
        "outputId": "2b6cf49f-feb3-4a28-836a-43696e085c25"
      },
      "execution_count": 90,
      "outputs": [
        {
          "output_type": "execute_result",
          "data": {
            "text/plain": [
              "30"
            ]
          },
          "metadata": {},
          "execution_count": 90
        }
      ]
    },
    {
      "cell_type": "code",
      "source": [
        "image_predictions.count(1)"
      ],
      "metadata": {
        "id": "5TC4ef12Eh_T",
        "outputId": "6a0a9aa5-3baa-41f1-d3fd-b1deeb620257",
        "colab": {
          "base_uri": "https://localhost:8080/"
        }
      },
      "execution_count": 91,
      "outputs": [
        {
          "output_type": "execute_result",
          "data": {
            "text/plain": [
              "20"
            ]
          },
          "metadata": {},
          "execution_count": 91
        }
      ]
    },
    {
      "cell_type": "code",
      "source": [
        "image_prediction_classes=[\"normal\" if i == 0 else \"sick\" for i in image_predictions]"
      ],
      "metadata": {
        "id": "PsNu5cYuYI1F"
      },
      "execution_count": 96,
      "outputs": []
    },
    {
      "cell_type": "code",
      "source": [
        "unknown_preds_df = pd.DataFrame({\"image\":image_names,\n",
        "                                 \"diagnosis\": image_prediction_classes })"
      ],
      "metadata": {
        "id": "-x9UvlVi7qId"
      },
      "execution_count": 97,
      "outputs": []
    },
    {
      "cell_type": "code",
      "source": [
        "unknown_preds_df.head()"
      ],
      "metadata": {
        "colab": {
          "base_uri": "https://localhost:8080/",
          "height": 206
        },
        "id": "OLx0891rYY25",
        "outputId": "033948c5-9785-4684-f7cc-cc73e8d16caa"
      },
      "execution_count": 98,
      "outputs": [
        {
          "output_type": "execute_result",
          "data": {
            "text/plain": [
              "    image diagnosis\n",
              "0  20.png      sick\n",
              "1   9.png    normal\n",
              "2  35.png    normal\n",
              "3  22.png      sick\n",
              "4  10.png      sick"
            ],
            "text/html": [
              "\n",
              "  <div id=\"df-888f2428-ee7f-4799-a9c4-7c1325896763\">\n",
              "    <div class=\"colab-df-container\">\n",
              "      <div>\n",
              "<style scoped>\n",
              "    .dataframe tbody tr th:only-of-type {\n",
              "        vertical-align: middle;\n",
              "    }\n",
              "\n",
              "    .dataframe tbody tr th {\n",
              "        vertical-align: top;\n",
              "    }\n",
              "\n",
              "    .dataframe thead th {\n",
              "        text-align: right;\n",
              "    }\n",
              "</style>\n",
              "<table border=\"1\" class=\"dataframe\">\n",
              "  <thead>\n",
              "    <tr style=\"text-align: right;\">\n",
              "      <th></th>\n",
              "      <th>image</th>\n",
              "      <th>diagnosis</th>\n",
              "    </tr>\n",
              "  </thead>\n",
              "  <tbody>\n",
              "    <tr>\n",
              "      <th>0</th>\n",
              "      <td>20.png</td>\n",
              "      <td>sick</td>\n",
              "    </tr>\n",
              "    <tr>\n",
              "      <th>1</th>\n",
              "      <td>9.png</td>\n",
              "      <td>normal</td>\n",
              "    </tr>\n",
              "    <tr>\n",
              "      <th>2</th>\n",
              "      <td>35.png</td>\n",
              "      <td>normal</td>\n",
              "    </tr>\n",
              "    <tr>\n",
              "      <th>3</th>\n",
              "      <td>22.png</td>\n",
              "      <td>sick</td>\n",
              "    </tr>\n",
              "    <tr>\n",
              "      <th>4</th>\n",
              "      <td>10.png</td>\n",
              "      <td>sick</td>\n",
              "    </tr>\n",
              "  </tbody>\n",
              "</table>\n",
              "</div>\n",
              "      <button class=\"colab-df-convert\" onclick=\"convertToInteractive('df-888f2428-ee7f-4799-a9c4-7c1325896763')\"\n",
              "              title=\"Convert this dataframe to an interactive table.\"\n",
              "              style=\"display:none;\">\n",
              "        \n",
              "  <svg xmlns=\"http://www.w3.org/2000/svg\" height=\"24px\"viewBox=\"0 0 24 24\"\n",
              "       width=\"24px\">\n",
              "    <path d=\"M0 0h24v24H0V0z\" fill=\"none\"/>\n",
              "    <path d=\"M18.56 5.44l.94 2.06.94-2.06 2.06-.94-2.06-.94-.94-2.06-.94 2.06-2.06.94zm-11 1L8.5 8.5l.94-2.06 2.06-.94-2.06-.94L8.5 2.5l-.94 2.06-2.06.94zm10 10l.94 2.06.94-2.06 2.06-.94-2.06-.94-.94-2.06-.94 2.06-2.06.94z\"/><path d=\"M17.41 7.96l-1.37-1.37c-.4-.4-.92-.59-1.43-.59-.52 0-1.04.2-1.43.59L10.3 9.45l-7.72 7.72c-.78.78-.78 2.05 0 2.83L4 21.41c.39.39.9.59 1.41.59.51 0 1.02-.2 1.41-.59l7.78-7.78 2.81-2.81c.8-.78.8-2.07 0-2.86zM5.41 20L4 18.59l7.72-7.72 1.47 1.35L5.41 20z\"/>\n",
              "  </svg>\n",
              "      </button>\n",
              "      \n",
              "  <style>\n",
              "    .colab-df-container {\n",
              "      display:flex;\n",
              "      flex-wrap:wrap;\n",
              "      gap: 12px;\n",
              "    }\n",
              "\n",
              "    .colab-df-convert {\n",
              "      background-color: #E8F0FE;\n",
              "      border: none;\n",
              "      border-radius: 50%;\n",
              "      cursor: pointer;\n",
              "      display: none;\n",
              "      fill: #1967D2;\n",
              "      height: 32px;\n",
              "      padding: 0 0 0 0;\n",
              "      width: 32px;\n",
              "    }\n",
              "\n",
              "    .colab-df-convert:hover {\n",
              "      background-color: #E2EBFA;\n",
              "      box-shadow: 0px 1px 2px rgba(60, 64, 67, 0.3), 0px 1px 3px 1px rgba(60, 64, 67, 0.15);\n",
              "      fill: #174EA6;\n",
              "    }\n",
              "\n",
              "    [theme=dark] .colab-df-convert {\n",
              "      background-color: #3B4455;\n",
              "      fill: #D2E3FC;\n",
              "    }\n",
              "\n",
              "    [theme=dark] .colab-df-convert:hover {\n",
              "      background-color: #434B5C;\n",
              "      box-shadow: 0px 1px 3px 1px rgba(0, 0, 0, 0.15);\n",
              "      filter: drop-shadow(0px 1px 2px rgba(0, 0, 0, 0.3));\n",
              "      fill: #FFFFFF;\n",
              "    }\n",
              "  </style>\n",
              "\n",
              "      <script>\n",
              "        const buttonEl =\n",
              "          document.querySelector('#df-888f2428-ee7f-4799-a9c4-7c1325896763 button.colab-df-convert');\n",
              "        buttonEl.style.display =\n",
              "          google.colab.kernel.accessAllowed ? 'block' : 'none';\n",
              "\n",
              "        async function convertToInteractive(key) {\n",
              "          const element = document.querySelector('#df-888f2428-ee7f-4799-a9c4-7c1325896763');\n",
              "          const dataTable =\n",
              "            await google.colab.kernel.invokeFunction('convertToInteractive',\n",
              "                                                     [key], {});\n",
              "          if (!dataTable) return;\n",
              "\n",
              "          const docLinkHtml = 'Like what you see? Visit the ' +\n",
              "            '<a target=\"_blank\" href=https://colab.research.google.com/notebooks/data_table.ipynb>data table notebook</a>'\n",
              "            + ' to learn more about interactive tables.';\n",
              "          element.innerHTML = '';\n",
              "          dataTable['output_type'] = 'display_data';\n",
              "          await google.colab.output.renderOutput(dataTable, element);\n",
              "          const docLink = document.createElement('div');\n",
              "          docLink.innerHTML = docLinkHtml;\n",
              "          element.appendChild(docLink);\n",
              "        }\n",
              "      </script>\n",
              "    </div>\n",
              "  </div>\n",
              "  "
            ]
          },
          "metadata": {},
          "execution_count": 98
        }
      ]
    },
    {
      "cell_type": "code",
      "source": [
        "# export predictions\n",
        "unknown_preds_df.to_csv(\"nb2-unknown-preds.csv\")"
      ],
      "metadata": {
        "id": "hfaVUS85YcdG"
      },
      "execution_count": 107,
      "outputs": []
    }
  ]
}