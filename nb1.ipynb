{
  "nbformat": 4,
  "nbformat_minor": 0,
  "metadata": {
    "colab": {
      "provenance": [],
      "collapsed_sections": [
        "F4IbnM7DfY49"
      ],
      "authorship_tag": "ABX9TyPtKPBMzhfysvCvmr4W1oRT",
      "include_colab_link": true
    },
    "kernelspec": {
      "name": "python3",
      "display_name": "Python 3"
    },
    "language_info": {
      "name": "python"
    },
    "accelerator": "GPU",
    "gpuClass": "standard"
  },
  "cells": [
    {
      "cell_type": "markdown",
      "metadata": {
        "id": "view-in-github",
        "colab_type": "text"
      },
      "source": [
        "<a href=\"https://colab.research.google.com/github/ben-wycliff/dl_final_project/blob/main/nb1.ipynb\" target=\"_parent\"><img src=\"https://colab.research.google.com/assets/colab-badge.svg\" alt=\"Open In Colab\"/></a>"
      ]
    },
    {
      "cell_type": "markdown",
      "source": [
        "# Setting Up"
      ],
      "metadata": {
        "id": "F4IbnM7DfY49"
      }
    },
    {
      "cell_type": "code",
      "source": [
        "from google.colab import drive\n",
        "drive.mount('/content/drive')"
      ],
      "metadata": {
        "colab": {
          "base_uri": "https://localhost:8080/"
        },
        "id": "z8JFXTkifjWP",
        "outputId": "60497b55-3cbd-4704-c2b3-7a509b3b4195"
      },
      "execution_count": null,
      "outputs": [
        {
          "output_type": "stream",
          "name": "stdout",
          "text": [
            "Mounted at /content/drive\n"
          ]
        }
      ]
    },
    {
      "cell_type": "code",
      "source": [
        "# unzip dataset from google drive\n",
        "!unzip /content/drive/MyDrive/Personal/Computer\\ Vision/dl_final_project/known_images.zip"
      ],
      "metadata": {
        "colab": {
          "base_uri": "https://localhost:8080/"
        },
        "id": "tdKP40xpfk7x",
        "outputId": "3e4ea08d-81c3-4c9e-8aa3-55c19f0aa12e"
      },
      "execution_count": null,
      "outputs": [
        {
          "output_type": "stream",
          "name": "stdout",
          "text": [
            "Archive:  /content/drive/MyDrive/Personal/Computer Vision/dl_final_project/known_images.zip\n",
            "   creating: known_images/\n",
            "  inflating: known_images/normal_0.png  \n",
            "  inflating: known_images/normal_1.png  \n",
            "  inflating: known_images/normal_10.png  \n",
            "  inflating: known_images/normal_101.png  \n",
            "  inflating: known_images/normal_102.png  \n",
            "  inflating: known_images/normal_103.png  \n",
            "  inflating: known_images/normal_104.png  \n",
            "  inflating: known_images/normal_105.png  \n",
            "  inflating: known_images/normal_106.png  \n",
            "  inflating: known_images/normal_107.png  \n",
            "  inflating: known_images/normal_108.png  \n",
            "  inflating: known_images/normal_109.png  \n",
            "  inflating: known_images/normal_11.png  \n",
            "  inflating: known_images/normal_110.png  \n",
            "  inflating: known_images/normal_111.png  \n",
            "  inflating: known_images/normal_112.png  \n",
            "  inflating: known_images/normal_113.png  \n",
            "  inflating: known_images/normal_114.png  \n",
            "  inflating: known_images/normal_115.png  \n",
            "  inflating: known_images/normal_116.png  \n",
            "  inflating: known_images/normal_117.png  \n",
            "  inflating: known_images/normal_118.png  \n",
            "  inflating: known_images/normal_119.png  \n",
            "  inflating: known_images/normal_12.png  \n",
            "  inflating: known_images/normal_120.png  \n",
            "  inflating: known_images/normal_121.png  \n",
            "  inflating: known_images/normal_122.png  \n",
            "  inflating: known_images/normal_123.png  \n",
            "  inflating: known_images/normal_124.png  \n",
            "  inflating: known_images/normal_125.png  \n",
            "  inflating: known_images/normal_126.png  \n",
            "  inflating: known_images/normal_127.png  \n",
            "  inflating: known_images/normal_128.png  \n",
            "  inflating: known_images/normal_129.png  \n",
            "  inflating: known_images/normal_13.png  \n",
            "  inflating: known_images/normal_130.png  \n",
            "  inflating: known_images/normal_131.png  \n",
            "  inflating: known_images/normal_132.png  \n",
            "  inflating: known_images/normal_133.png  \n",
            "  inflating: known_images/normal_134.png  \n",
            "  inflating: known_images/normal_135.png  \n",
            "  inflating: known_images/normal_136.png  \n",
            "  inflating: known_images/normal_137.png  \n",
            "  inflating: known_images/normal_138.png  \n",
            "  inflating: known_images/normal_139.png  \n",
            "  inflating: known_images/normal_140.png  \n",
            "  inflating: known_images/normal_141.png  \n",
            "  inflating: known_images/normal_142.png  \n",
            "  inflating: known_images/normal_143.png  \n",
            "  inflating: known_images/normal_144.png  \n",
            "  inflating: known_images/normal_145.png  \n",
            "  inflating: known_images/normal_146.png  \n",
            "  inflating: known_images/normal_147.png  \n",
            "  inflating: known_images/normal_148.png  \n",
            "  inflating: known_images/normal_149.png  \n",
            "  inflating: known_images/normal_15.png  \n",
            "  inflating: known_images/normal_150.png  \n",
            "  inflating: known_images/normal_151.png  \n",
            "  inflating: known_images/normal_152.png  \n",
            "  inflating: known_images/normal_153.png  \n",
            "  inflating: known_images/normal_154.png  \n",
            "  inflating: known_images/normal_155.png  \n",
            "  inflating: known_images/normal_156.png  \n",
            "  inflating: known_images/normal_157.png  \n",
            "  inflating: known_images/normal_158.png  \n",
            "  inflating: known_images/normal_159.png  \n",
            "  inflating: known_images/normal_16.png  \n",
            "  inflating: known_images/normal_160.png  \n",
            "  inflating: known_images/normal_161.png  \n",
            "  inflating: known_images/normal_162.png  \n",
            "  inflating: known_images/normal_163.png  \n",
            "  inflating: known_images/normal_164.png  \n",
            "  inflating: known_images/normal_165.png  \n",
            "  inflating: known_images/normal_166.png  \n",
            "  inflating: known_images/normal_167.png  \n",
            "  inflating: known_images/normal_168.png  \n",
            "  inflating: known_images/normal_169.png  \n",
            "  inflating: known_images/normal_17.png  \n",
            "  inflating: known_images/normal_170.png  \n",
            "  inflating: known_images/normal_171.png  \n",
            "  inflating: known_images/normal_172.png  \n",
            "  inflating: known_images/normal_173.png  \n",
            "  inflating: known_images/normal_174.png  \n",
            "  inflating: known_images/normal_175.png  \n",
            "  inflating: known_images/normal_176.png  \n",
            "  inflating: known_images/normal_177.png  \n",
            "  inflating: known_images/normal_178.png  \n",
            "  inflating: known_images/normal_179.png  \n",
            "  inflating: known_images/normal_18.png  \n",
            "  inflating: known_images/normal_180.png  \n",
            "  inflating: known_images/normal_181.png  \n",
            "  inflating: known_images/normal_182.png  \n",
            "  inflating: known_images/normal_183.png  \n",
            "  inflating: known_images/normal_184.png  \n",
            "  inflating: known_images/normal_185.png  \n",
            "  inflating: known_images/normal_186.png  \n",
            "  inflating: known_images/normal_188.png  \n",
            "  inflating: known_images/normal_189.png  \n",
            "  inflating: known_images/normal_190.png  \n",
            "  inflating: known_images/normal_191.png  \n",
            "  inflating: known_images/normal_192.png  \n",
            "  inflating: known_images/normal_193.png  \n",
            "  inflating: known_images/normal_194.png  \n",
            "  inflating: known_images/normal_195.png  \n",
            "  inflating: known_images/normal_196.png  \n",
            "  inflating: known_images/normal_197.png  \n",
            "  inflating: known_images/normal_198.png  \n",
            "  inflating: known_images/normal_199.png  \n",
            "  inflating: known_images/normal_2.png  \n",
            "  inflating: known_images/normal_20.png  \n",
            "  inflating: known_images/normal_201.png  \n",
            "  inflating: known_images/normal_202.png  \n",
            "  inflating: known_images/normal_203.png  \n",
            "  inflating: known_images/normal_204.png  \n",
            "  inflating: known_images/normal_205.png  \n",
            "  inflating: known_images/normal_206.png  \n",
            "  inflating: known_images/normal_207.png  \n",
            "  inflating: known_images/normal_208.png  \n",
            "  inflating: known_images/normal_209.png  \n",
            "  inflating: known_images/normal_21.png  \n",
            "  inflating: known_images/normal_210.png  \n",
            "  inflating: known_images/normal_211.png  \n",
            "  inflating: known_images/normal_212.png  \n",
            "  inflating: known_images/normal_213.png  \n",
            "  inflating: known_images/normal_214.png  \n",
            "  inflating: known_images/normal_215.png  \n",
            "  inflating: known_images/normal_216.png  \n",
            "  inflating: known_images/normal_217.png  \n",
            "  inflating: known_images/normal_219.png  \n",
            "  inflating: known_images/normal_22.png  \n",
            "  inflating: known_images/normal_220.png  \n",
            "  inflating: known_images/normal_221.png  \n",
            "  inflating: known_images/normal_222.png  \n",
            "  inflating: known_images/normal_223.png  \n",
            "  inflating: known_images/normal_224.png  \n",
            "  inflating: known_images/normal_225.png  \n",
            "  inflating: known_images/normal_226.png  \n",
            "  inflating: known_images/normal_227.png  \n",
            "  inflating: known_images/normal_228.png  \n",
            "  inflating: known_images/normal_229.png  \n",
            "  inflating: known_images/normal_23.png  \n",
            "  inflating: known_images/normal_230.png  \n",
            "  inflating: known_images/normal_231.png  \n",
            "  inflating: known_images/normal_232.png  \n",
            "  inflating: known_images/normal_233.png  \n",
            "  inflating: known_images/normal_234.png  \n",
            "  inflating: known_images/normal_235.png  \n",
            "  inflating: known_images/normal_236.png  \n",
            "  inflating: known_images/normal_237.png  \n",
            "  inflating: known_images/normal_238.png  \n",
            "  inflating: known_images/normal_239.png  \n",
            "  inflating: known_images/normal_240.png  \n",
            "  inflating: known_images/normal_241.png  \n",
            "  inflating: known_images/normal_242.png  \n",
            "  inflating: known_images/normal_243.png  \n",
            "  inflating: known_images/normal_244.png  \n",
            "  inflating: known_images/normal_245.png  \n",
            "  inflating: known_images/normal_246.png  \n",
            "  inflating: known_images/normal_247.png  \n",
            "  inflating: known_images/normal_248.png  \n",
            "  inflating: known_images/normal_249.png  \n",
            "  inflating: known_images/normal_25.png  \n",
            "  inflating: known_images/normal_250.png  \n",
            "  inflating: known_images/normal_251.png  \n",
            "  inflating: known_images/normal_252.png  \n",
            "  inflating: known_images/normal_253.png  \n",
            "  inflating: known_images/normal_254.png  \n",
            "  inflating: known_images/normal_255.png  \n",
            "  inflating: known_images/normal_256.png  \n",
            "  inflating: known_images/normal_257.png  \n",
            "  inflating: known_images/normal_258.png  \n",
            "  inflating: known_images/normal_259.png  \n",
            "  inflating: known_images/normal_26.png  \n",
            "  inflating: known_images/normal_260.png  \n",
            "  inflating: known_images/normal_261.png  \n",
            "  inflating: known_images/normal_262.png  \n",
            "  inflating: known_images/normal_263.png  \n",
            "  inflating: known_images/normal_264.png  \n",
            "  inflating: known_images/normal_265.png  \n",
            "  inflating: known_images/normal_266.png  \n",
            "  inflating: known_images/normal_267.png  \n",
            "  inflating: known_images/normal_268.png  \n",
            "  inflating: known_images/normal_269.png  \n",
            "  inflating: known_images/normal_27.png  \n",
            "  inflating: known_images/normal_270.png  \n",
            "  inflating: known_images/normal_271.png  \n",
            "  inflating: known_images/normal_272.png  \n",
            "  inflating: known_images/normal_273.png  \n",
            "  inflating: known_images/normal_274.png  \n",
            "  inflating: known_images/normal_275.png  \n",
            "  inflating: known_images/normal_276.png  \n",
            "  inflating: known_images/normal_277.png  \n",
            "  inflating: known_images/normal_278.png  \n",
            "  inflating: known_images/normal_279.png  \n",
            "  inflating: known_images/normal_280.png  \n",
            "  inflating: known_images/normal_281.png  \n",
            "  inflating: known_images/normal_282.png  \n",
            "  inflating: known_images/normal_283.png  \n",
            "  inflating: known_images/normal_284.png  \n",
            "  inflating: known_images/normal_285.png  \n",
            "  inflating: known_images/normal_286.png  \n",
            "  inflating: known_images/normal_287.png  \n",
            "  inflating: known_images/normal_288.png  \n",
            "  inflating: known_images/normal_289.png  \n",
            "  inflating: known_images/normal_29.png  \n",
            "  inflating: known_images/normal_290.png  \n",
            "  inflating: known_images/normal_291.png  \n",
            "  inflating: known_images/normal_292.png  \n",
            "  inflating: known_images/normal_293.png  \n",
            "  inflating: known_images/normal_294.png  \n",
            "  inflating: known_images/normal_295.png  \n",
            "  inflating: known_images/normal_297.png  \n",
            "  inflating: known_images/normal_298.png  \n",
            "  inflating: known_images/normal_299.png  \n",
            "  inflating: known_images/normal_3.png  \n",
            "  inflating: known_images/normal_30.png  \n",
            "  inflating: known_images/normal_300.png  \n",
            "  inflating: known_images/normal_301.png  \n",
            "  inflating: known_images/normal_302.png  \n",
            "  inflating: known_images/normal_303.png  \n",
            "  inflating: known_images/normal_304.png  \n",
            "  inflating: known_images/normal_305.png  \n",
            "  inflating: known_images/normal_306.png  \n",
            "  inflating: known_images/normal_307.png  \n",
            "  inflating: known_images/normal_308.png  \n",
            "  inflating: known_images/normal_309.png  \n",
            "  inflating: known_images/normal_31.png  \n",
            "  inflating: known_images/normal_310.png  \n",
            "  inflating: known_images/normal_311.png  \n",
            "  inflating: known_images/normal_312.png  \n",
            "  inflating: known_images/normal_313.png  \n",
            "  inflating: known_images/normal_314.png  \n",
            "  inflating: known_images/normal_315.png  \n",
            "  inflating: known_images/normal_316.png  \n",
            "  inflating: known_images/normal_317.png  \n",
            "  inflating: known_images/normal_318.png  \n",
            "  inflating: known_images/normal_319.png  \n",
            "  inflating: known_images/normal_32.png  \n",
            "  inflating: known_images/normal_320.png  \n",
            "  inflating: known_images/normal_321.png  \n",
            "  inflating: known_images/normal_322.png  \n",
            "  inflating: known_images/normal_323.png  \n",
            "  inflating: known_images/normal_325.png  \n",
            "  inflating: known_images/normal_326.png  \n",
            "  inflating: known_images/normal_327.png  \n",
            "  inflating: known_images/normal_328.png  \n",
            "  inflating: known_images/normal_329.png  \n",
            "  inflating: known_images/normal_33.png  \n",
            "  inflating: known_images/normal_330.png  \n",
            "  inflating: known_images/normal_331.png  \n",
            "  inflating: known_images/normal_332.png  \n",
            "  inflating: known_images/normal_333.png  \n",
            "  inflating: known_images/normal_334.png  \n",
            "  inflating: known_images/normal_335.png  \n",
            "  inflating: known_images/normal_336.png  \n",
            "  inflating: known_images/normal_338.png  \n",
            "  inflating: known_images/normal_339.png  \n",
            "  inflating: known_images/normal_340.png  \n",
            "  inflating: known_images/normal_341.png  \n",
            "  inflating: known_images/normal_342.png  \n",
            "  inflating: known_images/normal_343.png  \n",
            "  inflating: known_images/normal_345.png  \n",
            "  inflating: known_images/normal_346.png  \n",
            "  inflating: known_images/normal_347.png  \n",
            "  inflating: known_images/normal_348.png  \n",
            "  inflating: known_images/normal_349.png  \n",
            "  inflating: known_images/normal_35.png  \n",
            "  inflating: known_images/normal_350.png  \n",
            "  inflating: known_images/normal_351.png  \n",
            "  inflating: known_images/normal_352.png  \n",
            "  inflating: known_images/normal_354.png  \n",
            "  inflating: known_images/normal_355.png  \n",
            "  inflating: known_images/normal_356.png  \n",
            "  inflating: known_images/normal_357.png  \n",
            "  inflating: known_images/normal_358.png  \n",
            "  inflating: known_images/normal_359.png  \n",
            "  inflating: known_images/normal_36.png  \n",
            "  inflating: known_images/normal_360.png  \n",
            "  inflating: known_images/normal_37.png  \n",
            "  inflating: known_images/normal_38.png  \n",
            "  inflating: known_images/normal_39.png  \n",
            "  inflating: known_images/normal_40.png  \n",
            "  inflating: known_images/normal_42.png  \n",
            "  inflating: known_images/normal_43.png  \n",
            "  inflating: known_images/normal_44.png  \n",
            "  inflating: known_images/normal_45.png  \n",
            "  inflating: known_images/normal_47.png  \n",
            "  inflating: known_images/normal_48.png  \n",
            "  inflating: known_images/normal_49.png  \n",
            "  inflating: known_images/normal_5.png  \n",
            "  inflating: known_images/normal_50.png  \n",
            "  inflating: known_images/normal_51.png  \n",
            "  inflating: known_images/normal_52.png  \n",
            "  inflating: known_images/normal_53.png  \n",
            "  inflating: known_images/normal_54.png  \n",
            "  inflating: known_images/normal_55.png  \n",
            "  inflating: known_images/normal_56.png  \n",
            "  inflating: known_images/normal_57.png  \n",
            "  inflating: known_images/normal_58.png  \n",
            "  inflating: known_images/normal_59.png  \n",
            "  inflating: known_images/normal_60.png  \n",
            "  inflating: known_images/normal_61.png  \n",
            "  inflating: known_images/normal_62.png  \n",
            "  inflating: known_images/normal_64.png  \n",
            "  inflating: known_images/normal_646.png  \n",
            "  inflating: known_images/normal_647.png  \n",
            "  inflating: known_images/normal_648.png  \n",
            "  inflating: known_images/normal_649.png  \n",
            "  inflating: known_images/normal_65.png  \n",
            "  inflating: known_images/normal_650.png  \n",
            "  inflating: known_images/normal_651.png  \n",
            "  inflating: known_images/normal_652.png  \n",
            "  inflating: known_images/normal_653.png  \n",
            "  inflating: known_images/normal_654.png  \n",
            "  inflating: known_images/normal_655.png  \n",
            "  inflating: known_images/normal_656.png  \n",
            "  inflating: known_images/normal_657.png  \n",
            "  inflating: known_images/normal_658.png  \n",
            "  inflating: known_images/normal_659.png  \n",
            "  inflating: known_images/normal_660.png  \n",
            "  inflating: known_images/normal_661.png  \n",
            "  inflating: known_images/normal_662.png  \n",
            "  inflating: known_images/normal_663.png  \n",
            "  inflating: known_images/normal_664.png  \n",
            "  inflating: known_images/normal_665.png  \n",
            "  inflating: known_images/normal_666.png  \n",
            "  inflating: known_images/normal_667.png  \n",
            "  inflating: known_images/normal_668.png  \n",
            "  inflating: known_images/normal_669.png  \n",
            "  inflating: known_images/normal_67.png  \n",
            "  inflating: known_images/normal_671.png  \n",
            "  inflating: known_images/normal_672.png  \n",
            "  inflating: known_images/normal_673.png  \n",
            "  inflating: known_images/normal_68.png  \n",
            "  inflating: known_images/normal_7.png  \n",
            "  inflating: known_images/normal_70.png  \n",
            "  inflating: known_images/normal_71.png  \n",
            "  inflating: known_images/normal_72.png  \n",
            "  inflating: known_images/normal_74.png  \n",
            "  inflating: known_images/normal_75.png  \n",
            "  inflating: known_images/normal_76.png  \n",
            "  inflating: known_images/normal_77.png  \n",
            "  inflating: known_images/normal_78.png  \n",
            "  inflating: known_images/normal_8.png  \n",
            "  inflating: known_images/normal_80.png  \n",
            "  inflating: known_images/normal_81.png  \n",
            "  inflating: known_images/normal_82.png  \n",
            "  inflating: known_images/normal_83.png  \n",
            "  inflating: known_images/normal_84.png  \n",
            "  inflating: known_images/normal_85.png  \n",
            "  inflating: known_images/normal_86.png  \n",
            "  inflating: known_images/normal_87.png  \n",
            "  inflating: known_images/normal_88.png  \n",
            "  inflating: known_images/normal_89.png  \n",
            "  inflating: known_images/normal_9.png  \n",
            "  inflating: known_images/normal_90.png  \n",
            "  inflating: known_images/normal_91.png  \n",
            "  inflating: known_images/normal_92.png  \n",
            "  inflating: known_images/normal_93.png  \n",
            "  inflating: known_images/normal_94.png  \n",
            "  inflating: known_images/normal_95.png  \n",
            "  inflating: known_images/normal_97.png  \n",
            "  inflating: known_images/normal_98.png  \n",
            "  inflating: known_images/normal_99.png  \n",
            "  inflating: known_images/sick_0.png  \n",
            "  inflating: known_images/sick_1.png  \n",
            "  inflating: known_images/sick_10.png  \n",
            "  inflating: known_images/sick_100.png  \n",
            "  inflating: known_images/sick_101.png  \n",
            "  inflating: known_images/sick_102.png  \n",
            "  inflating: known_images/sick_103.png  \n",
            "  inflating: known_images/sick_104.png  \n",
            "  inflating: known_images/sick_105.png  \n",
            "  inflating: known_images/sick_106.png  \n",
            "  inflating: known_images/sick_107.png  \n",
            "  inflating: known_images/sick_108.png  \n",
            "  inflating: known_images/sick_11.png  \n",
            "  inflating: known_images/sick_110.png  \n",
            "  inflating: known_images/sick_111.png  \n",
            "  inflating: known_images/sick_112.png  \n",
            "  inflating: known_images/sick_113.png  \n",
            "  inflating: known_images/sick_114.png  \n",
            "  inflating: known_images/sick_115.png  \n",
            "  inflating: known_images/sick_116.png  \n",
            "  inflating: known_images/sick_118.png  \n",
            "  inflating: known_images/sick_119.png  \n",
            "  inflating: known_images/sick_12.png  \n",
            "  inflating: known_images/sick_120.png  \n",
            "  inflating: known_images/sick_121.png  \n",
            "  inflating: known_images/sick_122.png  \n",
            "  inflating: known_images/sick_123.png  \n",
            "  inflating: known_images/sick_124.png  \n",
            "  inflating: known_images/sick_125.png  \n",
            "  inflating: known_images/sick_126.png  \n",
            "  inflating: known_images/sick_127.png  \n",
            "  inflating: known_images/sick_128.png  \n",
            "  inflating: known_images/sick_129.png  \n",
            "  inflating: known_images/sick_13.png  \n",
            "  inflating: known_images/sick_130.png  \n",
            "  inflating: known_images/sick_131.png  \n",
            "  inflating: known_images/sick_132.png  \n",
            "  inflating: known_images/sick_133.png  \n",
            "  inflating: known_images/sick_134.png  \n",
            "  inflating: known_images/sick_135.png  \n",
            "  inflating: known_images/sick_137.png  \n",
            "  inflating: known_images/sick_138.png  \n",
            "  inflating: known_images/sick_139.png  \n",
            "  inflating: known_images/sick_14.png  \n",
            "  inflating: known_images/sick_140.png  \n",
            "  inflating: known_images/sick_141.png  \n",
            "  inflating: known_images/sick_142.png  \n",
            "  inflating: known_images/sick_143.png  \n",
            "  inflating: known_images/sick_144.png  \n",
            "  inflating: known_images/sick_145.png  \n",
            "  inflating: known_images/sick_146.png  \n",
            "  inflating: known_images/sick_147.png  \n",
            "  inflating: known_images/sick_148.png  \n",
            "  inflating: known_images/sick_149.png  \n",
            "  inflating: known_images/sick_15.png  \n",
            "  inflating: known_images/sick_150.png  \n",
            "  inflating: known_images/sick_151.png  \n",
            "  inflating: known_images/sick_152.png  \n",
            "  inflating: known_images/sick_153.png  \n",
            "  inflating: known_images/sick_154.png  \n",
            "  inflating: known_images/sick_155.png  \n",
            "  inflating: known_images/sick_156.png  \n",
            "  inflating: known_images/sick_157.png  \n",
            "  inflating: known_images/sick_158.png  \n",
            "  inflating: known_images/sick_159.png  \n",
            "  inflating: known_images/sick_16.png  \n",
            "  inflating: known_images/sick_160.png  \n",
            "  inflating: known_images/sick_161.png  \n",
            "  inflating: known_images/sick_162.png  \n",
            "  inflating: known_images/sick_163.png  \n",
            "  inflating: known_images/sick_164.png  \n",
            "  inflating: known_images/sick_166.png  \n",
            "  inflating: known_images/sick_167.png  \n",
            "  inflating: known_images/sick_168.png  \n",
            "  inflating: known_images/sick_169.png  \n",
            "  inflating: known_images/sick_17.png  \n",
            "  inflating: known_images/sick_170.png  \n",
            "  inflating: known_images/sick_171.png  \n",
            "  inflating: known_images/sick_172.png  \n",
            "  inflating: known_images/sick_173.png  \n",
            "  inflating: known_images/sick_174.png  \n",
            "  inflating: known_images/sick_176.png  \n",
            "  inflating: known_images/sick_177.png  \n",
            "  inflating: known_images/sick_178.png  \n",
            "  inflating: known_images/sick_179.png  \n",
            "  inflating: known_images/sick_180.png  \n",
            "  inflating: known_images/sick_181.png  \n",
            "  inflating: known_images/sick_182.png  \n",
            "  inflating: known_images/sick_183.png  \n",
            "  inflating: known_images/sick_184.png  \n",
            "  inflating: known_images/sick_185.png  \n",
            "  inflating: known_images/sick_186.png  \n",
            "  inflating: known_images/sick_187.png  \n",
            "  inflating: known_images/sick_188.png  \n",
            "  inflating: known_images/sick_189.png  \n",
            "  inflating: known_images/sick_19.png  \n",
            "  inflating: known_images/sick_190.png  \n",
            "  inflating: known_images/sick_191.png  \n",
            "  inflating: known_images/sick_192.png  \n",
            "  inflating: known_images/sick_193.png  \n",
            "  inflating: known_images/sick_195.png  \n",
            "  inflating: known_images/sick_196.png  \n",
            "  inflating: known_images/sick_197.png  \n",
            "  inflating: known_images/sick_198.png  \n",
            "  inflating: known_images/sick_199.png  \n",
            "  inflating: known_images/sick_20.png  \n",
            "  inflating: known_images/sick_200.png  \n",
            "  inflating: known_images/sick_201.png  \n",
            "  inflating: known_images/sick_202.png  \n",
            "  inflating: known_images/sick_203.png  \n",
            "  inflating: known_images/sick_204.png  \n",
            "  inflating: known_images/sick_205.png  \n",
            "  inflating: known_images/sick_206.png  \n",
            "  inflating: known_images/sick_207.png  \n",
            "  inflating: known_images/sick_208.png  \n",
            "  inflating: known_images/sick_209.png  \n",
            "  inflating: known_images/sick_21.png  \n",
            "  inflating: known_images/sick_211.png  \n",
            "  inflating: known_images/sick_212.png  \n",
            "  inflating: known_images/sick_213.png  \n",
            "  inflating: known_images/sick_215.png  \n",
            "  inflating: known_images/sick_216.png  \n",
            "  inflating: known_images/sick_217.png  \n",
            "  inflating: known_images/sick_219.png  \n",
            "  inflating: known_images/sick_22.png  \n",
            "  inflating: known_images/sick_220.png  \n",
            "  inflating: known_images/sick_222.png  \n",
            "  inflating: known_images/sick_223.png  \n",
            "  inflating: known_images/sick_224.png  \n",
            "  inflating: known_images/sick_226.png  \n",
            "  inflating: known_images/sick_228.png  \n",
            "  inflating: known_images/sick_229.png  \n",
            "  inflating: known_images/sick_23.png  \n",
            "  inflating: known_images/sick_230.png  \n",
            "  inflating: known_images/sick_231.png  \n",
            "  inflating: known_images/sick_233.png  \n",
            "  inflating: known_images/sick_234.png  \n",
            "  inflating: known_images/sick_235.png  \n",
            "  inflating: known_images/sick_236.png  \n",
            "  inflating: known_images/sick_237.png  \n",
            "  inflating: known_images/sick_238.png  \n",
            "  inflating: known_images/sick_24.png  \n",
            "  inflating: known_images/sick_240.png  \n",
            "  inflating: known_images/sick_241.png  \n",
            "  inflating: known_images/sick_242.png  \n",
            "  inflating: known_images/sick_243.png  \n",
            "  inflating: known_images/sick_244.png  \n",
            "  inflating: known_images/sick_245.png  \n",
            "  inflating: known_images/sick_246.png  \n",
            "  inflating: known_images/sick_247.png  \n",
            "  inflating: known_images/sick_248.png  \n",
            "  inflating: known_images/sick_249.png  \n",
            "  inflating: known_images/sick_250.png  \n",
            "  inflating: known_images/sick_251.png  \n",
            "  inflating: known_images/sick_252.png  \n",
            "  inflating: known_images/sick_253.png  \n",
            "  inflating: known_images/sick_254.png  \n",
            "  inflating: known_images/sick_255.png  \n",
            "  inflating: known_images/sick_257.png  \n",
            "  inflating: known_images/sick_258.png  \n",
            "  inflating: known_images/sick_259.png  \n",
            "  inflating: known_images/sick_26.png  \n",
            "  inflating: known_images/sick_260.png  \n",
            "  inflating: known_images/sick_261.png  \n",
            "  inflating: known_images/sick_262.png  \n",
            "  inflating: known_images/sick_263.png  \n",
            "  inflating: known_images/sick_264.png  \n",
            "  inflating: known_images/sick_265.png  \n",
            "  inflating: known_images/sick_266.png  \n",
            "  inflating: known_images/sick_267.png  \n",
            "  inflating: known_images/sick_268.png  \n",
            "  inflating: known_images/sick_269.png  \n",
            "  inflating: known_images/sick_27.png  \n",
            "  inflating: known_images/sick_270.png  \n",
            "  inflating: known_images/sick_272.png  \n",
            "  inflating: known_images/sick_273.png  \n",
            "  inflating: known_images/sick_274.png  \n",
            "  inflating: known_images/sick_275.png  \n",
            "  inflating: known_images/sick_276.png  \n",
            "  inflating: known_images/sick_277.png  \n",
            "  inflating: known_images/sick_278.png  \n",
            "  inflating: known_images/sick_279.png  \n",
            "  inflating: known_images/sick_28.png  \n",
            "  inflating: known_images/sick_280.png  \n",
            "  inflating: known_images/sick_281.png  \n",
            "  inflating: known_images/sick_282.png  \n",
            "  inflating: known_images/sick_283.png  \n",
            "  inflating: known_images/sick_284.png  \n",
            "  inflating: known_images/sick_285.png  \n",
            "  inflating: known_images/sick_286.png  \n",
            "  inflating: known_images/sick_287.png  \n",
            "  inflating: known_images/sick_288.png  \n",
            "  inflating: known_images/sick_289.png  \n",
            "  inflating: known_images/sick_29.png  \n",
            "  inflating: known_images/sick_290.png  \n",
            "  inflating: known_images/sick_291.png  \n",
            "  inflating: known_images/sick_292.png  \n",
            "  inflating: known_images/sick_293.png  \n",
            "  inflating: known_images/sick_294.png  \n",
            "  inflating: known_images/sick_295.png  \n",
            "  inflating: known_images/sick_296.png  \n",
            "  inflating: known_images/sick_297.png  \n",
            "  inflating: known_images/sick_298.png  \n",
            "  inflating: known_images/sick_299.png  \n",
            "  inflating: known_images/sick_3.png  \n",
            "  inflating: known_images/sick_30.png  \n",
            "  inflating: known_images/sick_300.png  \n",
            "  inflating: known_images/sick_301.png  \n",
            "  inflating: known_images/sick_302.png  \n",
            "  inflating: known_images/sick_303.png  \n",
            "  inflating: known_images/sick_304.png  \n",
            "  inflating: known_images/sick_305.png  \n",
            "  inflating: known_images/sick_306.png  \n",
            "  inflating: known_images/sick_307.png  \n",
            "  inflating: known_images/sick_308.png  \n",
            "  inflating: known_images/sick_309.png  \n",
            "  inflating: known_images/sick_31.png  \n",
            "  inflating: known_images/sick_310.png  \n",
            "  inflating: known_images/sick_311.png  \n",
            "  inflating: known_images/sick_312.png  \n",
            "  inflating: known_images/sick_313.png  \n",
            "  inflating: known_images/sick_314.png  \n",
            "  inflating: known_images/sick_315.png  \n",
            "  inflating: known_images/sick_316.png  \n",
            "  inflating: known_images/sick_317.png  \n",
            "  inflating: known_images/sick_318.png  \n",
            "  inflating: known_images/sick_319.png  \n",
            "  inflating: known_images/sick_32.png  \n",
            "  inflating: known_images/sick_320.png  \n",
            "  inflating: known_images/sick_321.png  \n",
            "  inflating: known_images/sick_322.png  \n",
            "  inflating: known_images/sick_323.png  \n",
            "  inflating: known_images/sick_324.png  \n",
            "  inflating: known_images/sick_325.png  \n",
            "  inflating: known_images/sick_326.png  \n",
            "  inflating: known_images/sick_327.png  \n",
            "  inflating: known_images/sick_328.png  \n",
            "  inflating: known_images/sick_329.png  \n",
            "  inflating: known_images/sick_33.png  \n",
            "  inflating: known_images/sick_330.png  \n",
            "  inflating: known_images/sick_331.png  \n",
            "  inflating: known_images/sick_332.png  \n",
            "  inflating: known_images/sick_333.png  \n",
            "  inflating: known_images/sick_334.png  \n",
            "  inflating: known_images/sick_335.png  \n",
            "  inflating: known_images/sick_336.png  \n",
            "  inflating: known_images/sick_337.png  \n",
            "  inflating: known_images/sick_338.png  \n",
            "  inflating: known_images/sick_339.png  \n",
            "  inflating: known_images/sick_34.png  \n",
            "  inflating: known_images/sick_340.png  \n",
            "  inflating: known_images/sick_341.png  \n",
            "  inflating: known_images/sick_342.png  \n",
            "  inflating: known_images/sick_343.png  \n",
            "  inflating: known_images/sick_344.png  \n",
            "  inflating: known_images/sick_345.png  \n",
            "  inflating: known_images/sick_347.png  \n",
            "  inflating: known_images/sick_348.png  \n",
            "  inflating: known_images/sick_349.png  \n",
            "  inflating: known_images/sick_35.png  \n",
            "  inflating: known_images/sick_350.png  \n",
            "  inflating: known_images/sick_351.png  \n",
            "  inflating: known_images/sick_352.png  \n",
            "  inflating: known_images/sick_353.png  \n",
            "  inflating: known_images/sick_354.png  \n",
            "  inflating: known_images/sick_355.png  \n",
            "  inflating: known_images/sick_356.png  \n",
            "  inflating: known_images/sick_357.png  \n",
            "  inflating: known_images/sick_358.png  \n",
            "  inflating: known_images/sick_359.png  \n",
            "  inflating: known_images/sick_36.png  \n",
            "  inflating: known_images/sick_360.png  \n",
            "  inflating: known_images/sick_361.png  \n",
            "  inflating: known_images/sick_362.png  \n",
            "  inflating: known_images/sick_363.png  \n",
            "  inflating: known_images/sick_364.png  \n",
            "  inflating: known_images/sick_365.png  \n",
            "  inflating: known_images/sick_366.png  \n",
            "  inflating: known_images/sick_367.png  \n",
            "  inflating: known_images/sick_368.png  \n",
            "  inflating: known_images/sick_369.png  \n",
            "  inflating: known_images/sick_37.png  \n",
            "  inflating: known_images/sick_370.png  \n",
            "  inflating: known_images/sick_371.png  \n",
            "  inflating: known_images/sick_372.png  \n",
            "  inflating: known_images/sick_373.png  \n",
            "  inflating: known_images/sick_375.png  \n",
            "  inflating: known_images/sick_38.png  \n",
            "  inflating: known_images/sick_39.png  \n",
            "  inflating: known_images/sick_4.png  \n",
            "  inflating: known_images/sick_40.png  \n",
            "  inflating: known_images/sick_41.png  \n",
            "  inflating: known_images/sick_42.png  \n",
            "  inflating: known_images/sick_43.png  \n",
            "  inflating: known_images/sick_44.png  \n",
            "  inflating: known_images/sick_45.png  \n",
            "  inflating: known_images/sick_46.png  \n",
            "  inflating: known_images/sick_47.png  \n",
            "  inflating: known_images/sick_48.png  \n",
            "  inflating: known_images/sick_49.png  \n",
            "  inflating: known_images/sick_5.png  \n",
            "  inflating: known_images/sick_50.png  \n",
            "  inflating: known_images/sick_52.png  \n",
            "  inflating: known_images/sick_53.png  \n",
            "  inflating: known_images/sick_54.png  \n",
            "  inflating: known_images/sick_55.png  \n",
            "  inflating: known_images/sick_56.png  \n",
            "  inflating: known_images/sick_57.png  \n",
            "  inflating: known_images/sick_58.png  \n",
            "  inflating: known_images/sick_59.png  \n",
            "  inflating: known_images/sick_6.png  \n",
            "  inflating: known_images/sick_60.png  \n",
            "  inflating: known_images/sick_61.png  \n",
            "  inflating: known_images/sick_62.png  \n",
            "  inflating: known_images/sick_63.png  \n",
            "  inflating: known_images/sick_64.png  \n",
            "  inflating: known_images/sick_65.png  \n",
            "  inflating: known_images/sick_66.png  \n",
            "  inflating: known_images/sick_67.png  \n",
            "  inflating: known_images/sick_68.png  \n",
            "  inflating: known_images/sick_69.png  \n",
            "  inflating: known_images/sick_70.png  \n",
            "  inflating: known_images/sick_71.png  \n",
            "  inflating: known_images/sick_72.png  \n",
            "  inflating: known_images/sick_73.png  \n",
            "  inflating: known_images/sick_74.png  \n",
            "  inflating: known_images/sick_75.png  \n",
            "  inflating: known_images/sick_76.png  \n",
            "  inflating: known_images/sick_77.png  \n",
            "  inflating: known_images/sick_78.png  \n",
            "  inflating: known_images/sick_79.png  \n",
            "  inflating: known_images/sick_8.png  \n",
            "  inflating: known_images/sick_80.png  \n",
            "  inflating: known_images/sick_81.png  \n",
            "  inflating: known_images/sick_82.png  \n",
            "  inflating: known_images/sick_84.png  \n",
            "  inflating: known_images/sick_85.png  \n",
            "  inflating: known_images/sick_86.png  \n",
            "  inflating: known_images/sick_87.png  \n",
            "  inflating: known_images/sick_88.png  \n",
            "  inflating: known_images/sick_89.png  \n",
            "  inflating: known_images/sick_9.png  \n",
            "  inflating: known_images/sick_90.png  \n",
            "  inflating: known_images/sick_91.png  \n",
            "  inflating: known_images/sick_92.png  \n",
            "  inflating: known_images/sick_93.png  \n",
            "  inflating: known_images/sick_94.png  \n",
            "  inflating: known_images/sick_96.png  \n",
            "  inflating: known_images/sick_97.png  \n",
            "  inflating: known_images/sick_98.png  \n",
            "  inflating: known_images/sick_99.png  \n"
          ]
        }
      ]
    },
    {
      "cell_type": "markdown",
      "source": [
        "# Prepare Dataset"
      ],
      "metadata": {
        "id": "Ecno52Zqf2Tc"
      }
    },
    {
      "cell_type": "code",
      "source": [
        "import os\n",
        "import pandas as pd\n",
        "import matplotlib.pyplot as plt"
      ],
      "metadata": {
        "id": "ES2EE4Svh2-2"
      },
      "execution_count": null,
      "outputs": []
    },
    {
      "cell_type": "code",
      "source": [
        "# create dataframe\n",
        "images = os.listdir(\"./known_images\")\n",
        "labels = [\"0\" if \"normal\" in i  else \"1\" for i in images]\n",
        "df = pd.DataFrame({\n",
        "    \"images\": images,\n",
        "    \"labels\": labels\n",
        "})\n",
        "df.to_csv(\"dataset.csv\")\n",
        "df.head(10) # all sick images are labelled 1 while normal images are labelled 2"
      ],
      "metadata": {
        "colab": {
          "base_uri": "https://localhost:8080/",
          "height": 363
        },
        "id": "wefc-XCLf_NS",
        "outputId": "7b8f015e-7dc4-44e0-d1c6-f436da92c446"
      },
      "execution_count": null,
      "outputs": [
        {
          "output_type": "execute_result",
          "data": {
            "text/plain": [
              "           images labels\n",
              "0   normal_81.png      0\n",
              "1   normal_22.png      0\n",
              "2    sick_292.png      1\n",
              "3  normal_222.png      0\n",
              "4     sick_67.png      1\n",
              "5    sick_299.png      1\n",
              "6  normal_128.png      0\n",
              "7    sick_183.png      1\n",
              "8  normal_657.png      0\n",
              "9    sick_350.png      1"
            ],
            "text/html": [
              "\n",
              "  <div id=\"df-e2d6a706-ccfa-446d-8536-18bf5f769c01\">\n",
              "    <div class=\"colab-df-container\">\n",
              "      <div>\n",
              "<style scoped>\n",
              "    .dataframe tbody tr th:only-of-type {\n",
              "        vertical-align: middle;\n",
              "    }\n",
              "\n",
              "    .dataframe tbody tr th {\n",
              "        vertical-align: top;\n",
              "    }\n",
              "\n",
              "    .dataframe thead th {\n",
              "        text-align: right;\n",
              "    }\n",
              "</style>\n",
              "<table border=\"1\" class=\"dataframe\">\n",
              "  <thead>\n",
              "    <tr style=\"text-align: right;\">\n",
              "      <th></th>\n",
              "      <th>images</th>\n",
              "      <th>labels</th>\n",
              "    </tr>\n",
              "  </thead>\n",
              "  <tbody>\n",
              "    <tr>\n",
              "      <th>0</th>\n",
              "      <td>normal_81.png</td>\n",
              "      <td>0</td>\n",
              "    </tr>\n",
              "    <tr>\n",
              "      <th>1</th>\n",
              "      <td>normal_22.png</td>\n",
              "      <td>0</td>\n",
              "    </tr>\n",
              "    <tr>\n",
              "      <th>2</th>\n",
              "      <td>sick_292.png</td>\n",
              "      <td>1</td>\n",
              "    </tr>\n",
              "    <tr>\n",
              "      <th>3</th>\n",
              "      <td>normal_222.png</td>\n",
              "      <td>0</td>\n",
              "    </tr>\n",
              "    <tr>\n",
              "      <th>4</th>\n",
              "      <td>sick_67.png</td>\n",
              "      <td>1</td>\n",
              "    </tr>\n",
              "    <tr>\n",
              "      <th>5</th>\n",
              "      <td>sick_299.png</td>\n",
              "      <td>1</td>\n",
              "    </tr>\n",
              "    <tr>\n",
              "      <th>6</th>\n",
              "      <td>normal_128.png</td>\n",
              "      <td>0</td>\n",
              "    </tr>\n",
              "    <tr>\n",
              "      <th>7</th>\n",
              "      <td>sick_183.png</td>\n",
              "      <td>1</td>\n",
              "    </tr>\n",
              "    <tr>\n",
              "      <th>8</th>\n",
              "      <td>normal_657.png</td>\n",
              "      <td>0</td>\n",
              "    </tr>\n",
              "    <tr>\n",
              "      <th>9</th>\n",
              "      <td>sick_350.png</td>\n",
              "      <td>1</td>\n",
              "    </tr>\n",
              "  </tbody>\n",
              "</table>\n",
              "</div>\n",
              "      <button class=\"colab-df-convert\" onclick=\"convertToInteractive('df-e2d6a706-ccfa-446d-8536-18bf5f769c01')\"\n",
              "              title=\"Convert this dataframe to an interactive table.\"\n",
              "              style=\"display:none;\">\n",
              "        \n",
              "  <svg xmlns=\"http://www.w3.org/2000/svg\" height=\"24px\"viewBox=\"0 0 24 24\"\n",
              "       width=\"24px\">\n",
              "    <path d=\"M0 0h24v24H0V0z\" fill=\"none\"/>\n",
              "    <path d=\"M18.56 5.44l.94 2.06.94-2.06 2.06-.94-2.06-.94-.94-2.06-.94 2.06-2.06.94zm-11 1L8.5 8.5l.94-2.06 2.06-.94-2.06-.94L8.5 2.5l-.94 2.06-2.06.94zm10 10l.94 2.06.94-2.06 2.06-.94-2.06-.94-.94-2.06-.94 2.06-2.06.94z\"/><path d=\"M17.41 7.96l-1.37-1.37c-.4-.4-.92-.59-1.43-.59-.52 0-1.04.2-1.43.59L10.3 9.45l-7.72 7.72c-.78.78-.78 2.05 0 2.83L4 21.41c.39.39.9.59 1.41.59.51 0 1.02-.2 1.41-.59l7.78-7.78 2.81-2.81c.8-.78.8-2.07 0-2.86zM5.41 20L4 18.59l7.72-7.72 1.47 1.35L5.41 20z\"/>\n",
              "  </svg>\n",
              "      </button>\n",
              "      \n",
              "  <style>\n",
              "    .colab-df-container {\n",
              "      display:flex;\n",
              "      flex-wrap:wrap;\n",
              "      gap: 12px;\n",
              "    }\n",
              "\n",
              "    .colab-df-convert {\n",
              "      background-color: #E8F0FE;\n",
              "      border: none;\n",
              "      border-radius: 50%;\n",
              "      cursor: pointer;\n",
              "      display: none;\n",
              "      fill: #1967D2;\n",
              "      height: 32px;\n",
              "      padding: 0 0 0 0;\n",
              "      width: 32px;\n",
              "    }\n",
              "\n",
              "    .colab-df-convert:hover {\n",
              "      background-color: #E2EBFA;\n",
              "      box-shadow: 0px 1px 2px rgba(60, 64, 67, 0.3), 0px 1px 3px 1px rgba(60, 64, 67, 0.15);\n",
              "      fill: #174EA6;\n",
              "    }\n",
              "\n",
              "    [theme=dark] .colab-df-convert {\n",
              "      background-color: #3B4455;\n",
              "      fill: #D2E3FC;\n",
              "    }\n",
              "\n",
              "    [theme=dark] .colab-df-convert:hover {\n",
              "      background-color: #434B5C;\n",
              "      box-shadow: 0px 1px 3px 1px rgba(0, 0, 0, 0.15);\n",
              "      filter: drop-shadow(0px 1px 2px rgba(0, 0, 0, 0.3));\n",
              "      fill: #FFFFFF;\n",
              "    }\n",
              "  </style>\n",
              "\n",
              "      <script>\n",
              "        const buttonEl =\n",
              "          document.querySelector('#df-e2d6a706-ccfa-446d-8536-18bf5f769c01 button.colab-df-convert');\n",
              "        buttonEl.style.display =\n",
              "          google.colab.kernel.accessAllowed ? 'block' : 'none';\n",
              "\n",
              "        async function convertToInteractive(key) {\n",
              "          const element = document.querySelector('#df-e2d6a706-ccfa-446d-8536-18bf5f769c01');\n",
              "          const dataTable =\n",
              "            await google.colab.kernel.invokeFunction('convertToInteractive',\n",
              "                                                     [key], {});\n",
              "          if (!dataTable) return;\n",
              "\n",
              "          const docLinkHtml = 'Like what you see? Visit the ' +\n",
              "            '<a target=\"_blank\" href=https://colab.research.google.com/notebooks/data_table.ipynb>data table notebook</a>'\n",
              "            + ' to learn more about interactive tables.';\n",
              "          element.innerHTML = '';\n",
              "          dataTable['output_type'] = 'display_data';\n",
              "          await google.colab.output.renderOutput(dataTable, element);\n",
              "          const docLink = document.createElement('div');\n",
              "          docLink.innerHTML = docLinkHtml;\n",
              "          element.appendChild(docLink);\n",
              "        }\n",
              "      </script>\n",
              "    </div>\n",
              "  </div>\n",
              "  "
            ]
          },
          "metadata": {},
          "execution_count": 4
        }
      ]
    },
    {
      "cell_type": "code",
      "source": [
        "# From this plot we see the number of images is fairly\n",
        "# distributed between the two classes\n",
        "df.labels.value_counts().plot(kind=\"bar\"); \n",
        "plt.title(\"Number of images per class\")\n",
        "plt.xticks(ticks=[0,1],labels=[\"normal\", \"sick\"], rotation=0)\n",
        "plt.ylabel(\"Number of images\")\n",
        "plt.xlabel(\"Class\")\n",
        "plt.show()"
      ],
      "metadata": {
        "colab": {
          "base_uri": "https://localhost:8080/",
          "height": 472
        },
        "id": "eEpUGYWNjzK6",
        "outputId": "a7949aa4-5460-4e78-bfe6-64319f9b261d"
      },
      "execution_count": null,
      "outputs": [
        {
          "output_type": "display_data",
          "data": {
            "text/plain": [
              "<Figure size 640x480 with 1 Axes>"
            ],
            "image/png": "[encoded data removed]"
          },
          "metadata": {}
        }
      ]
    },
    {
      "cell_type": "code",
      "source": [
        "# create dataset splits\n",
        "from sklearn.model_selection import train_test_split\n",
        "df_train, df_eval = train_test_split(df, test_size=0.3, random_state=0)\n",
        "df_test, df_val = train_test_split(df_eval, test_size=0.33, random_state=0)"
      ],
      "metadata": {
        "id": "R-HvHmaLip4I"
      },
      "execution_count": null,
      "outputs": []
    },
    {
      "cell_type": "code",
      "source": [
        "# subplot the partitioning results\n",
        "print(\"\\nTrain partition:\\n\", df_train.labels.value_counts())\n",
        "print(\"\\nTest partition:\\n\", df_test.labels.value_counts())\n",
        "print(\"\\nValidation partition:\\n\", df_val.labels.value_counts())"
      ],
      "metadata": {
        "colab": {
          "base_uri": "https://localhost:8080/"
        },
        "id": "xwb6Nbbum67H",
        "outputId": "a1319b17-eaee-4af9-8a12-9b9380323b02"
      },
      "execution_count": null,
      "outputs": [
        {
          "output_type": "stream",
          "name": "stdout",
          "text": [
            "\n",
            "Train partition:\n",
            " 0    256\n",
            "1    244\n",
            "Name: labels, dtype: int64\n",
            "\n",
            "Test partition:\n",
            " 1    73\n",
            "0    71\n",
            "Name: labels, dtype: int64\n",
            "\n",
            "Validation partition:\n",
            " 0    37\n",
            "1    34\n",
            "Name: labels, dtype: int64\n"
          ]
        }
      ]
    },
    {
      "cell_type": "code",
      "source": [
        "from keras.preprocessing.image import ImageDataGenerator\n",
        "# create data generators\n",
        "train_datagen = ImageDataGenerator(\n",
        "    zoom_range=0.2,\n",
        "    rescale=1.0/255.0,\n",
        ")\n",
        "test_datagen = ImageDataGenerator(rescale=1.0/255)\n",
        "\n",
        "train_generator = train_datagen.flow_from_dataframe(dataframe=df_train,\n",
        "                                                    directory=\"./known_images\",\n",
        "                                                    x_col=\"images\",\n",
        "                                                    y_col=\"labels\",\n",
        "                                                    target_size=(391, 488),\n",
        "                                                    class_mode=\"binary\",\n",
        "                                                    batch_size=32)\n",
        "\n",
        "test_generator = test_datagen.flow_from_dataframe(dataframe=df_test,\n",
        "                                                  directory=\"./known_images\",\n",
        "                                                  x_col=\"images\",\n",
        "                                                  y_col=\"labels\",\n",
        "                                                  target_size=(391, 488),\n",
        "                                                  class_mode=\"binary\",\n",
        "                                                  shuffle=False,\n",
        "                                                  batch_size=32)\n",
        "\n",
        "val_generator = test_datagen.flow_from_dataframe(dataframe=df_val,\n",
        "                                                  directory=\"./known_images\",\n",
        "                                                  x_col=\"images\",\n",
        "                                                  y_col=\"labels\",\n",
        "                                                 target_size=(391, 488),\n",
        "                                                  class_mode=\"binary\",\n",
        "                                                 shuffle=False,\n",
        "                                                  batch_size=32)"
      ],
      "metadata": {
        "colab": {
          "base_uri": "https://localhost:8080/"
        },
        "id": "IzSCtZoAmxKZ",
        "outputId": "9bba0bae-af3c-4f77-e26d-7b28009fe6a6"
      },
      "execution_count": null,
      "outputs": [
        {
          "output_type": "stream",
          "name": "stdout",
          "text": [
            "Found 500 validated image filenames belonging to 2 classes.\n",
            "Found 144 validated image filenames belonging to 2 classes.\n",
            "Found 71 validated image filenames belonging to 2 classes.\n"
          ]
        }
      ]
    },
    {
      "cell_type": "markdown",
      "source": [
        "# Train the model"
      ],
      "metadata": {
        "id": "OH-EXboxm0Mj"
      }
    },
    {
      "cell_type": "code",
      "source": [
        "import keras\n",
        "from keras import layers"
      ],
      "metadata": {
        "id": "NH11qnIZr4T2"
      },
      "execution_count": null,
      "outputs": []
    },
    {
      "cell_type": "code",
      "source": [
        "model = keras.Sequential(\n",
        "    [\n",
        "      layers.Conv2D(32, (3,3), activation=\"relu\", input_shape=(391, 488, 3)),\n",
        "      layers.MaxPooling2D((2,2)),\n",
        "      layers.Conv2D(64, (3,3), activation=\"relu\"),\n",
        "      layers.MaxPooling2D((2,2)),\n",
        "      layers.Conv2D(64, (3,3), activation=\"relu\"),\n",
        "      layers.MaxPooling2D((2,2)),\n",
        "      layers.Conv2D(128, (3,3), activation=\"relu\"),\n",
        "      layers.MaxPooling2D((2,2)),\n",
        "      layers.Flatten(),\n",
        "      layers.Dense(32, activation=\"relu\"),\n",
        "      layers.Dense(1, activation=\"sigmoid\")\n",
        "    ]\n",
        ")\n",
        "model.summary()"
      ],
      "metadata": {
        "colab": {
          "base_uri": "https://localhost:8080/"
        },
        "id": "c5oyj8QQr8e5",
        "outputId": "7b8dbd3c-1df9-4245-a76c-22e430d36348"
      },
      "execution_count": null,
      "outputs": [
        {
          "output_type": "stream",
          "name": "stdout",
          "text": [
            "Model: \"sequential_5\"\n",
            "_________________________________________________________________\n",
            " Layer (type)                Output Shape              Param #   \n",
            "=================================================================\n",
            " conv2d_20 (Conv2D)          (None, 389, 486, 32)      896       \n",
            "                                                                 \n",
            " max_pooling2d_20 (MaxPoolin  (None, 194, 243, 32)     0         \n",
            " g2D)                                                            \n",
            "                                                                 \n",
            " conv2d_21 (Conv2D)          (None, 192, 241, 64)      18496     \n",
            "                                                                 \n",
            " max_pooling2d_21 (MaxPoolin  (None, 96, 120, 64)      0         \n",
            " g2D)                                                            \n",
            "                                                                 \n",
            " conv2d_22 (Conv2D)          (None, 94, 118, 64)       36928     \n",
            "                                                                 \n",
            " max_pooling2d_22 (MaxPoolin  (None, 47, 59, 64)       0         \n",
            " g2D)                                                            \n",
            "                                                                 \n",
            " conv2d_23 (Conv2D)          (None, 45, 57, 128)       73856     \n",
            "                                                                 \n",
            " max_pooling2d_23 (MaxPoolin  (None, 22, 28, 128)      0         \n",
            " g2D)                                                            \n",
            "                                                                 \n",
            " flatten_5 (Flatten)         (None, 78848)             0         \n",
            "                                                                 \n",
            " dense_10 (Dense)            (None, 32)                2523168   \n",
            "                                                                 \n",
            " dense_11 (Dense)            (None, 1)                 33        \n",
            "                                                                 \n",
            "=================================================================\n",
            "Total params: 2,653,377\n",
            "Trainable params: 2,653,377\n",
            "Non-trainable params: 0\n",
            "_________________________________________________________________\n"
          ]
        }
      ]
    },
    {
      "cell_type": "code",
      "source": [
        "# optimizer\n",
        "opt = keras.optimizers.Adam(learning_rate=1e-3)\n",
        "model.compile(loss='binary_crossentropy', optimizer=opt, metrics=['accuracy'])"
      ],
      "metadata": {
        "id": "5EjZtrmFtTpj"
      },
      "execution_count": null,
      "outputs": []
    },
    {
      "cell_type": "code",
      "source": [
        "history = model.fit(train_generator, epochs=20, batch_size=32, validation_data=val_generator)"
      ],
      "metadata": {
        "colab": {
          "base_uri": "https://localhost:8080/"
        },
        "id": "LXlDhhfctqTU",
        "outputId": "b12f00a4-9a95-42a7-b777-543dfb1c580b"
      },
      "execution_count": null,
      "outputs": [
        {
          "output_type": "stream",
          "name": "stdout",
          "text": [
            "Epoch 1/20\n",
            "16/16 [==============================] - 41s 2s/step - loss: 0.6860 - accuracy: 0.5960 - val_loss: 0.4517 - val_accuracy: 0.8028\n",
            "Epoch 2/20\n",
            "16/16 [==============================] - 23s 1s/step - loss: 0.3891 - accuracy: 0.8120 - val_loss: 0.1784 - val_accuracy: 0.9437\n",
            "Epoch 3/20\n",
            "16/16 [==============================] - 25s 2s/step - loss: 0.3673 - accuracy: 0.8240 - val_loss: 0.3066 - val_accuracy: 0.8310\n",
            "Epoch 4/20\n",
            "16/16 [==============================] - 24s 1s/step - loss: 0.2845 - accuracy: 0.8960 - val_loss: 0.1456 - val_accuracy: 0.9437\n",
            "Epoch 5/20\n",
            "16/16 [==============================] - 22s 1s/step - loss: 0.2255 - accuracy: 0.9100 - val_loss: 0.1101 - val_accuracy: 0.9718\n",
            "Epoch 6/20\n",
            "16/16 [==============================] - 24s 1s/step - loss: 0.1678 - accuracy: 0.9240 - val_loss: 0.0933 - val_accuracy: 0.9577\n",
            "Epoch 7/20\n",
            "16/16 [==============================] - 23s 1s/step - loss: 0.1647 - accuracy: 0.9320 - val_loss: 0.3651 - val_accuracy: 0.8592\n",
            "Epoch 8/20\n",
            "16/16 [==============================] - 24s 1s/step - loss: 0.2325 - accuracy: 0.9020 - val_loss: 0.1075 - val_accuracy: 0.9437\n",
            "Epoch 9/20\n",
            "16/16 [==============================] - 23s 1s/step - loss: 0.1699 - accuracy: 0.9440 - val_loss: 0.3699 - val_accuracy: 0.8873\n",
            "Epoch 10/20\n",
            "16/16 [==============================] - 23s 1s/step - loss: 0.1356 - accuracy: 0.9380 - val_loss: 0.0527 - val_accuracy: 0.9718\n",
            "Epoch 11/20\n",
            "16/16 [==============================] - 22s 1s/step - loss: 0.1435 - accuracy: 0.9320 - val_loss: 0.0488 - val_accuracy: 1.0000\n",
            "Epoch 12/20\n",
            "16/16 [==============================] - 23s 1s/step - loss: 0.1810 - accuracy: 0.9260 - val_loss: 0.2193 - val_accuracy: 0.9014\n",
            "Epoch 13/20\n",
            "16/16 [==============================] - 23s 1s/step - loss: 0.2107 - accuracy: 0.9200 - val_loss: 0.0900 - val_accuracy: 0.9718\n",
            "Epoch 14/20\n",
            "16/16 [==============================] - 22s 1s/step - loss: 0.1151 - accuracy: 0.9600 - val_loss: 0.1494 - val_accuracy: 0.9296\n",
            "Epoch 15/20\n",
            "16/16 [==============================] - 23s 1s/step - loss: 0.0672 - accuracy: 0.9800 - val_loss: 0.0381 - val_accuracy: 0.9859\n",
            "Epoch 16/20\n",
            "16/16 [==============================] - 24s 2s/step - loss: 0.0418 - accuracy: 0.9780 - val_loss: 0.0886 - val_accuracy: 0.9718\n",
            "Epoch 17/20\n",
            "16/16 [==============================] - 22s 1s/step - loss: 0.0481 - accuracy: 0.9820 - val_loss: 0.0821 - val_accuracy: 0.9718\n",
            "Epoch 18/20\n",
            "16/16 [==============================] - 24s 1s/step - loss: 0.0352 - accuracy: 0.9880 - val_loss: 0.0720 - val_accuracy: 0.9859\n",
            "Epoch 19/20\n",
            "16/16 [==============================] - 23s 1s/step - loss: 0.0461 - accuracy: 0.9800 - val_loss: 0.0462 - val_accuracy: 0.9859\n",
            "Epoch 20/20\n",
            "16/16 [==============================] - 30s 2s/step - loss: 0.0591 - accuracy: 0.9760 - val_loss: 0.2228 - val_accuracy: 0.9577\n"
          ]
        }
      ]
    },
    {
      "cell_type": "code",
      "source": [
        "print(history.history.keys())\n",
        "# summarize history for accuracy\n",
        "plt.plot(history.history['accuracy'])\n",
        "plt.plot(history.history['val_accuracy'])\n",
        "plt.title('model accuracy')\n",
        "plt.ylabel('accuracy')\n",
        "plt.xlabel('epoch')\n",
        "plt.legend(['train', 'val'], loc='upper left')\n",
        "plt.show()\n",
        "# summarize history for loss\n",
        "plt.plot(history.history['loss'])\n",
        "plt.plot(history.history['val_loss'])\n",
        "plt.title('model loss')\n",
        "plt.ylabel('loss')\n",
        "plt.xlabel('epoch')\n",
        "plt.legend(['train', 'val'], loc='upper left')\n",
        "plt.show()"
      ],
      "metadata": {
        "colab": {
          "base_uri": "https://localhost:8080/",
          "height": 944
        },
        "id": "9cgKF5sbuXQY",
        "outputId": "83890912-30a0-4770-a5ef-984efa957d4c"
      },
      "execution_count": null,
      "outputs": [
        {
          "output_type": "stream",
          "name": "stdout",
          "text": [
            "dict_keys(['loss', 'accuracy', 'val_loss', 'val_accuracy'])\n"
          ]
        },
        {
          "output_type": "display_data",
          "data": {
            "text/plain": [
              "<Figure size 640x480 with 1 Axes>"
            ],
            "image/png": "[encoded data removed]"
          },
          "metadata": {}
        },
        {
          "output_type": "display_data",
          "data": {
            "text/plain": [
              "<Figure size 640x480 with 1 Axes>"
            ],
            "image/png": "[encoded data removed]"
          },
          "metadata": {}
        }
      ]
    },
    {
      "cell_type": "code",
      "source": [
        "model.evaluate(test_generator)"
      ],
      "metadata": {
        "colab": {
          "base_uri": "https://localhost:8080/"
        },
        "id": "jxXJxwXFyrBf",
        "outputId": "8818c966-cca8-4c1a-80ad-f6066b9497ee"
      },
      "execution_count": null,
      "outputs": [
        {
          "output_type": "stream",
          "name": "stdout",
          "text": [
            "5/5 [==============================] - 1s 210ms/step - loss: 0.1324 - accuracy: 0.9583\n"
          ]
        },
        {
          "output_type": "execute_result",
          "data": {
            "text/plain": [
              "[0.1324157416820526, 0.9583333134651184]"
            ]
          },
          "metadata": {},
          "execution_count": 61
        }
      ]
    },
    {
      "cell_type": "code",
      "source": [
        "y_true = test_generator.classes"
      ],
      "metadata": {
        "id": "sOcNynUyy6sD"
      },
      "execution_count": null,
      "outputs": []
    },
    {
      "cell_type": "code",
      "source": [
        "y_pred = model.predict(test_generator)"
      ],
      "metadata": {
        "colab": {
          "base_uri": "https://localhost:8080/"
        },
        "id": "Y38INNb9ywZm",
        "outputId": "fe5229ba-5e26-4b69-b2d7-0868791d509d"
      },
      "execution_count": null,
      "outputs": [
        {
          "output_type": "stream",
          "name": "stdout",
          "text": [
            "5/5 [==============================] - 1s 220ms/step\n"
          ]
        }
      ]
    },
    {
      "cell_type": "code",
      "source": [
        "y_pred = [1 if i > 0.5 else 0 for i in y_pred]"
      ],
      "metadata": {
        "id": "IHVYtQYVzApj"
      },
      "execution_count": null,
      "outputs": []
    },
    {
      "cell_type": "code",
      "source": [
        "y_pred.count(0)"
      ],
      "metadata": {
        "colab": {
          "base_uri": "https://localhost:8080/"
        },
        "id": "qAcysBEG1i8o",
        "outputId": "63dad98b-7b42-4648-aa84-4ffb9eff0e43"
      },
      "execution_count": null,
      "outputs": [
        {
          "output_type": "execute_result",
          "data": {
            "text/plain": [
              "77"
            ]
          },
          "metadata": {},
          "execution_count": 65
        }
      ]
    },
    {
      "cell_type": "code",
      "source": [
        "from sklearn.metrics import ConfusionMatrixDisplay\n",
        "def plot_confusion_matrix(y_test, y_pred, labels):\n",
        "  \"\"\"\n",
        "    y_test: true y labels\n",
        "    y_pred: predicted y labels\n",
        "    labels: class labels\n",
        "  \"\"\"\n",
        "  disp = ConfusionMatrixDisplay.from_predictions(y_test,\n",
        "                                                 y_pred,\n",
        "                                                 display_labels=labels,\n",
        "                                                 cmap=\"Blues\")\n",
        "\n",
        "plot_confusion_matrix( y_true, y_pred, [\"Normal\", \"Sick\"])"
      ],
      "metadata": {
        "colab": {
          "base_uri": "https://localhost:8080/",
          "height": 450
        },
        "id": "yB54ZfryzGIj",
        "outputId": "0dea0e74-045e-4337-f580-ccf6ff180ce6"
      },
      "execution_count": null,
      "outputs": [
        {
          "output_type": "display_data",
          "data": {
            "text/plain": [
              "<Figure size 640x480 with 2 Axes>"
            ],
            "image/png": "[encoded data removed]"
          },
          "metadata": {}
        }
      ]
    },
    {
      "cell_type": "markdown",
      "source": [
        "# Test on unknown dataset"
      ],
      "metadata": {
        "id": "XgZ_4OWQ4vqi"
      }
    },
    {
      "cell_type": "code",
      "source": [
        "# unzip dataset from google drive\n",
        "!unzip /content/drive/MyDrive/Personal/Computer\\ Vision/dl_final_project/dataset2.zip"
      ],
      "metadata": {
        "colab": {
          "base_uri": "https://localhost:8080/"
        },
        "id": "ZE65orHT0leb",
        "outputId": "7d887981-1303-4b84-cb2e-6591eb81e481"
      },
      "execution_count": null,
      "outputs": [
        {
          "output_type": "stream",
          "name": "stdout",
          "text": [
            "Archive:  /content/drive/MyDrive/Personal/Computer Vision/dl_final_project/dataset2.zip\n",
            "replace images/sick_eff0.png? [y]es, [n]o, [A]ll, [N]one, [r]ename: A\n",
            "  inflating: images/sick_eff0.png    \n",
            "  inflating: images/sick_eff1.png    \n",
            "  inflating: images/sick_eff10.png   \n",
            "  inflating: images/sick_eff100.png  \n",
            "  inflating: images/sick_eff101.png  \n",
            "  inflating: images/sick_eff102.png  \n",
            "  inflating: images/sick_eff103.png  \n",
            "  inflating: images/sick_eff104.png  \n",
            "  inflating: images/sick_eff105.png  \n",
            "  inflating: images/sick_eff106.png  \n",
            "  inflating: images/sick_eff107.png  \n",
            "  inflating: images/sick_eff108.png  \n",
            "  inflating: images/sick_eff109.png  \n",
            "  inflating: images/sick_eff11.png   \n",
            "  inflating: images/sick_eff110.png  \n",
            "  inflating: images/sick_eff111.png  \n",
            "  inflating: images/sick_eff12.png   \n",
            "  inflating: images/sick_eff13.png   \n",
            "  inflating: images/sick_eff14.png   \n",
            "  inflating: images/sick_eff15.png   \n",
            "  inflating: images/sick_eff16.png   \n",
            "  inflating: images/sick_eff17.png   \n",
            "  inflating: images/sick_eff18.png   \n",
            "  inflating: images/sick_eff19.png   \n",
            "  inflating: images/sick_eff2.png    \n",
            "  inflating: images/sick_eff20.png   \n",
            "  inflating: images/sick_eff21.png   \n",
            "  inflating: images/sick_eff22.png   \n",
            "  inflating: images/sick_eff23.png   \n",
            "  inflating: images/sick_eff24.png   \n",
            "  inflating: images/sick_eff25.png   \n",
            "  inflating: images/sick_eff26.png   \n",
            "  inflating: images/sick_eff27.png   \n",
            "  inflating: images/sick_eff28.png   \n",
            "  inflating: images/sick_eff29.png   \n",
            "  inflating: images/sick_eff3.png    \n",
            "  inflating: images/sick_eff30.png   \n",
            "  inflating: images/sick_eff31.png   \n",
            "  inflating: images/sick_eff32.png   \n",
            "  inflating: images/sick_eff33.png   \n",
            "  inflating: images/sick_eff34.png   \n",
            "  inflating: images/sick_eff35.png   \n",
            "  inflating: images/sick_eff36.png   \n",
            "  inflating: images/sick_eff37.png   \n",
            "  inflating: images/sick_eff38.png   \n",
            "  inflating: images/sick_eff39.png   \n",
            "  inflating: images/sick_eff4.png    \n",
            "  inflating: images/sick_eff40.png   \n",
            "  inflating: images/sick_eff41.png   \n",
            "  inflating: images/sick_eff42.png   \n",
            "  inflating: images/sick_eff43.png   \n",
            "  inflating: images/sick_eff44.png   \n",
            "  inflating: images/sick_eff45.png   \n",
            "  inflating: images/sick_eff46.png   \n",
            "  inflating: images/sick_eff47.png   \n",
            "  inflating: images/sick_eff48.png   \n",
            "  inflating: images/sick_eff49.png   \n",
            "  inflating: images/sick_eff5.png    \n",
            "  inflating: images/sick_eff50.png   \n",
            "  inflating: images/sick_eff51.png   \n",
            "  inflating: images/sick_eff52.png   \n",
            "  inflating: images/sick_eff53.png   \n",
            "  inflating: images/sick_eff54.png   \n",
            "  inflating: images/sick_eff55.png   \n",
            "  inflating: images/sick_eff56.png   \n",
            "  inflating: images/sick_eff57.png   \n",
            "  inflating: images/sick_eff58.png   \n",
            "  inflating: images/sick_eff59.png   \n",
            "  inflating: images/sick_eff6.png    \n",
            "  inflating: images/sick_eff60.png   \n",
            "  inflating: images/sick_eff61.png   \n",
            "  inflating: images/sick_eff62.png   \n",
            "  inflating: images/sick_eff63.png   \n",
            "  inflating: images/sick_eff64.png   \n",
            "  inflating: images/sick_eff65.png   \n",
            "  inflating: images/sick_eff66.png   \n",
            "  inflating: images/sick_eff67.png   \n",
            "  inflating: images/sick_eff68.png   \n",
            "  inflating: images/sick_eff69.png   \n",
            "  inflating: images/sick_eff7.png    \n",
            "  inflating: images/sick_eff70.png   \n",
            "  inflating: images/sick_eff71.png   \n",
            "  inflating: images/sick_eff72.png   \n",
            "  inflating: images/sick_eff73.png   \n",
            "  inflating: images/sick_eff74.png   \n",
            "  inflating: images/sick_eff75.png   \n",
            "  inflating: images/sick_eff76.png   \n",
            "  inflating: images/sick_eff77.png   \n",
            "  inflating: images/sick_eff78.png   \n",
            "  inflating: images/sick_eff79.png   \n",
            "  inflating: images/sick_eff8.png    \n",
            "  inflating: images/sick_eff80.png   \n",
            "  inflating: images/sick_eff81.png   \n",
            "  inflating: images/sick_eff82.png   \n",
            "  inflating: images/sick_eff83.png   \n",
            "  inflating: images/sick_eff84.png   \n",
            "  inflating: images/sick_eff85.png   \n",
            "  inflating: images/sick_eff86.png   \n",
            "  inflating: images/sick_eff87.png   \n",
            "  inflating: images/sick_eff88.png   \n",
            "  inflating: images/sick_eff89.png   \n",
            "  inflating: images/sick_eff9.png    \n",
            "  inflating: images/sick_eff90.png   \n",
            "  inflating: images/sick_eff91.png   \n",
            "  inflating: images/sick_eff92.png   \n",
            "  inflating: images/sick_eff93.png   \n",
            "  inflating: images/sick_eff94.png   \n",
            "  inflating: images/sick_eff95.png   \n",
            "  inflating: images/sick_eff96.png   \n",
            "  inflating: images/sick_eff97.png   \n",
            "  inflating: images/sick_eff98.png   \n",
            "  inflating: images/sick_eff99.png   \n",
            "  inflating: images/sick_eif0.png    \n",
            "  inflating: images/sick_eif1.png    \n",
            "  inflating: images/sick_eif10.png   \n",
            "  inflating: images/sick_eif100.png  \n",
            "  inflating: images/sick_eif101.png  \n",
            "  inflating: images/sick_eif102.png  \n",
            "  inflating: images/sick_eif103.png  \n",
            "  inflating: images/sick_eif104.png  \n",
            "  inflating: images/sick_eif105.png  \n",
            "  inflating: images/sick_eif106.png  \n",
            "  inflating: images/sick_eif107.png  \n",
            "  inflating: images/sick_eif108.png  \n",
            "  inflating: images/sick_eif109.png  \n",
            "  inflating: images/sick_eif11.png   \n",
            "  inflating: images/sick_eif110.png  \n",
            "  inflating: images/sick_eif111.png  \n",
            "  inflating: images/sick_eif12.png   \n",
            "  inflating: images/sick_eif13.png   \n",
            "  inflating: images/sick_eif14.png   \n",
            "  inflating: images/sick_eif15.png   \n",
            "  inflating: images/sick_eif16.png   \n",
            "  inflating: images/sick_eif17.png   \n",
            "  inflating: images/sick_eif18.png   \n",
            "  inflating: images/sick_eif19.png   \n",
            "  inflating: images/sick_eif2.png    \n",
            "  inflating: images/sick_eif20.png   \n",
            "  inflating: images/sick_eif21.png   \n",
            "  inflating: images/sick_eif22.png   \n",
            "  inflating: images/sick_eif23.png   \n",
            "  inflating: images/sick_eif24.png   \n",
            "  inflating: images/sick_eif25.png   \n",
            "  inflating: images/sick_eif26.png   \n",
            "  inflating: images/sick_eif27.png   \n",
            "  inflating: images/sick_eif28.png   \n",
            "  inflating: images/sick_eif29.png   \n",
            "  inflating: images/sick_eif3.png    \n",
            "  inflating: images/sick_eif30.png   \n",
            "  inflating: images/sick_eif31.png   \n",
            "  inflating: images/sick_eif32.png   \n",
            "  inflating: images/sick_eif33.png   \n",
            "  inflating: images/sick_eif34.png   \n",
            "  inflating: images/sick_eif35.png   \n",
            "  inflating: images/sick_eif36.png   \n",
            "  inflating: images/sick_eif37.png   \n",
            "  inflating: images/sick_eif38.png   \n",
            "  inflating: images/sick_eif39.png   \n",
            "  inflating: images/sick_eif4.png    \n",
            "  inflating: images/sick_eif40.png   \n",
            "  inflating: images/sick_eif41.png   \n",
            "  inflating: images/sick_eif42.png   \n",
            "  inflating: images/sick_eif43.png   \n",
            "  inflating: images/sick_eif44.png   \n",
            "  inflating: images/sick_eif45.png   \n",
            "  inflating: images/sick_eif46.png   \n",
            "  inflating: images/sick_eif47.png   \n",
            "  inflating: images/sick_eif48.png   \n",
            "  inflating: images/sick_eif49.png   \n",
            "  inflating: images/sick_eif5.png    \n",
            "  inflating: images/sick_eif50.png   \n",
            "  inflating: images/sick_eif51.png   \n",
            "  inflating: images/sick_eif52.png   \n",
            "  inflating: images/sick_eif53.png   \n",
            "  inflating: images/sick_eif54.png   \n",
            "  inflating: images/sick_eif55.png   \n",
            "  inflating: images/sick_eif56.png   \n",
            "  inflating: images/sick_eif57.png   \n",
            "  inflating: images/sick_eif58.png   \n",
            "  inflating: images/sick_eif59.png   \n",
            "  inflating: images/sick_eif6.png    \n",
            "  inflating: images/sick_eif60.png   \n",
            "  inflating: images/sick_eif61.png   \n",
            "  inflating: images/sick_eif62.png   \n",
            "  inflating: images/sick_eif63.png   \n",
            "  inflating: images/sick_eif64.png   \n",
            "  inflating: images/sick_eif65.png   \n",
            "  inflating: images/sick_eif66.png   \n",
            "  inflating: images/sick_eif67.png   \n",
            "  inflating: images/sick_eif68.png   \n",
            "  inflating: images/sick_eif69.png   \n",
            "  inflating: images/sick_eif7.png    \n",
            "  inflating: images/sick_eif70.png   \n",
            "  inflating: images/sick_eif71.png   \n",
            "  inflating: images/sick_eif72.png   \n",
            "  inflating: images/sick_eif73.png   \n",
            "  inflating: images/sick_eif74.png   \n",
            "  inflating: images/sick_eif75.png   \n",
            "  inflating: images/sick_eif76.png   \n",
            "  inflating: images/sick_eif77.png   \n",
            "  inflating: images/sick_eif78.png   \n",
            "  inflating: images/sick_eif79.png   \n",
            "  inflating: images/sick_eif8.png    \n",
            "  inflating: images/sick_eif80.png   \n",
            "  inflating: images/sick_eif81.png   \n",
            "  inflating: images/sick_eif82.png   \n",
            "  inflating: images/sick_eif83.png   \n",
            "  inflating: images/sick_eif84.png   \n",
            "  inflating: images/sick_eif85.png   \n",
            "  inflating: images/sick_eif86.png   \n",
            "  inflating: images/sick_eif87.png   \n",
            "  inflating: images/sick_eif88.png   \n",
            "  inflating: images/sick_eif89.png   \n",
            "  inflating: images/sick_eif9.png    \n",
            "  inflating: images/sick_eif90.png   \n",
            "  inflating: images/sick_eif91.png   \n",
            "  inflating: images/sick_eif92.png   \n",
            "  inflating: images/sick_eif93.png   \n",
            "  inflating: images/sick_eif94.png   \n",
            "  inflating: images/sick_eif95.png   \n",
            "  inflating: images/sick_eif96.png   \n",
            "  inflating: images/sick_eif97.png   \n",
            "  inflating: images/sick_eif98.png   \n",
            "  inflating: images/sick_eif99.png   \n"
          ]
        }
      ]
    },
    {
      "cell_type": "code",
      "source": [
        "df2 = pd.read_csv(\"/content/drive/MyDrive/Personal/Computer Vision/dl_final_project/dataset2_image_classes.csv\")"
      ],
      "metadata": {
        "id": "Pi05bzfr40_t"
      },
      "execution_count": null,
      "outputs": []
    },
    {
      "cell_type": "code",
      "source": [
        "df2.head()"
      ],
      "metadata": {
        "colab": {
          "base_uri": "https://localhost:8080/",
          "height": 206
        },
        "id": "-eREbRh85ul5",
        "outputId": "7a3daa2b-9c03-4a36-9e54-a8a65376bd6d"
      },
      "execution_count": null,
      "outputs": [
        {
          "output_type": "execute_result",
          "data": {
            "text/plain": [
              "    patient   diagnosis (0-Normal, 1-Sick)\n",
              "0  sick_eff0                             0\n",
              "1  sick_eff1                             0\n",
              "2  sick_eff2                             0\n",
              "3  sick_eff3                             0\n",
              "4  sick_eff4                             0"
            ],
            "text/html": [
              "\n",
              "  <div id=\"df-56c63dbc-607e-4b81-af63-5679e9bd0dca\">\n",
              "    <div class=\"colab-df-container\">\n",
              "      <div>\n",
              "<style scoped>\n",
              "    .dataframe tbody tr th:only-of-type {\n",
              "        vertical-align: middle;\n",
              "    }\n",
              "\n",
              "    .dataframe tbody tr th {\n",
              "        vertical-align: top;\n",
              "    }\n",
              "\n",
              "    .dataframe thead th {\n",
              "        text-align: right;\n",
              "    }\n",
              "</style>\n",
              "<table border=\"1\" class=\"dataframe\">\n",
              "  <thead>\n",
              "    <tr style=\"text-align: right;\">\n",
              "      <th></th>\n",
              "      <th>patient</th>\n",
              "      <th>diagnosis (0-Normal, 1-Sick)</th>\n",
              "    </tr>\n",
              "  </thead>\n",
              "  <tbody>\n",
              "    <tr>\n",
              "      <th>0</th>\n",
              "      <td>sick_eff0</td>\n",
              "      <td>0</td>\n",
              "    </tr>\n",
              "    <tr>\n",
              "      <th>1</th>\n",
              "      <td>sick_eff1</td>\n",
              "      <td>0</td>\n",
              "    </tr>\n",
              "    <tr>\n",
              "      <th>2</th>\n",
              "      <td>sick_eff2</td>\n",
              "      <td>0</td>\n",
              "    </tr>\n",
              "    <tr>\n",
              "      <th>3</th>\n",
              "      <td>sick_eff3</td>\n",
              "      <td>0</td>\n",
              "    </tr>\n",
              "    <tr>\n",
              "      <th>4</th>\n",
              "      <td>sick_eff4</td>\n",
              "      <td>0</td>\n",
              "    </tr>\n",
              "  </tbody>\n",
              "</table>\n",
              "</div>\n",
              "      <button class=\"colab-df-convert\" onclick=\"convertToInteractive('df-56c63dbc-607e-4b81-af63-5679e9bd0dca')\"\n",
              "              title=\"Convert this dataframe to an interactive table.\"\n",
              "              style=\"display:none;\">\n",
              "        \n",
              "  <svg xmlns=\"http://www.w3.org/2000/svg\" height=\"24px\"viewBox=\"0 0 24 24\"\n",
              "       width=\"24px\">\n",
              "    <path d=\"M0 0h24v24H0V0z\" fill=\"none\"/>\n",
              "    <path d=\"M18.56 5.44l.94 2.06.94-2.06 2.06-.94-2.06-.94-.94-2.06-.94 2.06-2.06.94zm-11 1L8.5 8.5l.94-2.06 2.06-.94-2.06-.94L8.5 2.5l-.94 2.06-2.06.94zm10 10l.94 2.06.94-2.06 2.06-.94-2.06-.94-.94-2.06-.94 2.06-2.06.94z\"/><path d=\"M17.41 7.96l-1.37-1.37c-.4-.4-.92-.59-1.43-.59-.52 0-1.04.2-1.43.59L10.3 9.45l-7.72 7.72c-.78.78-.78 2.05 0 2.83L4 21.41c.39.39.9.59 1.41.59.51 0 1.02-.2 1.41-.59l7.78-7.78 2.81-2.81c.8-.78.8-2.07 0-2.86zM5.41 20L4 18.59l7.72-7.72 1.47 1.35L5.41 20z\"/>\n",
              "  </svg>\n",
              "      </button>\n",
              "      \n",
              "  <style>\n",
              "    .colab-df-container {\n",
              "      display:flex;\n",
              "      flex-wrap:wrap;\n",
              "      gap: 12px;\n",
              "    }\n",
              "\n",
              "    .colab-df-convert {\n",
              "      background-color: #E8F0FE;\n",
              "      border: none;\n",
              "      border-radius: 50%;\n",
              "      cursor: pointer;\n",
              "      display: none;\n",
              "      fill: #1967D2;\n",
              "      height: 32px;\n",
              "      padding: 0 0 0 0;\n",
              "      width: 32px;\n",
              "    }\n",
              "\n",
              "    .colab-df-convert:hover {\n",
              "      background-color: #E2EBFA;\n",
              "      box-shadow: 0px 1px 2px rgba(60, 64, 67, 0.3), 0px 1px 3px 1px rgba(60, 64, 67, 0.15);\n",
              "      fill: #174EA6;\n",
              "    }\n",
              "\n",
              "    [theme=dark] .colab-df-convert {\n",
              "      background-color: #3B4455;\n",
              "      fill: #D2E3FC;\n",
              "    }\n",
              "\n",
              "    [theme=dark] .colab-df-convert:hover {\n",
              "      background-color: #434B5C;\n",
              "      box-shadow: 0px 1px 3px 1px rgba(0, 0, 0, 0.15);\n",
              "      filter: drop-shadow(0px 1px 2px rgba(0, 0, 0, 0.3));\n",
              "      fill: #FFFFFF;\n",
              "    }\n",
              "  </style>\n",
              "\n",
              "      <script>\n",
              "        const buttonEl =\n",
              "          document.querySelector('#df-56c63dbc-607e-4b81-af63-5679e9bd0dca button.colab-df-convert');\n",
              "        buttonEl.style.display =\n",
              "          google.colab.kernel.accessAllowed ? 'block' : 'none';\n",
              "\n",
              "        async function convertToInteractive(key) {\n",
              "          const element = document.querySelector('#df-56c63dbc-607e-4b81-af63-5679e9bd0dca');\n",
              "          const dataTable =\n",
              "            await google.colab.kernel.invokeFunction('convertToInteractive',\n",
              "                                                     [key], {});\n",
              "          if (!dataTable) return;\n",
              "\n",
              "          const docLinkHtml = 'Like what you see? Visit the ' +\n",
              "            '<a target=\"_blank\" href=https://colab.research.google.com/notebooks/data_table.ipynb>data table notebook</a>'\n",
              "            + ' to learn more about interactive tables.';\n",
              "          element.innerHTML = '';\n",
              "          dataTable['output_type'] = 'display_data';\n",
              "          await google.colab.output.renderOutput(dataTable, element);\n",
              "          const docLink = document.createElement('div');\n",
              "          docLink.innerHTML = docLinkHtml;\n",
              "          element.appendChild(docLink);\n",
              "        }\n",
              "      </script>\n",
              "    </div>\n",
              "  </div>\n",
              "  "
            ]
          },
          "metadata": {},
          "execution_count": 69
        }
      ]
    },
    {
      "cell_type": "code",
      "source": [
        "df2.keys()"
      ],
      "metadata": {
        "colab": {
          "base_uri": "https://localhost:8080/"
        },
        "id": "4f8O2Nnk6CBA",
        "outputId": "693555ee-aebb-44e6-ee4d-b4414a98bc00"
      },
      "execution_count": null,
      "outputs": [
        {
          "output_type": "execute_result",
          "data": {
            "text/plain": [
              "Index(['patient ', 'diagnosis (0-Normal, 1-Sick)'], dtype='object')"
            ]
          },
          "metadata": {},
          "execution_count": 70
        }
      ]
    },
    {
      "cell_type": "code",
      "source": [
        "df2[\"patient \"] = df2[\"patient \"]+\".png\"\n",
        "df2[\"diagnosis (0-Normal, 1-Sick)\"] = df2[\"diagnosis (0-Normal, 1-Sick)\"].astype(str)\n",
        "df2.head()"
      ],
      "metadata": {
        "colab": {
          "base_uri": "https://localhost:8080/",
          "height": 206
        },
        "id": "kriGQqCa5ych",
        "outputId": "719ee0a0-6751-4967-8ad7-2121630e9473"
      },
      "execution_count": null,
      "outputs": [
        {
          "output_type": "execute_result",
          "data": {
            "text/plain": [
              "        patient  diagnosis (0-Normal, 1-Sick)\n",
              "0  sick_eff0.png                            0\n",
              "1  sick_eff1.png                            0\n",
              "2  sick_eff2.png                            0\n",
              "3  sick_eff3.png                            0\n",
              "4  sick_eff4.png                            0"
            ],
            "text/html": [
              "\n",
              "  <div id=\"df-3fb0d75a-3ec6-41ea-be24-5e4872ad9b82\">\n",
              "    <div class=\"colab-df-container\">\n",
              "      <div>\n",
              "<style scoped>\n",
              "    .dataframe tbody tr th:only-of-type {\n",
              "        vertical-align: middle;\n",
              "    }\n",
              "\n",
              "    .dataframe tbody tr th {\n",
              "        vertical-align: top;\n",
              "    }\n",
              "\n",
              "    .dataframe thead th {\n",
              "        text-align: right;\n",
              "    }\n",
              "</style>\n",
              "<table border=\"1\" class=\"dataframe\">\n",
              "  <thead>\n",
              "    <tr style=\"text-align: right;\">\n",
              "      <th></th>\n",
              "      <th>patient</th>\n",
              "      <th>diagnosis (0-Normal, 1-Sick)</th>\n",
              "    </tr>\n",
              "  </thead>\n",
              "  <tbody>\n",
              "    <tr>\n",
              "      <th>0</th>\n",
              "      <td>sick_eff0.png</td>\n",
              "      <td>0</td>\n",
              "    </tr>\n",
              "    <tr>\n",
              "      <th>1</th>\n",
              "      <td>sick_eff1.png</td>\n",
              "      <td>0</td>\n",
              "    </tr>\n",
              "    <tr>\n",
              "      <th>2</th>\n",
              "      <td>sick_eff2.png</td>\n",
              "      <td>0</td>\n",
              "    </tr>\n",
              "    <tr>\n",
              "      <th>3</th>\n",
              "      <td>sick_eff3.png</td>\n",
              "      <td>0</td>\n",
              "    </tr>\n",
              "    <tr>\n",
              "      <th>4</th>\n",
              "      <td>sick_eff4.png</td>\n",
              "      <td>0</td>\n",
              "    </tr>\n",
              "  </tbody>\n",
              "</table>\n",
              "</div>\n",
              "      <button class=\"colab-df-convert\" onclick=\"convertToInteractive('df-3fb0d75a-3ec6-41ea-be24-5e4872ad9b82')\"\n",
              "              title=\"Convert this dataframe to an interactive table.\"\n",
              "              style=\"display:none;\">\n",
              "        \n",
              "  <svg xmlns=\"http://www.w3.org/2000/svg\" height=\"24px\"viewBox=\"0 0 24 24\"\n",
              "       width=\"24px\">\n",
              "    <path d=\"M0 0h24v24H0V0z\" fill=\"none\"/>\n",
              "    <path d=\"M18.56 5.44l.94 2.06.94-2.06 2.06-.94-2.06-.94-.94-2.06-.94 2.06-2.06.94zm-11 1L8.5 8.5l.94-2.06 2.06-.94-2.06-.94L8.5 2.5l-.94 2.06-2.06.94zm10 10l.94 2.06.94-2.06 2.06-.94-2.06-.94-.94-2.06-.94 2.06-2.06.94z\"/><path d=\"M17.41 7.96l-1.37-1.37c-.4-.4-.92-.59-1.43-.59-.52 0-1.04.2-1.43.59L10.3 9.45l-7.72 7.72c-.78.78-.78 2.05 0 2.83L4 21.41c.39.39.9.59 1.41.59.51 0 1.02-.2 1.41-.59l7.78-7.78 2.81-2.81c.8-.78.8-2.07 0-2.86zM5.41 20L4 18.59l7.72-7.72 1.47 1.35L5.41 20z\"/>\n",
              "  </svg>\n",
              "      </button>\n",
              "      \n",
              "  <style>\n",
              "    .colab-df-container {\n",
              "      display:flex;\n",
              "      flex-wrap:wrap;\n",
              "      gap: 12px;\n",
              "    }\n",
              "\n",
              "    .colab-df-convert {\n",
              "      background-color: #E8F0FE;\n",
              "      border: none;\n",
              "      border-radius: 50%;\n",
              "      cursor: pointer;\n",
              "      display: none;\n",
              "      fill: #1967D2;\n",
              "      height: 32px;\n",
              "      padding: 0 0 0 0;\n",
              "      width: 32px;\n",
              "    }\n",
              "\n",
              "    .colab-df-convert:hover {\n",
              "      background-color: #E2EBFA;\n",
              "      box-shadow: 0px 1px 2px rgba(60, 64, 67, 0.3), 0px 1px 3px 1px rgba(60, 64, 67, 0.15);\n",
              "      fill: #174EA6;\n",
              "    }\n",
              "\n",
              "    [theme=dark] .colab-df-convert {\n",
              "      background-color: #3B4455;\n",
              "      fill: #D2E3FC;\n",
              "    }\n",
              "\n",
              "    [theme=dark] .colab-df-convert:hover {\n",
              "      background-color: #434B5C;\n",
              "      box-shadow: 0px 1px 3px 1px rgba(0, 0, 0, 0.15);\n",
              "      filter: drop-shadow(0px 1px 2px rgba(0, 0, 0, 0.3));\n",
              "      fill: #FFFFFF;\n",
              "    }\n",
              "  </style>\n",
              "\n",
              "      <script>\n",
              "        const buttonEl =\n",
              "          document.querySelector('#df-3fb0d75a-3ec6-41ea-be24-5e4872ad9b82 button.colab-df-convert');\n",
              "        buttonEl.style.display =\n",
              "          google.colab.kernel.accessAllowed ? 'block' : 'none';\n",
              "\n",
              "        async function convertToInteractive(key) {\n",
              "          const element = document.querySelector('#df-3fb0d75a-3ec6-41ea-be24-5e4872ad9b82');\n",
              "          const dataTable =\n",
              "            await google.colab.kernel.invokeFunction('convertToInteractive',\n",
              "                                                     [key], {});\n",
              "          if (!dataTable) return;\n",
              "\n",
              "          const docLinkHtml = 'Like what you see? Visit the ' +\n",
              "            '<a target=\"_blank\" href=https://colab.research.google.com/notebooks/data_table.ipynb>data table notebook</a>'\n",
              "            + ' to learn more about interactive tables.';\n",
              "          element.innerHTML = '';\n",
              "          dataTable['output_type'] = 'display_data';\n",
              "          await google.colab.output.renderOutput(dataTable, element);\n",
              "          const docLink = document.createElement('div');\n",
              "          docLink.innerHTML = docLinkHtml;\n",
              "          element.appendChild(docLink);\n",
              "        }\n",
              "      </script>\n",
              "    </div>\n",
              "  </div>\n",
              "  "
            ]
          },
          "metadata": {},
          "execution_count": 71
        }
      ]
    },
    {
      "cell_type": "code",
      "source": [
        "dataset2_generator = test_datagen.flow_from_dataframe(dataframe=df2,\n",
        "                                                      directory=\"./images\",\n",
        "                                                      x_col=\"patient \",\n",
        "                                                      y_col=\"diagnosis (0-Normal, 1-Sick)\",\n",
        "                                                      target_size=(391, 488),\n",
        "                                                      class_mode=\"binary\",\n",
        "                                                      shuffle=False,\n",
        "                                                      batch_size=32)"
      ],
      "metadata": {
        "colab": {
          "base_uri": "https://localhost:8080/"
        },
        "id": "gLR9xPTs5995",
        "outputId": "c77322c8-0d31-4bec-f5e2-d6c77564a14e"
      },
      "execution_count": null,
      "outputs": [
        {
          "output_type": "stream",
          "name": "stdout",
          "text": [
            "Found 224 validated image filenames belonging to 2 classes.\n"
          ]
        }
      ]
    },
    {
      "cell_type": "code",
      "source": [
        "model.evaluate(dataset2_generator)"
      ],
      "metadata": {
        "colab": {
          "base_uri": "https://localhost:8080/"
        },
        "id": "67zUFxhd6m1z",
        "outputId": "b7d49c72-704c-4a42-9edb-b88d28bc5132"
      },
      "execution_count": null,
      "outputs": [
        {
          "output_type": "stream",
          "name": "stdout",
          "text": [
            "7/7 [==============================] - 2s 246ms/step - loss: 5.1729 - accuracy: 0.4821\n"
          ]
        },
        {
          "output_type": "execute_result",
          "data": {
            "text/plain": [
              "[5.1728739738464355, 0.4821428656578064]"
            ]
          },
          "metadata": {},
          "execution_count": 73
        }
      ]
    },
    {
      "cell_type": "markdown",
      "source": [
        "# Evaluate on unknown images"
      ],
      "metadata": {
        "id": "_jIGpazd99v0"
      }
    },
    {
      "cell_type": "code",
      "source": [
        "!unzip /content/drive/MyDrive/Personal/Computer\\ Vision/dl_final_project/unknown_images.zip"
      ],
      "metadata": {
        "colab": {
          "base_uri": "https://localhost:8080/"
        },
        "id": "EQCJU22064vE",
        "outputId": "60e33b07-500f-4759-d228-44468a4ce267"
      },
      "execution_count": null,
      "outputs": [
        {
          "output_type": "stream",
          "name": "stdout",
          "text": [
            "Archive:  /content/drive/MyDrive/Personal/Computer Vision/dl_final_project/unknown_images.zip\n",
            "   creating: unknown_images/\n",
            "  inflating: unknown_images/1.png    \n",
            "  inflating: unknown_images/10.png   \n",
            "  inflating: unknown_images/11.png   \n",
            "  inflating: unknown_images/12.png   \n",
            "  inflating: unknown_images/13.png   \n",
            "  inflating: unknown_images/14.png   \n",
            "  inflating: unknown_images/15.png   \n",
            "  inflating: unknown_images/16.png   \n",
            "  inflating: unknown_images/17.png   \n",
            "  inflating: unknown_images/18.png   \n",
            "  inflating: unknown_images/19.png   \n",
            "  inflating: unknown_images/2.png    \n",
            "  inflating: unknown_images/20.png   \n",
            "  inflating: unknown_images/21.png   \n",
            "  inflating: unknown_images/22.png   \n",
            "  inflating: unknown_images/23.png   \n",
            "  inflating: unknown_images/24.png   \n",
            "  inflating: unknown_images/25.png   \n",
            "  inflating: unknown_images/26.png   \n",
            "  inflating: unknown_images/27.png   \n",
            "  inflating: unknown_images/28.png   \n",
            "  inflating: unknown_images/29.png   \n",
            "  inflating: unknown_images/3.png    \n",
            "  inflating: unknown_images/30.png   \n",
            "  inflating: unknown_images/31.png   \n",
            "  inflating: unknown_images/32.png   \n",
            "  inflating: unknown_images/33.png   \n",
            "  inflating: unknown_images/34.png   \n",
            "  inflating: unknown_images/35.png   \n",
            "  inflating: unknown_images/36.png   \n",
            "  inflating: unknown_images/37.png   \n",
            "  inflating: unknown_images/38.png   \n",
            "  inflating: unknown_images/39.png   \n",
            "  inflating: unknown_images/4.png    \n",
            "  inflating: unknown_images/40.png   \n",
            "  inflating: unknown_images/41.png   \n",
            "  inflating: unknown_images/42.png   \n",
            "  inflating: unknown_images/43.png   \n",
            "  inflating: unknown_images/44.png   \n",
            "  inflating: unknown_images/45.png   \n",
            "  inflating: unknown_images/46.png   \n",
            "  inflating: unknown_images/47.png   \n",
            "  inflating: unknown_images/48.png   \n",
            "  inflating: unknown_images/49.png   \n",
            "  inflating: unknown_images/5.png    \n",
            "  inflating: unknown_images/50.png   \n",
            "  inflating: unknown_images/6.png    \n",
            "  inflating: unknown_images/7.png    \n",
            "  inflating: unknown_images/8.png    \n",
            "  inflating: unknown_images/9.png    \n"
          ]
        }
      ]
    },
    {
      "cell_type": "code",
      "source": [
        "!ls ./unknow_data/unknown_images"
      ],
      "metadata": {
        "colab": {
          "base_uri": "https://localhost:8080/"
        },
        "id": "jPTrYreGDES5",
        "outputId": "2f16a9a2-c283-4937-bc20-d5c3e1161444"
      },
      "execution_count": null,
      "outputs": [
        {
          "output_type": "stream",
          "name": "stdout",
          "text": [
            "10.png\t15.png\t1.png\t24.png\t29.png\t33.png\t38.png\t42.png\t47.png\t5.png\n",
            "11.png\t16.png\t20.png\t25.png\t2.png\t34.png\t39.png\t43.png\t48.png\t6.png\n",
            "12.png\t17.png\t21.png\t26.png\t30.png\t35.png\t3.png\t44.png\t49.png\t7.png\n",
            "13.png\t18.png\t22.png\t27.png\t31.png\t36.png\t40.png\t45.png\t4.png\t8.png\n",
            "14.png\t19.png\t23.png\t28.png\t32.png\t37.png\t41.png\t46.png\t50.png\t9.png\n"
          ]
        }
      ]
    },
    {
      "cell_type": "code",
      "source": [
        "unknown_generator = test_datagen.flow_from_directory(\n",
        "    directory=\"./unknown_data/\",\n",
        "    target_size=(391, 488),\n",
        "    class_mode=\"binary\",\n",
        "    shuffle=False,\n",
        "    batch_size=50\n",
        ")"
      ],
      "metadata": {
        "colab": {
          "base_uri": "https://localhost:8080/"
        },
        "id": "gMf_a95X-MQX",
        "outputId": "336c3ae7-16c4-41a7-82fb-c3d0a7499a99"
      },
      "execution_count": null,
      "outputs": [
        {
          "output_type": "stream",
          "name": "stdout",
          "text": [
            "Found 50 images belonging to 3 classes.\n"
          ]
        }
      ]
    },
    {
      "cell_type": "code",
      "source": [
        "prediction = model.predict(unknown_generator, steps=len(unknown_generator))"
      ],
      "metadata": {
        "colab": {
          "base_uri": "https://localhost:8080/"
        },
        "id": "K8FtDNrJ-gea",
        "outputId": "72321534-e15e-4e9b-f9ea-704a926d994c"
      },
      "execution_count": null,
      "outputs": [
        {
          "output_type": "stream",
          "name": "stdout",
          "text": [
            "1/1 [==============================] - 2s 2s/step\n"
          ]
        }
      ]
    },
    {
      "cell_type": "code",
      "source": [
        "prediction = [1 if i > 0.5 else 0 for i in prediction]"
      ],
      "metadata": {
        "id": "3JD3zV80_QZ4"
      },
      "execution_count": null,
      "outputs": []
    },
    {
      "cell_type": "code",
      "source": [
        "prediction.count(0)"
      ],
      "metadata": {
        "colab": {
          "base_uri": "https://localhost:8080/"
        },
        "id": "WW2tKNhhEYZI",
        "outputId": "26a8a91f-cda2-438c-cb02-a78479b2efb9"
      },
      "execution_count": null,
      "outputs": [
        {
          "output_type": "execute_result",
          "data": {
            "text/plain": [
              "27"
            ]
          },
          "metadata": {},
          "execution_count": 97
        }
      ]
    },
    {
      "cell_type": "code",
      "source": [
        "prediction.count(1)"
      ],
      "metadata": {
        "id": "5TC4ef12Eh_T",
        "outputId": "7f3f7117-9620-43e8-cd81-6479dfb13eb5",
        "colab": {
          "base_uri": "https://localhost:8080/"
        }
      },
      "execution_count": null,
      "outputs": [
        {
          "output_type": "execute_result",
          "data": {
            "text/plain": [
              "23"
            ]
          },
          "metadata": {},
          "execution_count": 98
        }
      ]
    },
    {
      "cell_type": "code",
      "source": [],
      "metadata": {
        "id": "-x9UvlVi7qId"
      },
      "execution_count": null,
      "outputs": []
    }
  ]
}