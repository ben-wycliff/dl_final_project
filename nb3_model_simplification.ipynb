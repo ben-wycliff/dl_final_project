{
  "nbformat": 4,
  "nbformat_minor": 0,
  "metadata": {
    "colab": {
      "provenance": [],
      "authorship_tag": "ABX9TyMiegYm5zIgS6OcoxOG2SB1",
      "include_colab_link": true
    },
    "kernelspec": {
      "name": "python3",
      "display_name": "Python 3"
    },
    "language_info": {
      "name": "python"
    },
    "accelerator": "GPU",
    "gpuClass": "standard"
  },
  "cells": [
    {
      "cell_type": "markdown",
      "metadata": {
        "id": "view-in-github",
        "colab_type": "text"
      },
      "source": [
        "<a href=\"https://colab.research.google.com/github/ben-wycliff/dl_final_project/blob/main/nb3_model_simplification.ipynb\" target=\"_parent\"><img src=\"https://colab.research.google.com/assets/colab-badge.svg\" alt=\"Open In Colab\"/></a>"
      ]
    },
    {
      "cell_type": "markdown",
      "source": [
        "# Setting Up"
      ],
      "metadata": {
        "id": "F4IbnM7DfY49"
      }
    },
    {
      "cell_type": "code",
      "source": [
        "from google.colab import drive\n",
        "drive.mount('/content/drive')"
      ],
      "metadata": {
        "colab": {
          "base_uri": "https://localhost:8080/"
        },
        "id": "z8JFXTkifjWP",
        "outputId": "ad4e18ea-6066-4bd7-e8a1-27eabb4fc531"
      },
      "execution_count": 1,
      "outputs": [
        {
          "output_type": "stream",
          "name": "stdout",
          "text": [
            "Mounted at /content/drive\n"
          ]
        }
      ]
    },
    {
      "cell_type": "code",
      "source": [
        "# unzip dataset from google drive\n",
        "!unzip /content/drive/MyDrive/Personal/Computer\\ Vision/dl_final_project/known_images.zip"
      ],
      "metadata": {
        "id": "tdKP40xpfk7x"
      },
      "execution_count": null,
      "outputs": []
    },
    {
      "cell_type": "markdown",
      "source": [
        "# Imports"
      ],
      "metadata": {
        "id": "jC1eLWwySN6b"
      }
    },
    {
      "cell_type": "code",
      "source": [
        "import os\n",
        "import pandas as pd\n",
        "import matplotlib.pyplot as plt\n",
        "import numpy as np\n",
        "\n",
        "from sklearn.model_selection import train_test_split\n",
        "from sklearn.metrics import (ConfusionMatrixDisplay,\n",
        "                             classification_report)\n",
        "\n",
        "import keras\n",
        "from keras import layers\n",
        "from keras.preprocessing.image import ImageDataGenerator\n",
        "from keras.utils import (img_to_array, load_img)"
      ],
      "metadata": {
        "id": "lrCBBY2SSNQb"
      },
      "execution_count": 9,
      "outputs": []
    },
    {
      "cell_type": "markdown",
      "source": [
        "# Constants"
      ],
      "metadata": {
        "id": "k358bhNjS5zx"
      }
    },
    {
      "cell_type": "code",
      "source": [
        "BATCH_SIZE = 32\n",
        "IMG_HEIGHT, IMG_WIDTH = (488, 395)"
      ],
      "metadata": {
        "id": "6fKSNlYMS7oj"
      },
      "execution_count": 53,
      "outputs": []
    },
    {
      "cell_type": "markdown",
      "source": [
        "# Prepare Dataset"
      ],
      "metadata": {
        "id": "Ecno52Zqf2Tc"
      }
    },
    {
      "cell_type": "code",
      "source": [
        "# create dataframe\n",
        "df = pd.read_csv(\"/content/drive/MyDrive/Personal/Computer Vision/dl_final_project/dataset.csv\")\n",
        "df[\"labels\"] = df[\"labels\"].astype(str)\n",
        "df.head(10) # all sick images are labelled 1 while normal images are labelled 2"
      ],
      "metadata": {
        "colab": {
          "base_uri": "https://localhost:8080/",
          "height": 363
        },
        "id": "wefc-XCLf_NS",
        "outputId": "337a8914-ad94-4453-dbeb-123663ddccad"
      },
      "execution_count": 54,
      "outputs": [
        {
          "output_type": "execute_result",
          "data": {
            "text/plain": [
              "   Unnamed: 0          images labels\n",
              "0           0    sick_272.png      1\n",
              "1           1    sick_292.png      1\n",
              "2           2    sick_144.png      1\n",
              "3           3     sick_50.png      1\n",
              "4           4   normal_95.png      0\n",
              "5           5     sick_92.png      1\n",
              "6           6  normal_210.png      0\n",
              "7           7  normal_253.png      0\n",
              "8           8     sick_12.png      1\n",
              "9           9   normal_71.png      0"
            ],
            "text/html": [
              "\n",
              "  <div id=\"df-200cb993-7b11-4e75-ba55-fd45a6dfa6a2\">\n",
              "    <div class=\"colab-df-container\">\n",
              "      <div>\n",
              "<style scoped>\n",
              "    .dataframe tbody tr th:only-of-type {\n",
              "        vertical-align: middle;\n",
              "    }\n",
              "\n",
              "    .dataframe tbody tr th {\n",
              "        vertical-align: top;\n",
              "    }\n",
              "\n",
              "    .dataframe thead th {\n",
              "        text-align: right;\n",
              "    }\n",
              "</style>\n",
              "<table border=\"1\" class=\"dataframe\">\n",
              "  <thead>\n",
              "    <tr style=\"text-align: right;\">\n",
              "      <th></th>\n",
              "      <th>Unnamed: 0</th>\n",
              "      <th>images</th>\n",
              "      <th>labels</th>\n",
              "    </tr>\n",
              "  </thead>\n",
              "  <tbody>\n",
              "    <tr>\n",
              "      <th>0</th>\n",
              "      <td>0</td>\n",
              "      <td>sick_272.png</td>\n",
              "      <td>1</td>\n",
              "    </tr>\n",
              "    <tr>\n",
              "      <th>1</th>\n",
              "      <td>1</td>\n",
              "      <td>sick_292.png</td>\n",
              "      <td>1</td>\n",
              "    </tr>\n",
              "    <tr>\n",
              "      <th>2</th>\n",
              "      <td>2</td>\n",
              "      <td>sick_144.png</td>\n",
              "      <td>1</td>\n",
              "    </tr>\n",
              "    <tr>\n",
              "      <th>3</th>\n",
              "      <td>3</td>\n",
              "      <td>sick_50.png</td>\n",
              "      <td>1</td>\n",
              "    </tr>\n",
              "    <tr>\n",
              "      <th>4</th>\n",
              "      <td>4</td>\n",
              "      <td>normal_95.png</td>\n",
              "      <td>0</td>\n",
              "    </tr>\n",
              "    <tr>\n",
              "      <th>5</th>\n",
              "      <td>5</td>\n",
              "      <td>sick_92.png</td>\n",
              "      <td>1</td>\n",
              "    </tr>\n",
              "    <tr>\n",
              "      <th>6</th>\n",
              "      <td>6</td>\n",
              "      <td>normal_210.png</td>\n",
              "      <td>0</td>\n",
              "    </tr>\n",
              "    <tr>\n",
              "      <th>7</th>\n",
              "      <td>7</td>\n",
              "      <td>normal_253.png</td>\n",
              "      <td>0</td>\n",
              "    </tr>\n",
              "    <tr>\n",
              "      <th>8</th>\n",
              "      <td>8</td>\n",
              "      <td>sick_12.png</td>\n",
              "      <td>1</td>\n",
              "    </tr>\n",
              "    <tr>\n",
              "      <th>9</th>\n",
              "      <td>9</td>\n",
              "      <td>normal_71.png</td>\n",
              "      <td>0</td>\n",
              "    </tr>\n",
              "  </tbody>\n",
              "</table>\n",
              "</div>\n",
              "      <button class=\"colab-df-convert\" onclick=\"convertToInteractive('df-200cb993-7b11-4e75-ba55-fd45a6dfa6a2')\"\n",
              "              title=\"Convert this dataframe to an interactive table.\"\n",
              "              style=\"display:none;\">\n",
              "        \n",
              "  <svg xmlns=\"http://www.w3.org/2000/svg\" height=\"24px\"viewBox=\"0 0 24 24\"\n",
              "       width=\"24px\">\n",
              "    <path d=\"M0 0h24v24H0V0z\" fill=\"none\"/>\n",
              "    <path d=\"M18.56 5.44l.94 2.06.94-2.06 2.06-.94-2.06-.94-.94-2.06-.94 2.06-2.06.94zm-11 1L8.5 8.5l.94-2.06 2.06-.94-2.06-.94L8.5 2.5l-.94 2.06-2.06.94zm10 10l.94 2.06.94-2.06 2.06-.94-2.06-.94-.94-2.06-.94 2.06-2.06.94z\"/><path d=\"M17.41 7.96l-1.37-1.37c-.4-.4-.92-.59-1.43-.59-.52 0-1.04.2-1.43.59L10.3 9.45l-7.72 7.72c-.78.78-.78 2.05 0 2.83L4 21.41c.39.39.9.59 1.41.59.51 0 1.02-.2 1.41-.59l7.78-7.78 2.81-2.81c.8-.78.8-2.07 0-2.86zM5.41 20L4 18.59l7.72-7.72 1.47 1.35L5.41 20z\"/>\n",
              "  </svg>\n",
              "      </button>\n",
              "      \n",
              "  <style>\n",
              "    .colab-df-container {\n",
              "      display:flex;\n",
              "      flex-wrap:wrap;\n",
              "      gap: 12px;\n",
              "    }\n",
              "\n",
              "    .colab-df-convert {\n",
              "      background-color: #E8F0FE;\n",
              "      border: none;\n",
              "      border-radius: 50%;\n",
              "      cursor: pointer;\n",
              "      display: none;\n",
              "      fill: #1967D2;\n",
              "      height: 32px;\n",
              "      padding: 0 0 0 0;\n",
              "      width: 32px;\n",
              "    }\n",
              "\n",
              "    .colab-df-convert:hover {\n",
              "      background-color: #E2EBFA;\n",
              "      box-shadow: 0px 1px 2px rgba(60, 64, 67, 0.3), 0px 1px 3px 1px rgba(60, 64, 67, 0.15);\n",
              "      fill: #174EA6;\n",
              "    }\n",
              "\n",
              "    [theme=dark] .colab-df-convert {\n",
              "      background-color: #3B4455;\n",
              "      fill: #D2E3FC;\n",
              "    }\n",
              "\n",
              "    [theme=dark] .colab-df-convert:hover {\n",
              "      background-color: #434B5C;\n",
              "      box-shadow: 0px 1px 3px 1px rgba(0, 0, 0, 0.15);\n",
              "      filter: drop-shadow(0px 1px 2px rgba(0, 0, 0, 0.3));\n",
              "      fill: #FFFFFF;\n",
              "    }\n",
              "  </style>\n",
              "\n",
              "      <script>\n",
              "        const buttonEl =\n",
              "          document.querySelector('#df-200cb993-7b11-4e75-ba55-fd45a6dfa6a2 button.colab-df-convert');\n",
              "        buttonEl.style.display =\n",
              "          google.colab.kernel.accessAllowed ? 'block' : 'none';\n",
              "\n",
              "        async function convertToInteractive(key) {\n",
              "          const element = document.querySelector('#df-200cb993-7b11-4e75-ba55-fd45a6dfa6a2');\n",
              "          const dataTable =\n",
              "            await google.colab.kernel.invokeFunction('convertToInteractive',\n",
              "                                                     [key], {});\n",
              "          if (!dataTable) return;\n",
              "\n",
              "          const docLinkHtml = 'Like what you see? Visit the ' +\n",
              "            '<a target=\"_blank\" href=https://colab.research.google.com/notebooks/data_table.ipynb>data table notebook</a>'\n",
              "            + ' to learn more about interactive tables.';\n",
              "          element.innerHTML = '';\n",
              "          dataTable['output_type'] = 'display_data';\n",
              "          await google.colab.output.renderOutput(dataTable, element);\n",
              "          const docLink = document.createElement('div');\n",
              "          docLink.innerHTML = docLinkHtml;\n",
              "          element.appendChild(docLink);\n",
              "        }\n",
              "      </script>\n",
              "    </div>\n",
              "  </div>\n",
              "  "
            ]
          },
          "metadata": {},
          "execution_count": 54
        }
      ]
    },
    {
      "cell_type": "code",
      "source": [
        "# From this plot we see the number of images is fairly\n",
        "# distributed between the two classes\n",
        "df.labels.value_counts().plot(kind=\"bar\"); \n",
        "plt.title(\"Number of images per class\")\n",
        "plt.xticks(ticks=[0,1],labels=[\"normal\", \"sick\"], rotation=0)\n",
        "plt.ylabel(\"Number of images\")\n",
        "plt.xlabel(\"Class\")\n",
        "plt.show()"
      ],
      "metadata": {
        "colab": {
          "base_uri": "https://localhost:8080/",
          "height": 472
        },
        "id": "eEpUGYWNjzK6",
        "outputId": "4e4d8558-399b-4a88-8b92-475c13436518"
      },
      "execution_count": 57,
      "outputs": [
        {
          "output_type": "display_data",
          "data": {
            "text/plain": [
              "<Figure size 640x480 with 1 Axes>"
            ],
            "image/png": "[encoded data removed]"
          },
          "metadata": {}
        }
      ]
    },
    {
      "cell_type": "code",
      "source": [
        "# create dataset splits\n",
        "df_train, df_eval = train_test_split(df, test_size=0.3, random_state=42)\n",
        "df_test, df_val = train_test_split(df_eval, test_size=0.33, random_state=42)"
      ],
      "metadata": {
        "id": "R-HvHmaLip4I"
      },
      "execution_count": 58,
      "outputs": []
    },
    {
      "cell_type": "code",
      "source": [
        "# subplot the partitioning results\n",
        "print(\"\\nTrain partition:\\n\", df_train.labels.value_counts())\n",
        "print(\"\\nTest partition:\\n\", df_test.labels.value_counts())\n",
        "print(\"\\nValidation partition:\\n\", df_val.labels.value_counts())"
      ],
      "metadata": {
        "colab": {
          "base_uri": "https://localhost:8080/"
        },
        "id": "xwb6Nbbum67H",
        "outputId": "9809f27c-e369-4208-e6c6-6a7e18e858ed"
      },
      "execution_count": 59,
      "outputs": [
        {
          "output_type": "stream",
          "name": "stdout",
          "text": [
            "\n",
            "Train partition:\n",
            " 0    253\n",
            "1    247\n",
            "Name: labels, dtype: int64\n",
            "\n",
            "Test partition:\n",
            " 0    75\n",
            "1    69\n",
            "Name: labels, dtype: int64\n",
            "\n",
            "Validation partition:\n",
            " 0    36\n",
            "1    35\n",
            "Name: labels, dtype: int64\n"
          ]
        }
      ]
    },
    {
      "cell_type": "code",
      "source": [
        "# create data generators\n",
        "train_datagen = ImageDataGenerator(\n",
        "    zoom_range=0.2,\n",
        "    horizontal_flip=True,\n",
        "    vertical_flip=True,\n",
        "    width_shift_range=0.2,\n",
        "    height_shift_range=0.2,\n",
        "    fill_mode=\"constant\",\n",
        "    rescale=1.0/255.0,\n",
        ")\n",
        "test_datagen = ImageDataGenerator(rescale=1.0/255)\n",
        "\n",
        "train_generator = train_datagen.flow_from_dataframe(dataframe=df_train,\n",
        "                                                    directory=\"./known_images\",\n",
        "                                                    x_col=\"images\",\n",
        "                                                    y_col=\"labels\",\n",
        "                                                    target_size=(IMG_HEIGHT, IMG_WIDTH),\n",
        "                                                    class_mode=\"binary\",\n",
        "                                                    batch_size=BATCH_SIZE)\n",
        "\n",
        "test_generator = test_datagen.flow_from_dataframe(dataframe=df_test,\n",
        "                                                  directory=\"./known_images\",\n",
        "                                                  x_col=\"images\",\n",
        "                                                  y_col=\"labels\",\n",
        "                                                  target_size=(IMG_HEIGHT, IMG_WIDTH),\n",
        "                                                  class_mode=\"binary\",\n",
        "                                                  shuffle=False,\n",
        "                                                  batch_size=BATCH_SIZE)\n",
        "\n",
        "val_generator = test_datagen.flow_from_dataframe(dataframe=df_val,\n",
        "                                                  directory=\"./known_images\",\n",
        "                                                  x_col=\"images\",\n",
        "                                                  y_col=\"labels\",\n",
        "                                                 target_size=(IMG_HEIGHT, IMG_WIDTH),\n",
        "                                                  class_mode=\"binary\",\n",
        "                                                 shuffle=False,\n",
        "                                                  batch_size=BATCH_SIZE)"
      ],
      "metadata": {
        "colab": {
          "base_uri": "https://localhost:8080/"
        },
        "id": "IzSCtZoAmxKZ",
        "outputId": "9dbaf984-3ab0-4ea4-ca78-4cd7f02e9397"
      },
      "execution_count": 60,
      "outputs": [
        {
          "output_type": "stream",
          "name": "stdout",
          "text": [
            "Found 500 validated image filenames belonging to 2 classes.\n",
            "Found 144 validated image filenames belonging to 2 classes.\n",
            "Found 71 validated image filenames belonging to 2 classes.\n"
          ]
        }
      ]
    },
    {
      "cell_type": "markdown",
      "source": [
        "# Train the model"
      ],
      "metadata": {
        "id": "OH-EXboxm0Mj"
      }
    },
    {
      "cell_type": "markdown",
      "source": [
        "## Model Architecture"
      ],
      "metadata": {
        "id": "eiKhmlr8Stwr"
      }
    },
    {
      "cell_type": "code",
      "source": [
        "model = keras.Sequential(\n",
        "    [\n",
        "      layers.Conv2D(32, (3,3), activation=\"relu\", input_shape=(IMG_HEIGHT, IMG_WIDTH, 3)),\n",
        "      layers.MaxPooling2D((2,2)),\n",
        "      layers.Conv2D(64, (3,3), activation=\"relu\"),\n",
        "      layers.MaxPooling2D((2,2)),\n",
        "      layers.Conv2D(64, (3,3), activation=\"relu\"),\n",
        "      layers.MaxPooling2D((2,2)),\n",
        "      layers.Conv2D(128, (3,3), activation=\"relu\"),\n",
        "      layers.MaxPooling2D((2,2)),\n",
        "      layers.Conv2D(128, (3,3), activation=\"relu\"),\n",
        "      layers.MaxPooling2D((2,2)),\n",
        "      # layers.Conv2D(256, (3,3), activation=\"relu\"),\n",
        "      # layers.MaxPooling2D((2,2)),\n",
        "      layers.Flatten(),\n",
        "      layers.Dense(32, activation=\"relu\"),\n",
        "      layers.Dense(1, activation=\"sigmoid\")\n",
        "    ]\n",
        ")\n",
        "model.summary()"
      ],
      "metadata": {
        "colab": {
          "base_uri": "https://localhost:8080/"
        },
        "id": "c5oyj8QQr8e5",
        "outputId": "57b59afd-e189-4a5d-d489-08263467450c"
      },
      "execution_count": 66,
      "outputs": [
        {
          "output_type": "stream",
          "name": "stdout",
          "text": [
            "Model: \"sequential_4\"\n",
            "_________________________________________________________________\n",
            " Layer (type)                Output Shape              Param #   \n",
            "=================================================================\n",
            " conv2d_23 (Conv2D)          (None, 486, 393, 32)      896       \n",
            "                                                                 \n",
            " max_pooling2d_23 (MaxPoolin  (None, 243, 196, 32)     0         \n",
            " g2D)                                                            \n",
            "                                                                 \n",
            " conv2d_24 (Conv2D)          (None, 241, 194, 64)      18496     \n",
            "                                                                 \n",
            " max_pooling2d_24 (MaxPoolin  (None, 120, 97, 64)      0         \n",
            " g2D)                                                            \n",
            "                                                                 \n",
            " conv2d_25 (Conv2D)          (None, 118, 95, 64)       36928     \n",
            "                                                                 \n",
            " max_pooling2d_25 (MaxPoolin  (None, 59, 47, 64)       0         \n",
            " g2D)                                                            \n",
            "                                                                 \n",
            " conv2d_26 (Conv2D)          (None, 57, 45, 128)       73856     \n",
            "                                                                 \n",
            " max_pooling2d_26 (MaxPoolin  (None, 28, 22, 128)      0         \n",
            " g2D)                                                            \n",
            "                                                                 \n",
            " conv2d_27 (Conv2D)          (None, 26, 20, 128)       147584    \n",
            "                                                                 \n",
            " max_pooling2d_27 (MaxPoolin  (None, 13, 10, 128)      0         \n",
            " g2D)                                                            \n",
            "                                                                 \n",
            " flatten_4 (Flatten)         (None, 16640)             0         \n",
            "                                                                 \n",
            " dense_8 (Dense)             (None, 32)                532512    \n",
            "                                                                 \n",
            " dense_9 (Dense)             (None, 1)                 33        \n",
            "                                                                 \n",
            "=================================================================\n",
            "Total params: 810,305\n",
            "Trainable params: 810,305\n",
            "Non-trainable params: 0\n",
            "_________________________________________________________________\n"
          ]
        }
      ]
    },
    {
      "cell_type": "markdown",
      "source": [
        "## Optimizer"
      ],
      "metadata": {
        "id": "IXb7JX1xSxts"
      }
    },
    {
      "cell_type": "code",
      "source": [
        "# optimizer\n",
        "opt = keras.optimizers.Adam(learning_rate=1e-4)\n",
        "model.compile(loss='binary_crossentropy', optimizer=opt, metrics=['accuracy'])\n",
        "\n",
        "checkpoint_filepath = './models/my_best_model.epoch{epoch:02d}-loss{val_loss:.2f}.hdf5'\n",
        "checkpoint = keras.callbacks.ModelCheckpoint(\n",
        "  filepath=checkpoint_filepath,\n",
        "  monitor='val_loss',\n",
        "  save_best_only=True, \n",
        "  mode='min'\n",
        ")\n",
        "\n",
        "callback_list = [checkpoint]"
      ],
      "metadata": {
        "id": "5EjZtrmFtTpj"
      },
      "execution_count": 67,
      "outputs": []
    },
    {
      "cell_type": "markdown",
      "source": [
        "## Training"
      ],
      "metadata": {
        "id": "tQ7K9wv3S0qk"
      }
    },
    {
      "cell_type": "code",
      "source": [
        "history = model.fit(train_generator,\n",
        "                    epochs=40,\n",
        "                    batch_size=BATCH_SIZE,\n",
        "                    validation_data=val_generator,\n",
        "                    callbacks=callback_list)"
      ],
      "metadata": {
        "colab": {
          "base_uri": "https://localhost:8080/"
        },
        "id": "LXlDhhfctqTU",
        "outputId": "e18525e4-9a83-457a-cd21-683008917c14"
      },
      "execution_count": 68,
      "outputs": [
        {
          "output_type": "stream",
          "name": "stdout",
          "text": [
            "Epoch 1/40\n",
            "16/16 [==============================] - 25s 2s/step - loss: 0.6853 - accuracy: 0.4960 - val_loss: 0.6799 - val_accuracy: 0.5070\n",
            "Epoch 2/40\n",
            "16/16 [==============================] - 23s 1s/step - loss: 0.6671 - accuracy: 0.5260 - val_loss: 0.6483 - val_accuracy: 0.4930\n",
            "Epoch 3/40\n",
            "16/16 [==============================] - 21s 1s/step - loss: 0.6445 - accuracy: 0.6200 - val_loss: 0.5890 - val_accuracy: 0.6197\n",
            "Epoch 4/40\n",
            "16/16 [==============================] - 23s 1s/step - loss: 0.6196 - accuracy: 0.6560 - val_loss: 0.6105 - val_accuracy: 0.6056\n",
            "Epoch 5/40\n",
            "16/16 [==============================] - 20s 1s/step - loss: 0.6102 - accuracy: 0.6760 - val_loss: 0.5656 - val_accuracy: 0.7324\n",
            "Epoch 6/40\n",
            "16/16 [==============================] - 22s 1s/step - loss: 0.5529 - accuracy: 0.7160 - val_loss: 0.6554 - val_accuracy: 0.6620\n",
            "Epoch 7/40\n",
            "16/16 [==============================] - 20s 1s/step - loss: 0.5471 - accuracy: 0.7320 - val_loss: 0.5343 - val_accuracy: 0.7606\n",
            "Epoch 8/40\n",
            "16/16 [==============================] - 22s 1s/step - loss: 0.4818 - accuracy: 0.7800 - val_loss: 0.5470 - val_accuracy: 0.7183\n",
            "Epoch 9/40\n",
            "16/16 [==============================] - 21s 1s/step - loss: 0.4444 - accuracy: 0.7900 - val_loss: 0.5411 - val_accuracy: 0.7183\n",
            "Epoch 10/40\n",
            "16/16 [==============================] - 22s 1s/step - loss: 0.4322 - accuracy: 0.8200 - val_loss: 0.6821 - val_accuracy: 0.6479\n",
            "Epoch 11/40\n",
            "16/16 [==============================] - 22s 1s/step - loss: 0.3767 - accuracy: 0.8340 - val_loss: 0.3467 - val_accuracy: 0.8873\n",
            "Epoch 12/40\n",
            "16/16 [==============================] - 22s 1s/step - loss: 0.3429 - accuracy: 0.8560 - val_loss: 0.3239 - val_accuracy: 0.8732\n",
            "Epoch 13/40\n",
            "16/16 [==============================] - 21s 1s/step - loss: 0.3063 - accuracy: 0.8880 - val_loss: 0.5999 - val_accuracy: 0.7324\n",
            "Epoch 14/40\n",
            "16/16 [==============================] - 22s 1s/step - loss: 0.3049 - accuracy: 0.8840 - val_loss: 0.5415 - val_accuracy: 0.7324\n",
            "Epoch 15/40\n",
            "16/16 [==============================] - 20s 1s/step - loss: 0.3189 - accuracy: 0.8540 - val_loss: 0.2936 - val_accuracy: 0.8873\n",
            "Epoch 16/40\n",
            "16/16 [==============================] - 22s 1s/step - loss: 0.2658 - accuracy: 0.8900 - val_loss: 0.3078 - val_accuracy: 0.8592\n",
            "Epoch 17/40\n",
            "16/16 [==============================] - 20s 1s/step - loss: 0.2597 - accuracy: 0.8860 - val_loss: 0.2733 - val_accuracy: 0.9155\n",
            "Epoch 18/40\n",
            "16/16 [==============================] - 22s 1s/step - loss: 0.2363 - accuracy: 0.9020 - val_loss: 0.3837 - val_accuracy: 0.7887\n",
            "Epoch 19/40\n",
            "16/16 [==============================] - 22s 1s/step - loss: 0.2517 - accuracy: 0.8920 - val_loss: 0.4781 - val_accuracy: 0.7606\n",
            "Epoch 20/40\n",
            "16/16 [==============================] - 21s 1s/step - loss: 0.2423 - accuracy: 0.8900 - val_loss: 0.2399 - val_accuracy: 0.8873\n",
            "Epoch 21/40\n",
            "16/16 [==============================] - 22s 1s/step - loss: 0.2860 - accuracy: 0.8860 - val_loss: 0.2285 - val_accuracy: 0.8873\n",
            "Epoch 22/40\n",
            "16/16 [==============================] - 20s 1s/step - loss: 0.2587 - accuracy: 0.8900 - val_loss: 0.4147 - val_accuracy: 0.7887\n",
            "Epoch 23/40\n",
            "16/16 [==============================] - 21s 1s/step - loss: 0.2194 - accuracy: 0.9120 - val_loss: 0.2228 - val_accuracy: 0.9155\n",
            "Epoch 24/40\n",
            "16/16 [==============================] - 22s 1s/step - loss: 0.2126 - accuracy: 0.9240 - val_loss: 0.4352 - val_accuracy: 0.7887\n",
            "Epoch 25/40\n",
            "16/16 [==============================] - 20s 1s/step - loss: 0.2412 - accuracy: 0.9000 - val_loss: 0.2101 - val_accuracy: 0.9155\n",
            "Epoch 26/40\n",
            "16/16 [==============================] - 22s 1s/step - loss: 0.1805 - accuracy: 0.9220 - val_loss: 0.2742 - val_accuracy: 0.8592\n",
            "Epoch 27/40\n",
            "16/16 [==============================] - 20s 1s/step - loss: 0.2324 - accuracy: 0.9020 - val_loss: 0.2226 - val_accuracy: 0.9014\n",
            "Epoch 28/40\n",
            "16/16 [==============================] - 22s 1s/step - loss: 0.2360 - accuracy: 0.8880 - val_loss: 0.3918 - val_accuracy: 0.7887\n",
            "Epoch 29/40\n",
            "16/16 [==============================] - 20s 1s/step - loss: 0.2015 - accuracy: 0.9180 - val_loss: 0.2093 - val_accuracy: 0.8873\n",
            "Epoch 30/40\n",
            "16/16 [==============================] - 21s 1s/step - loss: 0.1959 - accuracy: 0.9100 - val_loss: 0.3193 - val_accuracy: 0.8169\n",
            "Epoch 31/40\n",
            "16/16 [==============================] - 21s 1s/step - loss: 0.1925 - accuracy: 0.9140 - val_loss: 0.2622 - val_accuracy: 0.8592\n",
            "Epoch 32/40\n",
            "16/16 [==============================] - 21s 1s/step - loss: 0.1717 - accuracy: 0.9340 - val_loss: 0.2392 - val_accuracy: 0.8732\n",
            "Epoch 33/40\n",
            "16/16 [==============================] - 21s 1s/step - loss: 0.1840 - accuracy: 0.9240 - val_loss: 0.3103 - val_accuracy: 0.8310\n",
            "Epoch 34/40\n",
            "16/16 [==============================] - 20s 1s/step - loss: 0.1534 - accuracy: 0.9380 - val_loss: 0.1645 - val_accuracy: 0.9296\n",
            "Epoch 35/40\n",
            "16/16 [==============================] - 22s 1s/step - loss: 0.1637 - accuracy: 0.9360 - val_loss: 0.2601 - val_accuracy: 0.8732\n",
            "Epoch 36/40\n",
            "16/16 [==============================] - 20s 1s/step - loss: 0.1777 - accuracy: 0.9240 - val_loss: 0.1860 - val_accuracy: 0.8873\n",
            "Epoch 37/40\n",
            "16/16 [==============================] - 22s 1s/step - loss: 0.1486 - accuracy: 0.9380 - val_loss: 0.1394 - val_accuracy: 0.9296\n",
            "Epoch 38/40\n",
            "16/16 [==============================] - 20s 1s/step - loss: 0.1322 - accuracy: 0.9420 - val_loss: 0.1482 - val_accuracy: 0.9155\n",
            "Epoch 39/40\n",
            "16/16 [==============================] - 22s 1s/step - loss: 0.1574 - accuracy: 0.9220 - val_loss: 0.1652 - val_accuracy: 0.9014\n",
            "Epoch 40/40\n",
            "16/16 [==============================] - 20s 1s/step - loss: 0.1743 - accuracy: 0.9340 - val_loss: 0.6745 - val_accuracy: 0.7606\n"
          ]
        }
      ]
    },
    {
      "cell_type": "code",
      "source": [
        "print(history.history.keys())\n",
        "# summarize history for accuracy\n",
        "plt.plot(history.history['accuracy'])\n",
        "plt.plot(history.history['val_accuracy'])\n",
        "plt.title('model accuracy')\n",
        "plt.ylabel('accuracy')\n",
        "plt.xlabel('epoch')\n",
        "plt.legend(['train', 'val'], loc='upper left')\n",
        "plt.show()\n",
        "# summarize history for loss\n",
        "plt.plot(history.history['loss'])\n",
        "plt.plot(history.history['val_loss'])\n",
        "plt.title('model loss')\n",
        "plt.ylabel('loss')\n",
        "plt.xlabel('epoch')\n",
        "plt.legend(['train', 'val'], loc='upper left')\n",
        "plt.show()"
      ],
      "metadata": {
        "colab": {
          "base_uri": "https://localhost:8080/",
          "height": 944
        },
        "id": "9cgKF5sbuXQY",
        "outputId": "2ee0214a-1a60-4bea-a1fa-06988e3daa77"
      },
      "execution_count": 69,
      "outputs": [
        {
          "output_type": "stream",
          "name": "stdout",
          "text": [
            "dict_keys(['loss', 'accuracy', 'val_loss', 'val_accuracy'])\n"
          ]
        },
        {
          "output_type": "display_data",
          "data": {
            "text/plain": [
              "<Figure size 640x480 with 1 Axes>"
            ],
            "image/png": "[encoded data removed]"
          },
          "metadata": {}
        },
        {
          "output_type": "display_data",
          "data": {
            "text/plain": [
              "<Figure size 640x480 with 1 Axes>"
            ],
            "image/png": "[encoded data removed]"
          },
          "metadata": {}
        }
      ]
    },
    {
      "cell_type": "code",
      "source": [
        "from keras.models import load_model\n",
        "best_model = load_model(\"./nb3-experiment1/my_best_model.epoch37-loss0.14.hdf5\")"
      ],
      "metadata": {
        "id": "KK8gqKKi66k2"
      },
      "execution_count": 70,
      "outputs": []
    },
    {
      "cell_type": "code",
      "source": [
        "best_model.evaluate(test_generator)"
      ],
      "metadata": {
        "colab": {
          "base_uri": "https://localhost:8080/"
        },
        "id": "jxXJxwXFyrBf",
        "outputId": "4fa5ba64-bf9f-4662-e8f7-fc59100c5efe"
      },
      "execution_count": 71,
      "outputs": [
        {
          "output_type": "stream",
          "name": "stdout",
          "text": [
            "5/5 [==============================] - 2s 373ms/step - loss: 0.1606 - accuracy: 0.9167\n"
          ]
        },
        {
          "output_type": "execute_result",
          "data": {
            "text/plain": [
              "[0.16061347723007202, 0.9166666865348816]"
            ]
          },
          "metadata": {},
          "execution_count": 71
        }
      ]
    },
    {
      "cell_type": "code",
      "source": [
        "y_true = test_generator.classes"
      ],
      "metadata": {
        "id": "sOcNynUyy6sD"
      },
      "execution_count": 72,
      "outputs": []
    },
    {
      "cell_type": "code",
      "source": [
        "y_pred = best_model.predict(test_generator)"
      ],
      "metadata": {
        "colab": {
          "base_uri": "https://localhost:8080/"
        },
        "id": "Y38INNb9ywZm",
        "outputId": "6c164c6a-a855-442b-cf76-c95a727baf4a"
      },
      "execution_count": 78,
      "outputs": [
        {
          "output_type": "stream",
          "name": "stdout",
          "text": [
            "5/5 [==============================] - 1s 199ms/step\n"
          ]
        }
      ]
    },
    {
      "cell_type": "code",
      "source": [
        "def threshold_predictions(predictions, threshold=0.5):\n",
        "  return [1 if i >= threshold else 0 for i in predictions]"
      ],
      "metadata": {
        "id": "HE7qeZ_pXOcq"
      },
      "execution_count": 79,
      "outputs": []
    },
    {
      "cell_type": "code",
      "source": [
        "y_pred = threshold_predictions(y_pred)"
      ],
      "metadata": {
        "id": "IHVYtQYVzApj"
      },
      "execution_count": 80,
      "outputs": []
    },
    {
      "cell_type": "code",
      "source": [
        "y_pred.count(0)"
      ],
      "metadata": {
        "colab": {
          "base_uri": "https://localhost:8080/"
        },
        "id": "qAcysBEG1i8o",
        "outputId": "43f16919-5d96-4c5b-fe5a-fa474b68cc46"
      },
      "execution_count": 81,
      "outputs": [
        {
          "output_type": "execute_result",
          "data": {
            "text/plain": [
              "83"
            ]
          },
          "metadata": {},
          "execution_count": 81
        }
      ]
    },
    {
      "cell_type": "code",
      "source": [
        "def plot_confusion_matrix(y_test, y_pred, labels):\n",
        "  \"\"\"\n",
        "    y_test: true y labels\n",
        "    y_pred: predicted y labels\n",
        "    labels: class labels\n",
        "  \"\"\"\n",
        "  disp = ConfusionMatrixDisplay.from_predictions(y_test,\n",
        "                                                 y_pred,\n",
        "                                                 display_labels=labels,\n",
        "                                                 cmap=\"Blues\")\n",
        "\n",
        "plot_confusion_matrix( y_true, y_pred, [\"Normal\", \"Sick\"])"
      ],
      "metadata": {
        "colab": {
          "base_uri": "https://localhost:8080/",
          "height": 449
        },
        "id": "yB54ZfryzGIj",
        "outputId": "76c7e409-35c3-45d7-ebb9-e31c0601d9c7"
      },
      "execution_count": 82,
      "outputs": [
        {
          "output_type": "display_data",
          "data": {
            "text/plain": [
              "<Figure size 640x480 with 2 Axes>"
            ],
            "image/png": "[encoded data removed]"
          },
          "metadata": {}
        }
      ]
    },
    {
      "cell_type": "code",
      "source": [
        "# classification report\n",
        "print(classification_report(y_true, y_pred))"
      ],
      "metadata": {
        "colab": {
          "base_uri": "https://localhost:8080/"
        },
        "id": "ielVOOv7Y0oI",
        "outputId": "406987c0-c160-44ed-d0db-e55e91a6b345"
      },
      "execution_count": 83,
      "outputs": [
        {
          "output_type": "stream",
          "name": "stdout",
          "text": [
            "              precision    recall  f1-score   support\n",
            "\n",
            "           0       0.88      0.97      0.92        75\n",
            "           1       0.97      0.86      0.91        69\n",
            "\n",
            "    accuracy                           0.92       144\n",
            "   macro avg       0.92      0.91      0.92       144\n",
            "weighted avg       0.92      0.92      0.92       144\n",
            "\n"
          ]
        }
      ]
    },
    {
      "cell_type": "markdown",
      "source": [
        "# Test on unknown dataset"
      ],
      "metadata": {
        "id": "XgZ_4OWQ4vqi"
      }
    },
    {
      "cell_type": "code",
      "source": [
        "# unzip dataset from google drive\n",
        "!unzip /content/drive/MyDrive/Personal/Computer\\ Vision/dl_final_project/dataset2.zip"
      ],
      "metadata": {
        "id": "ZE65orHT0leb"
      },
      "execution_count": null,
      "outputs": []
    },
    {
      "cell_type": "code",
      "source": [
        "df2 = pd.read_csv(\"/content/drive/MyDrive/Personal/Computer Vision/dl_final_project/dataset2_image_classes.csv\")"
      ],
      "metadata": {
        "id": "Pi05bzfr40_t"
      },
      "execution_count": 89,
      "outputs": []
    },
    {
      "cell_type": "code",
      "source": [
        "df2.head()"
      ],
      "metadata": {
        "colab": {
          "base_uri": "https://localhost:8080/",
          "height": 206
        },
        "id": "-eREbRh85ul5",
        "outputId": "a6c6c534-3775-4029-d2ce-cb7bca0fdd56"
      },
      "execution_count": 90,
      "outputs": [
        {
          "output_type": "execute_result",
          "data": {
            "text/plain": [
              "    patient   diagnosis (0-Normal, 1-Sick)\n",
              "0  sick_eff0                             0\n",
              "1  sick_eff1                             0\n",
              "2  sick_eff2                             0\n",
              "3  sick_eff3                             0\n",
              "4  sick_eff4                             0"
            ],
            "text/html": [
              "\n",
              "  <div id=\"df-4e19a934-810e-4688-bd0c-ccf7b892d8a8\">\n",
              "    <div class=\"colab-df-container\">\n",
              "      <div>\n",
              "<style scoped>\n",
              "    .dataframe tbody tr th:only-of-type {\n",
              "        vertical-align: middle;\n",
              "    }\n",
              "\n",
              "    .dataframe tbody tr th {\n",
              "        vertical-align: top;\n",
              "    }\n",
              "\n",
              "    .dataframe thead th {\n",
              "        text-align: right;\n",
              "    }\n",
              "</style>\n",
              "<table border=\"1\" class=\"dataframe\">\n",
              "  <thead>\n",
              "    <tr style=\"text-align: right;\">\n",
              "      <th></th>\n",
              "      <th>patient</th>\n",
              "      <th>diagnosis (0-Normal, 1-Sick)</th>\n",
              "    </tr>\n",
              "  </thead>\n",
              "  <tbody>\n",
              "    <tr>\n",
              "      <th>0</th>\n",
              "      <td>sick_eff0</td>\n",
              "      <td>0</td>\n",
              "    </tr>\n",
              "    <tr>\n",
              "      <th>1</th>\n",
              "      <td>sick_eff1</td>\n",
              "      <td>0</td>\n",
              "    </tr>\n",
              "    <tr>\n",
              "      <th>2</th>\n",
              "      <td>sick_eff2</td>\n",
              "      <td>0</td>\n",
              "    </tr>\n",
              "    <tr>\n",
              "      <th>3</th>\n",
              "      <td>sick_eff3</td>\n",
              "      <td>0</td>\n",
              "    </tr>\n",
              "    <tr>\n",
              "      <th>4</th>\n",
              "      <td>sick_eff4</td>\n",
              "      <td>0</td>\n",
              "    </tr>\n",
              "  </tbody>\n",
              "</table>\n",
              "</div>\n",
              "      <button class=\"colab-df-convert\" onclick=\"convertToInteractive('df-4e19a934-810e-4688-bd0c-ccf7b892d8a8')\"\n",
              "              title=\"Convert this dataframe to an interactive table.\"\n",
              "              style=\"display:none;\">\n",
              "        \n",
              "  <svg xmlns=\"http://www.w3.org/2000/svg\" height=\"24px\"viewBox=\"0 0 24 24\"\n",
              "       width=\"24px\">\n",
              "    <path d=\"M0 0h24v24H0V0z\" fill=\"none\"/>\n",
              "    <path d=\"M18.56 5.44l.94 2.06.94-2.06 2.06-.94-2.06-.94-.94-2.06-.94 2.06-2.06.94zm-11 1L8.5 8.5l.94-2.06 2.06-.94-2.06-.94L8.5 2.5l-.94 2.06-2.06.94zm10 10l.94 2.06.94-2.06 2.06-.94-2.06-.94-.94-2.06-.94 2.06-2.06.94z\"/><path d=\"M17.41 7.96l-1.37-1.37c-.4-.4-.92-.59-1.43-.59-.52 0-1.04.2-1.43.59L10.3 9.45l-7.72 7.72c-.78.78-.78 2.05 0 2.83L4 21.41c.39.39.9.59 1.41.59.51 0 1.02-.2 1.41-.59l7.78-7.78 2.81-2.81c.8-.78.8-2.07 0-2.86zM5.41 20L4 18.59l7.72-7.72 1.47 1.35L5.41 20z\"/>\n",
              "  </svg>\n",
              "      </button>\n",
              "      \n",
              "  <style>\n",
              "    .colab-df-container {\n",
              "      display:flex;\n",
              "      flex-wrap:wrap;\n",
              "      gap: 12px;\n",
              "    }\n",
              "\n",
              "    .colab-df-convert {\n",
              "      background-color: #E8F0FE;\n",
              "      border: none;\n",
              "      border-radius: 50%;\n",
              "      cursor: pointer;\n",
              "      display: none;\n",
              "      fill: #1967D2;\n",
              "      height: 32px;\n",
              "      padding: 0 0 0 0;\n",
              "      width: 32px;\n",
              "    }\n",
              "\n",
              "    .colab-df-convert:hover {\n",
              "      background-color: #E2EBFA;\n",
              "      box-shadow: 0px 1px 2px rgba(60, 64, 67, 0.3), 0px 1px 3px 1px rgba(60, 64, 67, 0.15);\n",
              "      fill: #174EA6;\n",
              "    }\n",
              "\n",
              "    [theme=dark] .colab-df-convert {\n",
              "      background-color: #3B4455;\n",
              "      fill: #D2E3FC;\n",
              "    }\n",
              "\n",
              "    [theme=dark] .colab-df-convert:hover {\n",
              "      background-color: #434B5C;\n",
              "      box-shadow: 0px 1px 3px 1px rgba(0, 0, 0, 0.15);\n",
              "      filter: drop-shadow(0px 1px 2px rgba(0, 0, 0, 0.3));\n",
              "      fill: #FFFFFF;\n",
              "    }\n",
              "  </style>\n",
              "\n",
              "      <script>\n",
              "        const buttonEl =\n",
              "          document.querySelector('#df-4e19a934-810e-4688-bd0c-ccf7b892d8a8 button.colab-df-convert');\n",
              "        buttonEl.style.display =\n",
              "          google.colab.kernel.accessAllowed ? 'block' : 'none';\n",
              "\n",
              "        async function convertToInteractive(key) {\n",
              "          const element = document.querySelector('#df-4e19a934-810e-4688-bd0c-ccf7b892d8a8');\n",
              "          const dataTable =\n",
              "            await google.colab.kernel.invokeFunction('convertToInteractive',\n",
              "                                                     [key], {});\n",
              "          if (!dataTable) return;\n",
              "\n",
              "          const docLinkHtml = 'Like what you see? Visit the ' +\n",
              "            '<a target=\"_blank\" href=https://colab.research.google.com/notebooks/data_table.ipynb>data table notebook</a>'\n",
              "            + ' to learn more about interactive tables.';\n",
              "          element.innerHTML = '';\n",
              "          dataTable['output_type'] = 'display_data';\n",
              "          await google.colab.output.renderOutput(dataTable, element);\n",
              "          const docLink = document.createElement('div');\n",
              "          docLink.innerHTML = docLinkHtml;\n",
              "          element.appendChild(docLink);\n",
              "        }\n",
              "      </script>\n",
              "    </div>\n",
              "  </div>\n",
              "  "
            ]
          },
          "metadata": {},
          "execution_count": 90
        }
      ]
    },
    {
      "cell_type": "code",
      "source": [
        "df2.keys()"
      ],
      "metadata": {
        "colab": {
          "base_uri": "https://localhost:8080/"
        },
        "id": "4f8O2Nnk6CBA",
        "outputId": "50cd1c2b-d824-4f92-8c3b-3bcab5a55bb8"
      },
      "execution_count": 91,
      "outputs": [
        {
          "output_type": "execute_result",
          "data": {
            "text/plain": [
              "Index(['patient ', 'diagnosis (0-Normal, 1-Sick)'], dtype='object')"
            ]
          },
          "metadata": {},
          "execution_count": 91
        }
      ]
    },
    {
      "cell_type": "code",
      "source": [
        "df2[\"patient \"] = df2[\"patient \"]+\".png\"\n",
        "df2[\"diagnosis (0-Normal, 1-Sick)\"] = df2[\"diagnosis (0-Normal, 1-Sick)\"].astype(str)\n",
        "df2.head()"
      ],
      "metadata": {
        "colab": {
          "base_uri": "https://localhost:8080/",
          "height": 206
        },
        "id": "kriGQqCa5ych",
        "outputId": "a513a637-ee0b-4e8b-b103-a1e959a22a46"
      },
      "execution_count": 92,
      "outputs": [
        {
          "output_type": "execute_result",
          "data": {
            "text/plain": [
              "        patient  diagnosis (0-Normal, 1-Sick)\n",
              "0  sick_eff0.png                            0\n",
              "1  sick_eff1.png                            0\n",
              "2  sick_eff2.png                            0\n",
              "3  sick_eff3.png                            0\n",
              "4  sick_eff4.png                            0"
            ],
            "text/html": [
              "\n",
              "  <div id=\"df-77ad0b16-ce7a-48c3-8463-0b518933187f\">\n",
              "    <div class=\"colab-df-container\">\n",
              "      <div>\n",
              "<style scoped>\n",
              "    .dataframe tbody tr th:only-of-type {\n",
              "        vertical-align: middle;\n",
              "    }\n",
              "\n",
              "    .dataframe tbody tr th {\n",
              "        vertical-align: top;\n",
              "    }\n",
              "\n",
              "    .dataframe thead th {\n",
              "        text-align: right;\n",
              "    }\n",
              "</style>\n",
              "<table border=\"1\" class=\"dataframe\">\n",
              "  <thead>\n",
              "    <tr style=\"text-align: right;\">\n",
              "      <th></th>\n",
              "      <th>patient</th>\n",
              "      <th>diagnosis (0-Normal, 1-Sick)</th>\n",
              "    </tr>\n",
              "  </thead>\n",
              "  <tbody>\n",
              "    <tr>\n",
              "      <th>0</th>\n",
              "      <td>sick_eff0.png</td>\n",
              "      <td>0</td>\n",
              "    </tr>\n",
              "    <tr>\n",
              "      <th>1</th>\n",
              "      <td>sick_eff1.png</td>\n",
              "      <td>0</td>\n",
              "    </tr>\n",
              "    <tr>\n",
              "      <th>2</th>\n",
              "      <td>sick_eff2.png</td>\n",
              "      <td>0</td>\n",
              "    </tr>\n",
              "    <tr>\n",
              "      <th>3</th>\n",
              "      <td>sick_eff3.png</td>\n",
              "      <td>0</td>\n",
              "    </tr>\n",
              "    <tr>\n",
              "      <th>4</th>\n",
              "      <td>sick_eff4.png</td>\n",
              "      <td>0</td>\n",
              "    </tr>\n",
              "  </tbody>\n",
              "</table>\n",
              "</div>\n",
              "      <button class=\"colab-df-convert\" onclick=\"convertToInteractive('df-77ad0b16-ce7a-48c3-8463-0b518933187f')\"\n",
              "              title=\"Convert this dataframe to an interactive table.\"\n",
              "              style=\"display:none;\">\n",
              "        \n",
              "  <svg xmlns=\"http://www.w3.org/2000/svg\" height=\"24px\"viewBox=\"0 0 24 24\"\n",
              "       width=\"24px\">\n",
              "    <path d=\"M0 0h24v24H0V0z\" fill=\"none\"/>\n",
              "    <path d=\"M18.56 5.44l.94 2.06.94-2.06 2.06-.94-2.06-.94-.94-2.06-.94 2.06-2.06.94zm-11 1L8.5 8.5l.94-2.06 2.06-.94-2.06-.94L8.5 2.5l-.94 2.06-2.06.94zm10 10l.94 2.06.94-2.06 2.06-.94-2.06-.94-.94-2.06-.94 2.06-2.06.94z\"/><path d=\"M17.41 7.96l-1.37-1.37c-.4-.4-.92-.59-1.43-.59-.52 0-1.04.2-1.43.59L10.3 9.45l-7.72 7.72c-.78.78-.78 2.05 0 2.83L4 21.41c.39.39.9.59 1.41.59.51 0 1.02-.2 1.41-.59l7.78-7.78 2.81-2.81c.8-.78.8-2.07 0-2.86zM5.41 20L4 18.59l7.72-7.72 1.47 1.35L5.41 20z\"/>\n",
              "  </svg>\n",
              "      </button>\n",
              "      \n",
              "  <style>\n",
              "    .colab-df-container {\n",
              "      display:flex;\n",
              "      flex-wrap:wrap;\n",
              "      gap: 12px;\n",
              "    }\n",
              "\n",
              "    .colab-df-convert {\n",
              "      background-color: #E8F0FE;\n",
              "      border: none;\n",
              "      border-radius: 50%;\n",
              "      cursor: pointer;\n",
              "      display: none;\n",
              "      fill: #1967D2;\n",
              "      height: 32px;\n",
              "      padding: 0 0 0 0;\n",
              "      width: 32px;\n",
              "    }\n",
              "\n",
              "    .colab-df-convert:hover {\n",
              "      background-color: #E2EBFA;\n",
              "      box-shadow: 0px 1px 2px rgba(60, 64, 67, 0.3), 0px 1px 3px 1px rgba(60, 64, 67, 0.15);\n",
              "      fill: #174EA6;\n",
              "    }\n",
              "\n",
              "    [theme=dark] .colab-df-convert {\n",
              "      background-color: #3B4455;\n",
              "      fill: #D2E3FC;\n",
              "    }\n",
              "\n",
              "    [theme=dark] .colab-df-convert:hover {\n",
              "      background-color: #434B5C;\n",
              "      box-shadow: 0px 1px 3px 1px rgba(0, 0, 0, 0.15);\n",
              "      filter: drop-shadow(0px 1px 2px rgba(0, 0, 0, 0.3));\n",
              "      fill: #FFFFFF;\n",
              "    }\n",
              "  </style>\n",
              "\n",
              "      <script>\n",
              "        const buttonEl =\n",
              "          document.querySelector('#df-77ad0b16-ce7a-48c3-8463-0b518933187f button.colab-df-convert');\n",
              "        buttonEl.style.display =\n",
              "          google.colab.kernel.accessAllowed ? 'block' : 'none';\n",
              "\n",
              "        async function convertToInteractive(key) {\n",
              "          const element = document.querySelector('#df-77ad0b16-ce7a-48c3-8463-0b518933187f');\n",
              "          const dataTable =\n",
              "            await google.colab.kernel.invokeFunction('convertToInteractive',\n",
              "                                                     [key], {});\n",
              "          if (!dataTable) return;\n",
              "\n",
              "          const docLinkHtml = 'Like what you see? Visit the ' +\n",
              "            '<a target=\"_blank\" href=https://colab.research.google.com/notebooks/data_table.ipynb>data table notebook</a>'\n",
              "            + ' to learn more about interactive tables.';\n",
              "          element.innerHTML = '';\n",
              "          dataTable['output_type'] = 'display_data';\n",
              "          await google.colab.output.renderOutput(dataTable, element);\n",
              "          const docLink = document.createElement('div');\n",
              "          docLink.innerHTML = docLinkHtml;\n",
              "          element.appendChild(docLink);\n",
              "        }\n",
              "      </script>\n",
              "    </div>\n",
              "  </div>\n",
              "  "
            ]
          },
          "metadata": {},
          "execution_count": 92
        }
      ]
    },
    {
      "cell_type": "code",
      "source": [
        "dataset2_generator = test_datagen.flow_from_dataframe(dataframe=df2,\n",
        "                                                      directory=\"./images\",\n",
        "                                                      x_col=\"patient \",\n",
        "                                                      y_col=\"diagnosis (0-Normal, 1-Sick)\",\n",
        "                                                      target_size=(IMG_HEIGHT, IMG_WIDTH),\n",
        "                                                      class_mode=\"binary\",\n",
        "                                                      shuffle=False,\n",
        "                                                      batch_size=32)"
      ],
      "metadata": {
        "colab": {
          "base_uri": "https://localhost:8080/"
        },
        "id": "gLR9xPTs5995",
        "outputId": "4cb354a3-5ffe-4d57-8d4e-524e9ef641ee"
      },
      "execution_count": 93,
      "outputs": [
        {
          "output_type": "stream",
          "name": "stdout",
          "text": [
            "Found 224 validated image filenames belonging to 2 classes.\n"
          ]
        }
      ]
    },
    {
      "cell_type": "code",
      "source": [
        "best_model.evaluate(dataset2_generator)"
      ],
      "metadata": {
        "colab": {
          "base_uri": "https://localhost:8080/"
        },
        "id": "67zUFxhd6m1z",
        "outputId": "3c3f50af-1d0e-491b-84a4-166c3dc1dd65"
      },
      "execution_count": 98,
      "outputs": [
        {
          "output_type": "stream",
          "name": "stdout",
          "text": [
            "7/7 [==============================] - 2s 279ms/step - loss: 2.6549 - accuracy: 0.4688\n"
          ]
        },
        {
          "output_type": "execute_result",
          "data": {
            "text/plain": [
              "[2.6549227237701416, 0.46875]"
            ]
          },
          "metadata": {},
          "execution_count": 98
        }
      ]
    },
    {
      "cell_type": "code",
      "source": [
        "y_true2 = dataset2_generator.classes\n",
        "y_pred2 = threshold_predictions(best_model.predict(dataset2_generator))"
      ],
      "metadata": {
        "colab": {
          "base_uri": "https://localhost:8080/"
        },
        "id": "qDpeHVryZ13F",
        "outputId": "1283494a-cb8c-4780-e77c-af5a25f48c73"
      },
      "execution_count": 101,
      "outputs": [
        {
          "output_type": "stream",
          "name": "stdout",
          "text": [
            "7/7 [==============================] - 3s 473ms/step\n"
          ]
        }
      ]
    },
    {
      "cell_type": "code",
      "source": [
        "plot_confusion_matrix( y_true2, y_pred2, [\"Normal\", \"Sick\"])\n",
        "print(classification_report(y_true2, y_pred2))"
      ],
      "metadata": {
        "colab": {
          "base_uri": "https://localhost:8080/",
          "height": 605
        },
        "id": "MDwFzB6DaBae",
        "outputId": "4bfb0ca4-7266-4128-a5fb-ed308f122a62"
      },
      "execution_count": 102,
      "outputs": [
        {
          "output_type": "stream",
          "name": "stdout",
          "text": [
            "              precision    recall  f1-score   support\n",
            "\n",
            "           0       0.32      0.05      0.09       112\n",
            "           1       0.48      0.88      0.62       112\n",
            "\n",
            "    accuracy                           0.47       224\n",
            "   macro avg       0.40      0.47      0.36       224\n",
            "weighted avg       0.40      0.47      0.36       224\n",
            "\n"
          ]
        },
        {
          "output_type": "display_data",
          "data": {
            "text/plain": [
              "<Figure size 640x480 with 2 Axes>"
            ],
            "image/png": "[encoded data removed]"
          },
          "metadata": {}
        }
      ]
    },
    {
      "cell_type": "markdown",
      "source": [
        "# Evaluate on unknown images"
      ],
      "metadata": {
        "id": "_jIGpazd99v0"
      }
    },
    {
      "cell_type": "code",
      "source": [
        "!unzip /content/drive/MyDrive/Personal/Computer\\ Vision/dl_final_project/unknown_images.zip"
      ],
      "metadata": {
        "id": "EQCJU22064vE"
      },
      "execution_count": null,
      "outputs": []
    },
    {
      "cell_type": "code",
      "source": [
        "# image reader\n",
        "def read_image(path):\n",
        "  img = load_img(path, target_size=(IMG_HEIGHT, IMG_WIDTH))\n",
        "  img_reshaped = np.expand_dims(img, axis=0)\n",
        "  return test_datagen.flow(img_reshaped, batch_size=1)[0]"
      ],
      "metadata": {
        "id": "IrCFpwPuQ6EH"
      },
      "execution_count": 107,
      "outputs": []
    },
    {
      "cell_type": "code",
      "source": [
        "unknown_images = os.listdir(\"./unknown_images\")"
      ],
      "metadata": {
        "id": "gMf_a95X-MQX"
      },
      "execution_count": 108,
      "outputs": []
    },
    {
      "cell_type": "code",
      "source": [
        "read_image(os.path.join(\"./unknown_images\", unknown_images[0]))\n",
        "# predict classes for unknown images\n",
        "image_names = []\n",
        "image_predictions = []\n",
        "for img_name in unknown_images:\n",
        "  img = read_image(os.path.join(\"./unknown_images\", img_name))\n",
        "  prediction = threshold_predictions(best_model.predict(img)[0])[0]\n",
        "  image_names.append(img_name) \n",
        "  image_predictions.append(prediction) \n",
        "  print(f\"{img_name} - {prediction}\")"
      ],
      "metadata": {
        "colab": {
          "base_uri": "https://localhost:8080/"
        },
        "id": "w3vw2TPPVInN",
        "outputId": "0debcd20-0640-472f-c345-6c9f3f190618"
      },
      "execution_count": 109,
      "outputs": [
        {
          "output_type": "stream",
          "name": "stdout",
          "text": [
            "1/1 [==============================] - 0s 384ms/step\n",
            "20.png - 1\n",
            "1/1 [==============================] - 0s 27ms/step\n",
            "9.png - 0\n",
            "1/1 [==============================] - 0s 35ms/step\n",
            "35.png - 0\n",
            "1/1 [==============================] - 0s 28ms/step\n",
            "22.png - 1\n",
            "1/1 [==============================] - 0s 32ms/step\n",
            "10.png - 1\n",
            "1/1 [==============================] - 0s 28ms/step\n",
            "7.png - 0\n",
            "1/1 [==============================] - 0s 28ms/step\n",
            "29.png - 0\n",
            "1/1 [==============================] - 0s 33ms/step\n",
            "27.png - 0\n",
            "1/1 [==============================] - 0s 29ms/step\n",
            "4.png - 1\n",
            "1/1 [==============================] - 0s 33ms/step\n",
            "12.png - 1\n",
            "1/1 [==============================] - 0s 30ms/step\n",
            "46.png - 1\n",
            "1/1 [==============================] - 0s 26ms/step\n",
            "24.png - 0\n",
            "1/1 [==============================] - 0s 29ms/step\n",
            "47.png - 0\n",
            "1/1 [==============================] - 0s 40ms/step\n",
            "40.png - 1\n",
            "1/1 [==============================] - 0s 29ms/step\n",
            "39.png - 0\n",
            "1/1 [==============================] - 0s 28ms/step\n",
            "17.png - 0\n",
            "1/1 [==============================] - 0s 28ms/step\n",
            "19.png - 0\n",
            "1/1 [==============================] - 0s 30ms/step\n",
            "28.png - 1\n",
            "1/1 [==============================] - 0s 29ms/step\n",
            "5.png - 0\n",
            "1/1 [==============================] - 0s 31ms/step\n",
            "18.png - 1\n",
            "1/1 [==============================] - 0s 31ms/step\n",
            "41.png - 0\n",
            "1/1 [==============================] - 0s 29ms/step\n",
            "1.png - 0\n",
            "1/1 [==============================] - 0s 29ms/step\n",
            "2.png - 1\n",
            "1/1 [==============================] - 0s 21ms/step\n",
            "3.png - 0\n",
            "1/1 [==============================] - 0s 20ms/step\n",
            "16.png - 1\n",
            "1/1 [==============================] - 0s 29ms/step\n",
            "33.png - 0\n",
            "1/1 [==============================] - 0s 25ms/step\n",
            "6.png - 1\n",
            "1/1 [==============================] - 0s 21ms/step\n",
            "45.png - 0\n",
            "1/1 [==============================] - 0s 20ms/step\n",
            "50.png - 1\n",
            "1/1 [==============================] - 0s 20ms/step\n",
            "42.png - 0\n",
            "1/1 [==============================] - 0s 21ms/step\n",
            "11.png - 0\n",
            "1/1 [==============================] - 0s 21ms/step\n",
            "26.png - 1\n",
            "1/1 [==============================] - 0s 22ms/step\n",
            "49.png - 0\n",
            "1/1 [==============================] - 0s 24ms/step\n",
            "25.png - 0\n",
            "1/1 [==============================] - 0s 22ms/step\n",
            "30.png - 1\n",
            "1/1 [==============================] - 0s 21ms/step\n",
            "13.png - 0\n",
            "1/1 [==============================] - 0s 21ms/step\n",
            "31.png - 0\n",
            "1/1 [==============================] - 0s 23ms/step\n",
            "32.png - 1\n",
            "1/1 [==============================] - 0s 21ms/step\n",
            "15.png - 0\n",
            "1/1 [==============================] - 0s 20ms/step\n",
            "37.png - 0\n",
            "1/1 [==============================] - 0s 20ms/step\n",
            "44.png - 1\n",
            "1/1 [==============================] - 0s 22ms/step\n",
            "34.png - 1\n",
            "1/1 [==============================] - 0s 24ms/step\n",
            "14.png - 1\n",
            "1/1 [==============================] - 0s 23ms/step\n",
            "48.png - 1\n",
            "1/1 [==============================] - 0s 22ms/step\n",
            "23.png - 0\n",
            "1/1 [==============================] - 0s 21ms/step\n",
            "43.png - 0\n",
            "1/1 [==============================] - 0s 20ms/step\n",
            "36.png - 0\n",
            "1/1 [==============================] - 0s 20ms/step\n",
            "21.png - 0\n",
            "1/1 [==============================] - 0s 22ms/step\n",
            "38.png - 0\n",
            "1/1 [==============================] - 0s 20ms/step\n",
            "8.png - 1\n"
          ]
        }
      ]
    },
    {
      "cell_type": "code",
      "source": [
        "image_predictions.count(0)"
      ],
      "metadata": {
        "colab": {
          "base_uri": "https://localhost:8080/"
        },
        "id": "WW2tKNhhEYZI",
        "outputId": "bdb97e7e-00f9-41fc-faa2-446f396c2e76"
      },
      "execution_count": 110,
      "outputs": [
        {
          "output_type": "execute_result",
          "data": {
            "text/plain": [
              "29"
            ]
          },
          "metadata": {},
          "execution_count": 110
        }
      ]
    },
    {
      "cell_type": "code",
      "source": [
        "image_predictions.count(1)"
      ],
      "metadata": {
        "id": "5TC4ef12Eh_T",
        "outputId": "0c36a56a-747f-4ffd-89bf-d73b6e070fda",
        "colab": {
          "base_uri": "https://localhost:8080/"
        }
      },
      "execution_count": 111,
      "outputs": [
        {
          "output_type": "execute_result",
          "data": {
            "text/plain": [
              "21"
            ]
          },
          "metadata": {},
          "execution_count": 111
        }
      ]
    },
    {
      "cell_type": "code",
      "source": [
        "image_prediction_classes=[\"normal\" if i == 0 else \"sick\" for i in image_predictions]"
      ],
      "metadata": {
        "id": "PsNu5cYuYI1F"
      },
      "execution_count": 112,
      "outputs": []
    },
    {
      "cell_type": "code",
      "source": [
        "unknown_preds_df = pd.DataFrame({\"image\":image_names,\n",
        "                                 \"diagnosis\": image_prediction_classes })"
      ],
      "metadata": {
        "id": "-x9UvlVi7qId"
      },
      "execution_count": 113,
      "outputs": []
    },
    {
      "cell_type": "code",
      "source": [
        "unknown_preds_df.head()"
      ],
      "metadata": {
        "colab": {
          "base_uri": "https://localhost:8080/",
          "height": 206
        },
        "id": "OLx0891rYY25",
        "outputId": "564561ee-1156-4907-c248-3272a38c67b7"
      },
      "execution_count": 114,
      "outputs": [
        {
          "output_type": "execute_result",
          "data": {
            "text/plain": [
              "    image diagnosis\n",
              "0  20.png      sick\n",
              "1   9.png    normal\n",
              "2  35.png    normal\n",
              "3  22.png      sick\n",
              "4  10.png      sick"
            ],
            "text/html": [
              "\n",
              "  <div id=\"df-25f43a13-062d-4a75-a657-e82f1e3e5f7c\">\n",
              "    <div class=\"colab-df-container\">\n",
              "      <div>\n",
              "<style scoped>\n",
              "    .dataframe tbody tr th:only-of-type {\n",
              "        vertical-align: middle;\n",
              "    }\n",
              "\n",
              "    .dataframe tbody tr th {\n",
              "        vertical-align: top;\n",
              "    }\n",
              "\n",
              "    .dataframe thead th {\n",
              "        text-align: right;\n",
              "    }\n",
              "</style>\n",
              "<table border=\"1\" class=\"dataframe\">\n",
              "  <thead>\n",
              "    <tr style=\"text-align: right;\">\n",
              "      <th></th>\n",
              "      <th>image</th>\n",
              "      <th>diagnosis</th>\n",
              "    </tr>\n",
              "  </thead>\n",
              "  <tbody>\n",
              "    <tr>\n",
              "      <th>0</th>\n",
              "      <td>20.png</td>\n",
              "      <td>sick</td>\n",
              "    </tr>\n",
              "    <tr>\n",
              "      <th>1</th>\n",
              "      <td>9.png</td>\n",
              "      <td>normal</td>\n",
              "    </tr>\n",
              "    <tr>\n",
              "      <th>2</th>\n",
              "      <td>35.png</td>\n",
              "      <td>normal</td>\n",
              "    </tr>\n",
              "    <tr>\n",
              "      <th>3</th>\n",
              "      <td>22.png</td>\n",
              "      <td>sick</td>\n",
              "    </tr>\n",
              "    <tr>\n",
              "      <th>4</th>\n",
              "      <td>10.png</td>\n",
              "      <td>sick</td>\n",
              "    </tr>\n",
              "  </tbody>\n",
              "</table>\n",
              "</div>\n",
              "      <button class=\"colab-df-convert\" onclick=\"convertToInteractive('df-25f43a13-062d-4a75-a657-e82f1e3e5f7c')\"\n",
              "              title=\"Convert this dataframe to an interactive table.\"\n",
              "              style=\"display:none;\">\n",
              "        \n",
              "  <svg xmlns=\"http://www.w3.org/2000/svg\" height=\"24px\"viewBox=\"0 0 24 24\"\n",
              "       width=\"24px\">\n",
              "    <path d=\"M0 0h24v24H0V0z\" fill=\"none\"/>\n",
              "    <path d=\"M18.56 5.44l.94 2.06.94-2.06 2.06-.94-2.06-.94-.94-2.06-.94 2.06-2.06.94zm-11 1L8.5 8.5l.94-2.06 2.06-.94-2.06-.94L8.5 2.5l-.94 2.06-2.06.94zm10 10l.94 2.06.94-2.06 2.06-.94-2.06-.94-.94-2.06-.94 2.06-2.06.94z\"/><path d=\"M17.41 7.96l-1.37-1.37c-.4-.4-.92-.59-1.43-.59-.52 0-1.04.2-1.43.59L10.3 9.45l-7.72 7.72c-.78.78-.78 2.05 0 2.83L4 21.41c.39.39.9.59 1.41.59.51 0 1.02-.2 1.41-.59l7.78-7.78 2.81-2.81c.8-.78.8-2.07 0-2.86zM5.41 20L4 18.59l7.72-7.72 1.47 1.35L5.41 20z\"/>\n",
              "  </svg>\n",
              "      </button>\n",
              "      \n",
              "  <style>\n",
              "    .colab-df-container {\n",
              "      display:flex;\n",
              "      flex-wrap:wrap;\n",
              "      gap: 12px;\n",
              "    }\n",
              "\n",
              "    .colab-df-convert {\n",
              "      background-color: #E8F0FE;\n",
              "      border: none;\n",
              "      border-radius: 50%;\n",
              "      cursor: pointer;\n",
              "      display: none;\n",
              "      fill: #1967D2;\n",
              "      height: 32px;\n",
              "      padding: 0 0 0 0;\n",
              "      width: 32px;\n",
              "    }\n",
              "\n",
              "    .colab-df-convert:hover {\n",
              "      background-color: #E2EBFA;\n",
              "      box-shadow: 0px 1px 2px rgba(60, 64, 67, 0.3), 0px 1px 3px 1px rgba(60, 64, 67, 0.15);\n",
              "      fill: #174EA6;\n",
              "    }\n",
              "\n",
              "    [theme=dark] .colab-df-convert {\n",
              "      background-color: #3B4455;\n",
              "      fill: #D2E3FC;\n",
              "    }\n",
              "\n",
              "    [theme=dark] .colab-df-convert:hover {\n",
              "      background-color: #434B5C;\n",
              "      box-shadow: 0px 1px 3px 1px rgba(0, 0, 0, 0.15);\n",
              "      filter: drop-shadow(0px 1px 2px rgba(0, 0, 0, 0.3));\n",
              "      fill: #FFFFFF;\n",
              "    }\n",
              "  </style>\n",
              "\n",
              "      <script>\n",
              "        const buttonEl =\n",
              "          document.querySelector('#df-25f43a13-062d-4a75-a657-e82f1e3e5f7c button.colab-df-convert');\n",
              "        buttonEl.style.display =\n",
              "          google.colab.kernel.accessAllowed ? 'block' : 'none';\n",
              "\n",
              "        async function convertToInteractive(key) {\n",
              "          const element = document.querySelector('#df-25f43a13-062d-4a75-a657-e82f1e3e5f7c');\n",
              "          const dataTable =\n",
              "            await google.colab.kernel.invokeFunction('convertToInteractive',\n",
              "                                                     [key], {});\n",
              "          if (!dataTable) return;\n",
              "\n",
              "          const docLinkHtml = 'Like what you see? Visit the ' +\n",
              "            '<a target=\"_blank\" href=https://colab.research.google.com/notebooks/data_table.ipynb>data table notebook</a>'\n",
              "            + ' to learn more about interactive tables.';\n",
              "          element.innerHTML = '';\n",
              "          dataTable['output_type'] = 'display_data';\n",
              "          await google.colab.output.renderOutput(dataTable, element);\n",
              "          const docLink = document.createElement('div');\n",
              "          docLink.innerHTML = docLinkHtml;\n",
              "          element.appendChild(docLink);\n",
              "        }\n",
              "      </script>\n",
              "    </div>\n",
              "  </div>\n",
              "  "
            ]
          },
          "metadata": {},
          "execution_count": 114
        }
      ]
    },
    {
      "cell_type": "code",
      "source": [
        "# export predictions\n",
        "unknown_preds_df.to_csv(\"nb2-unknown-preds.csv\")"
      ],
      "metadata": {
        "id": "hfaVUS85YcdG"
      },
      "execution_count": 115,
      "outputs": []
    },
    {
      "cell_type": "code",
      "source": [
        "!cp -r /content/nb3-experiment1 /content/drive/MyDrive/Personal/Computer\\ Vision/dl_final_project/models"
      ],
      "metadata": {
        "id": "w9FIACgD80Xc"
      },
      "execution_count": 116,
      "outputs": []
    },
    {
      "cell_type": "code",
      "source": [],
      "metadata": {
        "id": "0GM2KxAf9IWo"
      },
      "execution_count": null,
      "outputs": []
    }
  ]
}